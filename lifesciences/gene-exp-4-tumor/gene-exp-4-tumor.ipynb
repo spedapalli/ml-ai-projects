{
 "cells": [
  {
   "cell_type": "markdown",
   "metadata": {},
   "source": [
    "# Gene Expressions for different types of tumor\n",
    "<div style=\"text-align: center;\">\n",
    "    <img src=\"images/gene_protein_cancer.jpg\" alt=\"image\" width=\"300\" height=\"200\">\n",
    "</div>\n",
    "[image src: https://www.cancer.gov/about-cancer/causes-prevention/genetics]\n",
    "\n",
    "This project aims to identify different gene expressions associated to 5 types of tumor : \n",
    "- BRCA (Breast Cancer): Family of Genes (BRCA1 and BRCA2) are known as tumor suppresors. But mutation in these genes cause cancer.\n",
    "- KIRC (Kidney Renal Clear Cell Carcinoma): \n",
    "- COAD (Colon Adenocarcinoma)\n",
    "- LUAD (Lung Adenocarcinoma)\n",
    "- PRAD (Prostate Adenocarcinoma)\n",
    "\n",
    "The dataset is sourced from https://archive.ics.uci.edu/dataset/401/gene+expression+cancer+rna+seq.\n",
    "The original dataset is published at https://www.synapse.org/Synapse:syn300013/discussion/threadId=5455. The Gene names in the dataset are dummy names. The actual gene names are at https://www.ncbi.nlm.nih.gov/gene, per this discussion thread https://www.synapse.org/Synapse:syn300013/discussion/threadId=5455. "
   ]
  },
  {
   "cell_type": "code",
   "execution_count": 201,
   "metadata": {},
   "outputs": [],
   "source": [
    "import warnings\n",
    "\n",
    "warnings.filterwarnings(\"ignore\")\n",
    "DATA_ANALYSIS_DIR = \"data-analysis/\""
   ]
  },
  {
   "cell_type": "markdown",
   "metadata": {},
   "source": [
    "## Data Loading\n"
   ]
  },
  {
   "cell_type": "code",
   "execution_count": 355,
   "metadata": {},
   "outputs": [],
   "source": [
    "import numpy as np\n",
    "import pandas as pd\n",
    "import seaborn as sns\n",
    "import matplotlib.pyplot as plt\n",
    "from numpy import ndarray\n",
    "from pandas import DataFrame\n",
    "from pandas import Series\n",
    "from pandas.core.indexes.base import Index\n",
    "\n",
    "\n",
    "from sklearn.model_selection import train_test_split\n",
    "\n",
    "from src.utils.ArrayUtils import get_list_of_items_in_both_lists\n"
   ]
  },
  {
   "cell_type": "code",
   "execution_count": 203,
   "metadata": {},
   "outputs": [
    {
     "data": {
      "text/html": [
       "<div>\n",
       "<style scoped>\n",
       "    .dataframe tbody tr th:only-of-type {\n",
       "        vertical-align: middle;\n",
       "    }\n",
       "\n",
       "    .dataframe tbody tr th {\n",
       "        vertical-align: top;\n",
       "    }\n",
       "\n",
       "    .dataframe thead th {\n",
       "        text-align: right;\n",
       "    }\n",
       "</style>\n",
       "<table border=\"1\" class=\"dataframe\">\n",
       "  <thead>\n",
       "    <tr style=\"text-align: right;\">\n",
       "      <th></th>\n",
       "      <th>Unnamed: 0</th>\n",
       "      <th>gene_0</th>\n",
       "      <th>gene_1</th>\n",
       "      <th>gene_2</th>\n",
       "      <th>gene_3</th>\n",
       "      <th>gene_4</th>\n",
       "      <th>gene_5</th>\n",
       "      <th>gene_6</th>\n",
       "      <th>gene_7</th>\n",
       "      <th>gene_8</th>\n",
       "      <th>...</th>\n",
       "      <th>gene_20521</th>\n",
       "      <th>gene_20522</th>\n",
       "      <th>gene_20523</th>\n",
       "      <th>gene_20524</th>\n",
       "      <th>gene_20525</th>\n",
       "      <th>gene_20526</th>\n",
       "      <th>gene_20527</th>\n",
       "      <th>gene_20528</th>\n",
       "      <th>gene_20529</th>\n",
       "      <th>gene_20530</th>\n",
       "    </tr>\n",
       "  </thead>\n",
       "  <tbody>\n",
       "    <tr>\n",
       "      <th>0</th>\n",
       "      <td>sample_0</td>\n",
       "      <td>0.0</td>\n",
       "      <td>2.017209</td>\n",
       "      <td>3.265527</td>\n",
       "      <td>5.478487</td>\n",
       "      <td>10.431999</td>\n",
       "      <td>0.0</td>\n",
       "      <td>7.175175</td>\n",
       "      <td>0.591871</td>\n",
       "      <td>0.0</td>\n",
       "      <td>...</td>\n",
       "      <td>4.926711</td>\n",
       "      <td>8.210257</td>\n",
       "      <td>9.723516</td>\n",
       "      <td>7.220030</td>\n",
       "      <td>9.119813</td>\n",
       "      <td>12.003135</td>\n",
       "      <td>9.650743</td>\n",
       "      <td>8.921326</td>\n",
       "      <td>5.286759</td>\n",
       "      <td>0.000000</td>\n",
       "    </tr>\n",
       "    <tr>\n",
       "      <th>1</th>\n",
       "      <td>sample_1</td>\n",
       "      <td>0.0</td>\n",
       "      <td>0.592732</td>\n",
       "      <td>1.588421</td>\n",
       "      <td>7.586157</td>\n",
       "      <td>9.623011</td>\n",
       "      <td>0.0</td>\n",
       "      <td>6.816049</td>\n",
       "      <td>0.000000</td>\n",
       "      <td>0.0</td>\n",
       "      <td>...</td>\n",
       "      <td>4.593372</td>\n",
       "      <td>7.323865</td>\n",
       "      <td>9.740931</td>\n",
       "      <td>6.256586</td>\n",
       "      <td>8.381612</td>\n",
       "      <td>12.674552</td>\n",
       "      <td>10.517059</td>\n",
       "      <td>9.397854</td>\n",
       "      <td>2.094168</td>\n",
       "      <td>0.000000</td>\n",
       "    </tr>\n",
       "    <tr>\n",
       "      <th>2</th>\n",
       "      <td>sample_2</td>\n",
       "      <td>0.0</td>\n",
       "      <td>3.511759</td>\n",
       "      <td>4.327199</td>\n",
       "      <td>6.881787</td>\n",
       "      <td>9.870730</td>\n",
       "      <td>0.0</td>\n",
       "      <td>6.972130</td>\n",
       "      <td>0.452595</td>\n",
       "      <td>0.0</td>\n",
       "      <td>...</td>\n",
       "      <td>5.125213</td>\n",
       "      <td>8.127123</td>\n",
       "      <td>10.908640</td>\n",
       "      <td>5.401607</td>\n",
       "      <td>9.911597</td>\n",
       "      <td>9.045255</td>\n",
       "      <td>9.788359</td>\n",
       "      <td>10.090470</td>\n",
       "      <td>1.683023</td>\n",
       "      <td>0.000000</td>\n",
       "    </tr>\n",
       "    <tr>\n",
       "      <th>3</th>\n",
       "      <td>sample_3</td>\n",
       "      <td>0.0</td>\n",
       "      <td>3.663618</td>\n",
       "      <td>4.507649</td>\n",
       "      <td>6.659068</td>\n",
       "      <td>10.196184</td>\n",
       "      <td>0.0</td>\n",
       "      <td>7.843375</td>\n",
       "      <td>0.434882</td>\n",
       "      <td>0.0</td>\n",
       "      <td>...</td>\n",
       "      <td>6.076566</td>\n",
       "      <td>8.792959</td>\n",
       "      <td>10.141520</td>\n",
       "      <td>8.942805</td>\n",
       "      <td>9.601208</td>\n",
       "      <td>11.392682</td>\n",
       "      <td>9.694814</td>\n",
       "      <td>9.684365</td>\n",
       "      <td>3.292001</td>\n",
       "      <td>0.000000</td>\n",
       "    </tr>\n",
       "    <tr>\n",
       "      <th>4</th>\n",
       "      <td>sample_4</td>\n",
       "      <td>0.0</td>\n",
       "      <td>2.655741</td>\n",
       "      <td>2.821547</td>\n",
       "      <td>6.539454</td>\n",
       "      <td>9.738265</td>\n",
       "      <td>0.0</td>\n",
       "      <td>6.566967</td>\n",
       "      <td>0.360982</td>\n",
       "      <td>0.0</td>\n",
       "      <td>...</td>\n",
       "      <td>5.996032</td>\n",
       "      <td>8.891425</td>\n",
       "      <td>10.373790</td>\n",
       "      <td>7.181162</td>\n",
       "      <td>9.846910</td>\n",
       "      <td>11.922439</td>\n",
       "      <td>9.217749</td>\n",
       "      <td>9.461191</td>\n",
       "      <td>5.110372</td>\n",
       "      <td>0.000000</td>\n",
       "    </tr>\n",
       "    <tr>\n",
       "      <th>...</th>\n",
       "      <td>...</td>\n",
       "      <td>...</td>\n",
       "      <td>...</td>\n",
       "      <td>...</td>\n",
       "      <td>...</td>\n",
       "      <td>...</td>\n",
       "      <td>...</td>\n",
       "      <td>...</td>\n",
       "      <td>...</td>\n",
       "      <td>...</td>\n",
       "      <td>...</td>\n",
       "      <td>...</td>\n",
       "      <td>...</td>\n",
       "      <td>...</td>\n",
       "      <td>...</td>\n",
       "      <td>...</td>\n",
       "      <td>...</td>\n",
       "      <td>...</td>\n",
       "      <td>...</td>\n",
       "      <td>...</td>\n",
       "      <td>...</td>\n",
       "    </tr>\n",
       "    <tr>\n",
       "      <th>796</th>\n",
       "      <td>sample_796</td>\n",
       "      <td>0.0</td>\n",
       "      <td>1.865642</td>\n",
       "      <td>2.718197</td>\n",
       "      <td>7.350099</td>\n",
       "      <td>10.006003</td>\n",
       "      <td>0.0</td>\n",
       "      <td>6.764792</td>\n",
       "      <td>0.496922</td>\n",
       "      <td>0.0</td>\n",
       "      <td>...</td>\n",
       "      <td>6.088133</td>\n",
       "      <td>9.118313</td>\n",
       "      <td>10.004852</td>\n",
       "      <td>4.484415</td>\n",
       "      <td>9.614701</td>\n",
       "      <td>12.031267</td>\n",
       "      <td>9.813063</td>\n",
       "      <td>10.092770</td>\n",
       "      <td>8.819269</td>\n",
       "      <td>0.000000</td>\n",
       "    </tr>\n",
       "    <tr>\n",
       "      <th>797</th>\n",
       "      <td>sample_797</td>\n",
       "      <td>0.0</td>\n",
       "      <td>3.942955</td>\n",
       "      <td>4.453807</td>\n",
       "      <td>6.346597</td>\n",
       "      <td>10.056868</td>\n",
       "      <td>0.0</td>\n",
       "      <td>7.320331</td>\n",
       "      <td>0.000000</td>\n",
       "      <td>0.0</td>\n",
       "      <td>...</td>\n",
       "      <td>6.371876</td>\n",
       "      <td>9.623335</td>\n",
       "      <td>9.823921</td>\n",
       "      <td>6.555327</td>\n",
       "      <td>9.064002</td>\n",
       "      <td>11.633422</td>\n",
       "      <td>10.317266</td>\n",
       "      <td>8.745983</td>\n",
       "      <td>9.659081</td>\n",
       "      <td>0.000000</td>\n",
       "    </tr>\n",
       "    <tr>\n",
       "      <th>798</th>\n",
       "      <td>sample_798</td>\n",
       "      <td>0.0</td>\n",
       "      <td>3.249582</td>\n",
       "      <td>3.707492</td>\n",
       "      <td>8.185901</td>\n",
       "      <td>9.504082</td>\n",
       "      <td>0.0</td>\n",
       "      <td>7.536589</td>\n",
       "      <td>1.811101</td>\n",
       "      <td>0.0</td>\n",
       "      <td>...</td>\n",
       "      <td>5.719386</td>\n",
       "      <td>8.610704</td>\n",
       "      <td>10.485517</td>\n",
       "      <td>3.589763</td>\n",
       "      <td>9.350636</td>\n",
       "      <td>12.180944</td>\n",
       "      <td>10.681194</td>\n",
       "      <td>9.466711</td>\n",
       "      <td>4.677458</td>\n",
       "      <td>0.586693</td>\n",
       "    </tr>\n",
       "    <tr>\n",
       "      <th>799</th>\n",
       "      <td>sample_799</td>\n",
       "      <td>0.0</td>\n",
       "      <td>2.590339</td>\n",
       "      <td>2.787976</td>\n",
       "      <td>7.318624</td>\n",
       "      <td>9.987136</td>\n",
       "      <td>0.0</td>\n",
       "      <td>9.213464</td>\n",
       "      <td>0.000000</td>\n",
       "      <td>0.0</td>\n",
       "      <td>...</td>\n",
       "      <td>5.785237</td>\n",
       "      <td>8.605387</td>\n",
       "      <td>11.004677</td>\n",
       "      <td>4.745888</td>\n",
       "      <td>9.626383</td>\n",
       "      <td>11.198279</td>\n",
       "      <td>10.335513</td>\n",
       "      <td>10.400581</td>\n",
       "      <td>5.718751</td>\n",
       "      <td>0.000000</td>\n",
       "    </tr>\n",
       "    <tr>\n",
       "      <th>800</th>\n",
       "      <td>sample_800</td>\n",
       "      <td>0.0</td>\n",
       "      <td>2.325242</td>\n",
       "      <td>3.805932</td>\n",
       "      <td>6.530246</td>\n",
       "      <td>9.560367</td>\n",
       "      <td>0.0</td>\n",
       "      <td>7.957027</td>\n",
       "      <td>0.000000</td>\n",
       "      <td>0.0</td>\n",
       "      <td>...</td>\n",
       "      <td>6.403075</td>\n",
       "      <td>8.594354</td>\n",
       "      <td>10.243079</td>\n",
       "      <td>9.139459</td>\n",
       "      <td>10.102934</td>\n",
       "      <td>11.641081</td>\n",
       "      <td>10.607358</td>\n",
       "      <td>9.844794</td>\n",
       "      <td>4.550716</td>\n",
       "      <td>0.000000</td>\n",
       "    </tr>\n",
       "  </tbody>\n",
       "</table>\n",
       "<p>801 rows × 20532 columns</p>\n",
       "</div>"
      ],
      "text/plain": [
       "     Unnamed: 0  gene_0    gene_1    gene_2    gene_3     gene_4  gene_5  \\\n",
       "0      sample_0     0.0  2.017209  3.265527  5.478487  10.431999     0.0   \n",
       "1      sample_1     0.0  0.592732  1.588421  7.586157   9.623011     0.0   \n",
       "2      sample_2     0.0  3.511759  4.327199  6.881787   9.870730     0.0   \n",
       "3      sample_3     0.0  3.663618  4.507649  6.659068  10.196184     0.0   \n",
       "4      sample_4     0.0  2.655741  2.821547  6.539454   9.738265     0.0   \n",
       "..          ...     ...       ...       ...       ...        ...     ...   \n",
       "796  sample_796     0.0  1.865642  2.718197  7.350099  10.006003     0.0   \n",
       "797  sample_797     0.0  3.942955  4.453807  6.346597  10.056868     0.0   \n",
       "798  sample_798     0.0  3.249582  3.707492  8.185901   9.504082     0.0   \n",
       "799  sample_799     0.0  2.590339  2.787976  7.318624   9.987136     0.0   \n",
       "800  sample_800     0.0  2.325242  3.805932  6.530246   9.560367     0.0   \n",
       "\n",
       "       gene_6    gene_7  gene_8  ...  gene_20521  gene_20522  gene_20523  \\\n",
       "0    7.175175  0.591871     0.0  ...    4.926711    8.210257    9.723516   \n",
       "1    6.816049  0.000000     0.0  ...    4.593372    7.323865    9.740931   \n",
       "2    6.972130  0.452595     0.0  ...    5.125213    8.127123   10.908640   \n",
       "3    7.843375  0.434882     0.0  ...    6.076566    8.792959   10.141520   \n",
       "4    6.566967  0.360982     0.0  ...    5.996032    8.891425   10.373790   \n",
       "..        ...       ...     ...  ...         ...         ...         ...   \n",
       "796  6.764792  0.496922     0.0  ...    6.088133    9.118313   10.004852   \n",
       "797  7.320331  0.000000     0.0  ...    6.371876    9.623335    9.823921   \n",
       "798  7.536589  1.811101     0.0  ...    5.719386    8.610704   10.485517   \n",
       "799  9.213464  0.000000     0.0  ...    5.785237    8.605387   11.004677   \n",
       "800  7.957027  0.000000     0.0  ...    6.403075    8.594354   10.243079   \n",
       "\n",
       "     gene_20524  gene_20525  gene_20526  gene_20527  gene_20528  gene_20529  \\\n",
       "0      7.220030    9.119813   12.003135    9.650743    8.921326    5.286759   \n",
       "1      6.256586    8.381612   12.674552   10.517059    9.397854    2.094168   \n",
       "2      5.401607    9.911597    9.045255    9.788359   10.090470    1.683023   \n",
       "3      8.942805    9.601208   11.392682    9.694814    9.684365    3.292001   \n",
       "4      7.181162    9.846910   11.922439    9.217749    9.461191    5.110372   \n",
       "..          ...         ...         ...         ...         ...         ...   \n",
       "796    4.484415    9.614701   12.031267    9.813063   10.092770    8.819269   \n",
       "797    6.555327    9.064002   11.633422   10.317266    8.745983    9.659081   \n",
       "798    3.589763    9.350636   12.180944   10.681194    9.466711    4.677458   \n",
       "799    4.745888    9.626383   11.198279   10.335513   10.400581    5.718751   \n",
       "800    9.139459   10.102934   11.641081   10.607358    9.844794    4.550716   \n",
       "\n",
       "     gene_20530  \n",
       "0      0.000000  \n",
       "1      0.000000  \n",
       "2      0.000000  \n",
       "3      0.000000  \n",
       "4      0.000000  \n",
       "..          ...  \n",
       "796    0.000000  \n",
       "797    0.000000  \n",
       "798    0.586693  \n",
       "799    0.000000  \n",
       "800    0.000000  \n",
       "\n",
       "[801 rows x 20532 columns]"
      ]
     },
     "execution_count": 203,
     "metadata": {},
     "output_type": "execute_result"
    }
   ],
   "source": [
    "# read the data from files\n",
    "url_reconstructed = 'TCGA-PANCAN-HiSeq-801x20531/data.csv'\n",
    "\n",
    "# url = 'https://drive.google.com/file/d/1VXyhDXpYT8G2Buhkc6kBjw93CLG1y1f0/view?usp=drive_link'\n",
    "# # Use only the Id and reconstruct the URL\n",
    "# url_reconstructed = 'https://drive.google.com/uc?id=' + url.split('/')[-2]\n",
    "\n",
    "df = pd.read_csv(url_reconstructed)\n",
    "tumor_df = pd.read_csv('TCGA-PANCAN-HiSeq-801x20531/labels.csv')\n",
    "df"
   ]
  },
  {
   "cell_type": "code",
   "execution_count": 204,
   "metadata": {},
   "outputs": [
    {
     "name": "stdout",
     "output_type": "stream",
     "text": [
      "<class 'pandas.core.frame.DataFrame'>\n",
      "RangeIndex: 801 entries, 0 to 800\n",
      "Columns: 20532 entries, Unnamed: 0 to gene_20530\n",
      "dtypes: float64(20531), object(1)\n",
      "memory usage: 125.5+ MB\n"
     ]
    }
   ],
   "source": [
    "df.info()\n"
   ]
  },
  {
   "cell_type": "code",
   "execution_count": 205,
   "metadata": {},
   "outputs": [
    {
     "name": "stdout",
     "output_type": "stream",
     "text": [
      "<class 'pandas.core.frame.DataFrame'>\n",
      "RangeIndex: 801 entries, 0 to 800\n",
      "Columns: 20532 entries, Unnamed: 0 to gene_20530\n",
      "dtypes: float64(20531), object(1)\n",
      "memory usage: 125.5+ MB\n",
      "Dataframe before adding the class column: None\n",
      "Total # of columns: 20532\n",
      "COlumns type <class 'pandas.core.indexes.base.Index'>\n"
     ]
    }
   ],
   "source": [
    "print(f\"Dataframe before adding the class column: {df.info()}\")\n",
    "print(f\"Total # of columns: {len(df.columns)}\")\n",
    "print(\"COlumns type\", type(df.columns))"
   ]
  },
  {
   "cell_type": "code",
   "execution_count": 206,
   "metadata": {},
   "outputs": [
    {
     "data": {
      "text/html": [
       "<div>\n",
       "<style scoped>\n",
       "    .dataframe tbody tr th:only-of-type {\n",
       "        vertical-align: middle;\n",
       "    }\n",
       "\n",
       "    .dataframe tbody tr th {\n",
       "        vertical-align: top;\n",
       "    }\n",
       "\n",
       "    .dataframe thead th {\n",
       "        text-align: right;\n",
       "    }\n",
       "</style>\n",
       "<table border=\"1\" class=\"dataframe\">\n",
       "  <thead>\n",
       "    <tr style=\"text-align: right;\">\n",
       "      <th></th>\n",
       "      <th>gene_0</th>\n",
       "      <th>gene_1</th>\n",
       "      <th>gene_2</th>\n",
       "      <th>gene_3</th>\n",
       "      <th>gene_4</th>\n",
       "      <th>gene_5</th>\n",
       "      <th>gene_6</th>\n",
       "      <th>gene_7</th>\n",
       "      <th>gene_8</th>\n",
       "      <th>gene_9</th>\n",
       "      <th>...</th>\n",
       "      <th>gene_20522</th>\n",
       "      <th>gene_20523</th>\n",
       "      <th>gene_20524</th>\n",
       "      <th>gene_20525</th>\n",
       "      <th>gene_20526</th>\n",
       "      <th>gene_20527</th>\n",
       "      <th>gene_20528</th>\n",
       "      <th>gene_20529</th>\n",
       "      <th>gene_20530</th>\n",
       "      <th>Class</th>\n",
       "    </tr>\n",
       "  </thead>\n",
       "  <tbody>\n",
       "    <tr>\n",
       "      <th>0</th>\n",
       "      <td>0.0</td>\n",
       "      <td>2.017209</td>\n",
       "      <td>3.265527</td>\n",
       "      <td>5.478487</td>\n",
       "      <td>10.431999</td>\n",
       "      <td>0.0</td>\n",
       "      <td>7.175175</td>\n",
       "      <td>0.591871</td>\n",
       "      <td>0.0</td>\n",
       "      <td>0.0</td>\n",
       "      <td>...</td>\n",
       "      <td>8.210257</td>\n",
       "      <td>9.723516</td>\n",
       "      <td>7.220030</td>\n",
       "      <td>9.119813</td>\n",
       "      <td>12.003135</td>\n",
       "      <td>9.650743</td>\n",
       "      <td>8.921326</td>\n",
       "      <td>5.286759</td>\n",
       "      <td>0.0</td>\n",
       "      <td>PRAD</td>\n",
       "    </tr>\n",
       "    <tr>\n",
       "      <th>1</th>\n",
       "      <td>0.0</td>\n",
       "      <td>0.592732</td>\n",
       "      <td>1.588421</td>\n",
       "      <td>7.586157</td>\n",
       "      <td>9.623011</td>\n",
       "      <td>0.0</td>\n",
       "      <td>6.816049</td>\n",
       "      <td>0.000000</td>\n",
       "      <td>0.0</td>\n",
       "      <td>0.0</td>\n",
       "      <td>...</td>\n",
       "      <td>7.323865</td>\n",
       "      <td>9.740931</td>\n",
       "      <td>6.256586</td>\n",
       "      <td>8.381612</td>\n",
       "      <td>12.674552</td>\n",
       "      <td>10.517059</td>\n",
       "      <td>9.397854</td>\n",
       "      <td>2.094168</td>\n",
       "      <td>0.0</td>\n",
       "      <td>LUAD</td>\n",
       "    </tr>\n",
       "    <tr>\n",
       "      <th>2</th>\n",
       "      <td>0.0</td>\n",
       "      <td>3.511759</td>\n",
       "      <td>4.327199</td>\n",
       "      <td>6.881787</td>\n",
       "      <td>9.870730</td>\n",
       "      <td>0.0</td>\n",
       "      <td>6.972130</td>\n",
       "      <td>0.452595</td>\n",
       "      <td>0.0</td>\n",
       "      <td>0.0</td>\n",
       "      <td>...</td>\n",
       "      <td>8.127123</td>\n",
       "      <td>10.908640</td>\n",
       "      <td>5.401607</td>\n",
       "      <td>9.911597</td>\n",
       "      <td>9.045255</td>\n",
       "      <td>9.788359</td>\n",
       "      <td>10.090470</td>\n",
       "      <td>1.683023</td>\n",
       "      <td>0.0</td>\n",
       "      <td>PRAD</td>\n",
       "    </tr>\n",
       "    <tr>\n",
       "      <th>3</th>\n",
       "      <td>0.0</td>\n",
       "      <td>3.663618</td>\n",
       "      <td>4.507649</td>\n",
       "      <td>6.659068</td>\n",
       "      <td>10.196184</td>\n",
       "      <td>0.0</td>\n",
       "      <td>7.843375</td>\n",
       "      <td>0.434882</td>\n",
       "      <td>0.0</td>\n",
       "      <td>0.0</td>\n",
       "      <td>...</td>\n",
       "      <td>8.792959</td>\n",
       "      <td>10.141520</td>\n",
       "      <td>8.942805</td>\n",
       "      <td>9.601208</td>\n",
       "      <td>11.392682</td>\n",
       "      <td>9.694814</td>\n",
       "      <td>9.684365</td>\n",
       "      <td>3.292001</td>\n",
       "      <td>0.0</td>\n",
       "      <td>PRAD</td>\n",
       "    </tr>\n",
       "    <tr>\n",
       "      <th>4</th>\n",
       "      <td>0.0</td>\n",
       "      <td>2.655741</td>\n",
       "      <td>2.821547</td>\n",
       "      <td>6.539454</td>\n",
       "      <td>9.738265</td>\n",
       "      <td>0.0</td>\n",
       "      <td>6.566967</td>\n",
       "      <td>0.360982</td>\n",
       "      <td>0.0</td>\n",
       "      <td>0.0</td>\n",
       "      <td>...</td>\n",
       "      <td>8.891425</td>\n",
       "      <td>10.373790</td>\n",
       "      <td>7.181162</td>\n",
       "      <td>9.846910</td>\n",
       "      <td>11.922439</td>\n",
       "      <td>9.217749</td>\n",
       "      <td>9.461191</td>\n",
       "      <td>5.110372</td>\n",
       "      <td>0.0</td>\n",
       "      <td>BRCA</td>\n",
       "    </tr>\n",
       "  </tbody>\n",
       "</table>\n",
       "<p>5 rows × 20532 columns</p>\n",
       "</div>"
      ],
      "text/plain": [
       "   gene_0    gene_1    gene_2    gene_3     gene_4  gene_5    gene_6  \\\n",
       "0     0.0  2.017209  3.265527  5.478487  10.431999     0.0  7.175175   \n",
       "1     0.0  0.592732  1.588421  7.586157   9.623011     0.0  6.816049   \n",
       "2     0.0  3.511759  4.327199  6.881787   9.870730     0.0  6.972130   \n",
       "3     0.0  3.663618  4.507649  6.659068  10.196184     0.0  7.843375   \n",
       "4     0.0  2.655741  2.821547  6.539454   9.738265     0.0  6.566967   \n",
       "\n",
       "     gene_7  gene_8  gene_9  ...  gene_20522  gene_20523  gene_20524  \\\n",
       "0  0.591871     0.0     0.0  ...    8.210257    9.723516    7.220030   \n",
       "1  0.000000     0.0     0.0  ...    7.323865    9.740931    6.256586   \n",
       "2  0.452595     0.0     0.0  ...    8.127123   10.908640    5.401607   \n",
       "3  0.434882     0.0     0.0  ...    8.792959   10.141520    8.942805   \n",
       "4  0.360982     0.0     0.0  ...    8.891425   10.373790    7.181162   \n",
       "\n",
       "   gene_20525  gene_20526  gene_20527  gene_20528  gene_20529  gene_20530  \\\n",
       "0    9.119813   12.003135    9.650743    8.921326    5.286759         0.0   \n",
       "1    8.381612   12.674552   10.517059    9.397854    2.094168         0.0   \n",
       "2    9.911597    9.045255    9.788359   10.090470    1.683023         0.0   \n",
       "3    9.601208   11.392682    9.694814    9.684365    3.292001         0.0   \n",
       "4    9.846910   11.922439    9.217749    9.461191    5.110372         0.0   \n",
       "\n",
       "   Class  \n",
       "0   PRAD  \n",
       "1   LUAD  \n",
       "2   PRAD  \n",
       "3   PRAD  \n",
       "4   BRCA  \n",
       "\n",
       "[5 rows x 20532 columns]"
      ]
     },
     "execution_count": 206,
     "metadata": {},
     "output_type": "execute_result"
    }
   ],
   "source": [
    "# Copy over the Class column into the main dataframe\n",
    "df = df.rename(columns={'Unnamed: 0': 'sample'})\n",
    "tumor_df = tumor_df.rename(columns={'Unnamed: 0': 'sample'})\n",
    "df['Class'] = np.where( (df['sample'] == tumor_df['sample']), tumor_df['Class'], df['sample'])\n",
    "\n",
    "# df['Class'] = tumor_df['Class']\n",
    "# print(f\"Total # of columns: {len(df.columns)}\")\n",
    "\n",
    "df.drop(columns=['sample'], axis=1, inplace=True)\n",
    "\n",
    "df.head()\n"
   ]
  },
  {
   "cell_type": "markdown",
   "metadata": {},
   "source": [
    "## Exploratory Data Analysis (EDA)\n",
    "### Data Cleaning and PreProcessing"
   ]
  },
  {
   "cell_type": "markdown",
   "metadata": {},
   "source": [
    "Data : \n",
    "- No NANs as stated on the data source page\n"
   ]
  },
  {
   "cell_type": "code",
   "execution_count": 207,
   "metadata": {},
   "outputs": [
    {
     "data": {
      "text/plain": [
       "np.False_"
      ]
     },
     "execution_count": 207,
     "metadata": {},
     "output_type": "execute_result"
    }
   ],
   "source": [
    "df.isnull().any().any()"
   ]
  },
  {
   "cell_type": "code",
   "execution_count": 208,
   "metadata": {},
   "outputs": [
    {
     "name": "stdout",
     "output_type": "stream",
     "text": [
      "# of columns with all 0s in them : Index(['gene_5', 'gene_23', 'gene_4370', 'gene_4808', 'gene_4809', 'gene_4814',\n",
      "       'gene_4816', 'gene_4817', 'gene_4831', 'gene_5288',\n",
      "       ...\n",
      "       'gene_18908', 'gene_18909', 'gene_18910', 'gene_18911', 'gene_18914',\n",
      "       'gene_18915', 'gene_19450', 'gene_19451', 'gene_19452', 'gene_19671'],\n",
      "      dtype='object', length=267)\n",
      "# of columns with all 0s in them : Index([], dtype='object')\n"
     ]
    }
   ],
   "source": [
    "# Find columns with 0 values\n",
    "zero_cols = df.columns[(df == 0).all()]\n",
    "print(f\"# of columns with all 0s in them : {zero_cols}\")\n",
    "df = df.drop(columns=zero_cols, axis=1)\n",
    "print(f\"# of columns with all 0s in them : {df.columns[(df == 0).all()]}\")"
   ]
  },
  {
   "cell_type": "code",
   "execution_count": 209,
   "metadata": {},
   "outputs": [],
   "source": [
    "# Post cleanup, write the data to file\n",
    "df.to_csv(DATA_ANALYSIS_DIR + \"df_PostColumnCleanup.csv\")\n"
   ]
  },
  {
   "cell_type": "code",
   "execution_count": 210,
   "metadata": {},
   "outputs": [
    {
     "name": "stdout",
     "output_type": "stream",
     "text": [
      "Distribution of Class values: \n",
      "Class\n",
      "BRCA    300\n",
      "KIRC    146\n",
      "LUAD    141\n",
      "PRAD    136\n",
      "COAD     78\n",
      "Name: count, dtype: int64\n"
     ]
    }
   ],
   "source": [
    "# Class analysis\n",
    "class_unique_vals = df['Class'].unique()\n",
    "assert(len(class_unique_vals) == 5)\n",
    "\n",
    "# print the distribution\n",
    "print(f\"Distribution of Class values: \\n{df['Class'].value_counts()}\")\n"
   ]
  },
  {
   "cell_type": "code",
   "execution_count": 211,
   "metadata": {},
   "outputs": [],
   "source": [
    "# Split -\n",
    "X = df.drop(columns=['Class'], axis=1)\n",
    "y = df['Class']\n",
    "X_train, X_test, y_train, y_test = train_test_split(X, y, test_size=0.2, random_state=42, stratify=df['Class'])\n"
   ]
  },
  {
   "cell_type": "markdown",
   "metadata": {},
   "source": [
    "#### Summary : Data Cleaning and PreProcessing : \n",
    "- 0 NaNs\n",
    "- 267 columns with only 0s as values. Dropped all of these columns\n",
    "- 5 target values aka classifications\n"
   ]
  },
  {
   "cell_type": "markdown",
   "metadata": {},
   "source": [
    "### Univariate and Multivariate Analysis\n",
    "Given the large # of variables (columns), charting each out against other can be a challenge. Hence printing key insights such as stats to file."
   ]
  },
  {
   "cell_type": "code",
   "execution_count": 212,
   "metadata": {},
   "outputs": [],
   "source": [
    "from scipy import stats\n",
    "\n",
    "df_desc = df.describe()\n",
    "df_desc_t = df_desc.T\n",
    "df_desc_t.to_csv(DATA_ANALYSIS_DIR + \"df_describe.csv\")\n",
    "\n",
    "df_desc_zscore = df_desc.apply(stats.zscore)\n",
    "df_desc_zscore.T.to_csv(DATA_ANALYSIS_DIR + \"rawdata_zscore.csv\")\n",
    "# df_desc['upperbound'] = df_desc['mean'] + 3*(df_desc['std'])\n",
    "# df_desc['lowerbound'] = df_desc['mean'] - 3*(df_desc['std'])\n"
   ]
  },
  {
   "cell_type": "markdown",
   "metadata": {},
   "source": [
    "###### Identify Correlation across features / columns"
   ]
  },
  {
   "cell_type": "code",
   "execution_count": null,
   "metadata": {},
   "outputs": [],
   "source": [
    "# --- NOTE : This take quite some time to run 11+ mins\n",
    "# corr_df = X.corr()\n",
    "# corr_df.to_csv(DATA_ANALYSIS_DIR + 'features_corr_matrix.csv')\n"
   ]
  },
  {
   "cell_type": "code",
   "execution_count": null,
   "metadata": {},
   "outputs": [
    {
     "name": "stdout",
     "output_type": "stream",
     "text": [
      "[]\n"
     ]
    },
    {
     "data": {
      "text/html": [
       "<div>\n",
       "<style scoped>\n",
       "    .dataframe tbody tr th:only-of-type {\n",
       "        vertical-align: middle;\n",
       "    }\n",
       "\n",
       "    .dataframe tbody tr th {\n",
       "        vertical-align: top;\n",
       "    }\n",
       "\n",
       "    .dataframe thead th {\n",
       "        text-align: right;\n",
       "    }\n",
       "</style>\n",
       "<table border=\"1\" class=\"dataframe\">\n",
       "  <thead>\n",
       "    <tr style=\"text-align: right;\">\n",
       "      <th></th>\n",
       "      <th>gene_0</th>\n",
       "      <th>gene_1</th>\n",
       "      <th>gene_2</th>\n",
       "      <th>gene_3</th>\n",
       "      <th>gene_4</th>\n",
       "      <th>gene_6</th>\n",
       "      <th>gene_7</th>\n",
       "      <th>gene_8</th>\n",
       "      <th>gene_9</th>\n",
       "      <th>gene_10</th>\n",
       "      <th>...</th>\n",
       "      <th>gene_20521</th>\n",
       "      <th>gene_20522</th>\n",
       "      <th>gene_20523</th>\n",
       "      <th>gene_20524</th>\n",
       "      <th>gene_20525</th>\n",
       "      <th>gene_20526</th>\n",
       "      <th>gene_20527</th>\n",
       "      <th>gene_20528</th>\n",
       "      <th>gene_20529</th>\n",
       "      <th>gene_20530</th>\n",
       "    </tr>\n",
       "  </thead>\n",
       "  <tbody>\n",
       "    <tr>\n",
       "      <th>gene_0</th>\n",
       "      <td>1.000000</td>\n",
       "      <td>0.024111</td>\n",
       "      <td>0.027117</td>\n",
       "      <td>-0.080269</td>\n",
       "      <td>-0.028969</td>\n",
       "      <td>0.051855</td>\n",
       "      <td>-0.053647</td>\n",
       "      <td>-0.024423</td>\n",
       "      <td>-0.012785</td>\n",
       "      <td>-0.015423</td>\n",
       "      <td>...</td>\n",
       "      <td>-0.021109</td>\n",
       "      <td>-0.064341</td>\n",
       "      <td>-0.013874</td>\n",
       "      <td>-0.008384</td>\n",
       "      <td>-0.036623</td>\n",
       "      <td>0.034314</td>\n",
       "      <td>-0.000368</td>\n",
       "      <td>-0.049142</td>\n",
       "      <td>0.041554</td>\n",
       "      <td>-0.027767</td>\n",
       "    </tr>\n",
       "    <tr>\n",
       "      <th>gene_1</th>\n",
       "      <td>0.024111</td>\n",
       "      <td>1.000000</td>\n",
       "      <td>0.533902</td>\n",
       "      <td>0.148348</td>\n",
       "      <td>-0.158555</td>\n",
       "      <td>0.202855</td>\n",
       "      <td>0.177154</td>\n",
       "      <td>0.023411</td>\n",
       "      <td>0.006425</td>\n",
       "      <td>-0.022650</td>\n",
       "      <td>...</td>\n",
       "      <td>0.169172</td>\n",
       "      <td>0.190145</td>\n",
       "      <td>0.313725</td>\n",
       "      <td>-0.007284</td>\n",
       "      <td>0.123178</td>\n",
       "      <td>-0.255093</td>\n",
       "      <td>0.303771</td>\n",
       "      <td>0.247959</td>\n",
       "      <td>-0.067474</td>\n",
       "      <td>0.034348</td>\n",
       "    </tr>\n",
       "    <tr>\n",
       "      <th>gene_2</th>\n",
       "      <td>0.027117</td>\n",
       "      <td>0.533902</td>\n",
       "      <td>1.000000</td>\n",
       "      <td>0.075988</td>\n",
       "      <td>-0.125376</td>\n",
       "      <td>0.334900</td>\n",
       "      <td>0.136246</td>\n",
       "      <td>0.013228</td>\n",
       "      <td>-0.045725</td>\n",
       "      <td>0.011893</td>\n",
       "      <td>...</td>\n",
       "      <td>-0.021067</td>\n",
       "      <td>0.036411</td>\n",
       "      <td>0.242255</td>\n",
       "      <td>0.018755</td>\n",
       "      <td>-0.054584</td>\n",
       "      <td>-0.160446</td>\n",
       "      <td>0.163181</td>\n",
       "      <td>0.066709</td>\n",
       "      <td>0.011765</td>\n",
       "      <td>0.075604</td>\n",
       "    </tr>\n",
       "    <tr>\n",
       "      <th>gene_3</th>\n",
       "      <td>-0.080269</td>\n",
       "      <td>0.148348</td>\n",
       "      <td>0.075988</td>\n",
       "      <td>1.000000</td>\n",
       "      <td>0.153666</td>\n",
       "      <td>-0.007905</td>\n",
       "      <td>-0.084841</td>\n",
       "      <td>-0.033180</td>\n",
       "      <td>0.002434</td>\n",
       "      <td>-0.030119</td>\n",
       "      <td>...</td>\n",
       "      <td>-0.186729</td>\n",
       "      <td>-0.014547</td>\n",
       "      <td>-0.011733</td>\n",
       "      <td>-0.242855</td>\n",
       "      <td>-0.240551</td>\n",
       "      <td>0.092787</td>\n",
       "      <td>-0.000379</td>\n",
       "      <td>0.016733</td>\n",
       "      <td>-0.135829</td>\n",
       "      <td>0.023476</td>\n",
       "    </tr>\n",
       "    <tr>\n",
       "      <th>gene_4</th>\n",
       "      <td>-0.028969</td>\n",
       "      <td>-0.158555</td>\n",
       "      <td>-0.125376</td>\n",
       "      <td>0.153666</td>\n",
       "      <td>1.000000</td>\n",
       "      <td>-0.044347</td>\n",
       "      <td>-0.156698</td>\n",
       "      <td>0.082124</td>\n",
       "      <td>0.098267</td>\n",
       "      <td>-0.042986</td>\n",
       "      <td>...</td>\n",
       "      <td>-0.499208</td>\n",
       "      <td>-0.167764</td>\n",
       "      <td>-0.283480</td>\n",
       "      <td>0.179406</td>\n",
       "      <td>-0.367551</td>\n",
       "      <td>0.011739</td>\n",
       "      <td>-0.434604</td>\n",
       "      <td>-0.108036</td>\n",
       "      <td>-0.007229</td>\n",
       "      <td>0.062752</td>\n",
       "    </tr>\n",
       "  </tbody>\n",
       "</table>\n",
       "<p>5 rows × 20264 columns</p>\n",
       "</div>"
      ],
      "text/plain": [
       "          gene_0    gene_1    gene_2    gene_3    gene_4    gene_6    gene_7  \\\n",
       "gene_0  1.000000  0.024111  0.027117 -0.080269 -0.028969  0.051855 -0.053647   \n",
       "gene_1  0.024111  1.000000  0.533902  0.148348 -0.158555  0.202855  0.177154   \n",
       "gene_2  0.027117  0.533902  1.000000  0.075988 -0.125376  0.334900  0.136246   \n",
       "gene_3 -0.080269  0.148348  0.075988  1.000000  0.153666 -0.007905 -0.084841   \n",
       "gene_4 -0.028969 -0.158555 -0.125376  0.153666  1.000000 -0.044347 -0.156698   \n",
       "\n",
       "          gene_8    gene_9   gene_10  ...  gene_20521  gene_20522  gene_20523  \\\n",
       "gene_0 -0.024423 -0.012785 -0.015423  ...   -0.021109   -0.064341   -0.013874   \n",
       "gene_1  0.023411  0.006425 -0.022650  ...    0.169172    0.190145    0.313725   \n",
       "gene_2  0.013228 -0.045725  0.011893  ...   -0.021067    0.036411    0.242255   \n",
       "gene_3 -0.033180  0.002434 -0.030119  ...   -0.186729   -0.014547   -0.011733   \n",
       "gene_4  0.082124  0.098267 -0.042986  ...   -0.499208   -0.167764   -0.283480   \n",
       "\n",
       "        gene_20524  gene_20525  gene_20526  gene_20527  gene_20528  \\\n",
       "gene_0   -0.008384   -0.036623    0.034314   -0.000368   -0.049142   \n",
       "gene_1   -0.007284    0.123178   -0.255093    0.303771    0.247959   \n",
       "gene_2    0.018755   -0.054584   -0.160446    0.163181    0.066709   \n",
       "gene_3   -0.242855   -0.240551    0.092787   -0.000379    0.016733   \n",
       "gene_4    0.179406   -0.367551    0.011739   -0.434604   -0.108036   \n",
       "\n",
       "        gene_20529  gene_20530  \n",
       "gene_0    0.041554   -0.027767  \n",
       "gene_1   -0.067474    0.034348  \n",
       "gene_2    0.011765    0.075604  \n",
       "gene_3   -0.135829    0.023476  \n",
       "gene_4   -0.007229    0.062752  \n",
       "\n",
       "[5 rows x 20264 columns]"
      ]
     },
     "execution_count": 14,
     "metadata": {},
     "output_type": "execute_result"
    }
   ],
   "source": [
    "# Are there any Features with Correlation value= NaN ?\n",
    "# -- In total there are 267 cols with 0 values, since they are deleted, result is zero\n",
    "# corr_nan_list = corr_df.columns[corr_df.isna().all()].tolist()\n",
    "# print(corr_nan_list)\n",
    "# corr_df.head()"
   ]
  },
  {
   "cell_type": "markdown",
   "metadata": {},
   "source": [
    "###### Output feature (column) characterstics based on the target variable"
   ]
  },
  {
   "cell_type": "code",
   "execution_count": null,
   "metadata": {},
   "outputs": [],
   "source": [
    "# Gene values (mean, mode, min, max, range) per class\n",
    "# ---- NOTE : Below can take about 30secs to run.\n",
    "# (X['gene_0'] == 0).sum()\n",
    "\n",
    "def describeEachClass():\n",
    "    for i in range(len(class_unique_vals)) :\n",
    "        cls = class_unique_vals[i]\n",
    "        # print('i= ', i, 'class= ', cls)\n",
    "        df[df['Class'] == cls].describe().T.to_csv(f'{DATA_ANALYSIS_DIR}{cls}_describe_output.csv')\n",
    "\n",
    "describeEachClass()\n",
    "# print(type(df[df['Class'] == 'BRCA'].describe()))"
   ]
  },
  {
   "cell_type": "markdown",
   "metadata": {},
   "source": [
    "##### Features with outliers"
   ]
  },
  {
   "cell_type": "code",
   "execution_count": 214,
   "metadata": {},
   "outputs": [],
   "source": [
    "# Data has columns where values are close to 100% quartile. Get a list of these columns\n",
    "\n",
    "def get_features_with_4thquartile_values_only(df) :\n",
    "    '''\n",
    "    @param df : Dataframe with all the data\n",
    "    @return Dataframe consisting of descriptive stats for features in  in `df` where all values fall in 4th quartile.\n",
    "    '''\n",
    "    #generate descriptive statistics of given dataframe\n",
    "    df_desc = df.describe()\n",
    "    df_desc_t = df_desc.T\n",
    "\n",
    "    print(f\"Total # of columns: {len(df_desc_t)}\")\n",
    "    df_cols_outliers = df_desc_t[(df_desc_t['25%'] == 0) & (df_desc_t['50%'] == 0) & (df_desc_t['75%'] == 0)]\n",
    "    print(f\"# of columns with only outliers: {len(df_cols_outliers)}\")\n",
    "\n",
    "    return df_cols_outliers\n",
    "\n"
   ]
  },
  {
   "cell_type": "code",
   "execution_count": 215,
   "metadata": {},
   "outputs": [],
   "source": [
    "\n",
    "# Identify if any of above columns have patterns such as associated with a type of tumor.\n",
    "# Output the count of rows per Tumor type, for each of the above genes\n",
    "def get_features_target_class_counts(df, df_cols_outliers, target_col='Class'):\n",
    "    '''\n",
    "    @param df : Dataframe with all the data\n",
    "    @param df_cols_outliers : Dataframe with descriptive stats of features. See #get_features_with_4thquartile_values_only(df)\n",
    "    @param target_col : Dependent variable in dataframe `df`.\n",
    "    '''\n",
    "    df_col_out_values = pd.DataFrame()\n",
    "    for i in range(len(df_cols_outliers)):\n",
    "        # for each record in outliers df, get only the rows that hv value greater than 0\n",
    "        df_outliers_temp = df[df[df_cols_outliers.index[i]] > 0][[target_col, df_cols_outliers.index[i]]]\n",
    "        df_outliers_temp1 = df_outliers_temp[target_col].value_counts().to_frame().T\n",
    "        df_outliers_temp1['gene'] = df_cols_outliers.index[i]\n",
    "\n",
    "        df_col_out_values = pd.concat([df_col_out_values, df_outliers_temp1], ignore_index=True)\n",
    "\n",
    "        # df_col_out_values = pd.concat([df_col_out_values, df_outliers_temp], ignore_index=True)\n",
    "\n",
    "    return df_col_out_values\n",
    "\n"
   ]
  },
  {
   "cell_type": "markdown",
   "metadata": {},
   "source": [
    "##### Execution (of functions)"
   ]
  },
  {
   "cell_type": "code",
   "execution_count": 216,
   "metadata": {},
   "outputs": [
    {
     "name": "stdout",
     "output_type": "stream",
     "text": [
      "Total # of columns: 20264\n",
      "# of columns with only outliers: 1660\n"
     ]
    }
   ],
   "source": [
    "df_feature_outliers = get_features_with_4thquartile_values_only(df)\n",
    "df_feature_outliers_count = get_features_target_class_counts(df, df_feature_outliers, 'Class')\n",
    "df_feature_outliers_count.to_csv(f'{DATA_ANALYSIS_DIR}Outliers_cols_values_count.csv')\n"
   ]
  },
  {
   "cell_type": "code",
   "execution_count": 217,
   "metadata": {},
   "outputs": [
    {
     "name": "stdout",
     "output_type": "stream",
     "text": [
      "1660\n",
      "# of feature groups: 32\n"
     ]
    },
    {
     "data": {
      "application/vnd.plotly.v1+json": {
       "config": {
        "plotlyServerURL": "https://plot.ly"
       },
       "data": [
        {
         "mode": "lines",
         "name": "gene_0",
         "type": "scatter",
         "x": [
          "KIRC",
          "LUAD",
          "PRAD",
          "BRCA",
          "COAD",
          "gene"
         ],
         "xaxis": "x",
         "y": [
          11,
          10,
          6,
          5,
          3
         ],
         "yaxis": "y"
        },
        {
         "mode": "lines",
         "name": "gene_8",
         "type": "scatter",
         "x": [
          "KIRC",
          "LUAD",
          "PRAD",
          "BRCA",
          "COAD",
          "gene"
         ],
         "xaxis": "x",
         "y": [
          4,
          3,
          1,
          8,
          null
         ],
         "yaxis": "y"
        },
        {
         "mode": "lines",
         "name": "gene_9",
         "type": "scatter",
         "x": [
          "KIRC",
          "LUAD",
          "PRAD",
          "BRCA",
          "COAD",
          "gene"
         ],
         "xaxis": "x",
         "y": [
          null,
          null,
          1,
          3,
          null
         ],
         "yaxis": "y"
        },
        {
         "mode": "lines",
         "name": "gene_15",
         "type": "scatter",
         "x": [
          "KIRC",
          "LUAD",
          "PRAD",
          "BRCA",
          "COAD",
          "gene"
         ],
         "xaxis": "x",
         "y": [
          6,
          null,
          null,
          1,
          null
         ],
         "yaxis": "y"
        },
        {
         "mode": "lines",
         "name": "gene_16",
         "type": "scatter",
         "x": [
          "KIRC",
          "LUAD",
          "PRAD",
          "BRCA",
          "COAD",
          "gene"
         ],
         "xaxis": "x",
         "y": [
          null,
          1,
          1,
          3,
          null
         ],
         "yaxis": "y"
        },
        {
         "mode": "lines",
         "name": "gene_17",
         "type": "scatter",
         "x": [
          "KIRC",
          "LUAD",
          "PRAD",
          "BRCA",
          "COAD",
          "gene"
         ],
         "xaxis": "x",
         "y": [
          2,
          13,
          18,
          5,
          null
         ],
         "yaxis": "y"
        },
        {
         "mode": "lines",
         "name": "gene_24",
         "type": "scatter",
         "x": [
          "KIRC",
          "LUAD",
          "PRAD",
          "BRCA",
          "COAD",
          "gene"
         ],
         "xaxis": "x",
         "y": [
          10,
          8,
          28,
          17,
          2
         ],
         "yaxis": "y"
        },
        {
         "mode": "lines",
         "name": "gene_37",
         "type": "scatter",
         "x": [
          "KIRC",
          "LUAD",
          "PRAD",
          "BRCA",
          "COAD",
          "gene"
         ],
         "xaxis": "x",
         "y": [
          21,
          40,
          2,
          20,
          47
         ],
         "yaxis": "y"
        },
        {
         "mode": "lines",
         "name": "gene_41",
         "type": "scatter",
         "x": [
          "KIRC",
          "LUAD",
          "PRAD",
          "BRCA",
          "COAD",
          "gene"
         ],
         "xaxis": "x",
         "y": [
          8,
          19,
          3,
          37,
          10
         ],
         "yaxis": "y"
        },
        {
         "mode": "lines",
         "name": "gene_42",
         "type": "scatter",
         "x": [
          "KIRC",
          "LUAD",
          "PRAD",
          "BRCA",
          "COAD",
          "gene"
         ],
         "xaxis": "x",
         "y": [
          11,
          7,
          7,
          51,
          9
         ],
         "yaxis": "y"
        },
        {
         "mode": "lines",
         "name": "gene_43",
         "type": "scatter",
         "x": [
          "KIRC",
          "LUAD",
          "PRAD",
          "BRCA",
          "COAD",
          "gene"
         ],
         "xaxis": "x",
         "y": [
          39,
          25,
          66,
          17,
          8
         ],
         "yaxis": "y"
        },
        {
         "mode": "lines",
         "name": "gene_168",
         "type": "scatter",
         "x": [
          "KIRC",
          "LUAD",
          "PRAD",
          "BRCA",
          "COAD",
          "gene"
         ],
         "xaxis": "x",
         "y": [
          18,
          44,
          23,
          50,
          4
         ],
         "yaxis": "y"
        },
        {
         "mode": "lines",
         "name": "gene_169",
         "type": "scatter",
         "x": [
          "KIRC",
          "LUAD",
          "PRAD",
          "BRCA",
          "COAD",
          "gene"
         ],
         "xaxis": "x",
         "y": [
          34,
          11,
          11,
          24,
          2
         ],
         "yaxis": "y"
        },
        {
         "mode": "lines",
         "name": "gene_222",
         "type": "scatter",
         "x": [
          "KIRC",
          "LUAD",
          "PRAD",
          "BRCA",
          "COAD",
          "gene"
         ],
         "xaxis": "x",
         "y": [
          20,
          19,
          6,
          53,
          4
         ],
         "yaxis": "y"
        },
        {
         "mode": "lines",
         "name": "gene_235",
         "type": "scatter",
         "x": [
          "KIRC",
          "LUAD",
          "PRAD",
          "BRCA",
          "COAD",
          "gene"
         ],
         "xaxis": "x",
         "y": [
          5,
          24,
          44,
          28,
          14
         ],
         "yaxis": "y"
        },
        {
         "mode": "lines",
         "name": "gene_236",
         "type": "scatter",
         "x": [
          "KIRC",
          "LUAD",
          "PRAD",
          "BRCA",
          "COAD",
          "gene"
         ],
         "xaxis": "x",
         "y": [
          18,
          17,
          20,
          33,
          4
         ],
         "yaxis": "y"
        },
        {
         "mode": "lines",
         "name": "gene_239",
         "type": "scatter",
         "x": [
          "KIRC",
          "LUAD",
          "PRAD",
          "BRCA",
          "COAD",
          "gene"
         ],
         "xaxis": "x",
         "y": [
          9,
          15,
          3,
          7,
          5
         ],
         "yaxis": "y"
        },
        {
         "mode": "lines",
         "name": "gene_254",
         "type": "scatter",
         "x": [
          "KIRC",
          "LUAD",
          "PRAD",
          "BRCA",
          "COAD",
          "gene"
         ],
         "xaxis": "x",
         "y": [
          20,
          17,
          23,
          24,
          10
         ],
         "yaxis": "y"
        },
        {
         "mode": "lines",
         "name": "gene_255",
         "type": "scatter",
         "x": [
          "KIRC",
          "LUAD",
          "PRAD",
          "BRCA",
          "COAD",
          "gene"
         ],
         "xaxis": "x",
         "y": [
          2,
          7,
          1,
          null,
          1
         ],
         "yaxis": "y"
        },
        {
         "mode": "lines",
         "name": "gene_266",
         "type": "scatter",
         "x": [
          "KIRC",
          "LUAD",
          "PRAD",
          "BRCA",
          "COAD",
          "gene"
         ],
         "xaxis": "x",
         "y": [
          7,
          6,
          null,
          19,
          1
         ],
         "yaxis": "y"
        },
        {
         "mode": "lines",
         "name": "gene_284",
         "type": "scatter",
         "x": [
          "KIRC",
          "LUAD",
          "PRAD",
          "BRCA",
          "COAD",
          "gene"
         ],
         "xaxis": "x",
         "y": [
          16,
          3,
          17,
          25,
          1
         ],
         "yaxis": "y"
        },
        {
         "mode": "lines",
         "name": "gene_287",
         "type": "scatter",
         "x": [
          "KIRC",
          "LUAD",
          "PRAD",
          "BRCA",
          "COAD",
          "gene"
         ],
         "xaxis": "x",
         "y": [
          3,
          7,
          3,
          7,
          null
         ],
         "yaxis": "y"
        },
        {
         "mode": "lines",
         "name": "gene_288",
         "type": "scatter",
         "x": [
          "KIRC",
          "LUAD",
          "PRAD",
          "BRCA",
          "COAD",
          "gene"
         ],
         "xaxis": "x",
         "y": [
          17,
          6,
          4,
          19,
          null
         ],
         "yaxis": "y"
        },
        {
         "mode": "lines",
         "name": "gene_290",
         "type": "scatter",
         "x": [
          "KIRC",
          "LUAD",
          "PRAD",
          "BRCA",
          "COAD",
          "gene"
         ],
         "xaxis": "x",
         "y": [
          37,
          15,
          101,
          7,
          null
         ],
         "yaxis": "y"
        },
        {
         "mode": "lines",
         "name": "gene_356",
         "type": "scatter",
         "x": [
          "KIRC",
          "LUAD",
          "PRAD",
          "BRCA",
          "COAD",
          "gene"
         ],
         "xaxis": "x",
         "y": [
          25,
          6,
          46,
          26,
          1
         ],
         "yaxis": "y"
        },
        {
         "mode": "lines",
         "name": "gene_404",
         "type": "scatter",
         "x": [
          "KIRC",
          "LUAD",
          "PRAD",
          "BRCA",
          "COAD",
          "gene"
         ],
         "xaxis": "x",
         "y": [
          123,
          16,
          8,
          18,
          5
         ],
         "yaxis": "y"
        },
        {
         "mode": "lines",
         "name": "gene_497",
         "type": "scatter",
         "x": [
          "KIRC",
          "LUAD",
          "PRAD",
          "BRCA",
          "COAD",
          "gene"
         ],
         "xaxis": "x",
         "y": [
          64,
          10,
          9,
          35,
          53
         ],
         "yaxis": "y"
        },
        {
         "mode": "lines",
         "name": "gene_608",
         "type": "scatter",
         "x": [
          "KIRC",
          "LUAD",
          "PRAD",
          "BRCA",
          "COAD",
          "gene"
         ],
         "xaxis": "x",
         "y": [
          44,
          22,
          30,
          50,
          7
         ],
         "yaxis": "y"
        },
        {
         "mode": "lines",
         "name": "gene_610",
         "type": "scatter",
         "x": [
          "KIRC",
          "LUAD",
          "PRAD",
          "BRCA",
          "COAD",
          "gene"
         ],
         "xaxis": "x",
         "y": [
          17,
          27,
          10,
          30,
          10
         ],
         "yaxis": "y"
        },
        {
         "mode": "lines",
         "name": "gene_616",
         "type": "scatter",
         "x": [
          "KIRC",
          "LUAD",
          "PRAD",
          "BRCA",
          "COAD",
          "gene"
         ],
         "xaxis": "x",
         "y": [
          10,
          5,
          40,
          14,
          63
         ],
         "yaxis": "y"
        },
        {
         "mode": "lines",
         "name": "gene_617",
         "type": "scatter",
         "x": [
          "KIRC",
          "LUAD",
          "PRAD",
          "BRCA",
          "COAD",
          "gene"
         ],
         "xaxis": "x",
         "y": [
          7,
          14,
          111,
          null,
          10
         ],
         "yaxis": "y"
        },
        {
         "mode": "lines",
         "name": "gene_779",
         "type": "scatter",
         "x": [
          "KIRC",
          "LUAD",
          "PRAD",
          "BRCA",
          "COAD",
          "gene"
         ],
         "xaxis": "x",
         "y": [
          5,
          11,
          4,
          45,
          2
         ],
         "yaxis": "y"
        },
        {
         "mode": "lines",
         "name": "gene_824",
         "type": "scatter",
         "x": [
          "KIRC",
          "LUAD",
          "PRAD",
          "BRCA",
          "COAD",
          "gene"
         ],
         "xaxis": "x",
         "y": [
          84,
          13,
          26,
          11,
          3
         ],
         "yaxis": "y"
        },
        {
         "mode": "lines",
         "name": "gene_842",
         "type": "scatter",
         "x": [
          "KIRC",
          "LUAD",
          "PRAD",
          "BRCA",
          "COAD",
          "gene"
         ],
         "xaxis": "x",
         "y": [
          30,
          40,
          9,
          9,
          21
         ],
         "yaxis": "y"
        },
        {
         "mode": "lines",
         "name": "gene_859",
         "type": "scatter",
         "x": [
          "KIRC",
          "LUAD",
          "PRAD",
          "BRCA",
          "COAD",
          "gene"
         ],
         "xaxis": "x",
         "y": [
          89,
          18,
          16,
          42,
          19
         ],
         "yaxis": "y"
        },
        {
         "mode": "lines",
         "name": "gene_883",
         "type": "scatter",
         "x": [
          "KIRC",
          "LUAD",
          "PRAD",
          "BRCA",
          "COAD",
          "gene"
         ],
         "xaxis": "x",
         "y": [
          8,
          13,
          2,
          13,
          48
         ],
         "yaxis": "y"
        },
        {
         "mode": "lines",
         "name": "gene_921",
         "type": "scatter",
         "x": [
          "KIRC",
          "LUAD",
          "PRAD",
          "BRCA",
          "COAD",
          "gene"
         ],
         "xaxis": "x",
         "y": [
          30,
          11,
          12,
          21,
          6
         ],
         "yaxis": "y"
        },
        {
         "mode": "lines",
         "name": "gene_1079",
         "type": "scatter",
         "x": [
          "KIRC",
          "LUAD",
          "PRAD",
          "BRCA",
          "COAD",
          "gene"
         ],
         "xaxis": "x",
         "y": [
          36,
          12,
          8,
          43,
          2
         ],
         "yaxis": "y"
        },
        {
         "mode": "lines",
         "name": "gene_1083",
         "type": "scatter",
         "x": [
          "KIRC",
          "LUAD",
          "PRAD",
          "BRCA",
          "COAD",
          "gene"
         ],
         "xaxis": "x",
         "y": [
          11,
          16,
          49,
          19,
          3
         ],
         "yaxis": "y"
        },
        {
         "mode": "lines",
         "name": "gene_1084",
         "type": "scatter",
         "x": [
          "KIRC",
          "LUAD",
          "PRAD",
          "BRCA",
          "COAD",
          "gene"
         ],
         "xaxis": "x",
         "y": [
          25,
          54,
          37,
          26,
          1
         ],
         "yaxis": "y"
        },
        {
         "mode": "lines",
         "name": "gene_1090",
         "type": "scatter",
         "x": [
          "KIRC",
          "LUAD",
          "PRAD",
          "BRCA",
          "COAD",
          "gene"
         ],
         "xaxis": "x",
         "y": [
          101,
          11,
          1,
          14,
          1
         ],
         "yaxis": "y"
        },
        {
         "mode": "lines",
         "name": "gene_1091",
         "type": "scatter",
         "x": [
          "KIRC",
          "LUAD",
          "PRAD",
          "BRCA",
          "COAD",
          "gene"
         ],
         "xaxis": "x",
         "y": [
          34,
          3,
          6,
          14,
          8
         ],
         "yaxis": "y"
        },
        {
         "mode": "lines",
         "name": "gene_1141",
         "type": "scatter",
         "x": [
          "KIRC",
          "LUAD",
          "PRAD",
          "BRCA",
          "COAD",
          "gene"
         ],
         "xaxis": "x",
         "y": [
          10,
          61,
          31,
          48,
          3
         ],
         "yaxis": "y"
        },
        {
         "mode": "lines",
         "name": "gene_1184",
         "type": "scatter",
         "x": [
          "KIRC",
          "LUAD",
          "PRAD",
          "BRCA",
          "COAD",
          "gene"
         ],
         "xaxis": "x",
         "y": [
          3,
          15,
          90,
          7,
          76
         ],
         "yaxis": "y"
        },
        {
         "mode": "lines",
         "name": "gene_1207",
         "type": "scatter",
         "x": [
          "KIRC",
          "LUAD",
          "PRAD",
          "BRCA",
          "COAD",
          "gene"
         ],
         "xaxis": "x",
         "y": [
          13,
          12,
          55,
          40,
          4
         ],
         "yaxis": "y"
        },
        {
         "mode": "lines",
         "name": "gene_1261",
         "type": "scatter",
         "x": [
          "KIRC",
          "LUAD",
          "PRAD",
          "BRCA",
          "COAD",
          "gene"
         ],
         "xaxis": "x",
         "y": [
          29,
          15,
          54,
          42,
          1
         ],
         "yaxis": "y"
        },
        {
         "mode": "lines",
         "name": "gene_1288",
         "type": "scatter",
         "x": [
          "KIRC",
          "LUAD",
          "PRAD",
          "BRCA",
          "COAD",
          "gene"
         ],
         "xaxis": "x",
         "y": [
          7,
          2,
          1,
          10,
          null
         ],
         "yaxis": "y"
        },
        {
         "mode": "lines",
         "name": "gene_1295",
         "type": "scatter",
         "x": [
          "KIRC",
          "LUAD",
          "PRAD",
          "BRCA",
          "COAD",
          "gene"
         ],
         "xaxis": "x",
         "y": [
          2,
          2,
          23,
          25,
          null
         ],
         "yaxis": "y"
        },
        {
         "mode": "lines",
         "name": "gene_1311",
         "type": "scatter",
         "x": [
          "KIRC",
          "LUAD",
          "PRAD",
          "BRCA",
          "COAD",
          "gene"
         ],
         "xaxis": "x",
         "y": [
          39,
          13,
          2,
          12,
          2
         ],
         "yaxis": "y"
        },
        {
         "mode": "lines",
         "name": "gene_1312",
         "type": "scatter",
         "x": [
          "KIRC",
          "LUAD",
          "PRAD",
          "BRCA",
          "COAD",
          "gene"
         ],
         "xaxis": "x",
         "y": [
          15,
          37,
          17,
          76,
          4
         ],
         "yaxis": "y"
        },
        {
         "mode": "lines",
         "name": "gene_1370",
         "type": "scatter",
         "x": [
          "KIRC",
          "LUAD",
          "PRAD",
          "BRCA",
          "COAD",
          "gene"
         ],
         "xaxis": "x",
         "y": [
          18,
          23,
          25,
          48,
          9
         ],
         "yaxis": "y"
        },
        {
         "mode": "lines",
         "name": "gene_1383",
         "type": "scatter",
         "x": [
          "KIRC",
          "LUAD",
          "PRAD",
          "BRCA",
          "COAD",
          "gene"
         ],
         "xaxis": "x",
         "y": [
          31,
          28,
          7,
          30,
          13
         ],
         "yaxis": "y"
        },
        {
         "mode": "lines",
         "name": "gene_1388",
         "type": "scatter",
         "x": [
          "KIRC",
          "LUAD",
          "PRAD",
          "BRCA",
          "COAD",
          "gene"
         ],
         "xaxis": "x2",
         "y": [
          15,
          16,
          26,
          51,
          10
         ],
         "yaxis": "y2"
        },
        {
         "mode": "lines",
         "name": "gene_1389",
         "type": "scatter",
         "x": [
          "KIRC",
          "LUAD",
          "PRAD",
          "BRCA",
          "COAD",
          "gene"
         ],
         "xaxis": "x2",
         "y": [
          15,
          21,
          25,
          36,
          7
         ],
         "yaxis": "y2"
        },
        {
         "mode": "lines",
         "name": "gene_1392",
         "type": "scatter",
         "x": [
          "KIRC",
          "LUAD",
          "PRAD",
          "BRCA",
          "COAD",
          "gene"
         ],
         "xaxis": "x2",
         "y": [
          1,
          43,
          43,
          71,
          null
         ],
         "yaxis": "y2"
        },
        {
         "mode": "lines",
         "name": "gene_1469",
         "type": "scatter",
         "x": [
          "KIRC",
          "LUAD",
          "PRAD",
          "BRCA",
          "COAD",
          "gene"
         ],
         "xaxis": "x2",
         "y": [
          3,
          5,
          2,
          4,
          1
         ],
         "yaxis": "y2"
        },
        {
         "mode": "lines",
         "name": "gene_1480",
         "type": "scatter",
         "x": [
          "KIRC",
          "LUAD",
          "PRAD",
          "BRCA",
          "COAD",
          "gene"
         ],
         "xaxis": "x2",
         "y": [
          61,
          22,
          21,
          33,
          2
         ],
         "yaxis": "y2"
        },
        {
         "mode": "lines",
         "name": "gene_1497",
         "type": "scatter",
         "x": [
          "KIRC",
          "LUAD",
          "PRAD",
          "BRCA",
          "COAD",
          "gene"
         ],
         "xaxis": "x2",
         "y": [
          7,
          null,
          null,
          3,
          null
         ],
         "yaxis": "y2"
        },
        {
         "mode": "lines",
         "name": "gene_1506",
         "type": "scatter",
         "x": [
          "KIRC",
          "LUAD",
          "PRAD",
          "BRCA",
          "COAD",
          "gene"
         ],
         "xaxis": "x2",
         "y": [
          22,
          4,
          1,
          3,
          3
         ],
         "yaxis": "y2"
        },
        {
         "mode": "lines",
         "name": "gene_1524",
         "type": "scatter",
         "x": [
          "KIRC",
          "LUAD",
          "PRAD",
          "BRCA",
          "COAD",
          "gene"
         ],
         "xaxis": "x2",
         "y": [
          7,
          null,
          8,
          2,
          2
         ],
         "yaxis": "y2"
        },
        {
         "mode": "lines",
         "name": "gene_1527",
         "type": "scatter",
         "x": [
          "KIRC",
          "LUAD",
          "PRAD",
          "BRCA",
          "COAD",
          "gene"
         ],
         "xaxis": "x2",
         "y": [
          40,
          34,
          5,
          19,
          2
         ],
         "yaxis": "y2"
        },
        {
         "mode": "lines",
         "name": "gene_1540",
         "type": "scatter",
         "x": [
          "KIRC",
          "LUAD",
          "PRAD",
          "BRCA",
          "COAD",
          "gene"
         ],
         "xaxis": "x2",
         "y": [
          32,
          12,
          9,
          19,
          4
         ],
         "yaxis": "y2"
        },
        {
         "mode": "lines",
         "name": "gene_1541",
         "type": "scatter",
         "x": [
          "KIRC",
          "LUAD",
          "PRAD",
          "BRCA",
          "COAD",
          "gene"
         ],
         "xaxis": "x2",
         "y": [
          22,
          18,
          7,
          29,
          7
         ],
         "yaxis": "y2"
        },
        {
         "mode": "lines",
         "name": "gene_1576",
         "type": "scatter",
         "x": [
          "KIRC",
          "LUAD",
          "PRAD",
          "BRCA",
          "COAD",
          "gene"
         ],
         "xaxis": "x2",
         "y": [
          36,
          4,
          18,
          31,
          13
         ],
         "yaxis": "y2"
        },
        {
         "mode": "lines",
         "name": "gene_1580",
         "type": "scatter",
         "x": [
          "KIRC",
          "LUAD",
          "PRAD",
          "BRCA",
          "COAD",
          "gene"
         ],
         "xaxis": "x2",
         "y": [
          9,
          42,
          12,
          62,
          5
         ],
         "yaxis": "y2"
        },
        {
         "mode": "lines",
         "name": "gene_1581",
         "type": "scatter",
         "x": [
          "KIRC",
          "LUAD",
          "PRAD",
          "BRCA",
          "COAD",
          "gene"
         ],
         "xaxis": "x2",
         "y": [
          1,
          14,
          5,
          59,
          null
         ],
         "yaxis": "y2"
        },
        {
         "mode": "lines",
         "name": "gene_1585",
         "type": "scatter",
         "x": [
          "KIRC",
          "LUAD",
          "PRAD",
          "BRCA",
          "COAD",
          "gene"
         ],
         "xaxis": "x2",
         "y": [
          41,
          6,
          1,
          1,
          1
         ],
         "yaxis": "y2"
        },
        {
         "mode": "lines",
         "name": "gene_1614",
         "type": "scatter",
         "x": [
          "KIRC",
          "LUAD",
          "PRAD",
          "BRCA",
          "COAD",
          "gene"
         ],
         "xaxis": "x2",
         "y": [
          57,
          33,
          15,
          59,
          10
         ],
         "yaxis": "y2"
        },
        {
         "mode": "lines",
         "name": "gene_1624",
         "type": "scatter",
         "x": [
          "KIRC",
          "LUAD",
          "PRAD",
          "BRCA",
          "COAD",
          "gene"
         ],
         "xaxis": "x2",
         "y": [
          1,
          null,
          null,
          1,
          1
         ],
         "yaxis": "y2"
        },
        {
         "mode": "lines",
         "name": "gene_1628",
         "type": "scatter",
         "x": [
          "KIRC",
          "LUAD",
          "PRAD",
          "BRCA",
          "COAD",
          "gene"
         ],
         "xaxis": "x2",
         "y": [
          3,
          5,
          3,
          5,
          2
         ],
         "yaxis": "y2"
        },
        {
         "mode": "lines",
         "name": "gene_1652",
         "type": "scatter",
         "x": [
          "KIRC",
          "LUAD",
          "PRAD",
          "BRCA",
          "COAD",
          "gene"
         ],
         "xaxis": "x2",
         "y": [
          26,
          75,
          15,
          78,
          3
         ],
         "yaxis": "y2"
        },
        {
         "mode": "lines",
         "name": "gene_1683",
         "type": "scatter",
         "x": [
          "KIRC",
          "LUAD",
          "PRAD",
          "BRCA",
          "COAD",
          "gene"
         ],
         "xaxis": "x2",
         "y": [
          23,
          21,
          20,
          73,
          7
         ],
         "yaxis": "y2"
        },
        {
         "mode": "lines",
         "name": "gene_1689",
         "type": "scatter",
         "x": [
          "KIRC",
          "LUAD",
          "PRAD",
          "BRCA",
          "COAD",
          "gene"
         ],
         "xaxis": "x2",
         "y": [
          6,
          2,
          10,
          5,
          3
         ],
         "yaxis": "y2"
        },
        {
         "mode": "lines",
         "name": "gene_1690",
         "type": "scatter",
         "x": [
          "KIRC",
          "LUAD",
          "PRAD",
          "BRCA",
          "COAD",
          "gene"
         ],
         "xaxis": "x2",
         "y": [
          6,
          22,
          17,
          39,
          null
         ],
         "yaxis": "y2"
        },
        {
         "mode": "lines",
         "name": "gene_1693",
         "type": "scatter",
         "x": [
          "KIRC",
          "LUAD",
          "PRAD",
          "BRCA",
          "COAD",
          "gene"
         ],
         "xaxis": "x2",
         "y": [
          37,
          24,
          22,
          95,
          9
         ],
         "yaxis": "y2"
        },
        {
         "mode": "lines",
         "name": "gene_1706",
         "type": "scatter",
         "x": [
          "KIRC",
          "LUAD",
          "PRAD",
          "BRCA",
          "COAD",
          "gene"
         ],
         "xaxis": "x2",
         "y": [
          6,
          9,
          9,
          30,
          1
         ],
         "yaxis": "y2"
        },
        {
         "mode": "lines",
         "name": "gene_1712",
         "type": "scatter",
         "x": [
          "KIRC",
          "LUAD",
          "PRAD",
          "BRCA",
          "COAD",
          "gene"
         ],
         "xaxis": "x2",
         "y": [
          18,
          24,
          27,
          11,
          2
         ],
         "yaxis": "y2"
        },
        {
         "mode": "lines",
         "name": "gene_1720",
         "type": "scatter",
         "x": [
          "KIRC",
          "LUAD",
          "PRAD",
          "BRCA",
          "COAD",
          "gene"
         ],
         "xaxis": "x2",
         "y": [
          21,
          56,
          67,
          35,
          11
         ],
         "yaxis": "y2"
        },
        {
         "mode": "lines",
         "name": "gene_1734",
         "type": "scatter",
         "x": [
          "KIRC",
          "LUAD",
          "PRAD",
          "BRCA",
          "COAD",
          "gene"
         ],
         "xaxis": "x2",
         "y": [
          4,
          null,
          2,
          16,
          null
         ],
         "yaxis": "y2"
        },
        {
         "mode": "lines",
         "name": "gene_1748",
         "type": "scatter",
         "x": [
          "KIRC",
          "LUAD",
          "PRAD",
          "BRCA",
          "COAD",
          "gene"
         ],
         "xaxis": "x2",
         "y": [
          16,
          19,
          15,
          27,
          7
         ],
         "yaxis": "y2"
        },
        {
         "mode": "lines",
         "name": "gene_1749",
         "type": "scatter",
         "x": [
          "KIRC",
          "LUAD",
          "PRAD",
          "BRCA",
          "COAD",
          "gene"
         ],
         "xaxis": "x2",
         "y": [
          null,
          null,
          null,
          1,
          1
         ],
         "yaxis": "y2"
        },
        {
         "mode": "lines",
         "name": "gene_1765",
         "type": "scatter",
         "x": [
          "KIRC",
          "LUAD",
          "PRAD",
          "BRCA",
          "COAD",
          "gene"
         ],
         "xaxis": "x2",
         "y": [
          null,
          null,
          1,
          1,
          null
         ],
         "yaxis": "y2"
        },
        {
         "mode": "lines",
         "name": "gene_1786",
         "type": "scatter",
         "x": [
          "KIRC",
          "LUAD",
          "PRAD",
          "BRCA",
          "COAD",
          "gene"
         ],
         "xaxis": "x2",
         "y": [
          13,
          18,
          32,
          25,
          7
         ],
         "yaxis": "y2"
        },
        {
         "mode": "lines",
         "name": "gene_1791",
         "type": "scatter",
         "x": [
          "KIRC",
          "LUAD",
          "PRAD",
          "BRCA",
          "COAD",
          "gene"
         ],
         "xaxis": "x2",
         "y": [
          5,
          8,
          3,
          11,
          1
         ],
         "yaxis": "y2"
        },
        {
         "mode": "lines",
         "name": "gene_1802",
         "type": "scatter",
         "x": [
          "KIRC",
          "LUAD",
          "PRAD",
          "BRCA",
          "COAD",
          "gene"
         ],
         "xaxis": "x2",
         "y": [
          28,
          21,
          13,
          43,
          11
         ],
         "yaxis": "y2"
        },
        {
         "mode": "lines",
         "name": "gene_1836",
         "type": "scatter",
         "x": [
          "KIRC",
          "LUAD",
          "PRAD",
          "BRCA",
          "COAD",
          "gene"
         ],
         "xaxis": "x2",
         "y": [
          37,
          36,
          8,
          80,
          5
         ],
         "yaxis": "y2"
        },
        {
         "mode": "lines",
         "name": "gene_1844",
         "type": "scatter",
         "x": [
          "KIRC",
          "LUAD",
          "PRAD",
          "BRCA",
          "COAD",
          "gene"
         ],
         "xaxis": "x2",
         "y": [
          null,
          null,
          null,
          6,
          null
         ],
         "yaxis": "y2"
        },
        {
         "mode": "lines",
         "name": "gene_1881",
         "type": "scatter",
         "x": [
          "KIRC",
          "LUAD",
          "PRAD",
          "BRCA",
          "COAD",
          "gene"
         ],
         "xaxis": "x2",
         "y": [
          12,
          7,
          6,
          25,
          2
         ],
         "yaxis": "y2"
        },
        {
         "mode": "lines",
         "name": "gene_1888",
         "type": "scatter",
         "x": [
          "KIRC",
          "LUAD",
          "PRAD",
          "BRCA",
          "COAD",
          "gene"
         ],
         "xaxis": "x2",
         "y": [
          3,
          null,
          1,
          5,
          null
         ],
         "yaxis": "y2"
        },
        {
         "mode": "lines",
         "name": "gene_1894",
         "type": "scatter",
         "x": [
          "KIRC",
          "LUAD",
          "PRAD",
          "BRCA",
          "COAD",
          "gene"
         ],
         "xaxis": "x2",
         "y": [
          33,
          34,
          14,
          79,
          17
         ],
         "yaxis": "y2"
        },
        {
         "mode": "lines",
         "name": "gene_1899",
         "type": "scatter",
         "x": [
          "KIRC",
          "LUAD",
          "PRAD",
          "BRCA",
          "COAD",
          "gene"
         ],
         "xaxis": "x2",
         "y": [
          36,
          21,
          24,
          18,
          15
         ],
         "yaxis": "y2"
        },
        {
         "mode": "lines",
         "name": "gene_1908",
         "type": "scatter",
         "x": [
          "KIRC",
          "LUAD",
          "PRAD",
          "BRCA",
          "COAD",
          "gene"
         ],
         "xaxis": "x2",
         "y": [
          26,
          21,
          7,
          22,
          4
         ],
         "yaxis": "y2"
        },
        {
         "mode": "lines",
         "name": "gene_1915",
         "type": "scatter",
         "x": [
          "KIRC",
          "LUAD",
          "PRAD",
          "BRCA",
          "COAD",
          "gene"
         ],
         "xaxis": "x2",
         "y": [
          8,
          8,
          null,
          13,
          13
         ],
         "yaxis": "y2"
        },
        {
         "mode": "lines",
         "name": "gene_1920",
         "type": "scatter",
         "x": [
          "KIRC",
          "LUAD",
          "PRAD",
          "BRCA",
          "COAD",
          "gene"
         ],
         "xaxis": "x2",
         "y": [
          7,
          74,
          14,
          37,
          2
         ],
         "yaxis": "y2"
        },
        {
         "mode": "lines",
         "name": "gene_1931",
         "type": "scatter",
         "x": [
          "KIRC",
          "LUAD",
          "PRAD",
          "BRCA",
          "COAD",
          "gene"
         ],
         "xaxis": "x2",
         "y": [
          9,
          8,
          8,
          49,
          2
         ],
         "yaxis": "y2"
        },
        {
         "mode": "lines",
         "name": "gene_1940",
         "type": "scatter",
         "x": [
          "KIRC",
          "LUAD",
          "PRAD",
          "BRCA",
          "COAD",
          "gene"
         ],
         "xaxis": "x2",
         "y": [
          6,
          14,
          51,
          14,
          2
         ],
         "yaxis": "y2"
        },
        {
         "mode": "lines",
         "name": "gene_1954",
         "type": "scatter",
         "x": [
          "KIRC",
          "LUAD",
          "PRAD",
          "BRCA",
          "COAD",
          "gene"
         ],
         "xaxis": "x2",
         "y": [
          31,
          66,
          10,
          45,
          10
         ],
         "yaxis": "y2"
        },
        {
         "mode": "lines",
         "name": "gene_1983",
         "type": "scatter",
         "x": [
          "KIRC",
          "LUAD",
          "PRAD",
          "BRCA",
          "COAD",
          "gene"
         ],
         "xaxis": "x2",
         "y": [
          7,
          4,
          2,
          7,
          1
         ],
         "yaxis": "y2"
        },
        {
         "mode": "lines",
         "name": "gene_1988",
         "type": "scatter",
         "x": [
          "KIRC",
          "LUAD",
          "PRAD",
          "BRCA",
          "COAD",
          "gene"
         ],
         "xaxis": "x2",
         "y": [
          40,
          18,
          27,
          39,
          3
         ],
         "yaxis": "y2"
        },
        {
         "mode": "lines",
         "name": "gene_1993",
         "type": "scatter",
         "x": [
          "KIRC",
          "LUAD",
          "PRAD",
          "BRCA",
          "COAD",
          "gene"
         ],
         "xaxis": "x2",
         "y": [
          37,
          36,
          31,
          53,
          11
         ],
         "yaxis": "y2"
        },
        {
         "mode": "lines",
         "name": "gene_1995",
         "type": "scatter",
         "x": [
          "KIRC",
          "LUAD",
          "PRAD",
          "BRCA",
          "COAD",
          "gene"
         ],
         "xaxis": "x2",
         "y": [
          19,
          11,
          17,
          62,
          15
         ],
         "yaxis": "y2"
        },
        {
         "mode": "lines",
         "name": "gene_2002",
         "type": "scatter",
         "x": [
          "KIRC",
          "LUAD",
          "PRAD",
          "BRCA",
          "COAD",
          "gene"
         ],
         "xaxis": "x2",
         "y": [
          18,
          12,
          4,
          35,
          3
         ],
         "yaxis": "y2"
        },
        {
         "mode": "lines",
         "name": "gene_2065",
         "type": "scatter",
         "x": [
          "KIRC",
          "LUAD",
          "PRAD",
          "BRCA",
          "COAD",
          "gene"
         ],
         "xaxis": "x2",
         "y": [
          33,
          25,
          20,
          28,
          2
         ],
         "yaxis": "y2"
        },
        {
         "mode": "lines",
         "name": "gene_2069",
         "type": "scatter",
         "x": [
          "KIRC",
          "LUAD",
          "PRAD",
          "BRCA",
          "COAD",
          "gene"
         ],
         "xaxis": "x2",
         "y": [
          16,
          30,
          7,
          63,
          5
         ],
         "yaxis": "y2"
        },
        {
         "mode": "lines",
         "name": "gene_2077",
         "type": "scatter",
         "x": [
          "KIRC",
          "LUAD",
          "PRAD",
          "BRCA",
          "COAD",
          "gene"
         ],
         "xaxis": "x3",
         "y": [
          18,
          16,
          58,
          32,
          null
         ],
         "yaxis": "y3"
        },
        {
         "mode": "lines",
         "name": "gene_2092",
         "type": "scatter",
         "x": [
          "KIRC",
          "LUAD",
          "PRAD",
          "BRCA",
          "COAD",
          "gene"
         ],
         "xaxis": "x3",
         "y": [
          14,
          20,
          35,
          48,
          16
         ],
         "yaxis": "y3"
        },
        {
         "mode": "lines",
         "name": "gene_2100",
         "type": "scatter",
         "x": [
          "KIRC",
          "LUAD",
          "PRAD",
          "BRCA",
          "COAD",
          "gene"
         ],
         "xaxis": "x3",
         "y": [
          3,
          69,
          68,
          12,
          41
         ],
         "yaxis": "y3"
        },
        {
         "mode": "lines",
         "name": "gene_2127",
         "type": "scatter",
         "x": [
          "KIRC",
          "LUAD",
          "PRAD",
          "BRCA",
          "COAD",
          "gene"
         ],
         "xaxis": "x3",
         "y": [
          36,
          15,
          4,
          14,
          2
         ],
         "yaxis": "y3"
        },
        {
         "mode": "lines",
         "name": "gene_2153",
         "type": "scatter",
         "x": [
          "KIRC",
          "LUAD",
          "PRAD",
          "BRCA",
          "COAD",
          "gene"
         ],
         "xaxis": "x3",
         "y": [
          2,
          12,
          8,
          25,
          3
         ],
         "yaxis": "y3"
        },
        {
         "mode": "lines",
         "name": "gene_2180",
         "type": "scatter",
         "x": [
          "KIRC",
          "LUAD",
          "PRAD",
          "BRCA",
          "COAD",
          "gene"
         ],
         "xaxis": "x3",
         "y": [
          11,
          67,
          8,
          20,
          14
         ],
         "yaxis": "y3"
        },
        {
         "mode": "lines",
         "name": "gene_2182",
         "type": "scatter",
         "x": [
          "KIRC",
          "LUAD",
          "PRAD",
          "BRCA",
          "COAD",
          "gene"
         ],
         "xaxis": "x3",
         "y": [
          7,
          3,
          7,
          23,
          8
         ],
         "yaxis": "y3"
        },
        {
         "mode": "lines",
         "name": "gene_2183",
         "type": "scatter",
         "x": [
          "KIRC",
          "LUAD",
          "PRAD",
          "BRCA",
          "COAD",
          "gene"
         ],
         "xaxis": "x3",
         "y": [
          15,
          14,
          4,
          71,
          7
         ],
         "yaxis": "y3"
        },
        {
         "mode": "lines",
         "name": "gene_2204",
         "type": "scatter",
         "x": [
          "KIRC",
          "LUAD",
          "PRAD",
          "BRCA",
          "COAD",
          "gene"
         ],
         "xaxis": "x3",
         "y": [
          24,
          6,
          18,
          18,
          1
         ],
         "yaxis": "y3"
        },
        {
         "mode": "lines",
         "name": "gene_2251",
         "type": "scatter",
         "x": [
          "KIRC",
          "LUAD",
          "PRAD",
          "BRCA",
          "COAD",
          "gene"
         ],
         "xaxis": "x3",
         "y": [
          2,
          2,
          3,
          12,
          null
         ],
         "yaxis": "y3"
        },
        {
         "mode": "lines",
         "name": "gene_2266",
         "type": "scatter",
         "x": [
          "KIRC",
          "LUAD",
          "PRAD",
          "BRCA",
          "COAD",
          "gene"
         ],
         "xaxis": "x3",
         "y": [
          26,
          31,
          53,
          68,
          22
         ],
         "yaxis": "y3"
        },
        {
         "mode": "lines",
         "name": "gene_2292",
         "type": "scatter",
         "x": [
          "KIRC",
          "LUAD",
          "PRAD",
          "BRCA",
          "COAD",
          "gene"
         ],
         "xaxis": "x3",
         "y": [
          13,
          9,
          79,
          8,
          12
         ],
         "yaxis": "y3"
        },
        {
         "mode": "lines",
         "name": "gene_2293",
         "type": "scatter",
         "x": [
          "KIRC",
          "LUAD",
          "PRAD",
          "BRCA",
          "COAD",
          "gene"
         ],
         "xaxis": "x3",
         "y": [
          36,
          10,
          19,
          42,
          8
         ],
         "yaxis": "y3"
        },
        {
         "mode": "lines",
         "name": "gene_2295",
         "type": "scatter",
         "x": [
          "KIRC",
          "LUAD",
          "PRAD",
          "BRCA",
          "COAD",
          "gene"
         ],
         "xaxis": "x3",
         "y": [
          1,
          2,
          null,
          10,
          null
         ],
         "yaxis": "y3"
        },
        {
         "mode": "lines",
         "name": "gene_2296",
         "type": "scatter",
         "x": [
          "KIRC",
          "LUAD",
          "PRAD",
          "BRCA",
          "COAD",
          "gene"
         ],
         "xaxis": "x3",
         "y": [
          11,
          87,
          13,
          70,
          5
         ],
         "yaxis": "y3"
        },
        {
         "mode": "lines",
         "name": "gene_2297",
         "type": "scatter",
         "x": [
          "KIRC",
          "LUAD",
          "PRAD",
          "BRCA",
          "COAD",
          "gene"
         ],
         "xaxis": "x3",
         "y": [
          11,
          25,
          16,
          36,
          8
         ],
         "yaxis": "y3"
        },
        {
         "mode": "lines",
         "name": "gene_2320",
         "type": "scatter",
         "x": [
          "KIRC",
          "LUAD",
          "PRAD",
          "BRCA",
          "COAD",
          "gene"
         ],
         "xaxis": "x3",
         "y": [
          2,
          6,
          1,
          3,
          null
         ],
         "yaxis": "y3"
        },
        {
         "mode": "lines",
         "name": "gene_2322",
         "type": "scatter",
         "x": [
          "KIRC",
          "LUAD",
          "PRAD",
          "BRCA",
          "COAD",
          "gene"
         ],
         "xaxis": "x3",
         "y": [
          3,
          null,
          3,
          1,
          2
         ],
         "yaxis": "y3"
        },
        {
         "mode": "lines",
         "name": "gene_2334",
         "type": "scatter",
         "x": [
          "KIRC",
          "LUAD",
          "PRAD",
          "BRCA",
          "COAD",
          "gene"
         ],
         "xaxis": "x3",
         "y": [
          5,
          1,
          3,
          3,
          null
         ],
         "yaxis": "y3"
        },
        {
         "mode": "lines",
         "name": "gene_2342",
         "type": "scatter",
         "x": [
          "KIRC",
          "LUAD",
          "PRAD",
          "BRCA",
          "COAD",
          "gene"
         ],
         "xaxis": "x3",
         "y": [
          3,
          4,
          3,
          7,
          12
         ],
         "yaxis": "y3"
        },
        {
         "mode": "lines",
         "name": "gene_2359",
         "type": "scatter",
         "x": [
          "KIRC",
          "LUAD",
          "PRAD",
          "BRCA",
          "COAD",
          "gene"
         ],
         "xaxis": "x3",
         "y": [
          6,
          5,
          11,
          13,
          null
         ],
         "yaxis": "y3"
        },
        {
         "mode": "lines",
         "name": "gene_2361",
         "type": "scatter",
         "x": [
          "KIRC",
          "LUAD",
          "PRAD",
          "BRCA",
          "COAD",
          "gene"
         ],
         "xaxis": "x3",
         "y": [
          48,
          52,
          18,
          47,
          34
         ],
         "yaxis": "y3"
        },
        {
         "mode": "lines",
         "name": "gene_2374",
         "type": "scatter",
         "x": [
          "KIRC",
          "LUAD",
          "PRAD",
          "BRCA",
          "COAD",
          "gene"
         ],
         "xaxis": "x3",
         "y": [
          19,
          5,
          5,
          15,
          5
         ],
         "yaxis": "y3"
        },
        {
         "mode": "lines",
         "name": "gene_2380",
         "type": "scatter",
         "x": [
          "KIRC",
          "LUAD",
          "PRAD",
          "BRCA",
          "COAD",
          "gene"
         ],
         "xaxis": "x3",
         "y": [
          5,
          5,
          91,
          6,
          2
         ],
         "yaxis": "y3"
        },
        {
         "mode": "lines",
         "name": "gene_2398",
         "type": "scatter",
         "x": [
          "KIRC",
          "LUAD",
          "PRAD",
          "BRCA",
          "COAD",
          "gene"
         ],
         "xaxis": "x3",
         "y": [
          5,
          1,
          5,
          14,
          null
         ],
         "yaxis": "y3"
        },
        {
         "mode": "lines",
         "name": "gene_2412",
         "type": "scatter",
         "x": [
          "KIRC",
          "LUAD",
          "PRAD",
          "BRCA",
          "COAD",
          "gene"
         ],
         "xaxis": "x3",
         "y": [
          6,
          33,
          4,
          45,
          1
         ],
         "yaxis": "y3"
        },
        {
         "mode": "lines",
         "name": "gene_2414",
         "type": "scatter",
         "x": [
          "KIRC",
          "LUAD",
          "PRAD",
          "BRCA",
          "COAD",
          "gene"
         ],
         "xaxis": "x3",
         "y": [
          25,
          1,
          11,
          15,
          3
         ],
         "yaxis": "y3"
        },
        {
         "mode": "lines",
         "name": "gene_2418",
         "type": "scatter",
         "x": [
          "KIRC",
          "LUAD",
          "PRAD",
          "BRCA",
          "COAD",
          "gene"
         ],
         "xaxis": "x3",
         "y": [
          28,
          30,
          30,
          62,
          13
         ],
         "yaxis": "y3"
        },
        {
         "mode": "lines",
         "name": "gene_2437",
         "type": "scatter",
         "x": [
          "KIRC",
          "LUAD",
          "PRAD",
          "BRCA",
          "COAD",
          "gene"
         ],
         "xaxis": "x3",
         "y": [
          38,
          16,
          12,
          52,
          14
         ],
         "yaxis": "y3"
        },
        {
         "mode": "lines",
         "name": "gene_2440",
         "type": "scatter",
         "x": [
          "KIRC",
          "LUAD",
          "PRAD",
          "BRCA",
          "COAD",
          "gene"
         ],
         "xaxis": "x3",
         "y": [
          18,
          35,
          37,
          21,
          7
         ],
         "yaxis": "y3"
        },
        {
         "mode": "lines",
         "name": "gene_2443",
         "type": "scatter",
         "x": [
          "KIRC",
          "LUAD",
          "PRAD",
          "BRCA",
          "COAD",
          "gene"
         ],
         "xaxis": "x3",
         "y": [
          15,
          29,
          6,
          13,
          9
         ],
         "yaxis": "y3"
        },
        {
         "mode": "lines",
         "name": "gene_2451",
         "type": "scatter",
         "x": [
          "KIRC",
          "LUAD",
          "PRAD",
          "BRCA",
          "COAD",
          "gene"
         ],
         "xaxis": "x3",
         "y": [
          29,
          7,
          4,
          5,
          36
         ],
         "yaxis": "y3"
        },
        {
         "mode": "lines",
         "name": "gene_2462",
         "type": "scatter",
         "x": [
          "KIRC",
          "LUAD",
          "PRAD",
          "BRCA",
          "COAD",
          "gene"
         ],
         "xaxis": "x3",
         "y": [
          30,
          12,
          22,
          28,
          4
         ],
         "yaxis": "y3"
        },
        {
         "mode": "lines",
         "name": "gene_2466",
         "type": "scatter",
         "x": [
          "KIRC",
          "LUAD",
          "PRAD",
          "BRCA",
          "COAD",
          "gene"
         ],
         "xaxis": "x3",
         "y": [
          36,
          32,
          49,
          52,
          2
         ],
         "yaxis": "y3"
        },
        {
         "mode": "lines",
         "name": "gene_2484",
         "type": "scatter",
         "x": [
          "KIRC",
          "LUAD",
          "PRAD",
          "BRCA",
          "COAD",
          "gene"
         ],
         "xaxis": "x3",
         "y": [
          21,
          32,
          21,
          25,
          11
         ],
         "yaxis": "y3"
        },
        {
         "mode": "lines",
         "name": "gene_2502",
         "type": "scatter",
         "x": [
          "KIRC",
          "LUAD",
          "PRAD",
          "BRCA",
          "COAD",
          "gene"
         ],
         "xaxis": "x3",
         "y": [
          30,
          12,
          13,
          7,
          null
         ],
         "yaxis": "y3"
        },
        {
         "mode": "lines",
         "name": "gene_2503",
         "type": "scatter",
         "x": [
          "KIRC",
          "LUAD",
          "PRAD",
          "BRCA",
          "COAD",
          "gene"
         ],
         "xaxis": "x3",
         "y": [
          12,
          13,
          5,
          15,
          1
         ],
         "yaxis": "y3"
        },
        {
         "mode": "lines",
         "name": "gene_2509",
         "type": "scatter",
         "x": [
          "KIRC",
          "LUAD",
          "PRAD",
          "BRCA",
          "COAD",
          "gene"
         ],
         "xaxis": "x3",
         "y": [
          4,
          1,
          6,
          4,
          1
         ],
         "yaxis": "y3"
        },
        {
         "mode": "lines",
         "name": "gene_2512",
         "type": "scatter",
         "x": [
          "KIRC",
          "LUAD",
          "PRAD",
          "BRCA",
          "COAD",
          "gene"
         ],
         "xaxis": "x3",
         "y": [
          12,
          18,
          2,
          14,
          null
         ],
         "yaxis": "y3"
        },
        {
         "mode": "lines",
         "name": "gene_2524",
         "type": "scatter",
         "x": [
          "KIRC",
          "LUAD",
          "PRAD",
          "BRCA",
          "COAD",
          "gene"
         ],
         "xaxis": "x3",
         "y": [
          9,
          2,
          50,
          14,
          5
         ],
         "yaxis": "y3"
        },
        {
         "mode": "lines",
         "name": "gene_2530",
         "type": "scatter",
         "x": [
          "KIRC",
          "LUAD",
          "PRAD",
          "BRCA",
          "COAD",
          "gene"
         ],
         "xaxis": "x3",
         "y": [
          26,
          6,
          8,
          57,
          18
         ],
         "yaxis": "y3"
        },
        {
         "mode": "lines",
         "name": "gene_2535",
         "type": "scatter",
         "x": [
          "KIRC",
          "LUAD",
          "PRAD",
          "BRCA",
          "COAD",
          "gene"
         ],
         "xaxis": "x3",
         "y": [
          36,
          15,
          14,
          32,
          5
         ],
         "yaxis": "y3"
        },
        {
         "mode": "lines",
         "name": "gene_2541",
         "type": "scatter",
         "x": [
          "KIRC",
          "LUAD",
          "PRAD",
          "BRCA",
          "COAD",
          "gene"
         ],
         "xaxis": "x3",
         "y": [
          35,
          18,
          13,
          39,
          null
         ],
         "yaxis": "y3"
        },
        {
         "mode": "lines",
         "name": "gene_2571",
         "type": "scatter",
         "x": [
          "KIRC",
          "LUAD",
          "PRAD",
          "BRCA",
          "COAD",
          "gene"
         ],
         "xaxis": "x3",
         "y": [
          9,
          5,
          4,
          13,
          45
         ],
         "yaxis": "y3"
        },
        {
         "mode": "lines",
         "name": "gene_2575",
         "type": "scatter",
         "x": [
          "KIRC",
          "LUAD",
          "PRAD",
          "BRCA",
          "COAD",
          "gene"
         ],
         "xaxis": "x3",
         "y": [
          9,
          11,
          40,
          20,
          72
         ],
         "yaxis": "y3"
        },
        {
         "mode": "lines",
         "name": "gene_2588",
         "type": "scatter",
         "x": [
          "KIRC",
          "LUAD",
          "PRAD",
          "BRCA",
          "COAD",
          "gene"
         ],
         "xaxis": "x3",
         "y": [
          31,
          16,
          40,
          41,
          1
         ],
         "yaxis": "y3"
        },
        {
         "mode": "lines",
         "name": "gene_2608",
         "type": "scatter",
         "x": [
          "KIRC",
          "LUAD",
          "PRAD",
          "BRCA",
          "COAD",
          "gene"
         ],
         "xaxis": "x3",
         "y": [
          62,
          10,
          10,
          26,
          9
         ],
         "yaxis": "y3"
        },
        {
         "mode": "lines",
         "name": "gene_2637",
         "type": "scatter",
         "x": [
          "KIRC",
          "LUAD",
          "PRAD",
          "BRCA",
          "COAD",
          "gene"
         ],
         "xaxis": "x3",
         "y": [
          33,
          12,
          27,
          48,
          2
         ],
         "yaxis": "y3"
        },
        {
         "mode": "lines",
         "name": "gene_2676",
         "type": "scatter",
         "x": [
          "KIRC",
          "LUAD",
          "PRAD",
          "BRCA",
          "COAD",
          "gene"
         ],
         "xaxis": "x3",
         "y": [
          49,
          23,
          4,
          61,
          13
         ],
         "yaxis": "y3"
        },
        {
         "mode": "lines",
         "name": "gene_2703",
         "type": "scatter",
         "x": [
          "KIRC",
          "LUAD",
          "PRAD",
          "BRCA",
          "COAD",
          "gene"
         ],
         "xaxis": "x3",
         "y": [
          5,
          4,
          8,
          5,
          2
         ],
         "yaxis": "y3"
        },
        {
         "mode": "lines",
         "name": "gene_2708",
         "type": "scatter",
         "x": [
          "KIRC",
          "LUAD",
          "PRAD",
          "BRCA",
          "COAD",
          "gene"
         ],
         "xaxis": "x3",
         "y": [
          6,
          9,
          7,
          11,
          1
         ],
         "yaxis": "y3"
        },
        {
         "mode": "lines",
         "name": "gene_2710",
         "type": "scatter",
         "x": [
          "KIRC",
          "LUAD",
          "PRAD",
          "BRCA",
          "COAD",
          "gene"
         ],
         "xaxis": "x3",
         "y": [
          38,
          96,
          17,
          21,
          9
         ],
         "yaxis": "y3"
        },
        {
         "mode": "lines",
         "name": "gene_2714",
         "type": "scatter",
         "x": [
          "KIRC",
          "LUAD",
          "PRAD",
          "BRCA",
          "COAD",
          "gene"
         ],
         "xaxis": "x4",
         "y": [
          26,
          49,
          33,
          36,
          3
         ],
         "yaxis": "y4"
        },
        {
         "mode": "lines",
         "name": "gene_2737",
         "type": "scatter",
         "x": [
          "KIRC",
          "LUAD",
          "PRAD",
          "BRCA",
          "COAD",
          "gene"
         ],
         "xaxis": "x4",
         "y": [
          8,
          5,
          3,
          10,
          1
         ],
         "yaxis": "y4"
        },
        {
         "mode": "lines",
         "name": "gene_2739",
         "type": "scatter",
         "x": [
          "KIRC",
          "LUAD",
          "PRAD",
          "BRCA",
          "COAD",
          "gene"
         ],
         "xaxis": "x4",
         "y": [
          1,
          15,
          1,
          8,
          22
         ],
         "yaxis": "y4"
        },
        {
         "mode": "lines",
         "name": "gene_2772",
         "type": "scatter",
         "x": [
          "KIRC",
          "LUAD",
          "PRAD",
          "BRCA",
          "COAD",
          "gene"
         ],
         "xaxis": "x4",
         "y": [
          74,
          24,
          30,
          64,
          6
         ],
         "yaxis": "y4"
        },
        {
         "mode": "lines",
         "name": "gene_2789",
         "type": "scatter",
         "x": [
          "KIRC",
          "LUAD",
          "PRAD",
          "BRCA",
          "COAD",
          "gene"
         ],
         "xaxis": "x4",
         "y": [
          null,
          2,
          null,
          6,
          null
         ],
         "yaxis": "y4"
        },
        {
         "mode": "lines",
         "name": "gene_2803",
         "type": "scatter",
         "x": [
          "KIRC",
          "LUAD",
          "PRAD",
          "BRCA",
          "COAD",
          "gene"
         ],
         "xaxis": "x4",
         "y": [
          40,
          21,
          16,
          15,
          42
         ],
         "yaxis": "y4"
        },
        {
         "mode": "lines",
         "name": "gene_2838",
         "type": "scatter",
         "x": [
          "KIRC",
          "LUAD",
          "PRAD",
          "BRCA",
          "COAD",
          "gene"
         ],
         "xaxis": "x4",
         "y": [
          25,
          58,
          7,
          43,
          9
         ],
         "yaxis": "y4"
        },
        {
         "mode": "lines",
         "name": "gene_2852",
         "type": "scatter",
         "x": [
          "KIRC",
          "LUAD",
          "PRAD",
          "BRCA",
          "COAD",
          "gene"
         ],
         "xaxis": "x4",
         "y": [
          2,
          2,
          1,
          2,
          1
         ],
         "yaxis": "y4"
        },
        {
         "mode": "lines",
         "name": "gene_2854",
         "type": "scatter",
         "x": [
          "KIRC",
          "LUAD",
          "PRAD",
          "BRCA",
          "COAD",
          "gene"
         ],
         "xaxis": "x4",
         "y": [
          36,
          11,
          13,
          15,
          2
         ],
         "yaxis": "y4"
        },
        {
         "mode": "lines",
         "name": "gene_2877",
         "type": "scatter",
         "x": [
          "KIRC",
          "LUAD",
          "PRAD",
          "BRCA",
          "COAD",
          "gene"
         ],
         "xaxis": "x4",
         "y": [
          30,
          14,
          16,
          22,
          5
         ],
         "yaxis": "y4"
        },
        {
         "mode": "lines",
         "name": "gene_2878",
         "type": "scatter",
         "x": [
          "KIRC",
          "LUAD",
          "PRAD",
          "BRCA",
          "COAD",
          "gene"
         ],
         "xaxis": "x4",
         "y": [
          30,
          39,
          18,
          44,
          7
         ],
         "yaxis": "y4"
        },
        {
         "mode": "lines",
         "name": "gene_2880",
         "type": "scatter",
         "x": [
          "KIRC",
          "LUAD",
          "PRAD",
          "BRCA",
          "COAD",
          "gene"
         ],
         "xaxis": "x4",
         "y": [
          78,
          33,
          12,
          35,
          3
         ],
         "yaxis": "y4"
        },
        {
         "mode": "lines",
         "name": "gene_2882",
         "type": "scatter",
         "x": [
          "KIRC",
          "LUAD",
          "PRAD",
          "BRCA",
          "COAD",
          "gene"
         ],
         "xaxis": "x4",
         "y": [
          36,
          36,
          24,
          63,
          33
         ],
         "yaxis": "y4"
        },
        {
         "mode": "lines",
         "name": "gene_2972",
         "type": "scatter",
         "x": [
          "KIRC",
          "LUAD",
          "PRAD",
          "BRCA",
          "COAD",
          "gene"
         ],
         "xaxis": "x4",
         "y": [
          2,
          21,
          10,
          39,
          2
         ],
         "yaxis": "y4"
        },
        {
         "mode": "lines",
         "name": "gene_3015",
         "type": "scatter",
         "x": [
          "KIRC",
          "LUAD",
          "PRAD",
          "BRCA",
          "COAD",
          "gene"
         ],
         "xaxis": "x4",
         "y": [
          6,
          31,
          22,
          55,
          11
         ],
         "yaxis": "y4"
        },
        {
         "mode": "lines",
         "name": "gene_3066",
         "type": "scatter",
         "x": [
          "KIRC",
          "LUAD",
          "PRAD",
          "BRCA",
          "COAD",
          "gene"
         ],
         "xaxis": "x4",
         "y": [
          15,
          1,
          6,
          7,
          null
         ],
         "yaxis": "y4"
        },
        {
         "mode": "lines",
         "name": "gene_3099",
         "type": "scatter",
         "x": [
          "KIRC",
          "LUAD",
          "PRAD",
          "BRCA",
          "COAD",
          "gene"
         ],
         "xaxis": "x4",
         "y": [
          5,
          3,
          6,
          109,
          5
         ],
         "yaxis": "y4"
        },
        {
         "mode": "lines",
         "name": "gene_3139",
         "type": "scatter",
         "x": [
          "KIRC",
          "LUAD",
          "PRAD",
          "BRCA",
          "COAD",
          "gene"
         ],
         "xaxis": "x4",
         "y": [
          70,
          21,
          22,
          52,
          10
         ],
         "yaxis": "y4"
        },
        {
         "mode": "lines",
         "name": "gene_3164",
         "type": "scatter",
         "x": [
          "KIRC",
          "LUAD",
          "PRAD",
          "BRCA",
          "COAD",
          "gene"
         ],
         "xaxis": "x4",
         "y": [
          9,
          30,
          13,
          39,
          5
         ],
         "yaxis": "y4"
        },
        {
         "mode": "lines",
         "name": "gene_3173",
         "type": "scatter",
         "x": [
          "KIRC",
          "LUAD",
          "PRAD",
          "BRCA",
          "COAD",
          "gene"
         ],
         "xaxis": "x4",
         "y": [
          14,
          6,
          3,
          39,
          12
         ],
         "yaxis": "y4"
        },
        {
         "mode": "lines",
         "name": "gene_3296",
         "type": "scatter",
         "x": [
          "KIRC",
          "LUAD",
          "PRAD",
          "BRCA",
          "COAD",
          "gene"
         ],
         "xaxis": "x4",
         "y": [
          20,
          21,
          27,
          61,
          1
         ],
         "yaxis": "y4"
        },
        {
         "mode": "lines",
         "name": "gene_3315",
         "type": "scatter",
         "x": [
          "KIRC",
          "LUAD",
          "PRAD",
          "BRCA",
          "COAD",
          "gene"
         ],
         "xaxis": "x4",
         "y": [
          63,
          47,
          12,
          66,
          12
         ],
         "yaxis": "y4"
        },
        {
         "mode": "lines",
         "name": "gene_3337",
         "type": "scatter",
         "x": [
          "KIRC",
          "LUAD",
          "PRAD",
          "BRCA",
          "COAD",
          "gene"
         ],
         "xaxis": "x4",
         "y": [
          7,
          6,
          5,
          17,
          26
         ],
         "yaxis": "y4"
        },
        {
         "mode": "lines",
         "name": "gene_3456",
         "type": "scatter",
         "x": [
          "KIRC",
          "LUAD",
          "PRAD",
          "BRCA",
          "COAD",
          "gene"
         ],
         "xaxis": "x4",
         "y": [
          111,
          15,
          15,
          12,
          8
         ],
         "yaxis": "y4"
        },
        {
         "mode": "lines",
         "name": "gene_3515",
         "type": "scatter",
         "x": [
          "KIRC",
          "LUAD",
          "PRAD",
          "BRCA",
          "COAD",
          "gene"
         ],
         "xaxis": "x4",
         "y": [
          14,
          18,
          16,
          48,
          12
         ],
         "yaxis": "y4"
        },
        {
         "mode": "lines",
         "name": "gene_3525",
         "type": "scatter",
         "x": [
          "KIRC",
          "LUAD",
          "PRAD",
          "BRCA",
          "COAD",
          "gene"
         ],
         "xaxis": "x4",
         "y": [
          2,
          null,
          2,
          6,
          null
         ],
         "yaxis": "y4"
        },
        {
         "mode": "lines",
         "name": "gene_3526",
         "type": "scatter",
         "x": [
          "KIRC",
          "LUAD",
          "PRAD",
          "BRCA",
          "COAD",
          "gene"
         ],
         "xaxis": "x4",
         "y": [
          2,
          null,
          28,
          null,
          null
         ],
         "yaxis": "y4"
        },
        {
         "mode": "lines",
         "name": "gene_3527",
         "type": "scatter",
         "x": [
          "KIRC",
          "LUAD",
          "PRAD",
          "BRCA",
          "COAD",
          "gene"
         ],
         "xaxis": "x4",
         "y": [
          null,
          null,
          1,
          null,
          null
         ],
         "yaxis": "y4"
        },
        {
         "mode": "lines",
         "name": "gene_3528",
         "type": "scatter",
         "x": [
          "KIRC",
          "LUAD",
          "PRAD",
          "BRCA",
          "COAD",
          "gene"
         ],
         "xaxis": "x4",
         "y": [
          9,
          4,
          65,
          1,
          null
         ],
         "yaxis": "y4"
        },
        {
         "mode": "lines",
         "name": "gene_3532",
         "type": "scatter",
         "x": [
          "KIRC",
          "LUAD",
          "PRAD",
          "BRCA",
          "COAD",
          "gene"
         ],
         "xaxis": "x4",
         "y": [
          3,
          4,
          null,
          null,
          50
         ],
         "yaxis": "y4"
        },
        {
         "mode": "lines",
         "name": "gene_3557",
         "type": "scatter",
         "x": [
          "KIRC",
          "LUAD",
          "PRAD",
          "BRCA",
          "COAD",
          "gene"
         ],
         "xaxis": "x4",
         "y": [
          15,
          15,
          6,
          6,
          1
         ],
         "yaxis": "y4"
        },
        {
         "mode": "lines",
         "name": "gene_3558",
         "type": "scatter",
         "x": [
          "KIRC",
          "LUAD",
          "PRAD",
          "BRCA",
          "COAD",
          "gene"
         ],
         "xaxis": "x4",
         "y": [
          10,
          26,
          9,
          13,
          3
         ],
         "yaxis": "y4"
        },
        {
         "mode": "lines",
         "name": "gene_3559",
         "type": "scatter",
         "x": [
          "KIRC",
          "LUAD",
          "PRAD",
          "BRCA",
          "COAD",
          "gene"
         ],
         "xaxis": "x4",
         "y": [
          1,
          11,
          19,
          1,
          25
         ],
         "yaxis": "y4"
        },
        {
         "mode": "lines",
         "name": "gene_3560",
         "type": "scatter",
         "x": [
          "KIRC",
          "LUAD",
          "PRAD",
          "BRCA",
          "COAD",
          "gene"
         ],
         "xaxis": "x4",
         "y": [
          12,
          18,
          49,
          23,
          31
         ],
         "yaxis": "y4"
        },
        {
         "mode": "lines",
         "name": "gene_3567",
         "type": "scatter",
         "x": [
          "KIRC",
          "LUAD",
          "PRAD",
          "BRCA",
          "COAD",
          "gene"
         ],
         "xaxis": "x4",
         "y": [
          13,
          26,
          23,
          53,
          69
         ],
         "yaxis": "y4"
        },
        {
         "mode": "lines",
         "name": "gene_3624",
         "type": "scatter",
         "x": [
          "KIRC",
          "LUAD",
          "PRAD",
          "BRCA",
          "COAD",
          "gene"
         ],
         "xaxis": "x4",
         "y": [
          1,
          null,
          10,
          8,
          2
         ],
         "yaxis": "y4"
        },
        {
         "mode": "lines",
         "name": "gene_3634",
         "type": "scatter",
         "x": [
          "KIRC",
          "LUAD",
          "PRAD",
          "BRCA",
          "COAD",
          "gene"
         ],
         "xaxis": "x4",
         "y": [
          18,
          13,
          8,
          11,
          1
         ],
         "yaxis": "y4"
        },
        {
         "mode": "lines",
         "name": "gene_3636",
         "type": "scatter",
         "x": [
          "KIRC",
          "LUAD",
          "PRAD",
          "BRCA",
          "COAD",
          "gene"
         ],
         "xaxis": "x4",
         "y": [
          32,
          44,
          11,
          40,
          9
         ],
         "yaxis": "y4"
        },
        {
         "mode": "lines",
         "name": "gene_3637",
         "type": "scatter",
         "x": [
          "KIRC",
          "LUAD",
          "PRAD",
          "BRCA",
          "COAD",
          "gene"
         ],
         "xaxis": "x4",
         "y": [
          19,
          42,
          30,
          89,
          4
         ],
         "yaxis": "y4"
        },
        {
         "mode": "lines",
         "name": "gene_3648",
         "type": "scatter",
         "x": [
          "KIRC",
          "LUAD",
          "PRAD",
          "BRCA",
          "COAD",
          "gene"
         ],
         "xaxis": "x4",
         "y": [
          7,
          22,
          6,
          10,
          5
         ],
         "yaxis": "y4"
        },
        {
         "mode": "lines",
         "name": "gene_3652",
         "type": "scatter",
         "x": [
          "KIRC",
          "LUAD",
          "PRAD",
          "BRCA",
          "COAD",
          "gene"
         ],
         "xaxis": "x4",
         "y": [
          12,
          44,
          26,
          45,
          20
         ],
         "yaxis": "y4"
        },
        {
         "mode": "lines",
         "name": "gene_3666",
         "type": "scatter",
         "x": [
          "KIRC",
          "LUAD",
          "PRAD",
          "BRCA",
          "COAD",
          "gene"
         ],
         "xaxis": "x4",
         "y": [
          29,
          31,
          36,
          12,
          16
         ],
         "yaxis": "y4"
        },
        {
         "mode": "lines",
         "name": "gene_3746",
         "type": "scatter",
         "x": [
          "KIRC",
          "LUAD",
          "PRAD",
          "BRCA",
          "COAD",
          "gene"
         ],
         "xaxis": "x4",
         "y": [
          10,
          41,
          3,
          32,
          17
         ],
         "yaxis": "y4"
        },
        {
         "mode": "lines",
         "name": "gene_3748",
         "type": "scatter",
         "x": [
          "KIRC",
          "LUAD",
          "PRAD",
          "BRCA",
          "COAD",
          "gene"
         ],
         "xaxis": "x4",
         "y": [
          63,
          24,
          19,
          23,
          11
         ],
         "yaxis": "y4"
        },
        {
         "mode": "lines",
         "name": "gene_3813",
         "type": "scatter",
         "x": [
          "KIRC",
          "LUAD",
          "PRAD",
          "BRCA",
          "COAD",
          "gene"
         ],
         "xaxis": "x4",
         "y": [
          8,
          36,
          26,
          23,
          75
         ],
         "yaxis": "y4"
        },
        {
         "mode": "lines",
         "name": "gene_3835",
         "type": "scatter",
         "x": [
          "KIRC",
          "LUAD",
          "PRAD",
          "BRCA",
          "COAD",
          "gene"
         ],
         "xaxis": "x4",
         "y": [
          4,
          6,
          12,
          4,
          null
         ],
         "yaxis": "y4"
        },
        {
         "mode": "lines",
         "name": "gene_3840",
         "type": "scatter",
         "x": [
          "KIRC",
          "LUAD",
          "PRAD",
          "BRCA",
          "COAD",
          "gene"
         ],
         "xaxis": "x4",
         "y": [
          1,
          1,
          4,
          9,
          1
         ],
         "yaxis": "y4"
        },
        {
         "mode": "lines",
         "name": "gene_3864",
         "type": "scatter",
         "x": [
          "KIRC",
          "LUAD",
          "PRAD",
          "BRCA",
          "COAD",
          "gene"
         ],
         "xaxis": "x4",
         "y": [
          35,
          24,
          5,
          54,
          1
         ],
         "yaxis": "y4"
        },
        {
         "mode": "lines",
         "name": "gene_3865",
         "type": "scatter",
         "x": [
          "KIRC",
          "LUAD",
          "PRAD",
          "BRCA",
          "COAD",
          "gene"
         ],
         "xaxis": "x4",
         "y": [
          8,
          28,
          5,
          50,
          9
         ],
         "yaxis": "y4"
        },
        {
         "mode": "lines",
         "name": "gene_3919",
         "type": "scatter",
         "x": [
          "KIRC",
          "LUAD",
          "PRAD",
          "BRCA",
          "COAD",
          "gene"
         ],
         "xaxis": "x4",
         "y": [
          24,
          6,
          12,
          101,
          6
         ],
         "yaxis": "y4"
        },
        {
         "mode": "lines",
         "name": "gene_3920",
         "type": "scatter",
         "x": [
          "KIRC",
          "LUAD",
          "PRAD",
          "BRCA",
          "COAD",
          "gene"
         ],
         "xaxis": "x4",
         "y": [
          19,
          5,
          5,
          11,
          2
         ],
         "yaxis": "y4"
        },
        {
         "mode": "lines",
         "name": "gene_3955",
         "type": "scatter",
         "x": [
          "KIRC",
          "LUAD",
          "PRAD",
          "BRCA",
          "COAD",
          "gene"
         ],
         "xaxis": "x4",
         "y": [
          6,
          13,
          4,
          26,
          2
         ],
         "yaxis": "y4"
        },
        {
         "mode": "lines",
         "name": "gene_3961",
         "type": "scatter",
         "x": [
          "KIRC",
          "LUAD",
          "PRAD",
          "BRCA",
          "COAD",
          "gene"
         ],
         "xaxis": "x5",
         "y": [
          12,
          6,
          7,
          124,
          null
         ],
         "yaxis": "y5"
        },
        {
         "mode": "lines",
         "name": "gene_4147",
         "type": "scatter",
         "x": [
          "KIRC",
          "LUAD",
          "PRAD",
          "BRCA",
          "COAD",
          "gene"
         ],
         "xaxis": "x5",
         "y": [
          4,
          33,
          17,
          32,
          7
         ],
         "yaxis": "y5"
        },
        {
         "mode": "lines",
         "name": "gene_4173",
         "type": "scatter",
         "x": [
          "KIRC",
          "LUAD",
          "PRAD",
          "BRCA",
          "COAD",
          "gene"
         ],
         "xaxis": "x5",
         "y": [
          77,
          35,
          18,
          11,
          51
         ],
         "yaxis": "y5"
        },
        {
         "mode": "lines",
         "name": "gene_4201",
         "type": "scatter",
         "x": [
          "KIRC",
          "LUAD",
          "PRAD",
          "BRCA",
          "COAD",
          "gene"
         ],
         "xaxis": "x5",
         "y": [
          10,
          50,
          7,
          9,
          10
         ],
         "yaxis": "y5"
        },
        {
         "mode": "lines",
         "name": "gene_4219",
         "type": "scatter",
         "x": [
          "KIRC",
          "LUAD",
          "PRAD",
          "BRCA",
          "COAD",
          "gene"
         ],
         "xaxis": "x5",
         "y": [
          7,
          27,
          10,
          38,
          15
         ],
         "yaxis": "y5"
        },
        {
         "mode": "lines",
         "name": "gene_4238",
         "type": "scatter",
         "x": [
          "KIRC",
          "LUAD",
          "PRAD",
          "BRCA",
          "COAD",
          "gene"
         ],
         "xaxis": "x5",
         "y": [
          37,
          51,
          10,
          44,
          1
         ],
         "yaxis": "y5"
        },
        {
         "mode": "lines",
         "name": "gene_4245",
         "type": "scatter",
         "x": [
          "KIRC",
          "LUAD",
          "PRAD",
          "BRCA",
          "COAD",
          "gene"
         ],
         "xaxis": "x5",
         "y": [
          11,
          5,
          47,
          105,
          null
         ],
         "yaxis": "y5"
        },
        {
         "mode": "lines",
         "name": "gene_4258",
         "type": "scatter",
         "x": [
          "KIRC",
          "LUAD",
          "PRAD",
          "BRCA",
          "COAD",
          "gene"
         ],
         "xaxis": "x5",
         "y": [
          74,
          27,
          28,
          48,
          1
         ],
         "yaxis": "y5"
        },
        {
         "mode": "lines",
         "name": "gene_4270",
         "type": "scatter",
         "x": [
          "KIRC",
          "LUAD",
          "PRAD",
          "BRCA",
          "COAD",
          "gene"
         ],
         "xaxis": "x5",
         "y": [
          56,
          15,
          19,
          42,
          3
         ],
         "yaxis": "y5"
        },
        {
         "mode": "lines",
         "name": "gene_4275",
         "type": "scatter",
         "x": [
          "KIRC",
          "LUAD",
          "PRAD",
          "BRCA",
          "COAD",
          "gene"
         ],
         "xaxis": "x5",
         "y": [
          46,
          25,
          17,
          76,
          17
         ],
         "yaxis": "y5"
        },
        {
         "mode": "lines",
         "name": "gene_4282",
         "type": "scatter",
         "x": [
          "KIRC",
          "LUAD",
          "PRAD",
          "BRCA",
          "COAD",
          "gene"
         ],
         "xaxis": "x5",
         "y": [
          3,
          null,
          3,
          5,
          2
         ],
         "yaxis": "y5"
        },
        {
         "mode": "lines",
         "name": "gene_4283",
         "type": "scatter",
         "x": [
          "KIRC",
          "LUAD",
          "PRAD",
          "BRCA",
          "COAD",
          "gene"
         ],
         "xaxis": "x5",
         "y": [
          3,
          6,
          4,
          2,
          3
         ],
         "yaxis": "y5"
        },
        {
         "mode": "lines",
         "name": "gene_4284",
         "type": "scatter",
         "x": [
          "KIRC",
          "LUAD",
          "PRAD",
          "BRCA",
          "COAD",
          "gene"
         ],
         "xaxis": "x5",
         "y": [
          4,
          5,
          5,
          6,
          8
         ],
         "yaxis": "y5"
        },
        {
         "mode": "lines",
         "name": "gene_4285",
         "type": "scatter",
         "x": [
          "KIRC",
          "LUAD",
          "PRAD",
          "BRCA",
          "COAD",
          "gene"
         ],
         "xaxis": "x5",
         "y": [
          7,
          7,
          46,
          11,
          1
         ],
         "yaxis": "y5"
        },
        {
         "mode": "lines",
         "name": "gene_4294",
         "type": "scatter",
         "x": [
          "KIRC",
          "LUAD",
          "PRAD",
          "BRCA",
          "COAD",
          "gene"
         ],
         "xaxis": "x5",
         "y": [
          10,
          33,
          21,
          53,
          8
         ],
         "yaxis": "y5"
        },
        {
         "mode": "lines",
         "name": "gene_4310",
         "type": "scatter",
         "x": [
          "KIRC",
          "LUAD",
          "PRAD",
          "BRCA",
          "COAD",
          "gene"
         ],
         "xaxis": "x5",
         "y": [
          2,
          6,
          1,
          5,
          1
         ],
         "yaxis": "y5"
        },
        {
         "mode": "lines",
         "name": "gene_4311",
         "type": "scatter",
         "x": [
          "KIRC",
          "LUAD",
          "PRAD",
          "BRCA",
          "COAD",
          "gene"
         ],
         "xaxis": "x5",
         "y": [
          5,
          17,
          4,
          27,
          3
         ],
         "yaxis": "y5"
        },
        {
         "mode": "lines",
         "name": "gene_4312",
         "type": "scatter",
         "x": [
          "KIRC",
          "LUAD",
          "PRAD",
          "BRCA",
          "COAD",
          "gene"
         ],
         "xaxis": "x5",
         "y": [
          6,
          1,
          null,
          6,
          2
         ],
         "yaxis": "y5"
        },
        {
         "mode": "lines",
         "name": "gene_4317",
         "type": "scatter",
         "x": [
          "KIRC",
          "LUAD",
          "PRAD",
          "BRCA",
          "COAD",
          "gene"
         ],
         "xaxis": "x5",
         "y": [
          9,
          8,
          3,
          93,
          16
         ],
         "yaxis": "y5"
        },
        {
         "mode": "lines",
         "name": "gene_4318",
         "type": "scatter",
         "x": [
          "KIRC",
          "LUAD",
          "PRAD",
          "BRCA",
          "COAD",
          "gene"
         ],
         "xaxis": "x5",
         "y": [
          null,
          null,
          1,
          3,
          null
         ],
         "yaxis": "y5"
        },
        {
         "mode": "lines",
         "name": "gene_4319",
         "type": "scatter",
         "x": [
          "KIRC",
          "LUAD",
          "PRAD",
          "BRCA",
          "COAD",
          "gene"
         ],
         "xaxis": "x5",
         "y": [
          5,
          17,
          6,
          42,
          11
         ],
         "yaxis": "y5"
        },
        {
         "mode": "lines",
         "name": "gene_4320",
         "type": "scatter",
         "x": [
          "KIRC",
          "LUAD",
          "PRAD",
          "BRCA",
          "COAD",
          "gene"
         ],
         "xaxis": "x5",
         "y": [
          16,
          7,
          null,
          89,
          4
         ],
         "yaxis": "y5"
        },
        {
         "mode": "lines",
         "name": "gene_4333",
         "type": "scatter",
         "x": [
          "KIRC",
          "LUAD",
          "PRAD",
          "BRCA",
          "COAD",
          "gene"
         ],
         "xaxis": "x5",
         "y": [
          1,
          2,
          1,
          null,
          null
         ],
         "yaxis": "y5"
        },
        {
         "mode": "lines",
         "name": "gene_4343",
         "type": "scatter",
         "x": [
          "KIRC",
          "LUAD",
          "PRAD",
          "BRCA",
          "COAD",
          "gene"
         ],
         "xaxis": "x5",
         "y": [
          22,
          32,
          27,
          35,
          8
         ],
         "yaxis": "y5"
        },
        {
         "mode": "lines",
         "name": "gene_4344",
         "type": "scatter",
         "x": [
          "KIRC",
          "LUAD",
          "PRAD",
          "BRCA",
          "COAD",
          "gene"
         ],
         "xaxis": "x5",
         "y": [
          2,
          18,
          6,
          61,
          2
         ],
         "yaxis": "y5"
        },
        {
         "mode": "lines",
         "name": "gene_4352",
         "type": "scatter",
         "x": [
          "KIRC",
          "LUAD",
          "PRAD",
          "BRCA",
          "COAD",
          "gene"
         ],
         "xaxis": "x5",
         "y": [
          3,
          1,
          null,
          9,
          1
         ],
         "yaxis": "y5"
        },
        {
         "mode": "lines",
         "name": "gene_4353",
         "type": "scatter",
         "x": [
          "KIRC",
          "LUAD",
          "PRAD",
          "BRCA",
          "COAD",
          "gene"
         ],
         "xaxis": "x5",
         "y": [
          8,
          2,
          8,
          146,
          null
         ],
         "yaxis": "y5"
        },
        {
         "mode": "lines",
         "name": "gene_4362",
         "type": "scatter",
         "x": [
          "KIRC",
          "LUAD",
          "PRAD",
          "BRCA",
          "COAD",
          "gene"
         ],
         "xaxis": "x5",
         "y": [
          1,
          1,
          2,
          34,
          1
         ],
         "yaxis": "y5"
        },
        {
         "mode": "lines",
         "name": "gene_4365",
         "type": "scatter",
         "x": [
          "KIRC",
          "LUAD",
          "PRAD",
          "BRCA",
          "COAD",
          "gene"
         ],
         "xaxis": "x5",
         "y": [
          20,
          20,
          7,
          25,
          4
         ],
         "yaxis": "y5"
        },
        {
         "mode": "lines",
         "name": "gene_4366",
         "type": "scatter",
         "x": [
          "KIRC",
          "LUAD",
          "PRAD",
          "BRCA",
          "COAD",
          "gene"
         ],
         "xaxis": "x5",
         "y": [
          3,
          14,
          3,
          18,
          2
         ],
         "yaxis": "y5"
        },
        {
         "mode": "lines",
         "name": "gene_4367",
         "type": "scatter",
         "x": [
          "KIRC",
          "LUAD",
          "PRAD",
          "BRCA",
          "COAD",
          "gene"
         ],
         "xaxis": "x5",
         "y": [
          14,
          14,
          6,
          17,
          2
         ],
         "yaxis": "y5"
        },
        {
         "mode": "lines",
         "name": "gene_4368",
         "type": "scatter",
         "x": [
          "KIRC",
          "LUAD",
          "PRAD",
          "BRCA",
          "COAD",
          "gene"
         ],
         "xaxis": "x5",
         "y": [
          15,
          37,
          12,
          28,
          5
         ],
         "yaxis": "y5"
        },
        {
         "mode": "lines",
         "name": "gene_4369",
         "type": "scatter",
         "x": [
          "KIRC",
          "LUAD",
          "PRAD",
          "BRCA",
          "COAD",
          "gene"
         ],
         "xaxis": "x5",
         "y": [
          4,
          9,
          2,
          12,
          2
         ],
         "yaxis": "y5"
        },
        {
         "mode": "lines",
         "name": "gene_4371",
         "type": "scatter",
         "x": [
          "KIRC",
          "LUAD",
          "PRAD",
          "BRCA",
          "COAD",
          "gene"
         ],
         "xaxis": "x5",
         "y": [
          null,
          1,
          null,
          null,
          null
         ],
         "yaxis": "y5"
        },
        {
         "mode": "lines",
         "name": "gene_4372",
         "type": "scatter",
         "x": [
          "KIRC",
          "LUAD",
          "PRAD",
          "BRCA",
          "COAD",
          "gene"
         ],
         "xaxis": "x5",
         "y": [
          null,
          2,
          null,
          1,
          null
         ],
         "yaxis": "y5"
        },
        {
         "mode": "lines",
         "name": "gene_4373",
         "type": "scatter",
         "x": [
          "KIRC",
          "LUAD",
          "PRAD",
          "BRCA",
          "COAD",
          "gene"
         ],
         "xaxis": "x5",
         "y": [
          null,
          4,
          null,
          2,
          3
         ],
         "yaxis": "y5"
        },
        {
         "mode": "lines",
         "name": "gene_4374",
         "type": "scatter",
         "x": [
          "KIRC",
          "LUAD",
          "PRAD",
          "BRCA",
          "COAD",
          "gene"
         ],
         "xaxis": "x5",
         "y": [
          1,
          2,
          null,
          null,
          1
         ],
         "yaxis": "y5"
        },
        {
         "mode": "lines",
         "name": "gene_4375",
         "type": "scatter",
         "x": [
          "KIRC",
          "LUAD",
          "PRAD",
          "BRCA",
          "COAD",
          "gene"
         ],
         "xaxis": "x5",
         "y": [
          1,
          null,
          null,
          null,
          null
         ],
         "yaxis": "y5"
        },
        {
         "mode": "lines",
         "name": "gene_4376",
         "type": "scatter",
         "x": [
          "KIRC",
          "LUAD",
          "PRAD",
          "BRCA",
          "COAD",
          "gene"
         ],
         "xaxis": "x5",
         "y": [
          1,
          null,
          null,
          null,
          null
         ],
         "yaxis": "y5"
        },
        {
         "mode": "lines",
         "name": "gene_4377",
         "type": "scatter",
         "x": [
          "KIRC",
          "LUAD",
          "PRAD",
          "BRCA",
          "COAD",
          "gene"
         ],
         "xaxis": "x5",
         "y": [
          5,
          14,
          1,
          5,
          3
         ],
         "yaxis": "y5"
        },
        {
         "mode": "lines",
         "name": "gene_4380",
         "type": "scatter",
         "x": [
          "KIRC",
          "LUAD",
          "PRAD",
          "BRCA",
          "COAD",
          "gene"
         ],
         "xaxis": "x5",
         "y": [
          15,
          34,
          19,
          47,
          13
         ],
         "yaxis": "y5"
        },
        {
         "mode": "lines",
         "name": "gene_4414",
         "type": "scatter",
         "x": [
          "KIRC",
          "LUAD",
          "PRAD",
          "BRCA",
          "COAD",
          "gene"
         ],
         "xaxis": "x5",
         "y": [
          13,
          9,
          25,
          27,
          2
         ],
         "yaxis": "y5"
        },
        {
         "mode": "lines",
         "name": "gene_4429",
         "type": "scatter",
         "x": [
          "KIRC",
          "LUAD",
          "PRAD",
          "BRCA",
          "COAD",
          "gene"
         ],
         "xaxis": "x5",
         "y": [
          126,
          2,
          null,
          2,
          null
         ],
         "yaxis": "y5"
        },
        {
         "mode": "lines",
         "name": "gene_4499",
         "type": "scatter",
         "x": [
          "KIRC",
          "LUAD",
          "PRAD",
          "BRCA",
          "COAD",
          "gene"
         ],
         "xaxis": "x5",
         "y": [
          6,
          10,
          null,
          74,
          31
         ],
         "yaxis": "y5"
        },
        {
         "mode": "lines",
         "name": "gene_4510",
         "type": "scatter",
         "x": [
          "KIRC",
          "LUAD",
          "PRAD",
          "BRCA",
          "COAD",
          "gene"
         ],
         "xaxis": "x5",
         "y": [
          2,
          9,
          null,
          7,
          1
         ],
         "yaxis": "y5"
        },
        {
         "mode": "lines",
         "name": "gene_4515",
         "type": "scatter",
         "x": [
          "KIRC",
          "LUAD",
          "PRAD",
          "BRCA",
          "COAD",
          "gene"
         ],
         "xaxis": "x5",
         "y": [
          4,
          99,
          7,
          63,
          13
         ],
         "yaxis": "y5"
        },
        {
         "mode": "lines",
         "name": "gene_4516",
         "type": "scatter",
         "x": [
          "KIRC",
          "LUAD",
          "PRAD",
          "BRCA",
          "COAD",
          "gene"
         ],
         "xaxis": "x5",
         "y": [
          17,
          77,
          8,
          67,
          4
         ],
         "yaxis": "y5"
        },
        {
         "mode": "lines",
         "name": "gene_4518",
         "type": "scatter",
         "x": [
          "KIRC",
          "LUAD",
          "PRAD",
          "BRCA",
          "COAD",
          "gene"
         ],
         "xaxis": "x5",
         "y": [
          4,
          2,
          1,
          2,
          1
         ],
         "yaxis": "y5"
        },
        {
         "mode": "lines",
         "name": "gene_4542",
         "type": "scatter",
         "x": [
          "KIRC",
          "LUAD",
          "PRAD",
          "BRCA",
          "COAD",
          "gene"
         ],
         "xaxis": "x5",
         "y": [
          7,
          2,
          2,
          3,
          null
         ],
         "yaxis": "y5"
        },
        {
         "mode": "lines",
         "name": "gene_4543",
         "type": "scatter",
         "x": [
          "KIRC",
          "LUAD",
          "PRAD",
          "BRCA",
          "COAD",
          "gene"
         ],
         "xaxis": "x5",
         "y": [
          23,
          2,
          2,
          6,
          1
         ],
         "yaxis": "y5"
        },
        {
         "mode": "lines",
         "name": "gene_4545",
         "type": "scatter",
         "x": [
          "KIRC",
          "LUAD",
          "PRAD",
          "BRCA",
          "COAD",
          "gene"
         ],
         "xaxis": "x5",
         "y": [
          1,
          47,
          11,
          11,
          18
         ],
         "yaxis": "y5"
        },
        {
         "mode": "lines",
         "name": "gene_4547",
         "type": "scatter",
         "x": [
          "KIRC",
          "LUAD",
          "PRAD",
          "BRCA",
          "COAD",
          "gene"
         ],
         "xaxis": "x5",
         "y": [
          21,
          22,
          8,
          35,
          1
         ],
         "yaxis": "y5"
        },
        {
         "mode": "lines",
         "name": "gene_4548",
         "type": "scatter",
         "x": [
          "KIRC",
          "LUAD",
          "PRAD",
          "BRCA",
          "COAD",
          "gene"
         ],
         "xaxis": "x6",
         "y": [
          9,
          1,
          1,
          4,
          1
         ],
         "yaxis": "y6"
        },
        {
         "mode": "lines",
         "name": "gene_4563",
         "type": "scatter",
         "x": [
          "KIRC",
          "LUAD",
          "PRAD",
          "BRCA",
          "COAD",
          "gene"
         ],
         "xaxis": "x6",
         "y": [
          4,
          65,
          7,
          115,
          2
         ],
         "yaxis": "y6"
        },
        {
         "mode": "lines",
         "name": "gene_4631",
         "type": "scatter",
         "x": [
          "KIRC",
          "LUAD",
          "PRAD",
          "BRCA",
          "COAD",
          "gene"
         ],
         "xaxis": "x6",
         "y": [
          34,
          57,
          8,
          43,
          7
         ],
         "yaxis": "y6"
        },
        {
         "mode": "lines",
         "name": "gene_4639",
         "type": "scatter",
         "x": [
          "KIRC",
          "LUAD",
          "PRAD",
          "BRCA",
          "COAD",
          "gene"
         ],
         "xaxis": "x6",
         "y": [
          4,
          null,
          null,
          1,
          null
         ],
         "yaxis": "y6"
        },
        {
         "mode": "lines",
         "name": "gene_4653",
         "type": "scatter",
         "x": [
          "KIRC",
          "LUAD",
          "PRAD",
          "BRCA",
          "COAD",
          "gene"
         ],
         "xaxis": "x6",
         "y": [
          35,
          5,
          26,
          null,
          7
         ],
         "yaxis": "y6"
        },
        {
         "mode": "lines",
         "name": "gene_4654",
         "type": "scatter",
         "x": [
          "KIRC",
          "LUAD",
          "PRAD",
          "BRCA",
          "COAD",
          "gene"
         ],
         "xaxis": "x6",
         "y": [
          10,
          null,
          21,
          null,
          4
         ],
         "yaxis": "y6"
        },
        {
         "mode": "lines",
         "name": "gene_4655",
         "type": "scatter",
         "x": [
          "KIRC",
          "LUAD",
          "PRAD",
          "BRCA",
          "COAD",
          "gene"
         ],
         "xaxis": "x6",
         "y": [
          null,
          null,
          8,
          null,
          null
         ],
         "yaxis": "y6"
        },
        {
         "mode": "lines",
         "name": "gene_4671",
         "type": "scatter",
         "x": [
          "KIRC",
          "LUAD",
          "PRAD",
          "BRCA",
          "COAD",
          "gene"
         ],
         "xaxis": "x6",
         "y": [
          10,
          10,
          3,
          14,
          36
         ],
         "yaxis": "y6"
        },
        {
         "mode": "lines",
         "name": "gene_4683",
         "type": "scatter",
         "x": [
          "KIRC",
          "LUAD",
          "PRAD",
          "BRCA",
          "COAD",
          "gene"
         ],
         "xaxis": "x6",
         "y": [
          17,
          29,
          17,
          54,
          6
         ],
         "yaxis": "y6"
        },
        {
         "mode": "lines",
         "name": "gene_4688",
         "type": "scatter",
         "x": [
          "KIRC",
          "LUAD",
          "PRAD",
          "BRCA",
          "COAD",
          "gene"
         ],
         "xaxis": "x6",
         "y": [
          14,
          34,
          3,
          31,
          15
         ],
         "yaxis": "y6"
        },
        {
         "mode": "lines",
         "name": "gene_4689",
         "type": "scatter",
         "x": [
          "KIRC",
          "LUAD",
          "PRAD",
          "BRCA",
          "COAD",
          "gene"
         ],
         "xaxis": "x6",
         "y": [
          9,
          30,
          4,
          43,
          11
         ],
         "yaxis": "y6"
        },
        {
         "mode": "lines",
         "name": "gene_4698",
         "type": "scatter",
         "x": [
          "KIRC",
          "LUAD",
          "PRAD",
          "BRCA",
          "COAD",
          "gene"
         ],
         "xaxis": "x6",
         "y": [
          3,
          null,
          4,
          136,
          null
         ],
         "yaxis": "y6"
        },
        {
         "mode": "lines",
         "name": "gene_4740",
         "type": "scatter",
         "x": [
          "KIRC",
          "LUAD",
          "PRAD",
          "BRCA",
          "COAD",
          "gene"
         ],
         "xaxis": "x6",
         "y": [
          69,
          15,
          10,
          41,
          1
         ],
         "yaxis": "y6"
        },
        {
         "mode": "lines",
         "name": "gene_4784",
         "type": "scatter",
         "x": [
          "KIRC",
          "LUAD",
          "PRAD",
          "BRCA",
          "COAD",
          "gene"
         ],
         "xaxis": "x6",
         "y": [
          24,
          40,
          13,
          38,
          7
         ],
         "yaxis": "y6"
        },
        {
         "mode": "lines",
         "name": "gene_4795",
         "type": "scatter",
         "x": [
          "KIRC",
          "LUAD",
          "PRAD",
          "BRCA",
          "COAD",
          "gene"
         ],
         "xaxis": "x6",
         "y": [
          25,
          21,
          23,
          43,
          28
         ],
         "yaxis": "y6"
        },
        {
         "mode": "lines",
         "name": "gene_4803",
         "type": "scatter",
         "x": [
          "KIRC",
          "LUAD",
          "PRAD",
          "BRCA",
          "COAD",
          "gene"
         ],
         "xaxis": "x6",
         "y": [
          43,
          31,
          27,
          18,
          11
         ],
         "yaxis": "y6"
        },
        {
         "mode": "lines",
         "name": "gene_4804",
         "type": "scatter",
         "x": [
          "KIRC",
          "LUAD",
          "PRAD",
          "BRCA",
          "COAD",
          "gene"
         ],
         "xaxis": "x6",
         "y": [
          5,
          4,
          19,
          11,
          68
         ],
         "yaxis": "y6"
        },
        {
         "mode": "lines",
         "name": "gene_4805",
         "type": "scatter",
         "x": [
          "KIRC",
          "LUAD",
          "PRAD",
          "BRCA",
          "COAD",
          "gene"
         ],
         "xaxis": "x6",
         "y": [
          15,
          4,
          20,
          2,
          72
         ],
         "yaxis": "y6"
        },
        {
         "mode": "lines",
         "name": "gene_4806",
         "type": "scatter",
         "x": [
          "KIRC",
          "LUAD",
          "PRAD",
          "BRCA",
          "COAD",
          "gene"
         ],
         "xaxis": "x6",
         "y": [
          19,
          19,
          5,
          14,
          16
         ],
         "yaxis": "y6"
        },
        {
         "mode": "lines",
         "name": "gene_4807",
         "type": "scatter",
         "x": [
          "KIRC",
          "LUAD",
          "PRAD",
          "BRCA",
          "COAD",
          "gene"
         ],
         "xaxis": "x6",
         "y": [
          1,
          null,
          null,
          1,
          null
         ],
         "yaxis": "y6"
        },
        {
         "mode": "lines",
         "name": "gene_4810",
         "type": "scatter",
         "x": [
          "KIRC",
          "LUAD",
          "PRAD",
          "BRCA",
          "COAD",
          "gene"
         ],
         "xaxis": "x6",
         "y": [
          null,
          null,
          null,
          1,
          1
         ],
         "yaxis": "y6"
        },
        {
         "mode": "lines",
         "name": "gene_4811",
         "type": "scatter",
         "x": [
          "KIRC",
          "LUAD",
          "PRAD",
          "BRCA",
          "COAD",
          "gene"
         ],
         "xaxis": "x6",
         "y": [
          1,
          null,
          4,
          2,
          null
         ],
         "yaxis": "y6"
        },
        {
         "mode": "lines",
         "name": "gene_4812",
         "type": "scatter",
         "x": [
          "KIRC",
          "LUAD",
          "PRAD",
          "BRCA",
          "COAD",
          "gene"
         ],
         "xaxis": "x6",
         "y": [
          14,
          5,
          18,
          14,
          3
         ],
         "yaxis": "y6"
        },
        {
         "mode": "lines",
         "name": "gene_4813",
         "type": "scatter",
         "x": [
          "KIRC",
          "LUAD",
          "PRAD",
          "BRCA",
          "COAD",
          "gene"
         ],
         "xaxis": "x6",
         "y": [
          2,
          null,
          8,
          7,
          1
         ],
         "yaxis": "y6"
        },
        {
         "mode": "lines",
         "name": "gene_4815",
         "type": "scatter",
         "x": [
          "KIRC",
          "LUAD",
          "PRAD",
          "BRCA",
          "COAD",
          "gene"
         ],
         "xaxis": "x6",
         "y": [
          1,
          null,
          null,
          null,
          null
         ],
         "yaxis": "y6"
        },
        {
         "mode": "lines",
         "name": "gene_4818",
         "type": "scatter",
         "x": [
          "KIRC",
          "LUAD",
          "PRAD",
          "BRCA",
          "COAD",
          "gene"
         ],
         "xaxis": "x6",
         "y": [
          null,
          2,
          null,
          1,
          null
         ],
         "yaxis": "y6"
        },
        {
         "mode": "lines",
         "name": "gene_4819",
         "type": "scatter",
         "x": [
          "KIRC",
          "LUAD",
          "PRAD",
          "BRCA",
          "COAD",
          "gene"
         ],
         "xaxis": "x6",
         "y": [
          1,
          null,
          null,
          null,
          null
         ],
         "yaxis": "y6"
        },
        {
         "mode": "lines",
         "name": "gene_4820",
         "type": "scatter",
         "x": [
          "KIRC",
          "LUAD",
          "PRAD",
          "BRCA",
          "COAD",
          "gene"
         ],
         "xaxis": "x6",
         "y": [
          7,
          1,
          2,
          10,
          null
         ],
         "yaxis": "y6"
        },
        {
         "mode": "lines",
         "name": "gene_4821",
         "type": "scatter",
         "x": [
          "KIRC",
          "LUAD",
          "PRAD",
          "BRCA",
          "COAD",
          "gene"
         ],
         "xaxis": "x6",
         "y": [
          11,
          3,
          1,
          12,
          3
         ],
         "yaxis": "y6"
        },
        {
         "mode": "lines",
         "name": "gene_4822",
         "type": "scatter",
         "x": [
          "KIRC",
          "LUAD",
          "PRAD",
          "BRCA",
          "COAD",
          "gene"
         ],
         "xaxis": "x6",
         "y": [
          2,
          null,
          null,
          1,
          null
         ],
         "yaxis": "y6"
        },
        {
         "mode": "lines",
         "name": "gene_4823",
         "type": "scatter",
         "x": [
          "KIRC",
          "LUAD",
          "PRAD",
          "BRCA",
          "COAD",
          "gene"
         ],
         "xaxis": "x6",
         "y": [
          null,
          1,
          null,
          null,
          null
         ],
         "yaxis": "y6"
        },
        {
         "mode": "lines",
         "name": "gene_4824",
         "type": "scatter",
         "x": [
          "KIRC",
          "LUAD",
          "PRAD",
          "BRCA",
          "COAD",
          "gene"
         ],
         "xaxis": "x6",
         "y": [
          null,
          1,
          1,
          4,
          null
         ],
         "yaxis": "y6"
        },
        {
         "mode": "lines",
         "name": "gene_4825",
         "type": "scatter",
         "x": [
          "KIRC",
          "LUAD",
          "PRAD",
          "BRCA",
          "COAD",
          "gene"
         ],
         "xaxis": "x6",
         "y": [
          14,
          7,
          13,
          35,
          6
         ],
         "yaxis": "y6"
        },
        {
         "mode": "lines",
         "name": "gene_4826",
         "type": "scatter",
         "x": [
          "KIRC",
          "LUAD",
          "PRAD",
          "BRCA",
          "COAD",
          "gene"
         ],
         "xaxis": "x6",
         "y": [
          8,
          3,
          4,
          5,
          2
         ],
         "yaxis": "y6"
        },
        {
         "mode": "lines",
         "name": "gene_4827",
         "type": "scatter",
         "x": [
          "KIRC",
          "LUAD",
          "PRAD",
          "BRCA",
          "COAD",
          "gene"
         ],
         "xaxis": "x6",
         "y": [
          4,
          35,
          63,
          33,
          5
         ],
         "yaxis": "y6"
        },
        {
         "mode": "lines",
         "name": "gene_4828",
         "type": "scatter",
         "x": [
          "KIRC",
          "LUAD",
          "PRAD",
          "BRCA",
          "COAD",
          "gene"
         ],
         "xaxis": "x6",
         "y": [
          1,
          null,
          null,
          null,
          null
         ],
         "yaxis": "y6"
        },
        {
         "mode": "lines",
         "name": "gene_4829",
         "type": "scatter",
         "x": [
          "KIRC",
          "LUAD",
          "PRAD",
          "BRCA",
          "COAD",
          "gene"
         ],
         "xaxis": "x6",
         "y": [
          2,
          null,
          null,
          null,
          null
         ],
         "yaxis": "y6"
        },
        {
         "mode": "lines",
         "name": "gene_4830",
         "type": "scatter",
         "x": [
          "KIRC",
          "LUAD",
          "PRAD",
          "BRCA",
          "COAD",
          "gene"
         ],
         "xaxis": "x6",
         "y": [
          null,
          null,
          29,
          1,
          null
         ],
         "yaxis": "y6"
        },
        {
         "mode": "lines",
         "name": "gene_4832",
         "type": "scatter",
         "x": [
          "KIRC",
          "LUAD",
          "PRAD",
          "BRCA",
          "COAD",
          "gene"
         ],
         "xaxis": "x6",
         "y": [
          15,
          9,
          19,
          25,
          2
         ],
         "yaxis": "y6"
        },
        {
         "mode": "lines",
         "name": "gene_4834",
         "type": "scatter",
         "x": [
          "KIRC",
          "LUAD",
          "PRAD",
          "BRCA",
          "COAD",
          "gene"
         ],
         "xaxis": "x6",
         "y": [
          null,
          null,
          2,
          null,
          null
         ],
         "yaxis": "y6"
        },
        {
         "mode": "lines",
         "name": "gene_4835",
         "type": "scatter",
         "x": [
          "KIRC",
          "LUAD",
          "PRAD",
          "BRCA",
          "COAD",
          "gene"
         ],
         "xaxis": "x6",
         "y": [
          1,
          1,
          3,
          3,
          null
         ],
         "yaxis": "y6"
        },
        {
         "mode": "lines",
         "name": "gene_4836",
         "type": "scatter",
         "x": [
          "KIRC",
          "LUAD",
          "PRAD",
          "BRCA",
          "COAD",
          "gene"
         ],
         "xaxis": "x6",
         "y": [
          3,
          1,
          3,
          2,
          null
         ],
         "yaxis": "y6"
        },
        {
         "mode": "lines",
         "name": "gene_4838",
         "type": "scatter",
         "x": [
          "KIRC",
          "LUAD",
          "PRAD",
          "BRCA",
          "COAD",
          "gene"
         ],
         "xaxis": "x6",
         "y": [
          3,
          64,
          5,
          16,
          17
         ],
         "yaxis": "y6"
        },
        {
         "mode": "lines",
         "name": "gene_4917",
         "type": "scatter",
         "x": [
          "KIRC",
          "LUAD",
          "PRAD",
          "BRCA",
          "COAD",
          "gene"
         ],
         "xaxis": "x6",
         "y": [
          10,
          4,
          26,
          15,
          14
         ],
         "yaxis": "y6"
        },
        {
         "mode": "lines",
         "name": "gene_4968",
         "type": "scatter",
         "x": [
          "KIRC",
          "LUAD",
          "PRAD",
          "BRCA",
          "COAD",
          "gene"
         ],
         "xaxis": "x6",
         "y": [
          17,
          7,
          2,
          15,
          1
         ],
         "yaxis": "y6"
        },
        {
         "mode": "lines",
         "name": "gene_4969",
         "type": "scatter",
         "x": [
          "KIRC",
          "LUAD",
          "PRAD",
          "BRCA",
          "COAD",
          "gene"
         ],
         "xaxis": "x6",
         "y": [
          78,
          31,
          7,
          11,
          42
         ],
         "yaxis": "y6"
        },
        {
         "mode": "lines",
         "name": "gene_4974",
         "type": "scatter",
         "x": [
          "KIRC",
          "LUAD",
          "PRAD",
          "BRCA",
          "COAD",
          "gene"
         ],
         "xaxis": "x6",
         "y": [
          8,
          4,
          5,
          14,
          null
         ],
         "yaxis": "y6"
        },
        {
         "mode": "lines",
         "name": "gene_4976",
         "type": "scatter",
         "x": [
          "KIRC",
          "LUAD",
          "PRAD",
          "BRCA",
          "COAD",
          "gene"
         ],
         "xaxis": "x6",
         "y": [
          7,
          19,
          6,
          41,
          5
         ],
         "yaxis": "y6"
        },
        {
         "mode": "lines",
         "name": "gene_5030",
         "type": "scatter",
         "x": [
          "KIRC",
          "LUAD",
          "PRAD",
          "BRCA",
          "COAD",
          "gene"
         ],
         "xaxis": "x6",
         "y": [
          9,
          11,
          null,
          22,
          3
         ],
         "yaxis": "y6"
        },
        {
         "mode": "lines",
         "name": "gene_5032",
         "type": "scatter",
         "x": [
          "KIRC",
          "LUAD",
          "PRAD",
          "BRCA",
          "COAD",
          "gene"
         ],
         "xaxis": "x6",
         "y": [
          8,
          19,
          69,
          37,
          2
         ],
         "yaxis": "y6"
        },
        {
         "mode": "lines",
         "name": "gene_5069",
         "type": "scatter",
         "x": [
          "KIRC",
          "LUAD",
          "PRAD",
          "BRCA",
          "COAD",
          "gene"
         ],
         "xaxis": "x6",
         "y": [
          23,
          13,
          15,
          25,
          5
         ],
         "yaxis": "y6"
        },
        {
         "mode": "lines",
         "name": "gene_5085",
         "type": "scatter",
         "x": [
          "KIRC",
          "LUAD",
          "PRAD",
          "BRCA",
          "COAD",
          "gene"
         ],
         "xaxis": "x6",
         "y": [
          22,
          33,
          20,
          79,
          25
         ],
         "yaxis": "y6"
        },
        {
         "mode": "lines",
         "name": "gene_5094",
         "type": "scatter",
         "x": [
          "KIRC",
          "LUAD",
          "PRAD",
          "BRCA",
          "COAD",
          "gene"
         ],
         "xaxis": "x7",
         "y": [
          14,
          53,
          39,
          32,
          11
         ],
         "yaxis": "y7"
        },
        {
         "mode": "lines",
         "name": "gene_5122",
         "type": "scatter",
         "x": [
          "KIRC",
          "LUAD",
          "PRAD",
          "BRCA",
          "COAD",
          "gene"
         ],
         "xaxis": "x7",
         "y": [
          79,
          30,
          14,
          40,
          20
         ],
         "yaxis": "y7"
        },
        {
         "mode": "lines",
         "name": "gene_5126",
         "type": "scatter",
         "x": [
          "KIRC",
          "LUAD",
          "PRAD",
          "BRCA",
          "COAD",
          "gene"
         ],
         "xaxis": "x7",
         "y": [
          45,
          42,
          21,
          86,
          6
         ],
         "yaxis": "y7"
        },
        {
         "mode": "lines",
         "name": "gene_5179",
         "type": "scatter",
         "x": [
          "KIRC",
          "LUAD",
          "PRAD",
          "BRCA",
          "COAD",
          "gene"
         ],
         "xaxis": "x7",
         "y": [
          31,
          11,
          3,
          12,
          4
         ],
         "yaxis": "y7"
        },
        {
         "mode": "lines",
         "name": "gene_5180",
         "type": "scatter",
         "x": [
          "KIRC",
          "LUAD",
          "PRAD",
          "BRCA",
          "COAD",
          "gene"
         ],
         "xaxis": "x7",
         "y": [
          22,
          40,
          6,
          32,
          6
         ],
         "yaxis": "y7"
        },
        {
         "mode": "lines",
         "name": "gene_5182",
         "type": "scatter",
         "x": [
          "KIRC",
          "LUAD",
          "PRAD",
          "BRCA",
          "COAD",
          "gene"
         ],
         "xaxis": "x7",
         "y": [
          11,
          12,
          26,
          7,
          6
         ],
         "yaxis": "y7"
        },
        {
         "mode": "lines",
         "name": "gene_5184",
         "type": "scatter",
         "x": [
          "KIRC",
          "LUAD",
          "PRAD",
          "BRCA",
          "COAD",
          "gene"
         ],
         "xaxis": "x7",
         "y": [
          23,
          9,
          53,
          34,
          1
         ],
         "yaxis": "y7"
        },
        {
         "mode": "lines",
         "name": "gene_5207",
         "type": "scatter",
         "x": [
          "KIRC",
          "LUAD",
          "PRAD",
          "BRCA",
          "COAD",
          "gene"
         ],
         "xaxis": "x7",
         "y": [
          25,
          12,
          11,
          29,
          5
         ],
         "yaxis": "y7"
        },
        {
         "mode": "lines",
         "name": "gene_5212",
         "type": "scatter",
         "x": [
          "KIRC",
          "LUAD",
          "PRAD",
          "BRCA",
          "COAD",
          "gene"
         ],
         "xaxis": "x7",
         "y": [
          11,
          71,
          2,
          18,
          25
         ],
         "yaxis": "y7"
        },
        {
         "mode": "lines",
         "name": "gene_5220",
         "type": "scatter",
         "x": [
          "KIRC",
          "LUAD",
          "PRAD",
          "BRCA",
          "COAD",
          "gene"
         ],
         "xaxis": "x7",
         "y": [
          7,
          15,
          1,
          23,
          1
         ],
         "yaxis": "y7"
        },
        {
         "mode": "lines",
         "name": "gene_5222",
         "type": "scatter",
         "x": [
          "KIRC",
          "LUAD",
          "PRAD",
          "BRCA",
          "COAD",
          "gene"
         ],
         "xaxis": "x7",
         "y": [
          14,
          17,
          8,
          15,
          3
         ],
         "yaxis": "y7"
        },
        {
         "mode": "lines",
         "name": "gene_5224",
         "type": "scatter",
         "x": [
          "KIRC",
          "LUAD",
          "PRAD",
          "BRCA",
          "COAD",
          "gene"
         ],
         "xaxis": "x7",
         "y": [
          17,
          48,
          18,
          98,
          9
         ],
         "yaxis": "y7"
        },
        {
         "mode": "lines",
         "name": "gene_5257",
         "type": "scatter",
         "x": [
          "KIRC",
          "LUAD",
          "PRAD",
          "BRCA",
          "COAD",
          "gene"
         ],
         "xaxis": "x7",
         "y": [
          8,
          19,
          19,
          43,
          3
         ],
         "yaxis": "y7"
        },
        {
         "mode": "lines",
         "name": "gene_5272",
         "type": "scatter",
         "x": [
          "KIRC",
          "LUAD",
          "PRAD",
          "BRCA",
          "COAD",
          "gene"
         ],
         "xaxis": "x7",
         "y": [
          10,
          2,
          6,
          6,
          2
         ],
         "yaxis": "y7"
        },
        {
         "mode": "lines",
         "name": "gene_5289",
         "type": "scatter",
         "x": [
          "KIRC",
          "LUAD",
          "PRAD",
          "BRCA",
          "COAD",
          "gene"
         ],
         "xaxis": "x7",
         "y": [
          60,
          18,
          11,
          26,
          2
         ],
         "yaxis": "y7"
        },
        {
         "mode": "lines",
         "name": "gene_5317",
         "type": "scatter",
         "x": [
          "KIRC",
          "LUAD",
          "PRAD",
          "BRCA",
          "COAD",
          "gene"
         ],
         "xaxis": "x7",
         "y": [
          11,
          4,
          72,
          7,
          null
         ],
         "yaxis": "y7"
        },
        {
         "mode": "lines",
         "name": "gene_5549",
         "type": "scatter",
         "x": [
          "KIRC",
          "LUAD",
          "PRAD",
          "BRCA",
          "COAD",
          "gene"
         ],
         "xaxis": "x7",
         "y": [
          33,
          10,
          26,
          18,
          7
         ],
         "yaxis": "y7"
        },
        {
         "mode": "lines",
         "name": "gene_5734",
         "type": "scatter",
         "x": [
          "KIRC",
          "LUAD",
          "PRAD",
          "BRCA",
          "COAD",
          "gene"
         ],
         "xaxis": "x7",
         "y": [
          6,
          15,
          3,
          34,
          8
         ],
         "yaxis": "y7"
        },
        {
         "mode": "lines",
         "name": "gene_5766",
         "type": "scatter",
         "x": [
          "KIRC",
          "LUAD",
          "PRAD",
          "BRCA",
          "COAD",
          "gene"
         ],
         "xaxis": "x7",
         "y": [
          16,
          5,
          95,
          9,
          6
         ],
         "yaxis": "y7"
        },
        {
         "mode": "lines",
         "name": "gene_5813",
         "type": "scatter",
         "x": [
          "KIRC",
          "LUAD",
          "PRAD",
          "BRCA",
          "COAD",
          "gene"
         ],
         "xaxis": "x7",
         "y": [
          15,
          13,
          8,
          56,
          6
         ],
         "yaxis": "y7"
        },
        {
         "mode": "lines",
         "name": "gene_5824",
         "type": "scatter",
         "x": [
          "KIRC",
          "LUAD",
          "PRAD",
          "BRCA",
          "COAD",
          "gene"
         ],
         "xaxis": "x7",
         "y": [
          19,
          12,
          16,
          30,
          1
         ],
         "yaxis": "y7"
        },
        {
         "mode": "lines",
         "name": "gene_5828",
         "type": "scatter",
         "x": [
          "KIRC",
          "LUAD",
          "PRAD",
          "BRCA",
          "COAD",
          "gene"
         ],
         "xaxis": "x7",
         "y": [
          6,
          5,
          4,
          4,
          2
         ],
         "yaxis": "y7"
        },
        {
         "mode": "lines",
         "name": "gene_5837",
         "type": "scatter",
         "x": [
          "KIRC",
          "LUAD",
          "PRAD",
          "BRCA",
          "COAD",
          "gene"
         ],
         "xaxis": "x7",
         "y": [
          2,
          2,
          null,
          15,
          3
         ],
         "yaxis": "y7"
        },
        {
         "mode": "lines",
         "name": "gene_5929",
         "type": "scatter",
         "x": [
          "KIRC",
          "LUAD",
          "PRAD",
          "BRCA",
          "COAD",
          "gene"
         ],
         "xaxis": "x7",
         "y": [
          41,
          27,
          25,
          23,
          6
         ],
         "yaxis": "y7"
        },
        {
         "mode": "lines",
         "name": "gene_5930",
         "type": "scatter",
         "x": [
          "KIRC",
          "LUAD",
          "PRAD",
          "BRCA",
          "COAD",
          "gene"
         ],
         "xaxis": "x7",
         "y": [
          22,
          8,
          8,
          13,
          3
         ],
         "yaxis": "y7"
        },
        {
         "mode": "lines",
         "name": "gene_5931",
         "type": "scatter",
         "x": [
          "KIRC",
          "LUAD",
          "PRAD",
          "BRCA",
          "COAD",
          "gene"
         ],
         "xaxis": "x7",
         "y": [
          50,
          12,
          12,
          17,
          6
         ],
         "yaxis": "y7"
        },
        {
         "mode": "lines",
         "name": "gene_6024",
         "type": "scatter",
         "x": [
          "KIRC",
          "LUAD",
          "PRAD",
          "BRCA",
          "COAD",
          "gene"
         ],
         "xaxis": "x7",
         "y": [
          1,
          2,
          1,
          9,
          null
         ],
         "yaxis": "y7"
        },
        {
         "mode": "lines",
         "name": "gene_6029",
         "type": "scatter",
         "x": [
          "KIRC",
          "LUAD",
          "PRAD",
          "BRCA",
          "COAD",
          "gene"
         ],
         "xaxis": "x7",
         "y": [
          6,
          1,
          1,
          null,
          1
         ],
         "yaxis": "y7"
        },
        {
         "mode": "lines",
         "name": "gene_6051",
         "type": "scatter",
         "x": [
          "KIRC",
          "LUAD",
          "PRAD",
          "BRCA",
          "COAD",
          "gene"
         ],
         "xaxis": "x7",
         "y": [
          1,
          null,
          null,
          2,
          1
         ],
         "yaxis": "y7"
        },
        {
         "mode": "lines",
         "name": "gene_6054",
         "type": "scatter",
         "x": [
          "KIRC",
          "LUAD",
          "PRAD",
          "BRCA",
          "COAD",
          "gene"
         ],
         "xaxis": "x7",
         "y": [
          17,
          21,
          11,
          72,
          20
         ],
         "yaxis": "y7"
        },
        {
         "mode": "lines",
         "name": "gene_6059",
         "type": "scatter",
         "x": [
          "KIRC",
          "LUAD",
          "PRAD",
          "BRCA",
          "COAD",
          "gene"
         ],
         "xaxis": "x7",
         "y": [
          27,
          22,
          14,
          16,
          6
         ],
         "yaxis": "y7"
        },
        {
         "mode": "lines",
         "name": "gene_6061",
         "type": "scatter",
         "x": [
          "KIRC",
          "LUAD",
          "PRAD",
          "BRCA",
          "COAD",
          "gene"
         ],
         "xaxis": "x7",
         "y": [
          2,
          2,
          null,
          1,
          1
         ],
         "yaxis": "y7"
        },
        {
         "mode": "lines",
         "name": "gene_6075",
         "type": "scatter",
         "x": [
          "KIRC",
          "LUAD",
          "PRAD",
          "BRCA",
          "COAD",
          "gene"
         ],
         "xaxis": "x7",
         "y": [
          1,
          3,
          3,
          1,
          null
         ],
         "yaxis": "y7"
        },
        {
         "mode": "lines",
         "name": "gene_6085",
         "type": "scatter",
         "x": [
          "KIRC",
          "LUAD",
          "PRAD",
          "BRCA",
          "COAD",
          "gene"
         ],
         "xaxis": "x7",
         "y": [
          5,
          16,
          2,
          71,
          7
         ],
         "yaxis": "y7"
        },
        {
         "mode": "lines",
         "name": "gene_6086",
         "type": "scatter",
         "x": [
          "KIRC",
          "LUAD",
          "PRAD",
          "BRCA",
          "COAD",
          "gene"
         ],
         "xaxis": "x7",
         "y": [
          9,
          7,
          6,
          16,
          1
         ],
         "yaxis": "y7"
        },
        {
         "mode": "lines",
         "name": "gene_6129",
         "type": "scatter",
         "x": [
          "KIRC",
          "LUAD",
          "PRAD",
          "BRCA",
          "COAD",
          "gene"
         ],
         "xaxis": "x7",
         "y": [
          10,
          3,
          5,
          10,
          2
         ],
         "yaxis": "y7"
        },
        {
         "mode": "lines",
         "name": "gene_6141",
         "type": "scatter",
         "x": [
          "KIRC",
          "LUAD",
          "PRAD",
          "BRCA",
          "COAD",
          "gene"
         ],
         "xaxis": "x7",
         "y": [
          34,
          17,
          4,
          10,
          1
         ],
         "yaxis": "y7"
        },
        {
         "mode": "lines",
         "name": "gene_6142",
         "type": "scatter",
         "x": [
          "KIRC",
          "LUAD",
          "PRAD",
          "BRCA",
          "COAD",
          "gene"
         ],
         "xaxis": "x7",
         "y": [
          61,
          8,
          19,
          33,
          1
         ],
         "yaxis": "y7"
        },
        {
         "mode": "lines",
         "name": "gene_6143",
         "type": "scatter",
         "x": [
          "KIRC",
          "LUAD",
          "PRAD",
          "BRCA",
          "COAD",
          "gene"
         ],
         "xaxis": "x7",
         "y": [
          12,
          5,
          null,
          7,
          null
         ],
         "yaxis": "y7"
        },
        {
         "mode": "lines",
         "name": "gene_6145",
         "type": "scatter",
         "x": [
          "KIRC",
          "LUAD",
          "PRAD",
          "BRCA",
          "COAD",
          "gene"
         ],
         "xaxis": "x7",
         "y": [
          27,
          10,
          23,
          62,
          9
         ],
         "yaxis": "y7"
        },
        {
         "mode": "lines",
         "name": "gene_6146",
         "type": "scatter",
         "x": [
          "KIRC",
          "LUAD",
          "PRAD",
          "BRCA",
          "COAD",
          "gene"
         ],
         "xaxis": "x7",
         "y": [
          7,
          4,
          19,
          47,
          6
         ],
         "yaxis": "y7"
        },
        {
         "mode": "lines",
         "name": "gene_6147",
         "type": "scatter",
         "x": [
          "KIRC",
          "LUAD",
          "PRAD",
          "BRCA",
          "COAD",
          "gene"
         ],
         "xaxis": "x7",
         "y": [
          8,
          6,
          4,
          25,
          2
         ],
         "yaxis": "y7"
        },
        {
         "mode": "lines",
         "name": "gene_6179",
         "type": "scatter",
         "x": [
          "KIRC",
          "LUAD",
          "PRAD",
          "BRCA",
          "COAD",
          "gene"
         ],
         "xaxis": "x7",
         "y": [
          35,
          28,
          26,
          80,
          12
         ],
         "yaxis": "y7"
        },
        {
         "mode": "lines",
         "name": "gene_6182",
         "type": "scatter",
         "x": [
          "KIRC",
          "LUAD",
          "PRAD",
          "BRCA",
          "COAD",
          "gene"
         ],
         "xaxis": "x7",
         "y": [
          33,
          12,
          4,
          16,
          4
         ],
         "yaxis": "y7"
        },
        {
         "mode": "lines",
         "name": "gene_6190",
         "type": "scatter",
         "x": [
          "KIRC",
          "LUAD",
          "PRAD",
          "BRCA",
          "COAD",
          "gene"
         ],
         "xaxis": "x7",
         "y": [
          11,
          4,
          1,
          2,
          6
         ],
         "yaxis": "y7"
        },
        {
         "mode": "lines",
         "name": "gene_6191",
         "type": "scatter",
         "x": [
          "KIRC",
          "LUAD",
          "PRAD",
          "BRCA",
          "COAD",
          "gene"
         ],
         "xaxis": "x7",
         "y": [
          2,
          2,
          1,
          1,
          null
         ],
         "yaxis": "y7"
        },
        {
         "mode": "lines",
         "name": "gene_6192",
         "type": "scatter",
         "x": [
          "KIRC",
          "LUAD",
          "PRAD",
          "BRCA",
          "COAD",
          "gene"
         ],
         "xaxis": "x7",
         "y": [
          43,
          18,
          7,
          21,
          18
         ],
         "yaxis": "y7"
        },
        {
         "mode": "lines",
         "name": "gene_6193",
         "type": "scatter",
         "x": [
          "KIRC",
          "LUAD",
          "PRAD",
          "BRCA",
          "COAD",
          "gene"
         ],
         "xaxis": "x7",
         "y": [
          44,
          48,
          72,
          11,
          3
         ],
         "yaxis": "y7"
        },
        {
         "mode": "lines",
         "name": "gene_6354",
         "type": "scatter",
         "x": [
          "KIRC",
          "LUAD",
          "PRAD",
          "BRCA",
          "COAD",
          "gene"
         ],
         "xaxis": "x7",
         "y": [
          3,
          8,
          2,
          32,
          6
         ],
         "yaxis": "y7"
        },
        {
         "mode": "lines",
         "name": "gene_6365",
         "type": "scatter",
         "x": [
          "KIRC",
          "LUAD",
          "PRAD",
          "BRCA",
          "COAD",
          "gene"
         ],
         "xaxis": "x7",
         "y": [
          2,
          14,
          29,
          49,
          7
         ],
         "yaxis": "y7"
        },
        {
         "mode": "lines",
         "name": "gene_6366",
         "type": "scatter",
         "x": [
          "KIRC",
          "LUAD",
          "PRAD",
          "BRCA",
          "COAD",
          "gene"
         ],
         "xaxis": "x7",
         "y": [
          28,
          27,
          14,
          70,
          10
         ],
         "yaxis": "y7"
        },
        {
         "mode": "lines",
         "name": "gene_6388",
         "type": "scatter",
         "x": [
          "KIRC",
          "LUAD",
          "PRAD",
          "BRCA",
          "COAD",
          "gene"
         ],
         "xaxis": "x7",
         "y": [
          15,
          27,
          9,
          48,
          24
         ],
         "yaxis": "y7"
        },
        {
         "mode": "lines",
         "name": "gene_6390",
         "type": "scatter",
         "x": [
          "KIRC",
          "LUAD",
          "PRAD",
          "BRCA",
          "COAD",
          "gene"
         ],
         "xaxis": "x8",
         "y": [
          51,
          50,
          25,
          29,
          36
         ],
         "yaxis": "y8"
        },
        {
         "mode": "lines",
         "name": "gene_6392",
         "type": "scatter",
         "x": [
          "KIRC",
          "LUAD",
          "PRAD",
          "BRCA",
          "COAD",
          "gene"
         ],
         "xaxis": "x8",
         "y": [
          21,
          41,
          16,
          81,
          41
         ],
         "yaxis": "y8"
        },
        {
         "mode": "lines",
         "name": "gene_6393",
         "type": "scatter",
         "x": [
          "KIRC",
          "LUAD",
          "PRAD",
          "BRCA",
          "COAD",
          "gene"
         ],
         "xaxis": "x8",
         "y": [
          3,
          7,
          8,
          9,
          14
         ],
         "yaxis": "y8"
        },
        {
         "mode": "lines",
         "name": "gene_6395",
         "type": "scatter",
         "x": [
          "KIRC",
          "LUAD",
          "PRAD",
          "BRCA",
          "COAD",
          "gene"
         ],
         "xaxis": "x8",
         "y": [
          2,
          null,
          12,
          4,
          3
         ],
         "yaxis": "y8"
        },
        {
         "mode": "lines",
         "name": "gene_6430",
         "type": "scatter",
         "x": [
          "KIRC",
          "LUAD",
          "PRAD",
          "BRCA",
          "COAD",
          "gene"
         ],
         "xaxis": "x8",
         "y": [
          31,
          12,
          31,
          88,
          1
         ],
         "yaxis": "y8"
        },
        {
         "mode": "lines",
         "name": "gene_6461",
         "type": "scatter",
         "x": [
          "KIRC",
          "LUAD",
          "PRAD",
          "BRCA",
          "COAD",
          "gene"
         ],
         "xaxis": "x8",
         "y": [
          8,
          null,
          2,
          null,
          null
         ],
         "yaxis": "y8"
        },
        {
         "mode": "lines",
         "name": "gene_6462",
         "type": "scatter",
         "x": [
          "KIRC",
          "LUAD",
          "PRAD",
          "BRCA",
          "COAD",
          "gene"
         ],
         "xaxis": "x8",
         "y": [
          18,
          9,
          11,
          20,
          1
         ],
         "yaxis": "y8"
        },
        {
         "mode": "lines",
         "name": "gene_6482",
         "type": "scatter",
         "x": [
          "KIRC",
          "LUAD",
          "PRAD",
          "BRCA",
          "COAD",
          "gene"
         ],
         "xaxis": "x8",
         "y": [
          5,
          null,
          6,
          18,
          2
         ],
         "yaxis": "y8"
        },
        {
         "mode": "lines",
         "name": "gene_6483",
         "type": "scatter",
         "x": [
          "KIRC",
          "LUAD",
          "PRAD",
          "BRCA",
          "COAD",
          "gene"
         ],
         "xaxis": "x8",
         "y": [
          3,
          11,
          5,
          10,
          1
         ],
         "yaxis": "y8"
        },
        {
         "mode": "lines",
         "name": "gene_6484",
         "type": "scatter",
         "x": [
          "KIRC",
          "LUAD",
          "PRAD",
          "BRCA",
          "COAD",
          "gene"
         ],
         "xaxis": "x8",
         "y": [
          44,
          19,
          1,
          25,
          16
         ],
         "yaxis": "y8"
        },
        {
         "mode": "lines",
         "name": "gene_6495",
         "type": "scatter",
         "x": [
          "KIRC",
          "LUAD",
          "PRAD",
          "BRCA",
          "COAD",
          "gene"
         ],
         "xaxis": "x8",
         "y": [
          15,
          14,
          1,
          31,
          3
         ],
         "yaxis": "y8"
        },
        {
         "mode": "lines",
         "name": "gene_6508",
         "type": "scatter",
         "x": [
          "KIRC",
          "LUAD",
          "PRAD",
          "BRCA",
          "COAD",
          "gene"
         ],
         "xaxis": "x8",
         "y": [
          2,
          null,
          4,
          1,
          1
         ],
         "yaxis": "y8"
        },
        {
         "mode": "lines",
         "name": "gene_6519",
         "type": "scatter",
         "x": [
          "KIRC",
          "LUAD",
          "PRAD",
          "BRCA",
          "COAD",
          "gene"
         ],
         "xaxis": "x8",
         "y": [
          28,
          7,
          7,
          7,
          null
         ],
         "yaxis": "y8"
        },
        {
         "mode": "lines",
         "name": "gene_6521",
         "type": "scatter",
         "x": [
          "KIRC",
          "LUAD",
          "PRAD",
          "BRCA",
          "COAD",
          "gene"
         ],
         "xaxis": "x8",
         "y": [
          43,
          23,
          19,
          59,
          6
         ],
         "yaxis": "y8"
        },
        {
         "mode": "lines",
         "name": "gene_6523",
         "type": "scatter",
         "x": [
          "KIRC",
          "LUAD",
          "PRAD",
          "BRCA",
          "COAD",
          "gene"
         ],
         "xaxis": "x8",
         "y": [
          5,
          1,
          1,
          2,
          null
         ],
         "yaxis": "y8"
        },
        {
         "mode": "lines",
         "name": "gene_6532",
         "type": "scatter",
         "x": [
          "KIRC",
          "LUAD",
          "PRAD",
          "BRCA",
          "COAD",
          "gene"
         ],
         "xaxis": "x8",
         "y": [
          49,
          19,
          6,
          10,
          1
         ],
         "yaxis": "y8"
        },
        {
         "mode": "lines",
         "name": "gene_6533",
         "type": "scatter",
         "x": [
          "KIRC",
          "LUAD",
          "PRAD",
          "BRCA",
          "COAD",
          "gene"
         ],
         "xaxis": "x8",
         "y": [
          10,
          3,
          11,
          4,
          12
         ],
         "yaxis": "y8"
        },
        {
         "mode": "lines",
         "name": "gene_6564",
         "type": "scatter",
         "x": [
          "KIRC",
          "LUAD",
          "PRAD",
          "BRCA",
          "COAD",
          "gene"
         ],
         "xaxis": "x8",
         "y": [
          30,
          30,
          29,
          93,
          9
         ],
         "yaxis": "y8"
        },
        {
         "mode": "lines",
         "name": "gene_6597",
         "type": "scatter",
         "x": [
          "KIRC",
          "LUAD",
          "PRAD",
          "BRCA",
          "COAD",
          "gene"
         ],
         "xaxis": "x8",
         "y": [
          24,
          4,
          89,
          4,
          1
         ],
         "yaxis": "y8"
        },
        {
         "mode": "lines",
         "name": "gene_6639",
         "type": "scatter",
         "x": [
          "KIRC",
          "LUAD",
          "PRAD",
          "BRCA",
          "COAD",
          "gene"
         ],
         "xaxis": "x8",
         "y": [
          19,
          17,
          17,
          32,
          8
         ],
         "yaxis": "y8"
        },
        {
         "mode": "lines",
         "name": "gene_6640",
         "type": "scatter",
         "x": [
          "KIRC",
          "LUAD",
          "PRAD",
          "BRCA",
          "COAD",
          "gene"
         ],
         "xaxis": "x8",
         "y": [
          17,
          10,
          4,
          14,
          4
         ],
         "yaxis": "y8"
        },
        {
         "mode": "lines",
         "name": "gene_6656",
         "type": "scatter",
         "x": [
          "KIRC",
          "LUAD",
          "PRAD",
          "BRCA",
          "COAD",
          "gene"
         ],
         "xaxis": "x8",
         "y": [
          33,
          44,
          23,
          84,
          9
         ],
         "yaxis": "y8"
        },
        {
         "mode": "lines",
         "name": "gene_6658",
         "type": "scatter",
         "x": [
          "KIRC",
          "LUAD",
          "PRAD",
          "BRCA",
          "COAD",
          "gene"
         ],
         "xaxis": "x8",
         "y": [
          13,
          17,
          7,
          42,
          3
         ],
         "yaxis": "y8"
        },
        {
         "mode": "lines",
         "name": "gene_6669",
         "type": "scatter",
         "x": [
          "KIRC",
          "LUAD",
          "PRAD",
          "BRCA",
          "COAD",
          "gene"
         ],
         "xaxis": "x8",
         "y": [
          25,
          16,
          34,
          32,
          4
         ],
         "yaxis": "y8"
        },
        {
         "mode": "lines",
         "name": "gene_6678",
         "type": "scatter",
         "x": [
          "KIRC",
          "LUAD",
          "PRAD",
          "BRCA",
          "COAD",
          "gene"
         ],
         "xaxis": "x8",
         "y": [
          10,
          17,
          15,
          56,
          1
         ],
         "yaxis": "y8"
        },
        {
         "mode": "lines",
         "name": "gene_6685",
         "type": "scatter",
         "x": [
          "KIRC",
          "LUAD",
          "PRAD",
          "BRCA",
          "COAD",
          "gene"
         ],
         "xaxis": "x8",
         "y": [
          8,
          6,
          57,
          9,
          null
         ],
         "yaxis": "y8"
        },
        {
         "mode": "lines",
         "name": "gene_6686",
         "type": "scatter",
         "x": [
          "KIRC",
          "LUAD",
          "PRAD",
          "BRCA",
          "COAD",
          "gene"
         ],
         "xaxis": "x8",
         "y": [
          72,
          13,
          12,
          19,
          2
         ],
         "yaxis": "y8"
        },
        {
         "mode": "lines",
         "name": "gene_6695",
         "type": "scatter",
         "x": [
          "KIRC",
          "LUAD",
          "PRAD",
          "BRCA",
          "COAD",
          "gene"
         ],
         "xaxis": "x8",
         "y": [
          1,
          14,
          1,
          30,
          4
         ],
         "yaxis": "y8"
        },
        {
         "mode": "lines",
         "name": "gene_6697",
         "type": "scatter",
         "x": [
          "KIRC",
          "LUAD",
          "PRAD",
          "BRCA",
          "COAD",
          "gene"
         ],
         "xaxis": "x8",
         "y": [
          5,
          2,
          null,
          1,
          null
         ],
         "yaxis": "y8"
        },
        {
         "mode": "lines",
         "name": "gene_6699",
         "type": "scatter",
         "x": [
          "KIRC",
          "LUAD",
          "PRAD",
          "BRCA",
          "COAD",
          "gene"
         ],
         "xaxis": "x8",
         "y": [
          4,
          3,
          3,
          55,
          2
         ],
         "yaxis": "y8"
        },
        {
         "mode": "lines",
         "name": "gene_6766",
         "type": "scatter",
         "x": [
          "KIRC",
          "LUAD",
          "PRAD",
          "BRCA",
          "COAD",
          "gene"
         ],
         "xaxis": "x8",
         "y": [
          17,
          13,
          21,
          64,
          4
         ],
         "yaxis": "y8"
        },
        {
         "mode": "lines",
         "name": "gene_6781",
         "type": "scatter",
         "x": [
          "KIRC",
          "LUAD",
          "PRAD",
          "BRCA",
          "COAD",
          "gene"
         ],
         "xaxis": "x8",
         "y": [
          6,
          6,
          4,
          9,
          null
         ],
         "yaxis": "y8"
        },
        {
         "mode": "lines",
         "name": "gene_6794",
         "type": "scatter",
         "x": [
          "KIRC",
          "LUAD",
          "PRAD",
          "BRCA",
          "COAD",
          "gene"
         ],
         "xaxis": "x8",
         "y": [
          2,
          8,
          3,
          27,
          2
         ],
         "yaxis": "y8"
        },
        {
         "mode": "lines",
         "name": "gene_6796",
         "type": "scatter",
         "x": [
          "KIRC",
          "LUAD",
          "PRAD",
          "BRCA",
          "COAD",
          "gene"
         ],
         "xaxis": "x8",
         "y": [
          55,
          9,
          10,
          47,
          4
         ],
         "yaxis": "y8"
        },
        {
         "mode": "lines",
         "name": "gene_6802",
         "type": "scatter",
         "x": [
          "KIRC",
          "LUAD",
          "PRAD",
          "BRCA",
          "COAD",
          "gene"
         ],
         "xaxis": "x8",
         "y": [
          12,
          9,
          22,
          32,
          2
         ],
         "yaxis": "y8"
        },
        {
         "mode": "lines",
         "name": "gene_6803",
         "type": "scatter",
         "x": [
          "KIRC",
          "LUAD",
          "PRAD",
          "BRCA",
          "COAD",
          "gene"
         ],
         "xaxis": "x8",
         "y": [
          2,
          25,
          2,
          33,
          5
         ],
         "yaxis": "y8"
        },
        {
         "mode": "lines",
         "name": "gene_6804",
         "type": "scatter",
         "x": [
          "KIRC",
          "LUAD",
          "PRAD",
          "BRCA",
          "COAD",
          "gene"
         ],
         "xaxis": "x8",
         "y": [
          null,
          1,
          null,
          2,
          null
         ],
         "yaxis": "y8"
        },
        {
         "mode": "lines",
         "name": "gene_6805",
         "type": "scatter",
         "x": [
          "KIRC",
          "LUAD",
          "PRAD",
          "BRCA",
          "COAD",
          "gene"
         ],
         "xaxis": "x8",
         "y": [
          5,
          16,
          3,
          27,
          8
         ],
         "yaxis": "y8"
        },
        {
         "mode": "lines",
         "name": "gene_6806",
         "type": "scatter",
         "x": [
          "KIRC",
          "LUAD",
          "PRAD",
          "BRCA",
          "COAD",
          "gene"
         ],
         "xaxis": "x8",
         "y": [
          null,
          7,
          null,
          10,
          2
         ],
         "yaxis": "y8"
        },
        {
         "mode": "lines",
         "name": "gene_6807",
         "type": "scatter",
         "x": [
          "KIRC",
          "LUAD",
          "PRAD",
          "BRCA",
          "COAD",
          "gene"
         ],
         "xaxis": "x8",
         "y": [
          6,
          15,
          null,
          14,
          5
         ],
         "yaxis": "y8"
        },
        {
         "mode": "lines",
         "name": "gene_6808",
         "type": "scatter",
         "x": [
          "KIRC",
          "LUAD",
          "PRAD",
          "BRCA",
          "COAD",
          "gene"
         ],
         "xaxis": "x8",
         "y": [
          4,
          19,
          1,
          21,
          2
         ],
         "yaxis": "y8"
        },
        {
         "mode": "lines",
         "name": "gene_6809",
         "type": "scatter",
         "x": [
          "KIRC",
          "LUAD",
          "PRAD",
          "BRCA",
          "COAD",
          "gene"
         ],
         "xaxis": "x8",
         "y": [
          2,
          5,
          null,
          10,
          1
         ],
         "yaxis": "y8"
        },
        {
         "mode": "lines",
         "name": "gene_6810",
         "type": "scatter",
         "x": [
          "KIRC",
          "LUAD",
          "PRAD",
          "BRCA",
          "COAD",
          "gene"
         ],
         "xaxis": "x8",
         "y": [
          null,
          9,
          null,
          11,
          4
         ],
         "yaxis": "y8"
        },
        {
         "mode": "lines",
         "name": "gene_6811",
         "type": "scatter",
         "x": [
          "KIRC",
          "LUAD",
          "PRAD",
          "BRCA",
          "COAD",
          "gene"
         ],
         "xaxis": "x8",
         "y": [
          5,
          20,
          1,
          32,
          5
         ],
         "yaxis": "y8"
        },
        {
         "mode": "lines",
         "name": "gene_6812",
         "type": "scatter",
         "x": [
          "KIRC",
          "LUAD",
          "PRAD",
          "BRCA",
          "COAD",
          "gene"
         ],
         "xaxis": "x8",
         "y": [
          1,
          3,
          null,
          9,
          3
         ],
         "yaxis": "y8"
        },
        {
         "mode": "lines",
         "name": "gene_6813",
         "type": "scatter",
         "x": [
          "KIRC",
          "LUAD",
          "PRAD",
          "BRCA",
          "COAD",
          "gene"
         ],
         "xaxis": "x8",
         "y": [
          4,
          28,
          2,
          44,
          7
         ],
         "yaxis": "y8"
        },
        {
         "mode": "lines",
         "name": "gene_6814",
         "type": "scatter",
         "x": [
          "KIRC",
          "LUAD",
          "PRAD",
          "BRCA",
          "COAD",
          "gene"
         ],
         "xaxis": "x8",
         "y": [
          2,
          9,
          1,
          18,
          2
         ],
         "yaxis": "y8"
        },
        {
         "mode": "lines",
         "name": "gene_6843",
         "type": "scatter",
         "x": [
          "KIRC",
          "LUAD",
          "PRAD",
          "BRCA",
          "COAD",
          "gene"
         ],
         "xaxis": "x8",
         "y": [
          6,
          10,
          1,
          9,
          5
         ],
         "yaxis": "y8"
        },
        {
         "mode": "lines",
         "name": "gene_6845",
         "type": "scatter",
         "x": [
          "KIRC",
          "LUAD",
          "PRAD",
          "BRCA",
          "COAD",
          "gene"
         ],
         "xaxis": "x8",
         "y": [
          5,
          18,
          2,
          17,
          5
         ],
         "yaxis": "y8"
        },
        {
         "mode": "lines",
         "name": "gene_6873",
         "type": "scatter",
         "x": [
          "KIRC",
          "LUAD",
          "PRAD",
          "BRCA",
          "COAD",
          "gene"
         ],
         "xaxis": "x8",
         "y": [
          1,
          21,
          6,
          23,
          36
         ],
         "yaxis": "y8"
        },
        {
         "mode": "lines",
         "name": "gene_6904",
         "type": "scatter",
         "x": [
          "KIRC",
          "LUAD",
          "PRAD",
          "BRCA",
          "COAD",
          "gene"
         ],
         "xaxis": "x8",
         "y": [
          21,
          36,
          22,
          47,
          9
         ],
         "yaxis": "y8"
        },
        {
         "mode": "lines",
         "name": "gene_6914",
         "type": "scatter",
         "x": [
          "KIRC",
          "LUAD",
          "PRAD",
          "BRCA",
          "COAD",
          "gene"
         ],
         "xaxis": "x8",
         "y": [
          5,
          19,
          85,
          11,
          45
         ],
         "yaxis": "y8"
        },
        {
         "mode": "lines",
         "name": "gene_6922",
         "type": "scatter",
         "x": [
          "KIRC",
          "LUAD",
          "PRAD",
          "BRCA",
          "COAD",
          "gene"
         ],
         "xaxis": "x9",
         "y": [
          36,
          23,
          26,
          63,
          7
         ],
         "yaxis": "y9"
        },
        {
         "mode": "lines",
         "name": "gene_6937",
         "type": "scatter",
         "x": [
          "KIRC",
          "LUAD",
          "PRAD",
          "BRCA",
          "COAD",
          "gene"
         ],
         "xaxis": "x9",
         "y": [
          19,
          8,
          130,
          21,
          4
         ],
         "yaxis": "y9"
        },
        {
         "mode": "lines",
         "name": "gene_6942",
         "type": "scatter",
         "x": [
          "KIRC",
          "LUAD",
          "PRAD",
          "BRCA",
          "COAD",
          "gene"
         ],
         "xaxis": "x9",
         "y": [
          8,
          8,
          6,
          4,
          null
         ],
         "yaxis": "y9"
        },
        {
         "mode": "lines",
         "name": "gene_6979",
         "type": "scatter",
         "x": [
          "KIRC",
          "LUAD",
          "PRAD",
          "BRCA",
          "COAD",
          "gene"
         ],
         "xaxis": "x9",
         "y": [
          8,
          14,
          27,
          16,
          1
         ],
         "yaxis": "y9"
        },
        {
         "mode": "lines",
         "name": "gene_6980",
         "type": "scatter",
         "x": [
          "KIRC",
          "LUAD",
          "PRAD",
          "BRCA",
          "COAD",
          "gene"
         ],
         "xaxis": "x9",
         "y": [
          6,
          5,
          5,
          46,
          1
         ],
         "yaxis": "y9"
        },
        {
         "mode": "lines",
         "name": "gene_6987",
         "type": "scatter",
         "x": [
          "KIRC",
          "LUAD",
          "PRAD",
          "BRCA",
          "COAD",
          "gene"
         ],
         "xaxis": "x9",
         "y": [
          21,
          25,
          7,
          51,
          8
         ],
         "yaxis": "y9"
        },
        {
         "mode": "lines",
         "name": "gene_7001",
         "type": "scatter",
         "x": [
          "KIRC",
          "LUAD",
          "PRAD",
          "BRCA",
          "COAD",
          "gene"
         ],
         "xaxis": "x9",
         "y": [
          14,
          36,
          8,
          39,
          4
         ],
         "yaxis": "y9"
        },
        {
         "mode": "lines",
         "name": "gene_7005",
         "type": "scatter",
         "x": [
          "KIRC",
          "LUAD",
          "PRAD",
          "BRCA",
          "COAD",
          "gene"
         ],
         "xaxis": "x9",
         "y": [
          2,
          2,
          10,
          131,
          18
         ],
         "yaxis": "y9"
        },
        {
         "mode": "lines",
         "name": "gene_7009",
         "type": "scatter",
         "x": [
          "KIRC",
          "LUAD",
          "PRAD",
          "BRCA",
          "COAD",
          "gene"
         ],
         "xaxis": "x9",
         "y": [
          19,
          19,
          10,
          30,
          6
         ],
         "yaxis": "y9"
        },
        {
         "mode": "lines",
         "name": "gene_7010",
         "type": "scatter",
         "x": [
          "KIRC",
          "LUAD",
          "PRAD",
          "BRCA",
          "COAD",
          "gene"
         ],
         "xaxis": "x9",
         "y": [
          21,
          13,
          22,
          32,
          73
         ],
         "yaxis": "y9"
        },
        {
         "mode": "lines",
         "name": "gene_7029",
         "type": "scatter",
         "x": [
          "KIRC",
          "LUAD",
          "PRAD",
          "BRCA",
          "COAD",
          "gene"
         ],
         "xaxis": "x9",
         "y": [
          5,
          53,
          2,
          35,
          7
         ],
         "yaxis": "y9"
        },
        {
         "mode": "lines",
         "name": "gene_7033",
         "type": "scatter",
         "x": [
          "KIRC",
          "LUAD",
          "PRAD",
          "BRCA",
          "COAD",
          "gene"
         ],
         "xaxis": "x9",
         "y": [
          13,
          19,
          13,
          12,
          1
         ],
         "yaxis": "y9"
        },
        {
         "mode": "lines",
         "name": "gene_7038",
         "type": "scatter",
         "x": [
          "KIRC",
          "LUAD",
          "PRAD",
          "BRCA",
          "COAD",
          "gene"
         ],
         "xaxis": "x9",
         "y": [
          51,
          9,
          6,
          14,
          2
         ],
         "yaxis": "y9"
        },
        {
         "mode": "lines",
         "name": "gene_7050",
         "type": "scatter",
         "x": [
          "KIRC",
          "LUAD",
          "PRAD",
          "BRCA",
          "COAD",
          "gene"
         ],
         "xaxis": "x9",
         "y": [
          22,
          6,
          19,
          9,
          10
         ],
         "yaxis": "y9"
        },
        {
         "mode": "lines",
         "name": "gene_7053",
         "type": "scatter",
         "x": [
          "KIRC",
          "LUAD",
          "PRAD",
          "BRCA",
          "COAD",
          "gene"
         ],
         "xaxis": "x9",
         "y": [
          8,
          2,
          4,
          7,
          1
         ],
         "yaxis": "y9"
        },
        {
         "mode": "lines",
         "name": "gene_7057",
         "type": "scatter",
         "x": [
          "KIRC",
          "LUAD",
          "PRAD",
          "BRCA",
          "COAD",
          "gene"
         ],
         "xaxis": "x9",
         "y": [
          29,
          15,
          11,
          31,
          10
         ],
         "yaxis": "y9"
        },
        {
         "mode": "lines",
         "name": "gene_7088",
         "type": "scatter",
         "x": [
          "KIRC",
          "LUAD",
          "PRAD",
          "BRCA",
          "COAD",
          "gene"
         ],
         "xaxis": "x9",
         "y": [
          34,
          19,
          19,
          64,
          17
         ],
         "yaxis": "y9"
        },
        {
         "mode": "lines",
         "name": "gene_7102",
         "type": "scatter",
         "x": [
          "KIRC",
          "LUAD",
          "PRAD",
          "BRCA",
          "COAD",
          "gene"
         ],
         "xaxis": "x9",
         "y": [
          12,
          2,
          1,
          4,
          1
         ],
         "yaxis": "y9"
        },
        {
         "mode": "lines",
         "name": "gene_7115",
         "type": "scatter",
         "x": [
          "KIRC",
          "LUAD",
          "PRAD",
          "BRCA",
          "COAD",
          "gene"
         ],
         "xaxis": "x9",
         "y": [
          10,
          33,
          51,
          70,
          19
         ],
         "yaxis": "y9"
        },
        {
         "mode": "lines",
         "name": "gene_7117",
         "type": "scatter",
         "x": [
          "KIRC",
          "LUAD",
          "PRAD",
          "BRCA",
          "COAD",
          "gene"
         ],
         "xaxis": "x9",
         "y": [
          null,
          null,
          null,
          18,
          null
         ],
         "yaxis": "y9"
        },
        {
         "mode": "lines",
         "name": "gene_7129",
         "type": "scatter",
         "x": [
          "KIRC",
          "LUAD",
          "PRAD",
          "BRCA",
          "COAD",
          "gene"
         ],
         "xaxis": "x9",
         "y": [
          15,
          16,
          9,
          20,
          1
         ],
         "yaxis": "y9"
        },
        {
         "mode": "lines",
         "name": "gene_7151",
         "type": "scatter",
         "x": [
          "KIRC",
          "LUAD",
          "PRAD",
          "BRCA",
          "COAD",
          "gene"
         ],
         "xaxis": "x9",
         "y": [
          8,
          12,
          7,
          41,
          12
         ],
         "yaxis": "y9"
        },
        {
         "mode": "lines",
         "name": "gene_7170",
         "type": "scatter",
         "x": [
          "KIRC",
          "LUAD",
          "PRAD",
          "BRCA",
          "COAD",
          "gene"
         ],
         "xaxis": "x9",
         "y": [
          29,
          40,
          33,
          73,
          24
         ],
         "yaxis": "y9"
        },
        {
         "mode": "lines",
         "name": "gene_7192",
         "type": "scatter",
         "x": [
          "KIRC",
          "LUAD",
          "PRAD",
          "BRCA",
          "COAD",
          "gene"
         ],
         "xaxis": "x9",
         "y": [
          null,
          1,
          4,
          2,
          null
         ],
         "yaxis": "y9"
        },
        {
         "mode": "lines",
         "name": "gene_7199",
         "type": "scatter",
         "x": [
          "KIRC",
          "LUAD",
          "PRAD",
          "BRCA",
          "COAD",
          "gene"
         ],
         "xaxis": "x9",
         "y": [
          24,
          16,
          2,
          24,
          3
         ],
         "yaxis": "y9"
        },
        {
         "mode": "lines",
         "name": "gene_7200",
         "type": "scatter",
         "x": [
          "KIRC",
          "LUAD",
          "PRAD",
          "BRCA",
          "COAD",
          "gene"
         ],
         "xaxis": "x9",
         "y": [
          4,
          8,
          null,
          12,
          null
         ],
         "yaxis": "y9"
        },
        {
         "mode": "lines",
         "name": "gene_7202",
         "type": "scatter",
         "x": [
          "KIRC",
          "LUAD",
          "PRAD",
          "BRCA",
          "COAD",
          "gene"
         ],
         "xaxis": "x9",
         "y": [
          44,
          61,
          17,
          28,
          37
         ],
         "yaxis": "y9"
        },
        {
         "mode": "lines",
         "name": "gene_7212",
         "type": "scatter",
         "x": [
          "KIRC",
          "LUAD",
          "PRAD",
          "BRCA",
          "COAD",
          "gene"
         ],
         "xaxis": "x9",
         "y": [
          36,
          17,
          4,
          14,
          5
         ],
         "yaxis": "y9"
        },
        {
         "mode": "lines",
         "name": "gene_7213",
         "type": "scatter",
         "x": [
          "KIRC",
          "LUAD",
          "PRAD",
          "BRCA",
          "COAD",
          "gene"
         ],
         "xaxis": "x9",
         "y": [
          15,
          4,
          4,
          5,
          3
         ],
         "yaxis": "y9"
        },
        {
         "mode": "lines",
         "name": "gene_7230",
         "type": "scatter",
         "x": [
          "KIRC",
          "LUAD",
          "PRAD",
          "BRCA",
          "COAD",
          "gene"
         ],
         "xaxis": "x9",
         "y": [
          null,
          4,
          1,
          6,
          1
         ],
         "yaxis": "y9"
        },
        {
         "mode": "lines",
         "name": "gene_7262",
         "type": "scatter",
         "x": [
          "KIRC",
          "LUAD",
          "PRAD",
          "BRCA",
          "COAD",
          "gene"
         ],
         "xaxis": "x9",
         "y": [
          1,
          null,
          null,
          2,
          null
         ],
         "yaxis": "y9"
        },
        {
         "mode": "lines",
         "name": "gene_7274",
         "type": "scatter",
         "x": [
          "KIRC",
          "LUAD",
          "PRAD",
          "BRCA",
          "COAD",
          "gene"
         ],
         "xaxis": "x9",
         "y": [
          14,
          6,
          9,
          10,
          1
         ],
         "yaxis": "y9"
        },
        {
         "mode": "lines",
         "name": "gene_7286",
         "type": "scatter",
         "x": [
          "KIRC",
          "LUAD",
          "PRAD",
          "BRCA",
          "COAD",
          "gene"
         ],
         "xaxis": "x9",
         "y": [
          7,
          15,
          10,
          10,
          16
         ],
         "yaxis": "y9"
        },
        {
         "mode": "lines",
         "name": "gene_7300",
         "type": "scatter",
         "x": [
          "KIRC",
          "LUAD",
          "PRAD",
          "BRCA",
          "COAD",
          "gene"
         ],
         "xaxis": "x9",
         "y": [
          9,
          3,
          null,
          131,
          null
         ],
         "yaxis": "y9"
        },
        {
         "mode": "lines",
         "name": "gene_7306",
         "type": "scatter",
         "x": [
          "KIRC",
          "LUAD",
          "PRAD",
          "BRCA",
          "COAD",
          "gene"
         ],
         "xaxis": "x9",
         "y": [
          18,
          16,
          28,
          28,
          6
         ],
         "yaxis": "y9"
        },
        {
         "mode": "lines",
         "name": "gene_7307",
         "type": "scatter",
         "x": [
          "KIRC",
          "LUAD",
          "PRAD",
          "BRCA",
          "COAD",
          "gene"
         ],
         "xaxis": "x9",
         "y": [
          12,
          14,
          26,
          27,
          6
         ],
         "yaxis": "y9"
        },
        {
         "mode": "lines",
         "name": "gene_7309",
         "type": "scatter",
         "x": [
          "KIRC",
          "LUAD",
          "PRAD",
          "BRCA",
          "COAD",
          "gene"
         ],
         "xaxis": "x9",
         "y": [
          24,
          11,
          22,
          32,
          6
         ],
         "yaxis": "y9"
        },
        {
         "mode": "lines",
         "name": "gene_7341",
         "type": "scatter",
         "x": [
          "KIRC",
          "LUAD",
          "PRAD",
          "BRCA",
          "COAD",
          "gene"
         ],
         "xaxis": "x9",
         "y": [
          24,
          13,
          18,
          15,
          6
         ],
         "yaxis": "y9"
        },
        {
         "mode": "lines",
         "name": "gene_7351",
         "type": "scatter",
         "x": [
          "KIRC",
          "LUAD",
          "PRAD",
          "BRCA",
          "COAD",
          "gene"
         ],
         "xaxis": "x9",
         "y": [
          26,
          50,
          9,
          44,
          13
         ],
         "yaxis": "y9"
        },
        {
         "mode": "lines",
         "name": "gene_7361",
         "type": "scatter",
         "x": [
          "KIRC",
          "LUAD",
          "PRAD",
          "BRCA",
          "COAD",
          "gene"
         ],
         "xaxis": "x9",
         "y": [
          6,
          15,
          6,
          117,
          4
         ],
         "yaxis": "y9"
        },
        {
         "mode": "lines",
         "name": "gene_7364",
         "type": "scatter",
         "x": [
          "KIRC",
          "LUAD",
          "PRAD",
          "BRCA",
          "COAD",
          "gene"
         ],
         "xaxis": "x9",
         "y": [
          17,
          35,
          8,
          57,
          21
         ],
         "yaxis": "y9"
        },
        {
         "mode": "lines",
         "name": "gene_7398",
         "type": "scatter",
         "x": [
          "KIRC",
          "LUAD",
          "PRAD",
          "BRCA",
          "COAD",
          "gene"
         ],
         "xaxis": "x9",
         "y": [
          20,
          6,
          94,
          10,
          6
         ],
         "yaxis": "y9"
        },
        {
         "mode": "lines",
         "name": "gene_7399",
         "type": "scatter",
         "x": [
          "KIRC",
          "LUAD",
          "PRAD",
          "BRCA",
          "COAD",
          "gene"
         ],
         "xaxis": "x9",
         "y": [
          6,
          4,
          13,
          7,
          1
         ],
         "yaxis": "y9"
        },
        {
         "mode": "lines",
         "name": "gene_7471",
         "type": "scatter",
         "x": [
          "KIRC",
          "LUAD",
          "PRAD",
          "BRCA",
          "COAD",
          "gene"
         ],
         "xaxis": "x9",
         "y": [
          2,
          1,
          12,
          3,
          null
         ],
         "yaxis": "y9"
        },
        {
         "mode": "lines",
         "name": "gene_7472",
         "type": "scatter",
         "x": [
          "KIRC",
          "LUAD",
          "PRAD",
          "BRCA",
          "COAD",
          "gene"
         ],
         "xaxis": "x9",
         "y": [
          10,
          8,
          74,
          26,
          4
         ],
         "yaxis": "y9"
        },
        {
         "mode": "lines",
         "name": "gene_7473",
         "type": "scatter",
         "x": [
          "KIRC",
          "LUAD",
          "PRAD",
          "BRCA",
          "COAD",
          "gene"
         ],
         "xaxis": "x9",
         "y": [
          null,
          null,
          null,
          2,
          null
         ],
         "yaxis": "y9"
        },
        {
         "mode": "lines",
         "name": "gene_7493",
         "type": "scatter",
         "x": [
          "KIRC",
          "LUAD",
          "PRAD",
          "BRCA",
          "COAD",
          "gene"
         ],
         "xaxis": "x9",
         "y": [
          25,
          58,
          13,
          72,
          null
         ],
         "yaxis": "y9"
        },
        {
         "mode": "lines",
         "name": "gene_7507",
         "type": "scatter",
         "x": [
          "KIRC",
          "LUAD",
          "PRAD",
          "BRCA",
          "COAD",
          "gene"
         ],
         "xaxis": "x9",
         "y": [
          4,
          2,
          7,
          8,
          1
         ],
         "yaxis": "y9"
        },
        {
         "mode": "lines",
         "name": "gene_7508",
         "type": "scatter",
         "x": [
          "KIRC",
          "LUAD",
          "PRAD",
          "BRCA",
          "COAD",
          "gene"
         ],
         "xaxis": "x9",
         "y": [
          5,
          5,
          17,
          20,
          7
         ],
         "yaxis": "y9"
        },
        {
         "mode": "lines",
         "name": "gene_7510",
         "type": "scatter",
         "x": [
          "KIRC",
          "LUAD",
          "PRAD",
          "BRCA",
          "COAD",
          "gene"
         ],
         "xaxis": "x9",
         "y": [
          1,
          null,
          null,
          2,
          10
         ],
         "yaxis": "y9"
        },
        {
         "mode": "lines",
         "name": "gene_7511",
         "type": "scatter",
         "x": [
          "KIRC",
          "LUAD",
          "PRAD",
          "BRCA",
          "COAD",
          "gene"
         ],
         "xaxis": "x9",
         "y": [
          17,
          26,
          6,
          18,
          5
         ],
         "yaxis": "y9"
        },
        {
         "mode": "lines",
         "name": "gene_7553",
         "type": "scatter",
         "x": [
          "KIRC",
          "LUAD",
          "PRAD",
          "BRCA",
          "COAD",
          "gene"
         ],
         "xaxis": "x9",
         "y": [
          33,
          4,
          2,
          2,
          2
         ],
         "yaxis": "y9"
        },
        {
         "mode": "lines",
         "name": "gene_7562",
         "type": "scatter",
         "x": [
          "KIRC",
          "LUAD",
          "PRAD",
          "BRCA",
          "COAD",
          "gene"
         ],
         "xaxis": "x10",
         "y": [
          30,
          49,
          8,
          46,
          9
         ],
         "yaxis": "y10"
        },
        {
         "mode": "lines",
         "name": "gene_7563",
         "type": "scatter",
         "x": [
          "KIRC",
          "LUAD",
          "PRAD",
          "BRCA",
          "COAD",
          "gene"
         ],
         "xaxis": "x10",
         "y": [
          20,
          38,
          8,
          35,
          6
         ],
         "yaxis": "y10"
        },
        {
         "mode": "lines",
         "name": "gene_7580",
         "type": "scatter",
         "x": [
          "KIRC",
          "LUAD",
          "PRAD",
          "BRCA",
          "COAD",
          "gene"
         ],
         "xaxis": "x10",
         "y": [
          24,
          6,
          null,
          4,
          1
         ],
         "yaxis": "y10"
        },
        {
         "mode": "lines",
         "name": "gene_7594",
         "type": "scatter",
         "x": [
          "KIRC",
          "LUAD",
          "PRAD",
          "BRCA",
          "COAD",
          "gene"
         ],
         "xaxis": "x10",
         "y": [
          10,
          8,
          null,
          22,
          3
         ],
         "yaxis": "y10"
        },
        {
         "mode": "lines",
         "name": "gene_7603",
         "type": "scatter",
         "x": [
          "KIRC",
          "LUAD",
          "PRAD",
          "BRCA",
          "COAD",
          "gene"
         ],
         "xaxis": "x10",
         "y": [
          35,
          12,
          11,
          31,
          4
         ],
         "yaxis": "y10"
        },
        {
         "mode": "lines",
         "name": "gene_7604",
         "type": "scatter",
         "x": [
          "KIRC",
          "LUAD",
          "PRAD",
          "BRCA",
          "COAD",
          "gene"
         ],
         "xaxis": "x10",
         "y": [
          11,
          20,
          4,
          15,
          6
         ],
         "yaxis": "y10"
        },
        {
         "mode": "lines",
         "name": "gene_7654",
         "type": "scatter",
         "x": [
          "KIRC",
          "LUAD",
          "PRAD",
          "BRCA",
          "COAD",
          "gene"
         ],
         "xaxis": "x10",
         "y": [
          18,
          29,
          8,
          24,
          8
         ],
         "yaxis": "y10"
        },
        {
         "mode": "lines",
         "name": "gene_7666",
         "type": "scatter",
         "x": [
          "KIRC",
          "LUAD",
          "PRAD",
          "BRCA",
          "COAD",
          "gene"
         ],
         "xaxis": "x10",
         "y": [
          59,
          26,
          7,
          23,
          8
         ],
         "yaxis": "y10"
        },
        {
         "mode": "lines",
         "name": "gene_7671",
         "type": "scatter",
         "x": [
          "KIRC",
          "LUAD",
          "PRAD",
          "BRCA",
          "COAD",
          "gene"
         ],
         "xaxis": "x10",
         "y": [
          24,
          30,
          47,
          91,
          8
         ],
         "yaxis": "y10"
        },
        {
         "mode": "lines",
         "name": "gene_7694",
         "type": "scatter",
         "x": [
          "KIRC",
          "LUAD",
          "PRAD",
          "BRCA",
          "COAD",
          "gene"
         ],
         "xaxis": "x10",
         "y": [
          29,
          43,
          11,
          30,
          45
         ],
         "yaxis": "y10"
        },
        {
         "mode": "lines",
         "name": "gene_7710",
         "type": "scatter",
         "x": [
          "KIRC",
          "LUAD",
          "PRAD",
          "BRCA",
          "COAD",
          "gene"
         ],
         "xaxis": "x10",
         "y": [
          4,
          7,
          13,
          50,
          1
         ],
         "yaxis": "y10"
        },
        {
         "mode": "lines",
         "name": "gene_7727",
         "type": "scatter",
         "x": [
          "KIRC",
          "LUAD",
          "PRAD",
          "BRCA",
          "COAD",
          "gene"
         ],
         "xaxis": "x10",
         "y": [
          34,
          28,
          10,
          68,
          13
         ],
         "yaxis": "y10"
        },
        {
         "mode": "lines",
         "name": "gene_7740",
         "type": "scatter",
         "x": [
          "KIRC",
          "LUAD",
          "PRAD",
          "BRCA",
          "COAD",
          "gene"
         ],
         "xaxis": "x10",
         "y": [
          18,
          34,
          41,
          19,
          3
         ],
         "yaxis": "y10"
        },
        {
         "mode": "lines",
         "name": "gene_7761",
         "type": "scatter",
         "x": [
          "KIRC",
          "LUAD",
          "PRAD",
          "BRCA",
          "COAD",
          "gene"
         ],
         "xaxis": "x10",
         "y": [
          null,
          4,
          null,
          3,
          1
         ],
         "yaxis": "y10"
        },
        {
         "mode": "lines",
         "name": "gene_7791",
         "type": "scatter",
         "x": [
          "KIRC",
          "LUAD",
          "PRAD",
          "BRCA",
          "COAD",
          "gene"
         ],
         "xaxis": "x10",
         "y": [
          22,
          29,
          12,
          46,
          20
         ],
         "yaxis": "y10"
        },
        {
         "mode": "lines",
         "name": "gene_7806",
         "type": "scatter",
         "x": [
          "KIRC",
          "LUAD",
          "PRAD",
          "BRCA",
          "COAD",
          "gene"
         ],
         "xaxis": "x10",
         "y": [
          12,
          1,
          2,
          5,
          3
         ],
         "yaxis": "y10"
        },
        {
         "mode": "lines",
         "name": "gene_7822",
         "type": "scatter",
         "x": [
          "KIRC",
          "LUAD",
          "PRAD",
          "BRCA",
          "COAD",
          "gene"
         ],
         "xaxis": "x10",
         "y": [
          25,
          26,
          15,
          64,
          5
         ],
         "yaxis": "y10"
        },
        {
         "mode": "lines",
         "name": "gene_7828",
         "type": "scatter",
         "x": [
          "KIRC",
          "LUAD",
          "PRAD",
          "BRCA",
          "COAD",
          "gene"
         ],
         "xaxis": "x10",
         "y": [
          51,
          5,
          2,
          1,
          null
         ],
         "yaxis": "y10"
        },
        {
         "mode": "lines",
         "name": "gene_7839",
         "type": "scatter",
         "x": [
          "KIRC",
          "LUAD",
          "PRAD",
          "BRCA",
          "COAD",
          "gene"
         ],
         "xaxis": "x10",
         "y": [
          30,
          25,
          1,
          5,
          null
         ],
         "yaxis": "y10"
        },
        {
         "mode": "lines",
         "name": "gene_7869",
         "type": "scatter",
         "x": [
          "KIRC",
          "LUAD",
          "PRAD",
          "BRCA",
          "COAD",
          "gene"
         ],
         "xaxis": "x10",
         "y": [
          25,
          11,
          6,
          45,
          12
         ],
         "yaxis": "y10"
        },
        {
         "mode": "lines",
         "name": "gene_7870",
         "type": "scatter",
         "x": [
          "KIRC",
          "LUAD",
          "PRAD",
          "BRCA",
          "COAD",
          "gene"
         ],
         "xaxis": "x10",
         "y": [
          1,
          5,
          2,
          9,
          1
         ],
         "yaxis": "y10"
        },
        {
         "mode": "lines",
         "name": "gene_7875",
         "type": "scatter",
         "x": [
          "KIRC",
          "LUAD",
          "PRAD",
          "BRCA",
          "COAD",
          "gene"
         ],
         "xaxis": "x10",
         "y": [
          10,
          17,
          12,
          37,
          29
         ],
         "yaxis": "y10"
        },
        {
         "mode": "lines",
         "name": "gene_7936",
         "type": "scatter",
         "x": [
          "KIRC",
          "LUAD",
          "PRAD",
          "BRCA",
          "COAD",
          "gene"
         ],
         "xaxis": "x10",
         "y": [
          16,
          57,
          28,
          53,
          21
         ],
         "yaxis": "y10"
        },
        {
         "mode": "lines",
         "name": "gene_7938",
         "type": "scatter",
         "x": [
          "KIRC",
          "LUAD",
          "PRAD",
          "BRCA",
          "COAD",
          "gene"
         ],
         "xaxis": "x10",
         "y": [
          9,
          18,
          2,
          5,
          5
         ],
         "yaxis": "y10"
        },
        {
         "mode": "lines",
         "name": "gene_7960",
         "type": "scatter",
         "x": [
          "KIRC",
          "LUAD",
          "PRAD",
          "BRCA",
          "COAD",
          "gene"
         ],
         "xaxis": "x10",
         "y": [
          19,
          12,
          29,
          91,
          35
         ],
         "yaxis": "y10"
        },
        {
         "mode": "lines",
         "name": "gene_7975",
         "type": "scatter",
         "x": [
          "KIRC",
          "LUAD",
          "PRAD",
          "BRCA",
          "COAD",
          "gene"
         ],
         "xaxis": "x10",
         "y": [
          2,
          2,
          null,
          2,
          null
         ],
         "yaxis": "y10"
        },
        {
         "mode": "lines",
         "name": "gene_8015",
         "type": "scatter",
         "x": [
          "KIRC",
          "LUAD",
          "PRAD",
          "BRCA",
          "COAD",
          "gene"
         ],
         "xaxis": "x10",
         "y": [
          17,
          31,
          8,
          129,
          4
         ],
         "yaxis": "y10"
        },
        {
         "mode": "lines",
         "name": "gene_8035",
         "type": "scatter",
         "x": [
          "KIRC",
          "LUAD",
          "PRAD",
          "BRCA",
          "COAD",
          "gene"
         ],
         "xaxis": "x10",
         "y": [
          17,
          23,
          97,
          19,
          41
         ],
         "yaxis": "y10"
        },
        {
         "mode": "lines",
         "name": "gene_8060",
         "type": "scatter",
         "x": [
          "KIRC",
          "LUAD",
          "PRAD",
          "BRCA",
          "COAD",
          "gene"
         ],
         "xaxis": "x10",
         "y": [
          69,
          1,
          12,
          11,
          4
         ],
         "yaxis": "y10"
        },
        {
         "mode": "lines",
         "name": "gene_8123",
         "type": "scatter",
         "x": [
          "KIRC",
          "LUAD",
          "PRAD",
          "BRCA",
          "COAD",
          "gene"
         ],
         "xaxis": "x10",
         "y": [
          50,
          24,
          106,
          2,
          5
         ],
         "yaxis": "y10"
        },
        {
         "mode": "lines",
         "name": "gene_8124",
         "type": "scatter",
         "x": [
          "KIRC",
          "LUAD",
          "PRAD",
          "BRCA",
          "COAD",
          "gene"
         ],
         "xaxis": "x10",
         "y": [
          4,
          1,
          null,
          9,
          null
         ],
         "yaxis": "y10"
        },
        {
         "mode": "lines",
         "name": "gene_8168",
         "type": "scatter",
         "x": [
          "KIRC",
          "LUAD",
          "PRAD",
          "BRCA",
          "COAD",
          "gene"
         ],
         "xaxis": "x10",
         "y": [
          null,
          1,
          13,
          25,
          6
         ],
         "yaxis": "y10"
        },
        {
         "mode": "lines",
         "name": "gene_8169",
         "type": "scatter",
         "x": [
          "KIRC",
          "LUAD",
          "PRAD",
          "BRCA",
          "COAD",
          "gene"
         ],
         "xaxis": "x10",
         "y": [
          null,
          null,
          3,
          6,
          1
         ],
         "yaxis": "y10"
        },
        {
         "mode": "lines",
         "name": "gene_8170",
         "type": "scatter",
         "x": [
          "KIRC",
          "LUAD",
          "PRAD",
          "BRCA",
          "COAD",
          "gene"
         ],
         "xaxis": "x10",
         "y": [
          19,
          10,
          11,
          44,
          1
         ],
         "yaxis": "y10"
        },
        {
         "mode": "lines",
         "name": "gene_8179",
         "type": "scatter",
         "x": [
          "KIRC",
          "LUAD",
          "PRAD",
          "BRCA",
          "COAD",
          "gene"
         ],
         "xaxis": "x10",
         "y": [
          17,
          39,
          14,
          19,
          6
         ],
         "yaxis": "y10"
        },
        {
         "mode": "lines",
         "name": "gene_8181",
         "type": "scatter",
         "x": [
          "KIRC",
          "LUAD",
          "PRAD",
          "BRCA",
          "COAD",
          "gene"
         ],
         "xaxis": "x10",
         "y": [
          17,
          9,
          9,
          13,
          3
         ],
         "yaxis": "y10"
        },
        {
         "mode": "lines",
         "name": "gene_8184",
         "type": "scatter",
         "x": [
          "KIRC",
          "LUAD",
          "PRAD",
          "BRCA",
          "COAD",
          "gene"
         ],
         "xaxis": "x10",
         "y": [
          12,
          15,
          10,
          30,
          7
         ],
         "yaxis": "y10"
        },
        {
         "mode": "lines",
         "name": "gene_8203",
         "type": "scatter",
         "x": [
          "KIRC",
          "LUAD",
          "PRAD",
          "BRCA",
          "COAD",
          "gene"
         ],
         "xaxis": "x10",
         "y": [
          2,
          4,
          2,
          2,
          2
         ],
         "yaxis": "y10"
        },
        {
         "mode": "lines",
         "name": "gene_8210",
         "type": "scatter",
         "x": [
          "KIRC",
          "LUAD",
          "PRAD",
          "BRCA",
          "COAD",
          "gene"
         ],
         "xaxis": "x10",
         "y": [
          9,
          39,
          81,
          19,
          9
         ],
         "yaxis": "y10"
        },
        {
         "mode": "lines",
         "name": "gene_8272",
         "type": "scatter",
         "x": [
          "KIRC",
          "LUAD",
          "PRAD",
          "BRCA",
          "COAD",
          "gene"
         ],
         "xaxis": "x10",
         "y": [
          4,
          3,
          1,
          16,
          null
         ],
         "yaxis": "y10"
        },
        {
         "mode": "lines",
         "name": "gene_8273",
         "type": "scatter",
         "x": [
          "KIRC",
          "LUAD",
          "PRAD",
          "BRCA",
          "COAD",
          "gene"
         ],
         "xaxis": "x10",
         "y": [
          58,
          24,
          16,
          36,
          6
         ],
         "yaxis": "y10"
        },
        {
         "mode": "lines",
         "name": "gene_8274",
         "type": "scatter",
         "x": [
          "KIRC",
          "LUAD",
          "PRAD",
          "BRCA",
          "COAD",
          "gene"
         ],
         "xaxis": "x10",
         "y": [
          10,
          2,
          5,
          15,
          null
         ],
         "yaxis": "y10"
        },
        {
         "mode": "lines",
         "name": "gene_8275",
         "type": "scatter",
         "x": [
          "KIRC",
          "LUAD",
          "PRAD",
          "BRCA",
          "COAD",
          "gene"
         ],
         "xaxis": "x10",
         "y": [
          6,
          1,
          1,
          6,
          null
         ],
         "yaxis": "y10"
        },
        {
         "mode": "lines",
         "name": "gene_8276",
         "type": "scatter",
         "x": [
          "KIRC",
          "LUAD",
          "PRAD",
          "BRCA",
          "COAD",
          "gene"
         ],
         "xaxis": "x10",
         "y": [
          4,
          2,
          1,
          7,
          null
         ],
         "yaxis": "y10"
        },
        {
         "mode": "lines",
         "name": "gene_8277",
         "type": "scatter",
         "x": [
          "KIRC",
          "LUAD",
          "PRAD",
          "BRCA",
          "COAD",
          "gene"
         ],
         "xaxis": "x10",
         "y": [
          32,
          20,
          14,
          22,
          12
         ],
         "yaxis": "y10"
        },
        {
         "mode": "lines",
         "name": "gene_8278",
         "type": "scatter",
         "x": [
          "KIRC",
          "LUAD",
          "PRAD",
          "BRCA",
          "COAD",
          "gene"
         ],
         "xaxis": "x10",
         "y": [
          49,
          20,
          32,
          61,
          7
         ],
         "yaxis": "y10"
        },
        {
         "mode": "lines",
         "name": "gene_8279",
         "type": "scatter",
         "x": [
          "KIRC",
          "LUAD",
          "PRAD",
          "BRCA",
          "COAD",
          "gene"
         ],
         "xaxis": "x10",
         "y": [
          4,
          2,
          4,
          14,
          null
         ],
         "yaxis": "y10"
        },
        {
         "mode": "lines",
         "name": "gene_8280",
         "type": "scatter",
         "x": [
          "KIRC",
          "LUAD",
          "PRAD",
          "BRCA",
          "COAD",
          "gene"
         ],
         "xaxis": "x10",
         "y": [
          7,
          5,
          5,
          14,
          2
         ],
         "yaxis": "y10"
        },
        {
         "mode": "lines",
         "name": "gene_8281",
         "type": "scatter",
         "x": [
          "KIRC",
          "LUAD",
          "PRAD",
          "BRCA",
          "COAD",
          "gene"
         ],
         "xaxis": "x10",
         "y": [
          47,
          13,
          7,
          62,
          6
         ],
         "yaxis": "y10"
        },
        {
         "mode": "lines",
         "name": "gene_8282",
         "type": "scatter",
         "x": [
          "KIRC",
          "LUAD",
          "PRAD",
          "BRCA",
          "COAD",
          "gene"
         ],
         "xaxis": "x10",
         "y": [
          6,
          null,
          3,
          5,
          null
         ],
         "yaxis": "y10"
        },
        {
         "mode": "lines",
         "name": "gene_8283",
         "type": "scatter",
         "x": [
          "KIRC",
          "LUAD",
          "PRAD",
          "BRCA",
          "COAD",
          "gene"
         ],
         "xaxis": "x10",
         "y": [
          4,
          2,
          3,
          11,
          null
         ],
         "yaxis": "y10"
        },
        {
         "mode": "lines",
         "name": "gene_8284",
         "type": "scatter",
         "x": [
          "KIRC",
          "LUAD",
          "PRAD",
          "BRCA",
          "COAD",
          "gene"
         ],
         "xaxis": "x10",
         "y": [
          12,
          6,
          1,
          9,
          3
         ],
         "yaxis": "y10"
        },
        {
         "mode": "lines",
         "name": "gene_8292",
         "type": "scatter",
         "x": [
          "KIRC",
          "LUAD",
          "PRAD",
          "BRCA",
          "COAD",
          "gene"
         ],
         "xaxis": "x11",
         "y": [
          50,
          22,
          17,
          34,
          2
         ],
         "yaxis": "y11"
        },
        {
         "mode": "lines",
         "name": "gene_8380",
         "type": "scatter",
         "x": [
          "KIRC",
          "LUAD",
          "PRAD",
          "BRCA",
          "COAD",
          "gene"
         ],
         "xaxis": "x11",
         "y": [
          63,
          33,
          14,
          22,
          47
         ],
         "yaxis": "y11"
        },
        {
         "mode": "lines",
         "name": "gene_8394",
         "type": "scatter",
         "x": [
          "KIRC",
          "LUAD",
          "PRAD",
          "BRCA",
          "COAD",
          "gene"
         ],
         "xaxis": "x11",
         "y": [
          8,
          34,
          56,
          14,
          9
         ],
         "yaxis": "y11"
        },
        {
         "mode": "lines",
         "name": "gene_8396",
         "type": "scatter",
         "x": [
          "KIRC",
          "LUAD",
          "PRAD",
          "BRCA",
          "COAD",
          "gene"
         ],
         "xaxis": "x11",
         "y": [
          3,
          12,
          2,
          8,
          2
         ],
         "yaxis": "y11"
        },
        {
         "mode": "lines",
         "name": "gene_8398",
         "type": "scatter",
         "x": [
          "KIRC",
          "LUAD",
          "PRAD",
          "BRCA",
          "COAD",
          "gene"
         ],
         "xaxis": "x11",
         "y": [
          21,
          39,
          7,
          37,
          21
         ],
         "yaxis": "y11"
        },
        {
         "mode": "lines",
         "name": "gene_8412",
         "type": "scatter",
         "x": [
          "KIRC",
          "LUAD",
          "PRAD",
          "BRCA",
          "COAD",
          "gene"
         ],
         "xaxis": "x11",
         "y": [
          13,
          51,
          12,
          63,
          23
         ],
         "yaxis": "y11"
        },
        {
         "mode": "lines",
         "name": "gene_8415",
         "type": "scatter",
         "x": [
          "KIRC",
          "LUAD",
          "PRAD",
          "BRCA",
          "COAD",
          "gene"
         ],
         "xaxis": "x11",
         "y": [
          8,
          16,
          8,
          15,
          27
         ],
         "yaxis": "y11"
        },
        {
         "mode": "lines",
         "name": "gene_8423",
         "type": "scatter",
         "x": [
          "KIRC",
          "LUAD",
          "PRAD",
          "BRCA",
          "COAD",
          "gene"
         ],
         "xaxis": "x11",
         "y": [
          10,
          26,
          5,
          93,
          6
         ],
         "yaxis": "y11"
        },
        {
         "mode": "lines",
         "name": "gene_8424",
         "type": "scatter",
         "x": [
          "KIRC",
          "LUAD",
          "PRAD",
          "BRCA",
          "COAD",
          "gene"
         ],
         "xaxis": "x11",
         "y": [
          3,
          25,
          8,
          78,
          5
         ],
         "yaxis": "y11"
        },
        {
         "mode": "lines",
         "name": "gene_8432",
         "type": "scatter",
         "x": [
          "KIRC",
          "LUAD",
          "PRAD",
          "BRCA",
          "COAD",
          "gene"
         ],
         "xaxis": "x11",
         "y": [
          3,
          4,
          10,
          5,
          1
         ],
         "yaxis": "y11"
        },
        {
         "mode": "lines",
         "name": "gene_8437",
         "type": "scatter",
         "x": [
          "KIRC",
          "LUAD",
          "PRAD",
          "BRCA",
          "COAD",
          "gene"
         ],
         "xaxis": "x11",
         "y": [
          9,
          2,
          null,
          14,
          3
         ],
         "yaxis": "y11"
        },
        {
         "mode": "lines",
         "name": "gene_8440",
         "type": "scatter",
         "x": [
          "KIRC",
          "LUAD",
          "PRAD",
          "BRCA",
          "COAD",
          "gene"
         ],
         "xaxis": "x11",
         "y": [
          34,
          41,
          14,
          36,
          7
         ],
         "yaxis": "y11"
        },
        {
         "mode": "lines",
         "name": "gene_8450",
         "type": "scatter",
         "x": [
          "KIRC",
          "LUAD",
          "PRAD",
          "BRCA",
          "COAD",
          "gene"
         ],
         "xaxis": "x11",
         "y": [
          7,
          2,
          1,
          13,
          2
         ],
         "yaxis": "y11"
        },
        {
         "mode": "lines",
         "name": "gene_8463",
         "type": "scatter",
         "x": [
          "KIRC",
          "LUAD",
          "PRAD",
          "BRCA",
          "COAD",
          "gene"
         ],
         "xaxis": "x11",
         "y": [
          45,
          5,
          7,
          136,
          3
         ],
         "yaxis": "y11"
        },
        {
         "mode": "lines",
         "name": "gene_8512",
         "type": "scatter",
         "x": [
          "KIRC",
          "LUAD",
          "PRAD",
          "BRCA",
          "COAD",
          "gene"
         ],
         "xaxis": "x11",
         "y": [
          17,
          70,
          8,
          43,
          15
         ],
         "yaxis": "y11"
        },
        {
         "mode": "lines",
         "name": "gene_8514",
         "type": "scatter",
         "x": [
          "KIRC",
          "LUAD",
          "PRAD",
          "BRCA",
          "COAD",
          "gene"
         ],
         "xaxis": "x11",
         "y": [
          23,
          27,
          32,
          60,
          4
         ],
         "yaxis": "y11"
        },
        {
         "mode": "lines",
         "name": "gene_8519",
         "type": "scatter",
         "x": [
          "KIRC",
          "LUAD",
          "PRAD",
          "BRCA",
          "COAD",
          "gene"
         ],
         "xaxis": "x11",
         "y": [
          null,
          4,
          12,
          9,
          4
         ],
         "yaxis": "y11"
        },
        {
         "mode": "lines",
         "name": "gene_8556",
         "type": "scatter",
         "x": [
          "KIRC",
          "LUAD",
          "PRAD",
          "BRCA",
          "COAD",
          "gene"
         ],
         "xaxis": "x11",
         "y": [
          3,
          2,
          2,
          3,
          null
         ],
         "yaxis": "y11"
        },
        {
         "mode": "lines",
         "name": "gene_8557",
         "type": "scatter",
         "x": [
          "KIRC",
          "LUAD",
          "PRAD",
          "BRCA",
          "COAD",
          "gene"
         ],
         "xaxis": "x11",
         "y": [
          16,
          7,
          10,
          15,
          2
         ],
         "yaxis": "y11"
        },
        {
         "mode": "lines",
         "name": "gene_8558",
         "type": "scatter",
         "x": [
          "KIRC",
          "LUAD",
          "PRAD",
          "BRCA",
          "COAD",
          "gene"
         ],
         "xaxis": "x11",
         "y": [
          6,
          6,
          3,
          4,
          1
         ],
         "yaxis": "y11"
        },
        {
         "mode": "lines",
         "name": "gene_8559",
         "type": "scatter",
         "x": [
          "KIRC",
          "LUAD",
          "PRAD",
          "BRCA",
          "COAD",
          "gene"
         ],
         "xaxis": "x11",
         "y": [
          29,
          30,
          30,
          41,
          8
         ],
         "yaxis": "y11"
        },
        {
         "mode": "lines",
         "name": "gene_8562",
         "type": "scatter",
         "x": [
          "KIRC",
          "LUAD",
          "PRAD",
          "BRCA",
          "COAD",
          "gene"
         ],
         "xaxis": "x11",
         "y": [
          18,
          16,
          10,
          125,
          3
         ],
         "yaxis": "y11"
        },
        {
         "mode": "lines",
         "name": "gene_8743",
         "type": "scatter",
         "x": [
          "KIRC",
          "LUAD",
          "PRAD",
          "BRCA",
          "COAD",
          "gene"
         ],
         "xaxis": "x11",
         "y": [
          50,
          23,
          59,
          60,
          8
         ],
         "yaxis": "y11"
        },
        {
         "mode": "lines",
         "name": "gene_8747",
         "type": "scatter",
         "x": [
          "KIRC",
          "LUAD",
          "PRAD",
          "BRCA",
          "COAD",
          "gene"
         ],
         "xaxis": "x11",
         "y": [
          23,
          24,
          70,
          49,
          7
         ],
         "yaxis": "y11"
        },
        {
         "mode": "lines",
         "name": "gene_8753",
         "type": "scatter",
         "x": [
          "KIRC",
          "LUAD",
          "PRAD",
          "BRCA",
          "COAD",
          "gene"
         ],
         "xaxis": "x11",
         "y": [
          18,
          68,
          17,
          39,
          41
         ],
         "yaxis": "y11"
        },
        {
         "mode": "lines",
         "name": "gene_8782",
         "type": "scatter",
         "x": [
          "KIRC",
          "LUAD",
          "PRAD",
          "BRCA",
          "COAD",
          "gene"
         ],
         "xaxis": "x11",
         "y": [
          11,
          19,
          34,
          34,
          1
         ],
         "yaxis": "y11"
        },
        {
         "mode": "lines",
         "name": "gene_8787",
         "type": "scatter",
         "x": [
          "KIRC",
          "LUAD",
          "PRAD",
          "BRCA",
          "COAD",
          "gene"
         ],
         "xaxis": "x11",
         "y": [
          21,
          36,
          57,
          55,
          13
         ],
         "yaxis": "y11"
        },
        {
         "mode": "lines",
         "name": "gene_8814",
         "type": "scatter",
         "x": [
          "KIRC",
          "LUAD",
          "PRAD",
          "BRCA",
          "COAD",
          "gene"
         ],
         "xaxis": "x11",
         "y": [
          28,
          59,
          23,
          53,
          9
         ],
         "yaxis": "y11"
        },
        {
         "mode": "lines",
         "name": "gene_8816",
         "type": "scatter",
         "x": [
          "KIRC",
          "LUAD",
          "PRAD",
          "BRCA",
          "COAD",
          "gene"
         ],
         "xaxis": "x11",
         "y": [
          5,
          4,
          1,
          10,
          null
         ],
         "yaxis": "y11"
        },
        {
         "mode": "lines",
         "name": "gene_8834",
         "type": "scatter",
         "x": [
          "KIRC",
          "LUAD",
          "PRAD",
          "BRCA",
          "COAD",
          "gene"
         ],
         "xaxis": "x11",
         "y": [
          32,
          22,
          7,
          52,
          7
         ],
         "yaxis": "y11"
        },
        {
         "mode": "lines",
         "name": "gene_9066",
         "type": "scatter",
         "x": [
          "KIRC",
          "LUAD",
          "PRAD",
          "BRCA",
          "COAD",
          "gene"
         ],
         "xaxis": "x11",
         "y": [
          12,
          null,
          3,
          12,
          null
         ],
         "yaxis": "y11"
        },
        {
         "mode": "lines",
         "name": "gene_9091",
         "type": "scatter",
         "x": [
          "KIRC",
          "LUAD",
          "PRAD",
          "BRCA",
          "COAD",
          "gene"
         ],
         "xaxis": "x11",
         "y": [
          46,
          45,
          13,
          38,
          10
         ],
         "yaxis": "y11"
        },
        {
         "mode": "lines",
         "name": "gene_9092",
         "type": "scatter",
         "x": [
          "KIRC",
          "LUAD",
          "PRAD",
          "BRCA",
          "COAD",
          "gene"
         ],
         "xaxis": "x11",
         "y": [
          41,
          16,
          3,
          5,
          null
         ],
         "yaxis": "y11"
        },
        {
         "mode": "lines",
         "name": "gene_9142",
         "type": "scatter",
         "x": [
          "KIRC",
          "LUAD",
          "PRAD",
          "BRCA",
          "COAD",
          "gene"
         ],
         "xaxis": "x11",
         "y": [
          30,
          10,
          82,
          61,
          14
         ],
         "yaxis": "y11"
        },
        {
         "mode": "lines",
         "name": "gene_9182",
         "type": "scatter",
         "x": [
          "KIRC",
          "LUAD",
          "PRAD",
          "BRCA",
          "COAD",
          "gene"
         ],
         "xaxis": "x11",
         "y": [
          18,
          41,
          18,
          66,
          35
         ],
         "yaxis": "y11"
        },
        {
         "mode": "lines",
         "name": "gene_9199",
         "type": "scatter",
         "x": [
          "KIRC",
          "LUAD",
          "PRAD",
          "BRCA",
          "COAD",
          "gene"
         ],
         "xaxis": "x11",
         "y": [
          12,
          40,
          41,
          60,
          9
         ],
         "yaxis": "y11"
        },
        {
         "mode": "lines",
         "name": "gene_9211",
         "type": "scatter",
         "x": [
          "KIRC",
          "LUAD",
          "PRAD",
          "BRCA",
          "COAD",
          "gene"
         ],
         "xaxis": "x11",
         "y": [
          11,
          16,
          11,
          45,
          7
         ],
         "yaxis": "y11"
        },
        {
         "mode": "lines",
         "name": "gene_9236",
         "type": "scatter",
         "x": [
          "KIRC",
          "LUAD",
          "PRAD",
          "BRCA",
          "COAD",
          "gene"
         ],
         "xaxis": "x11",
         "y": [
          79,
          3,
          7,
          13,
          4
         ],
         "yaxis": "y11"
        },
        {
         "mode": "lines",
         "name": "gene_9237",
         "type": "scatter",
         "x": [
          "KIRC",
          "LUAD",
          "PRAD",
          "BRCA",
          "COAD",
          "gene"
         ],
         "xaxis": "x11",
         "y": [
          5,
          4,
          2,
          6,
          null
         ],
         "yaxis": "y11"
        },
        {
         "mode": "lines",
         "name": "gene_9239",
         "type": "scatter",
         "x": [
          "KIRC",
          "LUAD",
          "PRAD",
          "BRCA",
          "COAD",
          "gene"
         ],
         "xaxis": "x11",
         "y": [
          7,
          13,
          7,
          10,
          2
         ],
         "yaxis": "y11"
        },
        {
         "mode": "lines",
         "name": "gene_9246",
         "type": "scatter",
         "x": [
          "KIRC",
          "LUAD",
          "PRAD",
          "BRCA",
          "COAD",
          "gene"
         ],
         "xaxis": "x11",
         "y": [
          20,
          1,
          6,
          82,
          14
         ],
         "yaxis": "y11"
        },
        {
         "mode": "lines",
         "name": "gene_9249",
         "type": "scatter",
         "x": [
          "KIRC",
          "LUAD",
          "PRAD",
          "BRCA",
          "COAD",
          "gene"
         ],
         "xaxis": "x11",
         "y": [
          16,
          36,
          8,
          76,
          22
         ],
         "yaxis": "y11"
        },
        {
         "mode": "lines",
         "name": "gene_9261",
         "type": "scatter",
         "x": [
          "KIRC",
          "LUAD",
          "PRAD",
          "BRCA",
          "COAD",
          "gene"
         ],
         "xaxis": "x11",
         "y": [
          15,
          20,
          55,
          70,
          29
         ],
         "yaxis": "y11"
        },
        {
         "mode": "lines",
         "name": "gene_9263",
         "type": "scatter",
         "x": [
          "KIRC",
          "LUAD",
          "PRAD",
          "BRCA",
          "COAD",
          "gene"
         ],
         "xaxis": "x11",
         "y": [
          5,
          13,
          11,
          16,
          2
         ],
         "yaxis": "y11"
        },
        {
         "mode": "lines",
         "name": "gene_9264",
         "type": "scatter",
         "x": [
          "KIRC",
          "LUAD",
          "PRAD",
          "BRCA",
          "COAD",
          "gene"
         ],
         "xaxis": "x11",
         "y": [
          30,
          16,
          9,
          128,
          4
         ],
         "yaxis": "y11"
        },
        {
         "mode": "lines",
         "name": "gene_9270",
         "type": "scatter",
         "x": [
          "KIRC",
          "LUAD",
          "PRAD",
          "BRCA",
          "COAD",
          "gene"
         ],
         "xaxis": "x11",
         "y": [
          42,
          5,
          9,
          37,
          2
         ],
         "yaxis": "y11"
        },
        {
         "mode": "lines",
         "name": "gene_9272",
         "type": "scatter",
         "x": [
          "KIRC",
          "LUAD",
          "PRAD",
          "BRCA",
          "COAD",
          "gene"
         ],
         "xaxis": "x11",
         "y": [
          46,
          19,
          24,
          41,
          21
         ],
         "yaxis": "y11"
        },
        {
         "mode": "lines",
         "name": "gene_9278",
         "type": "scatter",
         "x": [
          "KIRC",
          "LUAD",
          "PRAD",
          "BRCA",
          "COAD",
          "gene"
         ],
         "xaxis": "x11",
         "y": [
          3,
          7,
          8,
          27,
          3
         ],
         "yaxis": "y11"
        },
        {
         "mode": "lines",
         "name": "gene_9280",
         "type": "scatter",
         "x": [
          "KIRC",
          "LUAD",
          "PRAD",
          "BRCA",
          "COAD",
          "gene"
         ],
         "xaxis": "x11",
         "y": [
          6,
          1,
          3,
          1,
          7
         ],
         "yaxis": "y11"
        },
        {
         "mode": "lines",
         "name": "gene_9281",
         "type": "scatter",
         "x": [
          "KIRC",
          "LUAD",
          "PRAD",
          "BRCA",
          "COAD",
          "gene"
         ],
         "xaxis": "x11",
         "y": [
          15,
          1,
          4,
          4,
          2
         ],
         "yaxis": "y11"
        },
        {
         "mode": "lines",
         "name": "gene_9282",
         "type": "scatter",
         "x": [
          "KIRC",
          "LUAD",
          "PRAD",
          "BRCA",
          "COAD",
          "gene"
         ],
         "xaxis": "x11",
         "y": [
          17,
          1,
          7,
          6,
          2
         ],
         "yaxis": "y11"
        },
        {
         "mode": "lines",
         "name": "gene_9283",
         "type": "scatter",
         "x": [
          "KIRC",
          "LUAD",
          "PRAD",
          "BRCA",
          "COAD",
          "gene"
         ],
         "xaxis": "x11",
         "y": [
          5,
          5,
          2,
          10,
          2
         ],
         "yaxis": "y11"
        },
        {
         "mode": "lines",
         "name": "gene_9284",
         "type": "scatter",
         "x": [
          "KIRC",
          "LUAD",
          "PRAD",
          "BRCA",
          "COAD",
          "gene"
         ],
         "xaxis": "x12",
         "y": [
          3,
          16,
          6,
          20,
          21
         ],
         "yaxis": "y12"
        },
        {
         "mode": "lines",
         "name": "gene_9285",
         "type": "scatter",
         "x": [
          "KIRC",
          "LUAD",
          "PRAD",
          "BRCA",
          "COAD",
          "gene"
         ],
         "xaxis": "x12",
         "y": [
          5,
          4,
          null,
          9,
          4
         ],
         "yaxis": "y12"
        },
        {
         "mode": "lines",
         "name": "gene_9286",
         "type": "scatter",
         "x": [
          "KIRC",
          "LUAD",
          "PRAD",
          "BRCA",
          "COAD",
          "gene"
         ],
         "xaxis": "x12",
         "y": [
          5,
          7,
          4,
          32,
          29
         ],
         "yaxis": "y12"
        },
        {
         "mode": "lines",
         "name": "gene_9287",
         "type": "scatter",
         "x": [
          "KIRC",
          "LUAD",
          "PRAD",
          "BRCA",
          "COAD",
          "gene"
         ],
         "xaxis": "x12",
         "y": [
          2,
          3,
          15,
          10,
          null
         ],
         "yaxis": "y12"
        },
        {
         "mode": "lines",
         "name": "gene_9288",
         "type": "scatter",
         "x": [
          "KIRC",
          "LUAD",
          "PRAD",
          "BRCA",
          "COAD",
          "gene"
         ],
         "xaxis": "x12",
         "y": [
          6,
          9,
          5,
          17,
          15
         ],
         "yaxis": "y12"
        },
        {
         "mode": "lines",
         "name": "gene_9289",
         "type": "scatter",
         "x": [
          "KIRC",
          "LUAD",
          "PRAD",
          "BRCA",
          "COAD",
          "gene"
         ],
         "xaxis": "x12",
         "y": [
          5,
          3,
          7,
          3,
          4
         ],
         "yaxis": "y12"
        },
        {
         "mode": "lines",
         "name": "gene_9290",
         "type": "scatter",
         "x": [
          "KIRC",
          "LUAD",
          "PRAD",
          "BRCA",
          "COAD",
          "gene"
         ],
         "xaxis": "x12",
         "y": [
          null,
          null,
          1,
          3,
          null
         ],
         "yaxis": "y12"
        },
        {
         "mode": "lines",
         "name": "gene_9291",
         "type": "scatter",
         "x": [
          "KIRC",
          "LUAD",
          "PRAD",
          "BRCA",
          "COAD",
          "gene"
         ],
         "xaxis": "x12",
         "y": [
          3,
          1,
          2,
          3,
          3
         ],
         "yaxis": "y12"
        },
        {
         "mode": "lines",
         "name": "gene_9292",
         "type": "scatter",
         "x": [
          "KIRC",
          "LUAD",
          "PRAD",
          "BRCA",
          "COAD",
          "gene"
         ],
         "xaxis": "x12",
         "y": [
          24,
          5,
          25,
          11,
          1
         ],
         "yaxis": "y12"
        },
        {
         "mode": "lines",
         "name": "gene_9293",
         "type": "scatter",
         "x": [
          "KIRC",
          "LUAD",
          "PRAD",
          "BRCA",
          "COAD",
          "gene"
         ],
         "xaxis": "x12",
         "y": [
          2,
          8,
          null,
          6,
          14
         ],
         "yaxis": "y12"
        },
        {
         "mode": "lines",
         "name": "gene_9294",
         "type": "scatter",
         "x": [
          "KIRC",
          "LUAD",
          "PRAD",
          "BRCA",
          "COAD",
          "gene"
         ],
         "xaxis": "x12",
         "y": [
          1,
          5,
          4,
          5,
          1
         ],
         "yaxis": "y12"
        },
        {
         "mode": "lines",
         "name": "gene_9295",
         "type": "scatter",
         "x": [
          "KIRC",
          "LUAD",
          "PRAD",
          "BRCA",
          "COAD",
          "gene"
         ],
         "xaxis": "x12",
         "y": [
          4,
          1,
          1,
          null,
          null
         ],
         "yaxis": "y12"
        },
        {
         "mode": "lines",
         "name": "gene_9296",
         "type": "scatter",
         "x": [
          "KIRC",
          "LUAD",
          "PRAD",
          "BRCA",
          "COAD",
          "gene"
         ],
         "xaxis": "x12",
         "y": [
          1,
          1,
          2,
          null,
          1
         ],
         "yaxis": "y12"
        },
        {
         "mode": "lines",
         "name": "gene_9297",
         "type": "scatter",
         "x": [
          "KIRC",
          "LUAD",
          "PRAD",
          "BRCA",
          "COAD",
          "gene"
         ],
         "xaxis": "x12",
         "y": [
          4,
          2,
          19,
          2,
          null
         ],
         "yaxis": "y12"
        },
        {
         "mode": "lines",
         "name": "gene_9298",
         "type": "scatter",
         "x": [
          "KIRC",
          "LUAD",
          "PRAD",
          "BRCA",
          "COAD",
          "gene"
         ],
         "xaxis": "x12",
         "y": [
          6,
          17,
          107,
          15,
          19
         ],
         "yaxis": "y12"
        },
        {
         "mode": "lines",
         "name": "gene_9299",
         "type": "scatter",
         "x": [
          "KIRC",
          "LUAD",
          "PRAD",
          "BRCA",
          "COAD",
          "gene"
         ],
         "xaxis": "x12",
         "y": [
          2,
          1,
          2,
          null,
          null
         ],
         "yaxis": "y12"
        },
        {
         "mode": "lines",
         "name": "gene_9300",
         "type": "scatter",
         "x": [
          "KIRC",
          "LUAD",
          "PRAD",
          "BRCA",
          "COAD",
          "gene"
         ],
         "xaxis": "x12",
         "y": [
          1,
          3,
          6,
          7,
          null
         ],
         "yaxis": "y12"
        },
        {
         "mode": "lines",
         "name": "gene_9301",
         "type": "scatter",
         "x": [
          "KIRC",
          "LUAD",
          "PRAD",
          "BRCA",
          "COAD",
          "gene"
         ],
         "xaxis": "x12",
         "y": [
          2,
          2,
          null,
          1,
          null
         ],
         "yaxis": "y12"
        },
        {
         "mode": "lines",
         "name": "gene_9302",
         "type": "scatter",
         "x": [
          "KIRC",
          "LUAD",
          "PRAD",
          "BRCA",
          "COAD",
          "gene"
         ],
         "xaxis": "x12",
         "y": [
          44,
          7,
          32,
          98,
          8
         ],
         "yaxis": "y12"
        },
        {
         "mode": "lines",
         "name": "gene_9303",
         "type": "scatter",
         "x": [
          "KIRC",
          "LUAD",
          "PRAD",
          "BRCA",
          "COAD",
          "gene"
         ],
         "xaxis": "x12",
         "y": [
          1,
          2,
          8,
          3,
          null
         ],
         "yaxis": "y12"
        },
        {
         "mode": "lines",
         "name": "gene_9305",
         "type": "scatter",
         "x": [
          "KIRC",
          "LUAD",
          "PRAD",
          "BRCA",
          "COAD",
          "gene"
         ],
         "xaxis": "x12",
         "y": [
          2,
          1,
          2,
          2,
          1
         ],
         "yaxis": "y12"
        },
        {
         "mode": "lines",
         "name": "gene_9307",
         "type": "scatter",
         "x": [
          "KIRC",
          "LUAD",
          "PRAD",
          "BRCA",
          "COAD",
          "gene"
         ],
         "xaxis": "x12",
         "y": [
          1,
          1,
          1,
          2,
          1
         ],
         "yaxis": "y12"
        },
        {
         "mode": "lines",
         "name": "gene_9308",
         "type": "scatter",
         "x": [
          "KIRC",
          "LUAD",
          "PRAD",
          "BRCA",
          "COAD",
          "gene"
         ],
         "xaxis": "x12",
         "y": [
          1,
          null,
          1,
          1,
          null
         ],
         "yaxis": "y12"
        },
        {
         "mode": "lines",
         "name": "gene_9309",
         "type": "scatter",
         "x": [
          "KIRC",
          "LUAD",
          "PRAD",
          "BRCA",
          "COAD",
          "gene"
         ],
         "xaxis": "x12",
         "y": [
          null,
          null,
          1,
          null,
          null
         ],
         "yaxis": "y12"
        },
        {
         "mode": "lines",
         "name": "gene_9310",
         "type": "scatter",
         "x": [
          "KIRC",
          "LUAD",
          "PRAD",
          "BRCA",
          "COAD",
          "gene"
         ],
         "xaxis": "x12",
         "y": [
          3,
          null,
          3,
          5,
          1
         ],
         "yaxis": "y12"
        },
        {
         "mode": "lines",
         "name": "gene_9311",
         "type": "scatter",
         "x": [
          "KIRC",
          "LUAD",
          "PRAD",
          "BRCA",
          "COAD",
          "gene"
         ],
         "xaxis": "x12",
         "y": [
          23,
          32,
          8,
          46,
          8
         ],
         "yaxis": "y12"
        },
        {
         "mode": "lines",
         "name": "gene_9312",
         "type": "scatter",
         "x": [
          "KIRC",
          "LUAD",
          "PRAD",
          "BRCA",
          "COAD",
          "gene"
         ],
         "xaxis": "x12",
         "y": [
          6,
          7,
          19,
          54,
          3
         ],
         "yaxis": "y12"
        },
        {
         "mode": "lines",
         "name": "gene_9313",
         "type": "scatter",
         "x": [
          "KIRC",
          "LUAD",
          "PRAD",
          "BRCA",
          "COAD",
          "gene"
         ],
         "xaxis": "x12",
         "y": [
          null,
          null,
          null,
          2,
          1
         ],
         "yaxis": "y12"
        },
        {
         "mode": "lines",
         "name": "gene_9315",
         "type": "scatter",
         "x": [
          "KIRC",
          "LUAD",
          "PRAD",
          "BRCA",
          "COAD",
          "gene"
         ],
         "xaxis": "x12",
         "y": [
          null,
          1,
          2,
          3,
          null
         ],
         "yaxis": "y12"
        },
        {
         "mode": "lines",
         "name": "gene_9317",
         "type": "scatter",
         "x": [
          "KIRC",
          "LUAD",
          "PRAD",
          "BRCA",
          "COAD",
          "gene"
         ],
         "xaxis": "x12",
         "y": [
          1,
          1,
          23,
          null,
          1
         ],
         "yaxis": "y12"
        },
        {
         "mode": "lines",
         "name": "gene_9318",
         "type": "scatter",
         "x": [
          "KIRC",
          "LUAD",
          "PRAD",
          "BRCA",
          "COAD",
          "gene"
         ],
         "xaxis": "x12",
         "y": [
          null,
          null,
          1,
          3,
          null
         ],
         "yaxis": "y12"
        },
        {
         "mode": "lines",
         "name": "gene_9319",
         "type": "scatter",
         "x": [
          "KIRC",
          "LUAD",
          "PRAD",
          "BRCA",
          "COAD",
          "gene"
         ],
         "xaxis": "x12",
         "y": [
          2,
          null,
          3,
          18,
          null
         ],
         "yaxis": "y12"
        },
        {
         "mode": "lines",
         "name": "gene_9321",
         "type": "scatter",
         "x": [
          "KIRC",
          "LUAD",
          "PRAD",
          "BRCA",
          "COAD",
          "gene"
         ],
         "xaxis": "x12",
         "y": [
          null,
          null,
          1,
          null,
          null
         ],
         "yaxis": "y12"
        },
        {
         "mode": "lines",
         "name": "gene_9322",
         "type": "scatter",
         "x": [
          "KIRC",
          "LUAD",
          "PRAD",
          "BRCA",
          "COAD",
          "gene"
         ],
         "xaxis": "x12",
         "y": [
          2,
          1,
          16,
          12,
          null
         ],
         "yaxis": "y12"
        },
        {
         "mode": "lines",
         "name": "gene_9323",
         "type": "scatter",
         "x": [
          "KIRC",
          "LUAD",
          "PRAD",
          "BRCA",
          "COAD",
          "gene"
         ],
         "xaxis": "x12",
         "y": [
          null,
          null,
          1,
          null,
          null
         ],
         "yaxis": "y12"
        },
        {
         "mode": "lines",
         "name": "gene_9324",
         "type": "scatter",
         "x": [
          "KIRC",
          "LUAD",
          "PRAD",
          "BRCA",
          "COAD",
          "gene"
         ],
         "xaxis": "x12",
         "y": [
          5,
          null,
          27,
          5,
          null
         ],
         "yaxis": "y12"
        },
        {
         "mode": "lines",
         "name": "gene_9325",
         "type": "scatter",
         "x": [
          "KIRC",
          "LUAD",
          "PRAD",
          "BRCA",
          "COAD",
          "gene"
         ],
         "xaxis": "x12",
         "y": [
          4,
          null,
          5,
          1,
          null
         ],
         "yaxis": "y12"
        },
        {
         "mode": "lines",
         "name": "gene_9327",
         "type": "scatter",
         "x": [
          "KIRC",
          "LUAD",
          "PRAD",
          "BRCA",
          "COAD",
          "gene"
         ],
         "xaxis": "x12",
         "y": [
          8,
          22,
          14,
          67,
          35
         ],
         "yaxis": "y12"
        },
        {
         "mode": "lines",
         "name": "gene_9329",
         "type": "scatter",
         "x": [
          "KIRC",
          "LUAD",
          "PRAD",
          "BRCA",
          "COAD",
          "gene"
         ],
         "xaxis": "x12",
         "y": [
          6,
          8,
          1,
          19,
          3
         ],
         "yaxis": "y12"
        },
        {
         "mode": "lines",
         "name": "gene_9330",
         "type": "scatter",
         "x": [
          "KIRC",
          "LUAD",
          "PRAD",
          "BRCA",
          "COAD",
          "gene"
         ],
         "xaxis": "x12",
         "y": [
          3,
          8,
          5,
          4,
          2
         ],
         "yaxis": "y12"
        },
        {
         "mode": "lines",
         "name": "gene_9332",
         "type": "scatter",
         "x": [
          "KIRC",
          "LUAD",
          "PRAD",
          "BRCA",
          "COAD",
          "gene"
         ],
         "xaxis": "x12",
         "y": [
          4,
          4,
          null,
          1,
          3
         ],
         "yaxis": "y12"
        },
        {
         "mode": "lines",
         "name": "gene_9333",
         "type": "scatter",
         "x": [
          "KIRC",
          "LUAD",
          "PRAD",
          "BRCA",
          "COAD",
          "gene"
         ],
         "xaxis": "x12",
         "y": [
          3,
          3,
          13,
          2,
          null
         ],
         "yaxis": "y12"
        },
        {
         "mode": "lines",
         "name": "gene_9334",
         "type": "scatter",
         "x": [
          "KIRC",
          "LUAD",
          "PRAD",
          "BRCA",
          "COAD",
          "gene"
         ],
         "xaxis": "x12",
         "y": [
          4,
          4,
          5,
          6,
          1
         ],
         "yaxis": "y12"
        },
        {
         "mode": "lines",
         "name": "gene_9335",
         "type": "scatter",
         "x": [
          "KIRC",
          "LUAD",
          "PRAD",
          "BRCA",
          "COAD",
          "gene"
         ],
         "xaxis": "x12",
         "y": [
          1,
          3,
          null,
          null,
          1
         ],
         "yaxis": "y12"
        },
        {
         "mode": "lines",
         "name": "gene_9336",
         "type": "scatter",
         "x": [
          "KIRC",
          "LUAD",
          "PRAD",
          "BRCA",
          "COAD",
          "gene"
         ],
         "xaxis": "x12",
         "y": [
          2,
          5,
          null,
          10,
          3
         ],
         "yaxis": "y12"
        },
        {
         "mode": "lines",
         "name": "gene_9337",
         "type": "scatter",
         "x": [
          "KIRC",
          "LUAD",
          "PRAD",
          "BRCA",
          "COAD",
          "gene"
         ],
         "xaxis": "x12",
         "y": [
          4,
          6,
          null,
          17,
          2
         ],
         "yaxis": "y12"
        },
        {
         "mode": "lines",
         "name": "gene_9338",
         "type": "scatter",
         "x": [
          "KIRC",
          "LUAD",
          "PRAD",
          "BRCA",
          "COAD",
          "gene"
         ],
         "xaxis": "x12",
         "y": [
          3,
          12,
          2,
          10,
          1
         ],
         "yaxis": "y12"
        },
        {
         "mode": "lines",
         "name": "gene_9340",
         "type": "scatter",
         "x": [
          "KIRC",
          "LUAD",
          "PRAD",
          "BRCA",
          "COAD",
          "gene"
         ],
         "xaxis": "x12",
         "y": [
          23,
          7,
          10,
          25,
          8
         ],
         "yaxis": "y12"
        },
        {
         "mode": "lines",
         "name": "gene_9343",
         "type": "scatter",
         "x": [
          "KIRC",
          "LUAD",
          "PRAD",
          "BRCA",
          "COAD",
          "gene"
         ],
         "xaxis": "x12",
         "y": [
          14,
          6,
          6,
          19,
          12
         ],
         "yaxis": "y12"
        },
        {
         "mode": "lines",
         "name": "gene_9344",
         "type": "scatter",
         "x": [
          "KIRC",
          "LUAD",
          "PRAD",
          "BRCA",
          "COAD",
          "gene"
         ],
         "xaxis": "x12",
         "y": [
          30,
          23,
          17,
          58,
          61
         ],
         "yaxis": "y12"
        },
        {
         "mode": "lines",
         "name": "gene_9345",
         "type": "scatter",
         "x": [
          "KIRC",
          "LUAD",
          "PRAD",
          "BRCA",
          "COAD",
          "gene"
         ],
         "xaxis": "x12",
         "y": [
          17,
          24,
          24,
          15,
          71
         ],
         "yaxis": "y12"
        },
        {
         "mode": "lines",
         "name": "gene_9346",
         "type": "scatter",
         "x": [
          "KIRC",
          "LUAD",
          "PRAD",
          "BRCA",
          "COAD",
          "gene"
         ],
         "xaxis": "x12",
         "y": [
          26,
          17,
          21,
          55,
          10
         ],
         "yaxis": "y12"
        },
        {
         "mode": "lines",
         "name": "gene_9350",
         "type": "scatter",
         "x": [
          "KIRC",
          "LUAD",
          "PRAD",
          "BRCA",
          "COAD",
          "gene"
         ],
         "xaxis": "x13",
         "y": [
          null,
          null,
          1,
          null,
          null
         ],
         "yaxis": "y13"
        },
        {
         "mode": "lines",
         "name": "gene_9351",
         "type": "scatter",
         "x": [
          "KIRC",
          "LUAD",
          "PRAD",
          "BRCA",
          "COAD",
          "gene"
         ],
         "xaxis": "x13",
         "y": [
          null,
          null,
          1,
          1,
          null
         ],
         "yaxis": "y13"
        },
        {
         "mode": "lines",
         "name": "gene_9352",
         "type": "scatter",
         "x": [
          "KIRC",
          "LUAD",
          "PRAD",
          "BRCA",
          "COAD",
          "gene"
         ],
         "xaxis": "x13",
         "y": [
          1,
          1,
          20,
          2,
          null
         ],
         "yaxis": "y13"
        },
        {
         "mode": "lines",
         "name": "gene_9353",
         "type": "scatter",
         "x": [
          "KIRC",
          "LUAD",
          "PRAD",
          "BRCA",
          "COAD",
          "gene"
         ],
         "xaxis": "x13",
         "y": [
          17,
          8,
          13,
          18,
          null
         ],
         "yaxis": "y13"
        },
        {
         "mode": "lines",
         "name": "gene_9354",
         "type": "scatter",
         "x": [
          "KIRC",
          "LUAD",
          "PRAD",
          "BRCA",
          "COAD",
          "gene"
         ],
         "xaxis": "x13",
         "y": [
          5,
          4,
          4,
          3,
          null
         ],
         "yaxis": "y13"
        },
        {
         "mode": "lines",
         "name": "gene_9355",
         "type": "scatter",
         "x": [
          "KIRC",
          "LUAD",
          "PRAD",
          "BRCA",
          "COAD",
          "gene"
         ],
         "xaxis": "x13",
         "y": [
          3,
          2,
          2,
          3,
          3
         ],
         "yaxis": "y13"
        },
        {
         "mode": "lines",
         "name": "gene_9356",
         "type": "scatter",
         "x": [
          "KIRC",
          "LUAD",
          "PRAD",
          "BRCA",
          "COAD",
          "gene"
         ],
         "xaxis": "x13",
         "y": [
          2,
          1,
          2,
          1,
          3
         ],
         "yaxis": "y13"
        },
        {
         "mode": "lines",
         "name": "gene_9357",
         "type": "scatter",
         "x": [
          "KIRC",
          "LUAD",
          "PRAD",
          "BRCA",
          "COAD",
          "gene"
         ],
         "xaxis": "x13",
         "y": [
          3,
          null,
          2,
          2,
          2
         ],
         "yaxis": "y13"
        },
        {
         "mode": "lines",
         "name": "gene_9358",
         "type": "scatter",
         "x": [
          "KIRC",
          "LUAD",
          "PRAD",
          "BRCA",
          "COAD",
          "gene"
         ],
         "xaxis": "x13",
         "y": [
          4,
          null,
          null,
          2,
          1
         ],
         "yaxis": "y13"
        },
        {
         "mode": "lines",
         "name": "gene_9361",
         "type": "scatter",
         "x": [
          "KIRC",
          "LUAD",
          "PRAD",
          "BRCA",
          "COAD",
          "gene"
         ],
         "xaxis": "x13",
         "y": [
          25,
          31,
          26,
          80,
          4
         ],
         "yaxis": "y13"
        },
        {
         "mode": "lines",
         "name": "gene_9377",
         "type": "scatter",
         "x": [
          "KIRC",
          "LUAD",
          "PRAD",
          "BRCA",
          "COAD",
          "gene"
         ],
         "xaxis": "x13",
         "y": [
          1,
          null,
          4,
          95,
          null
         ],
         "yaxis": "y13"
        },
        {
         "mode": "lines",
         "name": "gene_9385",
         "type": "scatter",
         "x": [
          "KIRC",
          "LUAD",
          "PRAD",
          "BRCA",
          "COAD",
          "gene"
         ],
         "xaxis": "x13",
         "y": [
          3,
          7,
          1,
          52,
          null
         ],
         "yaxis": "y13"
        },
        {
         "mode": "lines",
         "name": "gene_9435",
         "type": "scatter",
         "x": [
          "KIRC",
          "LUAD",
          "PRAD",
          "BRCA",
          "COAD",
          "gene"
         ],
         "xaxis": "x13",
         "y": [
          8,
          80,
          21,
          44,
          7
         ],
         "yaxis": "y13"
        },
        {
         "mode": "lines",
         "name": "gene_9441",
         "type": "scatter",
         "x": [
          "KIRC",
          "LUAD",
          "PRAD",
          "BRCA",
          "COAD",
          "gene"
         ],
         "xaxis": "x13",
         "y": [
          null,
          null,
          null,
          4,
          1
         ],
         "yaxis": "y13"
        },
        {
         "mode": "lines",
         "name": "gene_9442",
         "type": "scatter",
         "x": [
          "KIRC",
          "LUAD",
          "PRAD",
          "BRCA",
          "COAD",
          "gene"
         ],
         "xaxis": "x13",
         "y": [
          11,
          10,
          7,
          31,
          6
         ],
         "yaxis": "y13"
        },
        {
         "mode": "lines",
         "name": "gene_9443",
         "type": "scatter",
         "x": [
          "KIRC",
          "LUAD",
          "PRAD",
          "BRCA",
          "COAD",
          "gene"
         ],
         "xaxis": "x13",
         "y": [
          32,
          10,
          9,
          74,
          7
         ],
         "yaxis": "y13"
        },
        {
         "mode": "lines",
         "name": "gene_9444",
         "type": "scatter",
         "x": [
          "KIRC",
          "LUAD",
          "PRAD",
          "BRCA",
          "COAD",
          "gene"
         ],
         "xaxis": "x13",
         "y": [
          null,
          1,
          1,
          3,
          7
         ],
         "yaxis": "y13"
        },
        {
         "mode": "lines",
         "name": "gene_9445",
         "type": "scatter",
         "x": [
          "KIRC",
          "LUAD",
          "PRAD",
          "BRCA",
          "COAD",
          "gene"
         ],
         "xaxis": "x13",
         "y": [
          24,
          11,
          5,
          18,
          24
         ],
         "yaxis": "y13"
        },
        {
         "mode": "lines",
         "name": "gene_9446",
         "type": "scatter",
         "x": [
          "KIRC",
          "LUAD",
          "PRAD",
          "BRCA",
          "COAD",
          "gene"
         ],
         "xaxis": "x13",
         "y": [
          1,
          1,
          null,
          4,
          2
         ],
         "yaxis": "y13"
        },
        {
         "mode": "lines",
         "name": "gene_9447",
         "type": "scatter",
         "x": [
          "KIRC",
          "LUAD",
          "PRAD",
          "BRCA",
          "COAD",
          "gene"
         ],
         "xaxis": "x13",
         "y": [
          3,
          5,
          1,
          9,
          2
         ],
         "yaxis": "y13"
        },
        {
         "mode": "lines",
         "name": "gene_9448",
         "type": "scatter",
         "x": [
          "KIRC",
          "LUAD",
          "PRAD",
          "BRCA",
          "COAD",
          "gene"
         ],
         "xaxis": "x13",
         "y": [
          2,
          3,
          null,
          3,
          null
         ],
         "yaxis": "y13"
        },
        {
         "mode": "lines",
         "name": "gene_9449",
         "type": "scatter",
         "x": [
          "KIRC",
          "LUAD",
          "PRAD",
          "BRCA",
          "COAD",
          "gene"
         ],
         "xaxis": "x13",
         "y": [
          1,
          4,
          1,
          7,
          1
         ],
         "yaxis": "y13"
        },
        {
         "mode": "lines",
         "name": "gene_9450",
         "type": "scatter",
         "x": [
          "KIRC",
          "LUAD",
          "PRAD",
          "BRCA",
          "COAD",
          "gene"
         ],
         "xaxis": "x13",
         "y": [
          5,
          4,
          null,
          5,
          null
         ],
         "yaxis": "y13"
        },
        {
         "mode": "lines",
         "name": "gene_9451",
         "type": "scatter",
         "x": [
          "KIRC",
          "LUAD",
          "PRAD",
          "BRCA",
          "COAD",
          "gene"
         ],
         "xaxis": "x13",
         "y": [
          6,
          8,
          null,
          23,
          null
         ],
         "yaxis": "y13"
        },
        {
         "mode": "lines",
         "name": "gene_9453",
         "type": "scatter",
         "x": [
          "KIRC",
          "LUAD",
          "PRAD",
          "BRCA",
          "COAD",
          "gene"
         ],
         "xaxis": "x13",
         "y": [
          null,
          null,
          1,
          1,
          1
         ],
         "yaxis": "y13"
        },
        {
         "mode": "lines",
         "name": "gene_9454",
         "type": "scatter",
         "x": [
          "KIRC",
          "LUAD",
          "PRAD",
          "BRCA",
          "COAD",
          "gene"
         ],
         "xaxis": "x13",
         "y": [
          4,
          21,
          5,
          19,
          6
         ],
         "yaxis": "y13"
        },
        {
         "mode": "lines",
         "name": "gene_9455",
         "type": "scatter",
         "x": [
          "KIRC",
          "LUAD",
          "PRAD",
          "BRCA",
          "COAD",
          "gene"
         ],
         "xaxis": "x13",
         "y": [
          4,
          9,
          3,
          8,
          6
         ],
         "yaxis": "y13"
        },
        {
         "mode": "lines",
         "name": "gene_9456",
         "type": "scatter",
         "x": [
          "KIRC",
          "LUAD",
          "PRAD",
          "BRCA",
          "COAD",
          "gene"
         ],
         "xaxis": "x13",
         "y": [
          1,
          1,
          null,
          1,
          null
         ],
         "yaxis": "y13"
        },
        {
         "mode": "lines",
         "name": "gene_9457",
         "type": "scatter",
         "x": [
          "KIRC",
          "LUAD",
          "PRAD",
          "BRCA",
          "COAD",
          "gene"
         ],
         "xaxis": "x13",
         "y": [
          51,
          15,
          22,
          40,
          11
         ],
         "yaxis": "y13"
        },
        {
         "mode": "lines",
         "name": "gene_9458",
         "type": "scatter",
         "x": [
          "KIRC",
          "LUAD",
          "PRAD",
          "BRCA",
          "COAD",
          "gene"
         ],
         "xaxis": "x13",
         "y": [
          7,
          1,
          3,
          4,
          1
         ],
         "yaxis": "y13"
        },
        {
         "mode": "lines",
         "name": "gene_9470",
         "type": "scatter",
         "x": [
          "KIRC",
          "LUAD",
          "PRAD",
          "BRCA",
          "COAD",
          "gene"
         ],
         "xaxis": "x13",
         "y": [
          null,
          3,
          1,
          null,
          null
         ],
         "yaxis": "y13"
        },
        {
         "mode": "lines",
         "name": "gene_9496",
         "type": "scatter",
         "x": [
          "KIRC",
          "LUAD",
          "PRAD",
          "BRCA",
          "COAD",
          "gene"
         ],
         "xaxis": "x13",
         "y": [
          84,
          7,
          23,
          41,
          6
         ],
         "yaxis": "y13"
        },
        {
         "mode": "lines",
         "name": "gene_9501",
         "type": "scatter",
         "x": [
          "KIRC",
          "LUAD",
          "PRAD",
          "BRCA",
          "COAD",
          "gene"
         ],
         "xaxis": "x13",
         "y": [
          3,
          3,
          3,
          1,
          null
         ],
         "yaxis": "y13"
        },
        {
         "mode": "lines",
         "name": "gene_9520",
         "type": "scatter",
         "x": [
          "KIRC",
          "LUAD",
          "PRAD",
          "BRCA",
          "COAD",
          "gene"
         ],
         "xaxis": "x13",
         "y": [
          2,
          3,
          1,
          6,
          1
         ],
         "yaxis": "y13"
        },
        {
         "mode": "lines",
         "name": "gene_9523",
         "type": "scatter",
         "x": [
          "KIRC",
          "LUAD",
          "PRAD",
          "BRCA",
          "COAD",
          "gene"
         ],
         "xaxis": "x13",
         "y": [
          null,
          5,
          null,
          1,
          1
         ],
         "yaxis": "y13"
        },
        {
         "mode": "lines",
         "name": "gene_9524",
         "type": "scatter",
         "x": [
          "KIRC",
          "LUAD",
          "PRAD",
          "BRCA",
          "COAD",
          "gene"
         ],
         "xaxis": "x13",
         "y": [
          26,
          10,
          11,
          109,
          25
         ],
         "yaxis": "y13"
        },
        {
         "mode": "lines",
         "name": "gene_9557",
         "type": "scatter",
         "x": [
          "KIRC",
          "LUAD",
          "PRAD",
          "BRCA",
          "COAD",
          "gene"
         ],
         "xaxis": "x13",
         "y": [
          15,
          41,
          30,
          50,
          34
         ],
         "yaxis": "y13"
        },
        {
         "mode": "lines",
         "name": "gene_9559",
         "type": "scatter",
         "x": [
          "KIRC",
          "LUAD",
          "PRAD",
          "BRCA",
          "COAD",
          "gene"
         ],
         "xaxis": "x13",
         "y": [
          12,
          69,
          14,
          49,
          32
         ],
         "yaxis": "y13"
        },
        {
         "mode": "lines",
         "name": "gene_9581",
         "type": "scatter",
         "x": [
          "KIRC",
          "LUAD",
          "PRAD",
          "BRCA",
          "COAD",
          "gene"
         ],
         "xaxis": "x13",
         "y": [
          82,
          21,
          6,
          20,
          3
         ],
         "yaxis": "y13"
        },
        {
         "mode": "lines",
         "name": "gene_9594",
         "type": "scatter",
         "x": [
          "KIRC",
          "LUAD",
          "PRAD",
          "BRCA",
          "COAD",
          "gene"
         ],
         "xaxis": "x13",
         "y": [
          15,
          40,
          31,
          66,
          8
         ],
         "yaxis": "y13"
        },
        {
         "mode": "lines",
         "name": "gene_9610",
         "type": "scatter",
         "x": [
          "KIRC",
          "LUAD",
          "PRAD",
          "BRCA",
          "COAD",
          "gene"
         ],
         "xaxis": "x13",
         "y": [
          54,
          29,
          25,
          72,
          9
         ],
         "yaxis": "y13"
        },
        {
         "mode": "lines",
         "name": "gene_9615",
         "type": "scatter",
         "x": [
          "KIRC",
          "LUAD",
          "PRAD",
          "BRCA",
          "COAD",
          "gene"
         ],
         "xaxis": "x13",
         "y": [
          1,
          55,
          5,
          118,
          9
         ],
         "yaxis": "y13"
        },
        {
         "mode": "lines",
         "name": "gene_9616",
         "type": "scatter",
         "x": [
          "KIRC",
          "LUAD",
          "PRAD",
          "BRCA",
          "COAD",
          "gene"
         ],
         "xaxis": "x13",
         "y": [
          3,
          11,
          10,
          13,
          3
         ],
         "yaxis": "y13"
        },
        {
         "mode": "lines",
         "name": "gene_9659",
         "type": "scatter",
         "x": [
          "KIRC",
          "LUAD",
          "PRAD",
          "BRCA",
          "COAD",
          "gene"
         ],
         "xaxis": "x13",
         "y": [
          28,
          35,
          12,
          49,
          5
         ],
         "yaxis": "y13"
        },
        {
         "mode": "lines",
         "name": "gene_9672",
         "type": "scatter",
         "x": [
          "KIRC",
          "LUAD",
          "PRAD",
          "BRCA",
          "COAD",
          "gene"
         ],
         "xaxis": "x13",
         "y": [
          10,
          53,
          8,
          27,
          11
         ],
         "yaxis": "y13"
        },
        {
         "mode": "lines",
         "name": "gene_9677",
         "type": "scatter",
         "x": [
          "KIRC",
          "LUAD",
          "PRAD",
          "BRCA",
          "COAD",
          "gene"
         ],
         "xaxis": "x13",
         "y": [
          31,
          13,
          80,
          39,
          15
         ],
         "yaxis": "y13"
        },
        {
         "mode": "lines",
         "name": "gene_9690",
         "type": "scatter",
         "x": [
          "KIRC",
          "LUAD",
          "PRAD",
          "BRCA",
          "COAD",
          "gene"
         ],
         "xaxis": "x13",
         "y": [
          5,
          14,
          2,
          null,
          1
         ],
         "yaxis": "y13"
        },
        {
         "mode": "lines",
         "name": "gene_9695",
         "type": "scatter",
         "x": [
          "KIRC",
          "LUAD",
          "PRAD",
          "BRCA",
          "COAD",
          "gene"
         ],
         "xaxis": "x13",
         "y": [
          18,
          34,
          24,
          97,
          9
         ],
         "yaxis": "y13"
        },
        {
         "mode": "lines",
         "name": "gene_9726",
         "type": "scatter",
         "x": [
          "KIRC",
          "LUAD",
          "PRAD",
          "BRCA",
          "COAD",
          "gene"
         ],
         "xaxis": "x13",
         "y": [
          42,
          28,
          24,
          70,
          32
         ],
         "yaxis": "y13"
        },
        {
         "mode": "lines",
         "name": "gene_9728",
         "type": "scatter",
         "x": [
          "KIRC",
          "LUAD",
          "PRAD",
          "BRCA",
          "COAD",
          "gene"
         ],
         "xaxis": "x13",
         "y": [
          41,
          38,
          23,
          83,
          7
         ],
         "yaxis": "y13"
        },
        {
         "mode": "lines",
         "name": "gene_9733",
         "type": "scatter",
         "x": [
          "KIRC",
          "LUAD",
          "PRAD",
          "BRCA",
          "COAD",
          "gene"
         ],
         "xaxis": "x13",
         "y": [
          31,
          22,
          10,
          35,
          14
         ],
         "yaxis": "y13"
        },
        {
         "mode": "lines",
         "name": "gene_9744",
         "type": "scatter",
         "x": [
          "KIRC",
          "LUAD",
          "PRAD",
          "BRCA",
          "COAD",
          "gene"
         ],
         "xaxis": "x13",
         "y": [
          null,
          null,
          null,
          1,
          null
         ],
         "yaxis": "y13"
        },
        {
         "mode": "lines",
         "name": "gene_9777",
         "type": "scatter",
         "x": [
          "KIRC",
          "LUAD",
          "PRAD",
          "BRCA",
          "COAD",
          "gene"
         ],
         "xaxis": "x14",
         "y": [
          3,
          2,
          null,
          1,
          1
         ],
         "yaxis": "y14"
        },
        {
         "mode": "lines",
         "name": "gene_9790",
         "type": "scatter",
         "x": [
          "KIRC",
          "LUAD",
          "PRAD",
          "BRCA",
          "COAD",
          "gene"
         ],
         "xaxis": "x14",
         "y": [
          29,
          11,
          12,
          48,
          7
         ],
         "yaxis": "y14"
        },
        {
         "mode": "lines",
         "name": "gene_9798",
         "type": "scatter",
         "x": [
          "KIRC",
          "LUAD",
          "PRAD",
          "BRCA",
          "COAD",
          "gene"
         ],
         "xaxis": "x14",
         "y": [
          49,
          12,
          13,
          17,
          2
         ],
         "yaxis": "y14"
        },
        {
         "mode": "lines",
         "name": "gene_9799",
         "type": "scatter",
         "x": [
          "KIRC",
          "LUAD",
          "PRAD",
          "BRCA",
          "COAD",
          "gene"
         ],
         "xaxis": "x14",
         "y": [
          29,
          7,
          3,
          1,
          2
         ],
         "yaxis": "y14"
        },
        {
         "mode": "lines",
         "name": "gene_9804",
         "type": "scatter",
         "x": [
          "KIRC",
          "LUAD",
          "PRAD",
          "BRCA",
          "COAD",
          "gene"
         ],
         "xaxis": "x14",
         "y": [
          28,
          9,
          78,
          36,
          3
         ],
         "yaxis": "y14"
        },
        {
         "mode": "lines",
         "name": "gene_9806",
         "type": "scatter",
         "x": [
          "KIRC",
          "LUAD",
          "PRAD",
          "BRCA",
          "COAD",
          "gene"
         ],
         "xaxis": "x14",
         "y": [
          4,
          1,
          19,
          34,
          3
         ],
         "yaxis": "y14"
        },
        {
         "mode": "lines",
         "name": "gene_9817",
         "type": "scatter",
         "x": [
          "KIRC",
          "LUAD",
          "PRAD",
          "BRCA",
          "COAD",
          "gene"
         ],
         "xaxis": "x14",
         "y": [
          5,
          103,
          null,
          37,
          7
         ],
         "yaxis": "y14"
        },
        {
         "mode": "lines",
         "name": "gene_9819",
         "type": "scatter",
         "x": [
          "KIRC",
          "LUAD",
          "PRAD",
          "BRCA",
          "COAD",
          "gene"
         ],
         "xaxis": "x14",
         "y": [
          36,
          13,
          32,
          24,
          12
         ],
         "yaxis": "y14"
        },
        {
         "mode": "lines",
         "name": "gene_9822",
         "type": "scatter",
         "x": [
          "KIRC",
          "LUAD",
          "PRAD",
          "BRCA",
          "COAD",
          "gene"
         ],
         "xaxis": "x14",
         "y": [
          55,
          16,
          60,
          39,
          10
         ],
         "yaxis": "y14"
        },
        {
         "mode": "lines",
         "name": "gene_9830",
         "type": "scatter",
         "x": [
          "KIRC",
          "LUAD",
          "PRAD",
          "BRCA",
          "COAD",
          "gene"
         ],
         "xaxis": "x14",
         "y": [
          15,
          null,
          16,
          2,
          null
         ],
         "yaxis": "y14"
        },
        {
         "mode": "lines",
         "name": "gene_9832",
         "type": "scatter",
         "x": [
          "KIRC",
          "LUAD",
          "PRAD",
          "BRCA",
          "COAD",
          "gene"
         ],
         "xaxis": "x14",
         "y": [
          91,
          15,
          11,
          14,
          3
         ],
         "yaxis": "y14"
        },
        {
         "mode": "lines",
         "name": "gene_9839",
         "type": "scatter",
         "x": [
          "KIRC",
          "LUAD",
          "PRAD",
          "BRCA",
          "COAD",
          "gene"
         ],
         "xaxis": "x14",
         "y": [
          5,
          4,
          26,
          17,
          3
         ],
         "yaxis": "y14"
        },
        {
         "mode": "lines",
         "name": "gene_9843",
         "type": "scatter",
         "x": [
          "KIRC",
          "LUAD",
          "PRAD",
          "BRCA",
          "COAD",
          "gene"
         ],
         "xaxis": "x14",
         "y": [
          57,
          12,
          17,
          16,
          11
         ],
         "yaxis": "y14"
        },
        {
         "mode": "lines",
         "name": "gene_9850",
         "type": "scatter",
         "x": [
          "KIRC",
          "LUAD",
          "PRAD",
          "BRCA",
          "COAD",
          "gene"
         ],
         "xaxis": "x14",
         "y": [
          8,
          8,
          1,
          9,
          3
         ],
         "yaxis": "y14"
        },
        {
         "mode": "lines",
         "name": "gene_9865",
         "type": "scatter",
         "x": [
          "KIRC",
          "LUAD",
          "PRAD",
          "BRCA",
          "COAD",
          "gene"
         ],
         "xaxis": "x14",
         "y": [
          3,
          4,
          null,
          6,
          1
         ],
         "yaxis": "y14"
        },
        {
         "mode": "lines",
         "name": "gene_9867",
         "type": "scatter",
         "x": [
          "KIRC",
          "LUAD",
          "PRAD",
          "BRCA",
          "COAD",
          "gene"
         ],
         "xaxis": "x14",
         "y": [
          2,
          4,
          2,
          2,
          null
         ],
         "yaxis": "y14"
        },
        {
         "mode": "lines",
         "name": "gene_9879",
         "type": "scatter",
         "x": [
          "KIRC",
          "LUAD",
          "PRAD",
          "BRCA",
          "COAD",
          "gene"
         ],
         "xaxis": "x14",
         "y": [
          15,
          29,
          4,
          37,
          6
         ],
         "yaxis": "y14"
        },
        {
         "mode": "lines",
         "name": "gene_9887",
         "type": "scatter",
         "x": [
          "KIRC",
          "LUAD",
          "PRAD",
          "BRCA",
          "COAD",
          "gene"
         ],
         "xaxis": "x14",
         "y": [
          5,
          2,
          30,
          5,
          1
         ],
         "yaxis": "y14"
        },
        {
         "mode": "lines",
         "name": "gene_9889",
         "type": "scatter",
         "x": [
          "KIRC",
          "LUAD",
          "PRAD",
          "BRCA",
          "COAD",
          "gene"
         ],
         "xaxis": "x14",
         "y": [
          22,
          36,
          27,
          42,
          7
         ],
         "yaxis": "y14"
        },
        {
         "mode": "lines",
         "name": "gene_9896",
         "type": "scatter",
         "x": [
          "KIRC",
          "LUAD",
          "PRAD",
          "BRCA",
          "COAD",
          "gene"
         ],
         "xaxis": "x14",
         "y": [
          9,
          18,
          15,
          124,
          3
         ],
         "yaxis": "y14"
        },
        {
         "mode": "lines",
         "name": "gene_9902",
         "type": "scatter",
         "x": [
          "KIRC",
          "LUAD",
          "PRAD",
          "BRCA",
          "COAD",
          "gene"
         ],
         "xaxis": "x14",
         "y": [
          15,
          7,
          22,
          42,
          3
         ],
         "yaxis": "y14"
        },
        {
         "mode": "lines",
         "name": "gene_9905",
         "type": "scatter",
         "x": [
          "KIRC",
          "LUAD",
          "PRAD",
          "BRCA",
          "COAD",
          "gene"
         ],
         "xaxis": "x14",
         "y": [
          12,
          34,
          4,
          1,
          2
         ],
         "yaxis": "y14"
        },
        {
         "mode": "lines",
         "name": "gene_9910",
         "type": "scatter",
         "x": [
          "KIRC",
          "LUAD",
          "PRAD",
          "BRCA",
          "COAD",
          "gene"
         ],
         "xaxis": "x14",
         "y": [
          22,
          21,
          34,
          85,
          4
         ],
         "yaxis": "y14"
        },
        {
         "mode": "lines",
         "name": "gene_9912",
         "type": "scatter",
         "x": [
          "KIRC",
          "LUAD",
          "PRAD",
          "BRCA",
          "COAD",
          "gene"
         ],
         "xaxis": "x14",
         "y": [
          8,
          5,
          15,
          5,
          1
         ],
         "yaxis": "y14"
        },
        {
         "mode": "lines",
         "name": "gene_9915",
         "type": "scatter",
         "x": [
          "KIRC",
          "LUAD",
          "PRAD",
          "BRCA",
          "COAD",
          "gene"
         ],
         "xaxis": "x14",
         "y": [
          13,
          4,
          null,
          6,
          null
         ],
         "yaxis": "y14"
        },
        {
         "mode": "lines",
         "name": "gene_9916",
         "type": "scatter",
         "x": [
          "KIRC",
          "LUAD",
          "PRAD",
          "BRCA",
          "COAD",
          "gene"
         ],
         "xaxis": "x14",
         "y": [
          4,
          15,
          9,
          19,
          null
         ],
         "yaxis": "y14"
        },
        {
         "mode": "lines",
         "name": "gene_9920",
         "type": "scatter",
         "x": [
          "KIRC",
          "LUAD",
          "PRAD",
          "BRCA",
          "COAD",
          "gene"
         ],
         "xaxis": "x14",
         "y": [
          24,
          37,
          8,
          37,
          13
         ],
         "yaxis": "y14"
        },
        {
         "mode": "lines",
         "name": "gene_9923",
         "type": "scatter",
         "x": [
          "KIRC",
          "LUAD",
          "PRAD",
          "BRCA",
          "COAD",
          "gene"
         ],
         "xaxis": "x14",
         "y": [
          16,
          14,
          3,
          14,
          2
         ],
         "yaxis": "y14"
        },
        {
         "mode": "lines",
         "name": "gene_9925",
         "type": "scatter",
         "x": [
          "KIRC",
          "LUAD",
          "PRAD",
          "BRCA",
          "COAD",
          "gene"
         ],
         "xaxis": "x14",
         "y": [
          14,
          14,
          8,
          39,
          8
         ],
         "yaxis": "y14"
        },
        {
         "mode": "lines",
         "name": "gene_9928",
         "type": "scatter",
         "x": [
          "KIRC",
          "LUAD",
          "PRAD",
          "BRCA",
          "COAD",
          "gene"
         ],
         "xaxis": "x14",
         "y": [
          13,
          67,
          6,
          19,
          6
         ],
         "yaxis": "y14"
        },
        {
         "mode": "lines",
         "name": "gene_9937",
         "type": "scatter",
         "x": [
          "KIRC",
          "LUAD",
          "PRAD",
          "BRCA",
          "COAD",
          "gene"
         ],
         "xaxis": "x14",
         "y": [
          8,
          18,
          6,
          12,
          1
         ],
         "yaxis": "y14"
        },
        {
         "mode": "lines",
         "name": "gene_9938",
         "type": "scatter",
         "x": [
          "KIRC",
          "LUAD",
          "PRAD",
          "BRCA",
          "COAD",
          "gene"
         ],
         "xaxis": "x14",
         "y": [
          10,
          6,
          6,
          13,
          null
         ],
         "yaxis": "y14"
        },
        {
         "mode": "lines",
         "name": "gene_9939",
         "type": "scatter",
         "x": [
          "KIRC",
          "LUAD",
          "PRAD",
          "BRCA",
          "COAD",
          "gene"
         ],
         "xaxis": "x14",
         "y": [
          8,
          3,
          2,
          15,
          null
         ],
         "yaxis": "y14"
        },
        {
         "mode": "lines",
         "name": "gene_9940",
         "type": "scatter",
         "x": [
          "KIRC",
          "LUAD",
          "PRAD",
          "BRCA",
          "COAD",
          "gene"
         ],
         "xaxis": "x14",
         "y": [
          51,
          21,
          11,
          39,
          15
         ],
         "yaxis": "y14"
        },
        {
         "mode": "lines",
         "name": "gene_9943",
         "type": "scatter",
         "x": [
          "KIRC",
          "LUAD",
          "PRAD",
          "BRCA",
          "COAD",
          "gene"
         ],
         "xaxis": "x14",
         "y": [
          10,
          32,
          7,
          5,
          5
         ],
         "yaxis": "y14"
        },
        {
         "mode": "lines",
         "name": "gene_9944",
         "type": "scatter",
         "x": [
          "KIRC",
          "LUAD",
          "PRAD",
          "BRCA",
          "COAD",
          "gene"
         ],
         "xaxis": "x14",
         "y": [
          17,
          11,
          1,
          18,
          14
         ],
         "yaxis": "y14"
        },
        {
         "mode": "lines",
         "name": "gene_9953",
         "type": "scatter",
         "x": [
          "KIRC",
          "LUAD",
          "PRAD",
          "BRCA",
          "COAD",
          "gene"
         ],
         "xaxis": "x14",
         "y": [
          4,
          null,
          null,
          6,
          null
         ],
         "yaxis": "y14"
        },
        {
         "mode": "lines",
         "name": "gene_9957",
         "type": "scatter",
         "x": [
          "KIRC",
          "LUAD",
          "PRAD",
          "BRCA",
          "COAD",
          "gene"
         ],
         "xaxis": "x14",
         "y": [
          84,
          18,
          9,
          71,
          11
         ],
         "yaxis": "y14"
        },
        {
         "mode": "lines",
         "name": "gene_9958",
         "type": "scatter",
         "x": [
          "KIRC",
          "LUAD",
          "PRAD",
          "BRCA",
          "COAD",
          "gene"
         ],
         "xaxis": "x14",
         "y": [
          31,
          null,
          1,
          10,
          null
         ],
         "yaxis": "y14"
        },
        {
         "mode": "lines",
         "name": "gene_9959",
         "type": "scatter",
         "x": [
          "KIRC",
          "LUAD",
          "PRAD",
          "BRCA",
          "COAD",
          "gene"
         ],
         "xaxis": "x14",
         "y": [
          10,
          3,
          5,
          12,
          2
         ],
         "yaxis": "y14"
        },
        {
         "mode": "lines",
         "name": "gene_9966",
         "type": "scatter",
         "x": [
          "KIRC",
          "LUAD",
          "PRAD",
          "BRCA",
          "COAD",
          "gene"
         ],
         "xaxis": "x14",
         "y": [
          8,
          5,
          12,
          25,
          3
         ],
         "yaxis": "y14"
        },
        {
         "mode": "lines",
         "name": "gene_9971",
         "type": "scatter",
         "x": [
          "KIRC",
          "LUAD",
          "PRAD",
          "BRCA",
          "COAD",
          "gene"
         ],
         "xaxis": "x14",
         "y": [
          5,
          5,
          null,
          29,
          1
         ],
         "yaxis": "y14"
        },
        {
         "mode": "lines",
         "name": "gene_9980",
         "type": "scatter",
         "x": [
          "KIRC",
          "LUAD",
          "PRAD",
          "BRCA",
          "COAD",
          "gene"
         ],
         "xaxis": "x14",
         "y": [
          21,
          36,
          22,
          99,
          5
         ],
         "yaxis": "y14"
        },
        {
         "mode": "lines",
         "name": "gene_9985",
         "type": "scatter",
         "x": [
          "KIRC",
          "LUAD",
          "PRAD",
          "BRCA",
          "COAD",
          "gene"
         ],
         "xaxis": "x14",
         "y": [
          1,
          2,
          1,
          4,
          1
         ],
         "yaxis": "y14"
        },
        {
         "mode": "lines",
         "name": "gene_9996",
         "type": "scatter",
         "x": [
          "KIRC",
          "LUAD",
          "PRAD",
          "BRCA",
          "COAD",
          "gene"
         ],
         "xaxis": "x14",
         "y": [
          29,
          8,
          79,
          30,
          11
         ],
         "yaxis": "y14"
        },
        {
         "mode": "lines",
         "name": "gene_9998",
         "type": "scatter",
         "x": [
          "KIRC",
          "LUAD",
          "PRAD",
          "BRCA",
          "COAD",
          "gene"
         ],
         "xaxis": "x14",
         "y": [
          36,
          15,
          20,
          73,
          8
         ],
         "yaxis": "y14"
        },
        {
         "mode": "lines",
         "name": "gene_10024",
         "type": "scatter",
         "x": [
          "KIRC",
          "LUAD",
          "PRAD",
          "BRCA",
          "COAD",
          "gene"
         ],
         "xaxis": "x14",
         "y": [
          10,
          29,
          12,
          23,
          9
         ],
         "yaxis": "y14"
        },
        {
         "mode": "lines",
         "name": "gene_10026",
         "type": "scatter",
         "x": [
          "KIRC",
          "LUAD",
          "PRAD",
          "BRCA",
          "COAD",
          "gene"
         ],
         "xaxis": "x14",
         "y": [
          25,
          8,
          32,
          80,
          10
         ],
         "yaxis": "y14"
        },
        {
         "mode": "lines",
         "name": "gene_10027",
         "type": "scatter",
         "x": [
          "KIRC",
          "LUAD",
          "PRAD",
          "BRCA",
          "COAD",
          "gene"
         ],
         "xaxis": "x14",
         "y": [
          14,
          53,
          19,
          65,
          2
         ],
         "yaxis": "y14"
        },
        {
         "mode": "lines",
         "name": "gene_10073",
         "type": "scatter",
         "x": [
          "KIRC",
          "LUAD",
          "PRAD",
          "BRCA",
          "COAD",
          "gene"
         ],
         "xaxis": "x14",
         "y": [
          3,
          2,
          2,
          6,
          1
         ],
         "yaxis": "y14"
        },
        {
         "mode": "lines",
         "name": "gene_10076",
         "type": "scatter",
         "x": [
          "KIRC",
          "LUAD",
          "PRAD",
          "BRCA",
          "COAD",
          "gene"
         ],
         "xaxis": "x14",
         "y": [
          20,
          23,
          2,
          6,
          5
         ],
         "yaxis": "y14"
        },
        {
         "mode": "lines",
         "name": "gene_10081",
         "type": "scatter",
         "x": [
          "KIRC",
          "LUAD",
          "PRAD",
          "BRCA",
          "COAD",
          "gene"
         ],
         "xaxis": "x14",
         "y": [
          27,
          8,
          10,
          30,
          5
         ],
         "yaxis": "y14"
        },
        {
         "mode": "lines",
         "name": "gene_10082",
         "type": "scatter",
         "x": [
          "KIRC",
          "LUAD",
          "PRAD",
          "BRCA",
          "COAD",
          "gene"
         ],
         "xaxis": "x15",
         "y": [
          8,
          11,
          1,
          18,
          9
         ],
         "yaxis": "y15"
        },
        {
         "mode": "lines",
         "name": "gene_10083",
         "type": "scatter",
         "x": [
          "KIRC",
          "LUAD",
          "PRAD",
          "BRCA",
          "COAD",
          "gene"
         ],
         "xaxis": "x15",
         "y": [
          6,
          4,
          1,
          6,
          12
         ],
         "yaxis": "y15"
        },
        {
         "mode": "lines",
         "name": "gene_10087",
         "type": "scatter",
         "x": [
          "KIRC",
          "LUAD",
          "PRAD",
          "BRCA",
          "COAD",
          "gene"
         ],
         "xaxis": "x15",
         "y": [
          17,
          23,
          22,
          43,
          17
         ],
         "yaxis": "y15"
        },
        {
         "mode": "lines",
         "name": "gene_10097",
         "type": "scatter",
         "x": [
          "KIRC",
          "LUAD",
          "PRAD",
          "BRCA",
          "COAD",
          "gene"
         ],
         "xaxis": "x15",
         "y": [
          20,
          21,
          5,
          15,
          3
         ],
         "yaxis": "y15"
        },
        {
         "mode": "lines",
         "name": "gene_10100",
         "type": "scatter",
         "x": [
          "KIRC",
          "LUAD",
          "PRAD",
          "BRCA",
          "COAD",
          "gene"
         ],
         "xaxis": "x15",
         "y": [
          1,
          8,
          1,
          5,
          null
         ],
         "yaxis": "y15"
        },
        {
         "mode": "lines",
         "name": "gene_10113",
         "type": "scatter",
         "x": [
          "KIRC",
          "LUAD",
          "PRAD",
          "BRCA",
          "COAD",
          "gene"
         ],
         "xaxis": "x15",
         "y": [
          2,
          12,
          4,
          16,
          3
         ],
         "yaxis": "y15"
        },
        {
         "mode": "lines",
         "name": "gene_10120",
         "type": "scatter",
         "x": [
          "KIRC",
          "LUAD",
          "PRAD",
          "BRCA",
          "COAD",
          "gene"
         ],
         "xaxis": "x15",
         "y": [
          4,
          8,
          7,
          21,
          1
         ],
         "yaxis": "y15"
        },
        {
         "mode": "lines",
         "name": "gene_10130",
         "type": "scatter",
         "x": [
          "KIRC",
          "LUAD",
          "PRAD",
          "BRCA",
          "COAD",
          "gene"
         ],
         "xaxis": "x15",
         "y": [
          41,
          5,
          66,
          27,
          34
         ],
         "yaxis": "y15"
        },
        {
         "mode": "lines",
         "name": "gene_10132",
         "type": "scatter",
         "x": [
          "KIRC",
          "LUAD",
          "PRAD",
          "BRCA",
          "COAD",
          "gene"
         ],
         "xaxis": "x15",
         "y": [
          3,
          8,
          33,
          26,
          null
         ],
         "yaxis": "y15"
        },
        {
         "mode": "lines",
         "name": "gene_10136",
         "type": "scatter",
         "x": [
          "KIRC",
          "LUAD",
          "PRAD",
          "BRCA",
          "COAD",
          "gene"
         ],
         "xaxis": "x15",
         "y": [
          7,
          47,
          53,
          40,
          5
         ],
         "yaxis": "y15"
        },
        {
         "mode": "lines",
         "name": "gene_10139",
         "type": "scatter",
         "x": [
          "KIRC",
          "LUAD",
          "PRAD",
          "BRCA",
          "COAD",
          "gene"
         ],
         "xaxis": "x15",
         "y": [
          null,
          null,
          null,
          2,
          null
         ],
         "yaxis": "y15"
        },
        {
         "mode": "lines",
         "name": "gene_10154",
         "type": "scatter",
         "x": [
          "KIRC",
          "LUAD",
          "PRAD",
          "BRCA",
          "COAD",
          "gene"
         ],
         "xaxis": "x15",
         "y": [
          6,
          null,
          1,
          1,
          null
         ],
         "yaxis": "y15"
        },
        {
         "mode": "lines",
         "name": "gene_10161",
         "type": "scatter",
         "x": [
          "KIRC",
          "LUAD",
          "PRAD",
          "BRCA",
          "COAD",
          "gene"
         ],
         "xaxis": "x15",
         "y": [
          36,
          41,
          21,
          57,
          15
         ],
         "yaxis": "y15"
        },
        {
         "mode": "lines",
         "name": "gene_10169",
         "type": "scatter",
         "x": [
          "KIRC",
          "LUAD",
          "PRAD",
          "BRCA",
          "COAD",
          "gene"
         ],
         "xaxis": "x15",
         "y": [
          11,
          1,
          2,
          3,
          2
         ],
         "yaxis": "y15"
        },
        {
         "mode": "lines",
         "name": "gene_10170",
         "type": "scatter",
         "x": [
          "KIRC",
          "LUAD",
          "PRAD",
          "BRCA",
          "COAD",
          "gene"
         ],
         "xaxis": "x15",
         "y": [
          17,
          11,
          14,
          19,
          18
         ],
         "yaxis": "y15"
        },
        {
         "mode": "lines",
         "name": "gene_10172",
         "type": "scatter",
         "x": [
          "KIRC",
          "LUAD",
          "PRAD",
          "BRCA",
          "COAD",
          "gene"
         ],
         "xaxis": "x15",
         "y": [
          25,
          7,
          5,
          5,
          4
         ],
         "yaxis": "y15"
        },
        {
         "mode": "lines",
         "name": "gene_10256",
         "type": "scatter",
         "x": [
          "KIRC",
          "LUAD",
          "PRAD",
          "BRCA",
          "COAD",
          "gene"
         ],
         "xaxis": "x15",
         "y": [
          8,
          23,
          7,
          16,
          21
         ],
         "yaxis": "y15"
        },
        {
         "mode": "lines",
         "name": "gene_10276",
         "type": "scatter",
         "x": [
          "KIRC",
          "LUAD",
          "PRAD",
          "BRCA",
          "COAD",
          "gene"
         ],
         "xaxis": "x15",
         "y": [
          34,
          7,
          10,
          23,
          1
         ],
         "yaxis": "y15"
        },
        {
         "mode": "lines",
         "name": "gene_10295",
         "type": "scatter",
         "x": [
          "KIRC",
          "LUAD",
          "PRAD",
          "BRCA",
          "COAD",
          "gene"
         ],
         "xaxis": "x15",
         "y": [
          4,
          null,
          9,
          3,
          null
         ],
         "yaxis": "y15"
        },
        {
         "mode": "lines",
         "name": "gene_10359",
         "type": "scatter",
         "x": [
          "KIRC",
          "LUAD",
          "PRAD",
          "BRCA",
          "COAD",
          "gene"
         ],
         "xaxis": "x15",
         "y": [
          27,
          26,
          35,
          50,
          15
         ],
         "yaxis": "y15"
        },
        {
         "mode": "lines",
         "name": "gene_10403",
         "type": "scatter",
         "x": [
          "KIRC",
          "LUAD",
          "PRAD",
          "BRCA",
          "COAD",
          "gene"
         ],
         "xaxis": "x15",
         "y": [
          15,
          25,
          10,
          72,
          5
         ],
         "yaxis": "y15"
        },
        {
         "mode": "lines",
         "name": "gene_10412",
         "type": "scatter",
         "x": [
          "KIRC",
          "LUAD",
          "PRAD",
          "BRCA",
          "COAD",
          "gene"
         ],
         "xaxis": "x15",
         "y": [
          18,
          9,
          14,
          27,
          68
         ],
         "yaxis": "y15"
        },
        {
         "mode": "lines",
         "name": "gene_10448",
         "type": "scatter",
         "x": [
          "KIRC",
          "LUAD",
          "PRAD",
          "BRCA",
          "COAD",
          "gene"
         ],
         "xaxis": "x15",
         "y": [
          13,
          6,
          3,
          72,
          5
         ],
         "yaxis": "y15"
        },
        {
         "mode": "lines",
         "name": "gene_10449",
         "type": "scatter",
         "x": [
          "KIRC",
          "LUAD",
          "PRAD",
          "BRCA",
          "COAD",
          "gene"
         ],
         "xaxis": "x15",
         "y": [
          3,
          24,
          17,
          132,
          14
         ],
         "yaxis": "y15"
        },
        {
         "mode": "lines",
         "name": "gene_10450",
         "type": "scatter",
         "x": [
          "KIRC",
          "LUAD",
          "PRAD",
          "BRCA",
          "COAD",
          "gene"
         ],
         "xaxis": "x15",
         "y": [
          null,
          40,
          46,
          63,
          25
         ],
         "yaxis": "y15"
        },
        {
         "mode": "lines",
         "name": "gene_10451",
         "type": "scatter",
         "x": [
          "KIRC",
          "LUAD",
          "PRAD",
          "BRCA",
          "COAD",
          "gene"
         ],
         "xaxis": "x15",
         "y": [
          7,
          6,
          null,
          3,
          4
         ],
         "yaxis": "y15"
        },
        {
         "mode": "lines",
         "name": "gene_10480",
         "type": "scatter",
         "x": [
          "KIRC",
          "LUAD",
          "PRAD",
          "BRCA",
          "COAD",
          "gene"
         ],
         "xaxis": "x15",
         "y": [
          44,
          52,
          12,
          47,
          13
         ],
         "yaxis": "y15"
        },
        {
         "mode": "lines",
         "name": "gene_10491",
         "type": "scatter",
         "x": [
          "KIRC",
          "LUAD",
          "PRAD",
          "BRCA",
          "COAD",
          "gene"
         ],
         "xaxis": "x15",
         "y": [
          15,
          8,
          2,
          15,
          3
         ],
         "yaxis": "y15"
        },
        {
         "mode": "lines",
         "name": "gene_10492",
         "type": "scatter",
         "x": [
          "KIRC",
          "LUAD",
          "PRAD",
          "BRCA",
          "COAD",
          "gene"
         ],
         "xaxis": "x15",
         "y": [
          12,
          13,
          3,
          26,
          6
         ],
         "yaxis": "y15"
        },
        {
         "mode": "lines",
         "name": "gene_10493",
         "type": "scatter",
         "x": [
          "KIRC",
          "LUAD",
          "PRAD",
          "BRCA",
          "COAD",
          "gene"
         ],
         "xaxis": "x15",
         "y": [
          14,
          10,
          1,
          37,
          5
         ],
         "yaxis": "y15"
        },
        {
         "mode": "lines",
         "name": "gene_10494",
         "type": "scatter",
         "x": [
          "KIRC",
          "LUAD",
          "PRAD",
          "BRCA",
          "COAD",
          "gene"
         ],
         "xaxis": "x15",
         "y": [
          7,
          24,
          5,
          84,
          3
         ],
         "yaxis": "y15"
        },
        {
         "mode": "lines",
         "name": "gene_10496",
         "type": "scatter",
         "x": [
          "KIRC",
          "LUAD",
          "PRAD",
          "BRCA",
          "COAD",
          "gene"
         ],
         "xaxis": "x15",
         "y": [
          5,
          11,
          2,
          16,
          2
         ],
         "yaxis": "y15"
        },
        {
         "mode": "lines",
         "name": "gene_10497",
         "type": "scatter",
         "x": [
          "KIRC",
          "LUAD",
          "PRAD",
          "BRCA",
          "COAD",
          "gene"
         ],
         "xaxis": "x15",
         "y": [
          13,
          9,
          11,
          124,
          null
         ],
         "yaxis": "y15"
        },
        {
         "mode": "lines",
         "name": "gene_10498",
         "type": "scatter",
         "x": [
          "KIRC",
          "LUAD",
          "PRAD",
          "BRCA",
          "COAD",
          "gene"
         ],
         "xaxis": "x15",
         "y": [
          7,
          36,
          2,
          46,
          11
         ],
         "yaxis": "y15"
        },
        {
         "mode": "lines",
         "name": "gene_10645",
         "type": "scatter",
         "x": [
          "KIRC",
          "LUAD",
          "PRAD",
          "BRCA",
          "COAD",
          "gene"
         ],
         "xaxis": "x15",
         "y": [
          13,
          14,
          44,
          25,
          2
         ],
         "yaxis": "y15"
        },
        {
         "mode": "lines",
         "name": "gene_10667",
         "type": "scatter",
         "x": [
          "KIRC",
          "LUAD",
          "PRAD",
          "BRCA",
          "COAD",
          "gene"
         ],
         "xaxis": "x15",
         "y": [
          8,
          10,
          2,
          6,
          1
         ],
         "yaxis": "y15"
        },
        {
         "mode": "lines",
         "name": "gene_10668",
         "type": "scatter",
         "x": [
          "KIRC",
          "LUAD",
          "PRAD",
          "BRCA",
          "COAD",
          "gene"
         ],
         "xaxis": "x15",
         "y": [
          3,
          4,
          1,
          6,
          null
         ],
         "yaxis": "y15"
        },
        {
         "mode": "lines",
         "name": "gene_10669",
         "type": "scatter",
         "x": [
          "KIRC",
          "LUAD",
          "PRAD",
          "BRCA",
          "COAD",
          "gene"
         ],
         "xaxis": "x15",
         "y": [
          6,
          4,
          3,
          26,
          1
         ],
         "yaxis": "y15"
        },
        {
         "mode": "lines",
         "name": "gene_10692",
         "type": "scatter",
         "x": [
          "KIRC",
          "LUAD",
          "PRAD",
          "BRCA",
          "COAD",
          "gene"
         ],
         "xaxis": "x15",
         "y": [
          11,
          70,
          43,
          28,
          29
         ],
         "yaxis": "y15"
        },
        {
         "mode": "lines",
         "name": "gene_10693",
         "type": "scatter",
         "x": [
          "KIRC",
          "LUAD",
          "PRAD",
          "BRCA",
          "COAD",
          "gene"
         ],
         "xaxis": "x15",
         "y": [
          12,
          6,
          11,
          35,
          26
         ],
         "yaxis": "y15"
        },
        {
         "mode": "lines",
         "name": "gene_10712",
         "type": "scatter",
         "x": [
          "KIRC",
          "LUAD",
          "PRAD",
          "BRCA",
          "COAD",
          "gene"
         ],
         "xaxis": "x15",
         "y": [
          14,
          43,
          10,
          25,
          10
         ],
         "yaxis": "y15"
        },
        {
         "mode": "lines",
         "name": "gene_10792",
         "type": "scatter",
         "x": [
          "KIRC",
          "LUAD",
          "PRAD",
          "BRCA",
          "COAD",
          "gene"
         ],
         "xaxis": "x15",
         "y": [
          27,
          23,
          16,
          62,
          11
         ],
         "yaxis": "y15"
        },
        {
         "mode": "lines",
         "name": "gene_10889",
         "type": "scatter",
         "x": [
          "KIRC",
          "LUAD",
          "PRAD",
          "BRCA",
          "COAD",
          "gene"
         ],
         "xaxis": "x15",
         "y": [
          43,
          16,
          12,
          93,
          10
         ],
         "yaxis": "y15"
        },
        {
         "mode": "lines",
         "name": "gene_10899",
         "type": "scatter",
         "x": [
          "KIRC",
          "LUAD",
          "PRAD",
          "BRCA",
          "COAD",
          "gene"
         ],
         "xaxis": "x15",
         "y": [
          5,
          7,
          6,
          51,
          1
         ],
         "yaxis": "y15"
        },
        {
         "mode": "lines",
         "name": "gene_10904",
         "type": "scatter",
         "x": [
          "KIRC",
          "LUAD",
          "PRAD",
          "BRCA",
          "COAD",
          "gene"
         ],
         "xaxis": "x15",
         "y": [
          17,
          21,
          8,
          6,
          1
         ],
         "yaxis": "y15"
        },
        {
         "mode": "lines",
         "name": "gene_10994",
         "type": "scatter",
         "x": [
          "KIRC",
          "LUAD",
          "PRAD",
          "BRCA",
          "COAD",
          "gene"
         ],
         "xaxis": "x15",
         "y": [
          null,
          2,
          4,
          4,
          10
         ],
         "yaxis": "y15"
        },
        {
         "mode": "lines",
         "name": "gene_11005",
         "type": "scatter",
         "x": [
          "KIRC",
          "LUAD",
          "PRAD",
          "BRCA",
          "COAD",
          "gene"
         ],
         "xaxis": "x15",
         "y": [
          7,
          17,
          57,
          25,
          13
         ],
         "yaxis": "y15"
        },
        {
         "mode": "lines",
         "name": "gene_11022",
         "type": "scatter",
         "x": [
          "KIRC",
          "LUAD",
          "PRAD",
          "BRCA",
          "COAD",
          "gene"
         ],
         "xaxis": "x15",
         "y": [
          12,
          34,
          25,
          53,
          15
         ],
         "yaxis": "y15"
        },
        {
         "mode": "lines",
         "name": "gene_11026",
         "type": "scatter",
         "x": [
          "KIRC",
          "LUAD",
          "PRAD",
          "BRCA",
          "COAD",
          "gene"
         ],
         "xaxis": "x15",
         "y": [
          17,
          8,
          128,
          22,
          5
         ],
         "yaxis": "y15"
        },
        {
         "mode": "lines",
         "name": "gene_11082",
         "type": "scatter",
         "x": [
          "KIRC",
          "LUAD",
          "PRAD",
          "BRCA",
          "COAD",
          "gene"
         ],
         "xaxis": "x15",
         "y": [
          3,
          5,
          2,
          3,
          2
         ],
         "yaxis": "y15"
        },
        {
         "mode": "lines",
         "name": "gene_11130",
         "type": "scatter",
         "x": [
          "KIRC",
          "LUAD",
          "PRAD",
          "BRCA",
          "COAD",
          "gene"
         ],
         "xaxis": "x15",
         "y": [
          null,
          null,
          null,
          1,
          null
         ],
         "yaxis": "y15"
        },
        {
         "mode": "lines",
         "name": "gene_11131",
         "type": "scatter",
         "x": [
          "KIRC",
          "LUAD",
          "PRAD",
          "BRCA",
          "COAD",
          "gene"
         ],
         "xaxis": "x15",
         "y": [
          13,
          1,
          2,
          1,
          null
         ],
         "yaxis": "y15"
        },
        {
         "mode": "lines",
         "name": "gene_11132",
         "type": "scatter",
         "x": [
          "KIRC",
          "LUAD",
          "PRAD",
          "BRCA",
          "COAD",
          "gene"
         ],
         "xaxis": "x16",
         "y": [
          27,
          33,
          26,
          95,
          11
         ],
         "yaxis": "y16"
        },
        {
         "mode": "lines",
         "name": "gene_11134",
         "type": "scatter",
         "x": [
          "KIRC",
          "LUAD",
          "PRAD",
          "BRCA",
          "COAD",
          "gene"
         ],
         "xaxis": "x16",
         "y": [
          13,
          13,
          5,
          63,
          2
         ],
         "yaxis": "y16"
        },
        {
         "mode": "lines",
         "name": "gene_11221",
         "type": "scatter",
         "x": [
          "KIRC",
          "LUAD",
          "PRAD",
          "BRCA",
          "COAD",
          "gene"
         ],
         "xaxis": "x16",
         "y": [
          74,
          36,
          24,
          35,
          31
         ],
         "yaxis": "y16"
        },
        {
         "mode": "lines",
         "name": "gene_11222",
         "type": "scatter",
         "x": [
          "KIRC",
          "LUAD",
          "PRAD",
          "BRCA",
          "COAD",
          "gene"
         ],
         "xaxis": "x16",
         "y": [
          7,
          1,
          40,
          6,
          66
         ],
         "yaxis": "y16"
        },
        {
         "mode": "lines",
         "name": "gene_11223",
         "type": "scatter",
         "x": [
          "KIRC",
          "LUAD",
          "PRAD",
          "BRCA",
          "COAD",
          "gene"
         ],
         "xaxis": "x16",
         "y": [
          1,
          5,
          null,
          1,
          1
         ],
         "yaxis": "y16"
        },
        {
         "mode": "lines",
         "name": "gene_11230",
         "type": "scatter",
         "x": [
          "KIRC",
          "LUAD",
          "PRAD",
          "BRCA",
          "COAD",
          "gene"
         ],
         "xaxis": "x16",
         "y": [
          null,
          null,
          1,
          3,
          null
         ],
         "yaxis": "y16"
        },
        {
         "mode": "lines",
         "name": "gene_11236",
         "type": "scatter",
         "x": [
          "KIRC",
          "LUAD",
          "PRAD",
          "BRCA",
          "COAD",
          "gene"
         ],
         "xaxis": "x16",
         "y": [
          6,
          6,
          21,
          33,
          7
         ],
         "yaxis": "y16"
        },
        {
         "mode": "lines",
         "name": "gene_11269",
         "type": "scatter",
         "x": [
          "KIRC",
          "LUAD",
          "PRAD",
          "BRCA",
          "COAD",
          "gene"
         ],
         "xaxis": "x16",
         "y": [
          3,
          7,
          71,
          7,
          2
         ],
         "yaxis": "y16"
        },
        {
         "mode": "lines",
         "name": "gene_11275",
         "type": "scatter",
         "x": [
          "KIRC",
          "LUAD",
          "PRAD",
          "BRCA",
          "COAD",
          "gene"
         ],
         "xaxis": "x16",
         "y": [
          43,
          37,
          11,
          11,
          22
         ],
         "yaxis": "y16"
        },
        {
         "mode": "lines",
         "name": "gene_11281",
         "type": "scatter",
         "x": [
          "KIRC",
          "LUAD",
          "PRAD",
          "BRCA",
          "COAD",
          "gene"
         ],
         "xaxis": "x16",
         "y": [
          1,
          null,
          10,
          5,
          18
         ],
         "yaxis": "y16"
        },
        {
         "mode": "lines",
         "name": "gene_11327",
         "type": "scatter",
         "x": [
          "KIRC",
          "LUAD",
          "PRAD",
          "BRCA",
          "COAD",
          "gene"
         ],
         "xaxis": "x16",
         "y": [
          8,
          17,
          11,
          49,
          1
         ],
         "yaxis": "y16"
        },
        {
         "mode": "lines",
         "name": "gene_11357",
         "type": "scatter",
         "x": [
          "KIRC",
          "LUAD",
          "PRAD",
          "BRCA",
          "COAD",
          "gene"
         ],
         "xaxis": "x16",
         "y": [
          9,
          8,
          7,
          133,
          15
         ],
         "yaxis": "y16"
        },
        {
         "mode": "lines",
         "name": "gene_11383",
         "type": "scatter",
         "x": [
          "KIRC",
          "LUAD",
          "PRAD",
          "BRCA",
          "COAD",
          "gene"
         ],
         "xaxis": "x16",
         "y": [
          51,
          9,
          24,
          21,
          3
         ],
         "yaxis": "y16"
        },
        {
         "mode": "lines",
         "name": "gene_11406",
         "type": "scatter",
         "x": [
          "KIRC",
          "LUAD",
          "PRAD",
          "BRCA",
          "COAD",
          "gene"
         ],
         "xaxis": "x16",
         "y": [
          10,
          4,
          17,
          6,
          1
         ],
         "yaxis": "y16"
        },
        {
         "mode": "lines",
         "name": "gene_11423",
         "type": "scatter",
         "x": [
          "KIRC",
          "LUAD",
          "PRAD",
          "BRCA",
          "COAD",
          "gene"
         ],
         "xaxis": "x16",
         "y": [
          11,
          6,
          37,
          18,
          7
         ],
         "yaxis": "y16"
        },
        {
         "mode": "lines",
         "name": "gene_11426",
         "type": "scatter",
         "x": [
          "KIRC",
          "LUAD",
          "PRAD",
          "BRCA",
          "COAD",
          "gene"
         ],
         "xaxis": "x16",
         "y": [
          8,
          5,
          50,
          16,
          2
         ],
         "yaxis": "y16"
        },
        {
         "mode": "lines",
         "name": "gene_11433",
         "type": "scatter",
         "x": [
          "KIRC",
          "LUAD",
          "PRAD",
          "BRCA",
          "COAD",
          "gene"
         ],
         "xaxis": "x16",
         "y": [
          6,
          10,
          14,
          163,
          4
         ],
         "yaxis": "y16"
        },
        {
         "mode": "lines",
         "name": "gene_11469",
         "type": "scatter",
         "x": [
          "KIRC",
          "LUAD",
          "PRAD",
          "BRCA",
          "COAD",
          "gene"
         ],
         "xaxis": "x16",
         "y": [
          57,
          11,
          23,
          52,
          3
         ],
         "yaxis": "y16"
        },
        {
         "mode": "lines",
         "name": "gene_11498",
         "type": "scatter",
         "x": [
          "KIRC",
          "LUAD",
          "PRAD",
          "BRCA",
          "COAD",
          "gene"
         ],
         "xaxis": "x16",
         "y": [
          13,
          20,
          7,
          18,
          2
         ],
         "yaxis": "y16"
        },
        {
         "mode": "lines",
         "name": "gene_11535",
         "type": "scatter",
         "x": [
          "KIRC",
          "LUAD",
          "PRAD",
          "BRCA",
          "COAD",
          "gene"
         ],
         "xaxis": "x16",
         "y": [
          41,
          25,
          14,
          58,
          4
         ],
         "yaxis": "y16"
        },
        {
         "mode": "lines",
         "name": "gene_11630",
         "type": "scatter",
         "x": [
          "KIRC",
          "LUAD",
          "PRAD",
          "BRCA",
          "COAD",
          "gene"
         ],
         "xaxis": "x16",
         "y": [
          25,
          45,
          16,
          44,
          16
         ],
         "yaxis": "y16"
        },
        {
         "mode": "lines",
         "name": "gene_11632",
         "type": "scatter",
         "x": [
          "KIRC",
          "LUAD",
          "PRAD",
          "BRCA",
          "COAD",
          "gene"
         ],
         "xaxis": "x16",
         "y": [
          48,
          28,
          44,
          55,
          5
         ],
         "yaxis": "y16"
        },
        {
         "mode": "lines",
         "name": "gene_11633",
         "type": "scatter",
         "x": [
          "KIRC",
          "LUAD",
          "PRAD",
          "BRCA",
          "COAD",
          "gene"
         ],
         "xaxis": "x16",
         "y": [
          4,
          4,
          5,
          5,
          2
         ],
         "yaxis": "y16"
        },
        {
         "mode": "lines",
         "name": "gene_11635",
         "type": "scatter",
         "x": [
          "KIRC",
          "LUAD",
          "PRAD",
          "BRCA",
          "COAD",
          "gene"
         ],
         "xaxis": "x16",
         "y": [
          14,
          10,
          2,
          14,
          4
         ],
         "yaxis": "y16"
        },
        {
         "mode": "lines",
         "name": "gene_11645",
         "type": "scatter",
         "x": [
          "KIRC",
          "LUAD",
          "PRAD",
          "BRCA",
          "COAD",
          "gene"
         ],
         "xaxis": "x16",
         "y": [
          32,
          7,
          14,
          21,
          1
         ],
         "yaxis": "y16"
        },
        {
         "mode": "lines",
         "name": "gene_11649",
         "type": "scatter",
         "x": [
          "KIRC",
          "LUAD",
          "PRAD",
          "BRCA",
          "COAD",
          "gene"
         ],
         "xaxis": "x16",
         "y": [
          4,
          16,
          15,
          23,
          3
         ],
         "yaxis": "y16"
        },
        {
         "mode": "lines",
         "name": "gene_11650",
         "type": "scatter",
         "x": [
          "KIRC",
          "LUAD",
          "PRAD",
          "BRCA",
          "COAD",
          "gene"
         ],
         "xaxis": "x16",
         "y": [
          13,
          3,
          4,
          8,
          4
         ],
         "yaxis": "y16"
        },
        {
         "mode": "lines",
         "name": "gene_11651",
         "type": "scatter",
         "x": [
          "KIRC",
          "LUAD",
          "PRAD",
          "BRCA",
          "COAD",
          "gene"
         ],
         "xaxis": "x16",
         "y": [
          101,
          24,
          16,
          36,
          7
         ],
         "yaxis": "y16"
        },
        {
         "mode": "lines",
         "name": "gene_11652",
         "type": "scatter",
         "x": [
          "KIRC",
          "LUAD",
          "PRAD",
          "BRCA",
          "COAD",
          "gene"
         ],
         "xaxis": "x16",
         "y": [
          24,
          19,
          9,
          9,
          77
         ],
         "yaxis": "y16"
        },
        {
         "mode": "lines",
         "name": "gene_11658",
         "type": "scatter",
         "x": [
          "KIRC",
          "LUAD",
          "PRAD",
          "BRCA",
          "COAD",
          "gene"
         ],
         "xaxis": "x16",
         "y": [
          null,
          3,
          null,
          10,
          null
         ],
         "yaxis": "y16"
        },
        {
         "mode": "lines",
         "name": "gene_11660",
         "type": "scatter",
         "x": [
          "KIRC",
          "LUAD",
          "PRAD",
          "BRCA",
          "COAD",
          "gene"
         ],
         "xaxis": "x16",
         "y": [
          7,
          3,
          11,
          17,
          3
         ],
         "yaxis": "y16"
        },
        {
         "mode": "lines",
         "name": "gene_11678",
         "type": "scatter",
         "x": [
          "KIRC",
          "LUAD",
          "PRAD",
          "BRCA",
          "COAD",
          "gene"
         ],
         "xaxis": "x16",
         "y": [
          32,
          35,
          16,
          55,
          12
         ],
         "yaxis": "y16"
        },
        {
         "mode": "lines",
         "name": "gene_11683",
         "type": "scatter",
         "x": [
          "KIRC",
          "LUAD",
          "PRAD",
          "BRCA",
          "COAD",
          "gene"
         ],
         "xaxis": "x16",
         "y": [
          13,
          3,
          2,
          8,
          1
         ],
         "yaxis": "y16"
        },
        {
         "mode": "lines",
         "name": "gene_11790",
         "type": "scatter",
         "x": [
          "KIRC",
          "LUAD",
          "PRAD",
          "BRCA",
          "COAD",
          "gene"
         ],
         "xaxis": "x16",
         "y": [
          4,
          8,
          3,
          6,
          8
         ],
         "yaxis": "y16"
        },
        {
         "mode": "lines",
         "name": "gene_11800",
         "type": "scatter",
         "x": [
          "KIRC",
          "LUAD",
          "PRAD",
          "BRCA",
          "COAD",
          "gene"
         ],
         "xaxis": "x16",
         "y": [
          47,
          13,
          36,
          27,
          2
         ],
         "yaxis": "y16"
        },
        {
         "mode": "lines",
         "name": "gene_11801",
         "type": "scatter",
         "x": [
          "KIRC",
          "LUAD",
          "PRAD",
          "BRCA",
          "COAD",
          "gene"
         ],
         "xaxis": "x16",
         "y": [
          5,
          10,
          4,
          3,
          2
         ],
         "yaxis": "y16"
        },
        {
         "mode": "lines",
         "name": "gene_11802",
         "type": "scatter",
         "x": [
          "KIRC",
          "LUAD",
          "PRAD",
          "BRCA",
          "COAD",
          "gene"
         ],
         "xaxis": "x16",
         "y": [
          5,
          3,
          null,
          9,
          1
         ],
         "yaxis": "y16"
        },
        {
         "mode": "lines",
         "name": "gene_11806",
         "type": "scatter",
         "x": [
          "KIRC",
          "LUAD",
          "PRAD",
          "BRCA",
          "COAD",
          "gene"
         ],
         "xaxis": "x16",
         "y": [
          1,
          5,
          25,
          9,
          1
         ],
         "yaxis": "y16"
        },
        {
         "mode": "lines",
         "name": "gene_11853",
         "type": "scatter",
         "x": [
          "KIRC",
          "LUAD",
          "PRAD",
          "BRCA",
          "COAD",
          "gene"
         ],
         "xaxis": "x16",
         "y": [
          28,
          12,
          24,
          56,
          23
         ],
         "yaxis": "y16"
        },
        {
         "mode": "lines",
         "name": "gene_11890",
         "type": "scatter",
         "x": [
          "KIRC",
          "LUAD",
          "PRAD",
          "BRCA",
          "COAD",
          "gene"
         ],
         "xaxis": "x16",
         "y": [
          14,
          47,
          13,
          63,
          19
         ],
         "yaxis": "y16"
        },
        {
         "mode": "lines",
         "name": "gene_11902",
         "type": "scatter",
         "x": [
          "KIRC",
          "LUAD",
          "PRAD",
          "BRCA",
          "COAD",
          "gene"
         ],
         "xaxis": "x16",
         "y": [
          2,
          67,
          9,
          66,
          1
         ],
         "yaxis": "y16"
        },
        {
         "mode": "lines",
         "name": "gene_11906",
         "type": "scatter",
         "x": [
          "KIRC",
          "LUAD",
          "PRAD",
          "BRCA",
          "COAD",
          "gene"
         ],
         "xaxis": "x16",
         "y": [
          4,
          36,
          15,
          8,
          4
         ],
         "yaxis": "y16"
        },
        {
         "mode": "lines",
         "name": "gene_11908",
         "type": "scatter",
         "x": [
          "KIRC",
          "LUAD",
          "PRAD",
          "BRCA",
          "COAD",
          "gene"
         ],
         "xaxis": "x16",
         "y": [
          4,
          4,
          30,
          8,
          2
         ],
         "yaxis": "y16"
        },
        {
         "mode": "lines",
         "name": "gene_11913",
         "type": "scatter",
         "x": [
          "KIRC",
          "LUAD",
          "PRAD",
          "BRCA",
          "COAD",
          "gene"
         ],
         "xaxis": "x16",
         "y": [
          6,
          18,
          47,
          8,
          6
         ],
         "yaxis": "y16"
        },
        {
         "mode": "lines",
         "name": "gene_11914",
         "type": "scatter",
         "x": [
          "KIRC",
          "LUAD",
          "PRAD",
          "BRCA",
          "COAD",
          "gene"
         ],
         "xaxis": "x16",
         "y": [
          16,
          37,
          38,
          34,
          15
         ],
         "yaxis": "y16"
        },
        {
         "mode": "lines",
         "name": "gene_11926",
         "type": "scatter",
         "x": [
          "KIRC",
          "LUAD",
          "PRAD",
          "BRCA",
          "COAD",
          "gene"
         ],
         "xaxis": "x16",
         "y": [
          34,
          18,
          16,
          67,
          3
         ],
         "yaxis": "y16"
        },
        {
         "mode": "lines",
         "name": "gene_11968",
         "type": "scatter",
         "x": [
          "KIRC",
          "LUAD",
          "PRAD",
          "BRCA",
          "COAD",
          "gene"
         ],
         "xaxis": "x16",
         "y": [
          12,
          1,
          5,
          1,
          1
         ],
         "yaxis": "y16"
        },
        {
         "mode": "lines",
         "name": "gene_12008",
         "type": "scatter",
         "x": [
          "KIRC",
          "LUAD",
          "PRAD",
          "BRCA",
          "COAD",
          "gene"
         ],
         "xaxis": "x16",
         "y": [
          12,
          69,
          24,
          39,
          6
         ],
         "yaxis": "y16"
        },
        {
         "mode": "lines",
         "name": "gene_12014",
         "type": "scatter",
         "x": [
          "KIRC",
          "LUAD",
          "PRAD",
          "BRCA",
          "COAD",
          "gene"
         ],
         "xaxis": "x16",
         "y": [
          5,
          11,
          2,
          10,
          4
         ],
         "yaxis": "y16"
        },
        {
         "mode": "lines",
         "name": "gene_12025",
         "type": "scatter",
         "x": [
          "KIRC",
          "LUAD",
          "PRAD",
          "BRCA",
          "COAD",
          "gene"
         ],
         "xaxis": "x16",
         "y": [
          5,
          6,
          1,
          1,
          1
         ],
         "yaxis": "y16"
        },
        {
         "mode": "lines",
         "name": "gene_12050",
         "type": "scatter",
         "x": [
          "KIRC",
          "LUAD",
          "PRAD",
          "BRCA",
          "COAD",
          "gene"
         ],
         "xaxis": "x16",
         "y": [
          43,
          28,
          20,
          30,
          6
         ],
         "yaxis": "y16"
        },
        {
         "mode": "lines",
         "name": "gene_12057",
         "type": "scatter",
         "x": [
          "KIRC",
          "LUAD",
          "PRAD",
          "BRCA",
          "COAD",
          "gene"
         ],
         "xaxis": "x16",
         "y": [
          10,
          78,
          4,
          15,
          51
         ],
         "yaxis": "y16"
        },
        {
         "mode": "lines",
         "name": "gene_12058",
         "type": "scatter",
         "x": [
          "KIRC",
          "LUAD",
          "PRAD",
          "BRCA",
          "COAD",
          "gene"
         ],
         "xaxis": "x17",
         "y": [
          1,
          null,
          null,
          3,
          null
         ],
         "yaxis": "y17"
        },
        {
         "mode": "lines",
         "name": "gene_12063",
         "type": "scatter",
         "x": [
          "KIRC",
          "LUAD",
          "PRAD",
          "BRCA",
          "COAD",
          "gene"
         ],
         "xaxis": "x17",
         "y": [
          9,
          1,
          1,
          2,
          null
         ],
         "yaxis": "y17"
        },
        {
         "mode": "lines",
         "name": "gene_12247",
         "type": "scatter",
         "x": [
          "KIRC",
          "LUAD",
          "PRAD",
          "BRCA",
          "COAD",
          "gene"
         ],
         "xaxis": "x17",
         "y": [
          18,
          27,
          15,
          10,
          6
         ],
         "yaxis": "y17"
        },
        {
         "mode": "lines",
         "name": "gene_12250",
         "type": "scatter",
         "x": [
          "KIRC",
          "LUAD",
          "PRAD",
          "BRCA",
          "COAD",
          "gene"
         ],
         "xaxis": "x17",
         "y": [
          15,
          10,
          29,
          40,
          6
         ],
         "yaxis": "y17"
        },
        {
         "mode": "lines",
         "name": "gene_12279",
         "type": "scatter",
         "x": [
          "KIRC",
          "LUAD",
          "PRAD",
          "BRCA",
          "COAD",
          "gene"
         ],
         "xaxis": "x17",
         "y": [
          23,
          26,
          16,
          67,
          3
         ],
         "yaxis": "y17"
        },
        {
         "mode": "lines",
         "name": "gene_12286",
         "type": "scatter",
         "x": [
          "KIRC",
          "LUAD",
          "PRAD",
          "BRCA",
          "COAD",
          "gene"
         ],
         "xaxis": "x17",
         "y": [
          6,
          3,
          6,
          6,
          1
         ],
         "yaxis": "y17"
        },
        {
         "mode": "lines",
         "name": "gene_12291",
         "type": "scatter",
         "x": [
          "KIRC",
          "LUAD",
          "PRAD",
          "BRCA",
          "COAD",
          "gene"
         ],
         "xaxis": "x17",
         "y": [
          15,
          32,
          6,
          53,
          8
         ],
         "yaxis": "y17"
        },
        {
         "mode": "lines",
         "name": "gene_12327",
         "type": "scatter",
         "x": [
          "KIRC",
          "LUAD",
          "PRAD",
          "BRCA",
          "COAD",
          "gene"
         ],
         "xaxis": "x17",
         "y": [
          41,
          19,
          86,
          43,
          3
         ],
         "yaxis": "y17"
        },
        {
         "mode": "lines",
         "name": "gene_12335",
         "type": "scatter",
         "x": [
          "KIRC",
          "LUAD",
          "PRAD",
          "BRCA",
          "COAD",
          "gene"
         ],
         "xaxis": "x17",
         "y": [
          4,
          16,
          3,
          2,
          33
         ],
         "yaxis": "y17"
        },
        {
         "mode": "lines",
         "name": "gene_12339",
         "type": "scatter",
         "x": [
          "KIRC",
          "LUAD",
          "PRAD",
          "BRCA",
          "COAD",
          "gene"
         ],
         "xaxis": "x17",
         "y": [
          19,
          14,
          9,
          15,
          2
         ],
         "yaxis": "y17"
        },
        {
         "mode": "lines",
         "name": "gene_12343",
         "type": "scatter",
         "x": [
          "KIRC",
          "LUAD",
          "PRAD",
          "BRCA",
          "COAD",
          "gene"
         ],
         "xaxis": "x17",
         "y": [
          13,
          7,
          6,
          18,
          6
         ],
         "yaxis": "y17"
        },
        {
         "mode": "lines",
         "name": "gene_12344",
         "type": "scatter",
         "x": [
          "KIRC",
          "LUAD",
          "PRAD",
          "BRCA",
          "COAD",
          "gene"
         ],
         "xaxis": "x17",
         "y": [
          13,
          5,
          2,
          18,
          1
         ],
         "yaxis": "y17"
        },
        {
         "mode": "lines",
         "name": "gene_12348",
         "type": "scatter",
         "x": [
          "KIRC",
          "LUAD",
          "PRAD",
          "BRCA",
          "COAD",
          "gene"
         ],
         "xaxis": "x17",
         "y": [
          58,
          24,
          16,
          73,
          15
         ],
         "yaxis": "y17"
        },
        {
         "mode": "lines",
         "name": "gene_12352",
         "type": "scatter",
         "x": [
          "KIRC",
          "LUAD",
          "PRAD",
          "BRCA",
          "COAD",
          "gene"
         ],
         "xaxis": "x17",
         "y": [
          12,
          36,
          11,
          13,
          12
         ],
         "yaxis": "y17"
        },
        {
         "mode": "lines",
         "name": "gene_12353",
         "type": "scatter",
         "x": [
          "KIRC",
          "LUAD",
          "PRAD",
          "BRCA",
          "COAD",
          "gene"
         ],
         "xaxis": "x17",
         "y": [
          11,
          12,
          55,
          41,
          12
         ],
         "yaxis": "y17"
        },
        {
         "mode": "lines",
         "name": "gene_12355",
         "type": "scatter",
         "x": [
          "KIRC",
          "LUAD",
          "PRAD",
          "BRCA",
          "COAD",
          "gene"
         ],
         "xaxis": "x17",
         "y": [
          25,
          14,
          5,
          13,
          15
         ],
         "yaxis": "y17"
        },
        {
         "mode": "lines",
         "name": "gene_12356",
         "type": "scatter",
         "x": [
          "KIRC",
          "LUAD",
          "PRAD",
          "BRCA",
          "COAD",
          "gene"
         ],
         "xaxis": "x17",
         "y": [
          11,
          15,
          45,
          61,
          null
         ],
         "yaxis": "y17"
        },
        {
         "mode": "lines",
         "name": "gene_12357",
         "type": "scatter",
         "x": [
          "KIRC",
          "LUAD",
          "PRAD",
          "BRCA",
          "COAD",
          "gene"
         ],
         "xaxis": "x17",
         "y": [
          16,
          3,
          8,
          11,
          10
         ],
         "yaxis": "y17"
        },
        {
         "mode": "lines",
         "name": "gene_12358",
         "type": "scatter",
         "x": [
          "KIRC",
          "LUAD",
          "PRAD",
          "BRCA",
          "COAD",
          "gene"
         ],
         "xaxis": "x17",
         "y": [
          17,
          6,
          3,
          8,
          8
         ],
         "yaxis": "y17"
        },
        {
         "mode": "lines",
         "name": "gene_12359",
         "type": "scatter",
         "x": [
          "KIRC",
          "LUAD",
          "PRAD",
          "BRCA",
          "COAD",
          "gene"
         ],
         "xaxis": "x17",
         "y": [
          6,
          10,
          12,
          24,
          1
         ],
         "yaxis": "y17"
        },
        {
         "mode": "lines",
         "name": "gene_12360",
         "type": "scatter",
         "x": [
          "KIRC",
          "LUAD",
          "PRAD",
          "BRCA",
          "COAD",
          "gene"
         ],
         "xaxis": "x17",
         "y": [
          2,
          null,
          2,
          3,
          null
         ],
         "yaxis": "y17"
        },
        {
         "mode": "lines",
         "name": "gene_12362",
         "type": "scatter",
         "x": [
          "KIRC",
          "LUAD",
          "PRAD",
          "BRCA",
          "COAD",
          "gene"
         ],
         "xaxis": "x17",
         "y": [
          5,
          null,
          null,
          6,
          null
         ],
         "yaxis": "y17"
        },
        {
         "mode": "lines",
         "name": "gene_12363",
         "type": "scatter",
         "x": [
          "KIRC",
          "LUAD",
          "PRAD",
          "BRCA",
          "COAD",
          "gene"
         ],
         "xaxis": "x17",
         "y": [
          1,
          null,
          1,
          1,
          1
         ],
         "yaxis": "y17"
        },
        {
         "mode": "lines",
         "name": "gene_12365",
         "type": "scatter",
         "x": [
          "KIRC",
          "LUAD",
          "PRAD",
          "BRCA",
          "COAD",
          "gene"
         ],
         "xaxis": "x17",
         "y": [
          11,
          3,
          9,
          3,
          null
         ],
         "yaxis": "y17"
        },
        {
         "mode": "lines",
         "name": "gene_12366",
         "type": "scatter",
         "x": [
          "KIRC",
          "LUAD",
          "PRAD",
          "BRCA",
          "COAD",
          "gene"
         ],
         "xaxis": "x17",
         "y": [
          12,
          3,
          5,
          9,
          10
         ],
         "yaxis": "y17"
        },
        {
         "mode": "lines",
         "name": "gene_12367",
         "type": "scatter",
         "x": [
          "KIRC",
          "LUAD",
          "PRAD",
          "BRCA",
          "COAD",
          "gene"
         ],
         "xaxis": "x17",
         "y": [
          5,
          3,
          2,
          8,
          4
         ],
         "yaxis": "y17"
        },
        {
         "mode": "lines",
         "name": "gene_12368",
         "type": "scatter",
         "x": [
          "KIRC",
          "LUAD",
          "PRAD",
          "BRCA",
          "COAD",
          "gene"
         ],
         "xaxis": "x17",
         "y": [
          2,
          3,
          2,
          4,
          2
         ],
         "yaxis": "y17"
        },
        {
         "mode": "lines",
         "name": "gene_12369",
         "type": "scatter",
         "x": [
          "KIRC",
          "LUAD",
          "PRAD",
          "BRCA",
          "COAD",
          "gene"
         ],
         "xaxis": "x17",
         "y": [
          3,
          1,
          null,
          4,
          3
         ],
         "yaxis": "y17"
        },
        {
         "mode": "lines",
         "name": "gene_12371",
         "type": "scatter",
         "x": [
          "KIRC",
          "LUAD",
          "PRAD",
          "BRCA",
          "COAD",
          "gene"
         ],
         "xaxis": "x17",
         "y": [
          15,
          22,
          52,
          29,
          10
         ],
         "yaxis": "y17"
        },
        {
         "mode": "lines",
         "name": "gene_12372",
         "type": "scatter",
         "x": [
          "KIRC",
          "LUAD",
          "PRAD",
          "BRCA",
          "COAD",
          "gene"
         ],
         "xaxis": "x17",
         "y": [
          3,
          null,
          2,
          null,
          null
         ],
         "yaxis": "y17"
        },
        {
         "mode": "lines",
         "name": "gene_12373",
         "type": "scatter",
         "x": [
          "KIRC",
          "LUAD",
          "PRAD",
          "BRCA",
          "COAD",
          "gene"
         ],
         "xaxis": "x17",
         "y": [
          2,
          null,
          1,
          1,
          null
         ],
         "yaxis": "y17"
        },
        {
         "mode": "lines",
         "name": "gene_12374",
         "type": "scatter",
         "x": [
          "KIRC",
          "LUAD",
          "PRAD",
          "BRCA",
          "COAD",
          "gene"
         ],
         "xaxis": "x17",
         "y": [
          6,
          33,
          72,
          53,
          11
         ],
         "yaxis": "y17"
        },
        {
         "mode": "lines",
         "name": "gene_12375",
         "type": "scatter",
         "x": [
          "KIRC",
          "LUAD",
          "PRAD",
          "BRCA",
          "COAD",
          "gene"
         ],
         "xaxis": "x17",
         "y": [
          11,
          3,
          3,
          4,
          1
         ],
         "yaxis": "y17"
        },
        {
         "mode": "lines",
         "name": "gene_12376",
         "type": "scatter",
         "x": [
          "KIRC",
          "LUAD",
          "PRAD",
          "BRCA",
          "COAD",
          "gene"
         ],
         "xaxis": "x17",
         "y": [
          27,
          12,
          3,
          5,
          3
         ],
         "yaxis": "y17"
        },
        {
         "mode": "lines",
         "name": "gene_12377",
         "type": "scatter",
         "x": [
          "KIRC",
          "LUAD",
          "PRAD",
          "BRCA",
          "COAD",
          "gene"
         ],
         "xaxis": "x17",
         "y": [
          11,
          6,
          null,
          2,
          null
         ],
         "yaxis": "y17"
        },
        {
         "mode": "lines",
         "name": "gene_12378",
         "type": "scatter",
         "x": [
          "KIRC",
          "LUAD",
          "PRAD",
          "BRCA",
          "COAD",
          "gene"
         ],
         "xaxis": "x17",
         "y": [
          8,
          null,
          1,
          2,
          null
         ],
         "yaxis": "y17"
        },
        {
         "mode": "lines",
         "name": "gene_12379",
         "type": "scatter",
         "x": [
          "KIRC",
          "LUAD",
          "PRAD",
          "BRCA",
          "COAD",
          "gene"
         ],
         "xaxis": "x17",
         "y": [
          31,
          null,
          null,
          null,
          null
         ],
         "yaxis": "y17"
        },
        {
         "mode": "lines",
         "name": "gene_12380",
         "type": "scatter",
         "x": [
          "KIRC",
          "LUAD",
          "PRAD",
          "BRCA",
          "COAD",
          "gene"
         ],
         "xaxis": "x17",
         "y": [
          11,
          3,
          1,
          6,
          null
         ],
         "yaxis": "y17"
        },
        {
         "mode": "lines",
         "name": "gene_12382",
         "type": "scatter",
         "x": [
          "KIRC",
          "LUAD",
          "PRAD",
          "BRCA",
          "COAD",
          "gene"
         ],
         "xaxis": "x17",
         "y": [
          5,
          null,
          2,
          6,
          null
         ],
         "yaxis": "y17"
        },
        {
         "mode": "lines",
         "name": "gene_12383",
         "type": "scatter",
         "x": [
          "KIRC",
          "LUAD",
          "PRAD",
          "BRCA",
          "COAD",
          "gene"
         ],
         "xaxis": "x17",
         "y": [
          3,
          1,
          1,
          2,
          null
         ],
         "yaxis": "y17"
        },
        {
         "mode": "lines",
         "name": "gene_12384",
         "type": "scatter",
         "x": [
          "KIRC",
          "LUAD",
          "PRAD",
          "BRCA",
          "COAD",
          "gene"
         ],
         "xaxis": "x17",
         "y": [
          6,
          null,
          null,
          1,
          null
         ],
         "yaxis": "y17"
        },
        {
         "mode": "lines",
         "name": "gene_12385",
         "type": "scatter",
         "x": [
          "KIRC",
          "LUAD",
          "PRAD",
          "BRCA",
          "COAD",
          "gene"
         ],
         "xaxis": "x17",
         "y": [
          23,
          19,
          7,
          47,
          3
         ],
         "yaxis": "y17"
        },
        {
         "mode": "lines",
         "name": "gene_12386",
         "type": "scatter",
         "x": [
          "KIRC",
          "LUAD",
          "PRAD",
          "BRCA",
          "COAD",
          "gene"
         ],
         "xaxis": "x17",
         "y": [
          26,
          5,
          2,
          12,
          7
         ],
         "yaxis": "y17"
        },
        {
         "mode": "lines",
         "name": "gene_12387",
         "type": "scatter",
         "x": [
          "KIRC",
          "LUAD",
          "PRAD",
          "BRCA",
          "COAD",
          "gene"
         ],
         "xaxis": "x17",
         "y": [
          2,
          null,
          null,
          1,
          null
         ],
         "yaxis": "y17"
        },
        {
         "mode": "lines",
         "name": "gene_12388",
         "type": "scatter",
         "x": [
          "KIRC",
          "LUAD",
          "PRAD",
          "BRCA",
          "COAD",
          "gene"
         ],
         "xaxis": "x17",
         "y": [
          3,
          1,
          null,
          2,
          1
         ],
         "yaxis": "y17"
        },
        {
         "mode": "lines",
         "name": "gene_12389",
         "type": "scatter",
         "x": [
          "KIRC",
          "LUAD",
          "PRAD",
          "BRCA",
          "COAD",
          "gene"
         ],
         "xaxis": "x17",
         "y": [
          29,
          4,
          8,
          5,
          1
         ],
         "yaxis": "y17"
        },
        {
         "mode": "lines",
         "name": "gene_12390",
         "type": "scatter",
         "x": [
          "KIRC",
          "LUAD",
          "PRAD",
          "BRCA",
          "COAD",
          "gene"
         ],
         "xaxis": "x17",
         "y": [
          11,
          2,
          4,
          2,
          null
         ],
         "yaxis": "y17"
        },
        {
         "mode": "lines",
         "name": "gene_12391",
         "type": "scatter",
         "x": [
          "KIRC",
          "LUAD",
          "PRAD",
          "BRCA",
          "COAD",
          "gene"
         ],
         "xaxis": "x17",
         "y": [
          13,
          8,
          15,
          48,
          1
         ],
         "yaxis": "y17"
        },
        {
         "mode": "lines",
         "name": "gene_12392",
         "type": "scatter",
         "x": [
          "KIRC",
          "LUAD",
          "PRAD",
          "BRCA",
          "COAD",
          "gene"
         ],
         "xaxis": "x17",
         "y": [
          3,
          null,
          1,
          4,
          null
         ],
         "yaxis": "y17"
        },
        {
         "mode": "lines",
         "name": "gene_12393",
         "type": "scatter",
         "x": [
          "KIRC",
          "LUAD",
          "PRAD",
          "BRCA",
          "COAD",
          "gene"
         ],
         "xaxis": "x17",
         "y": [
          26,
          16,
          16,
          21,
          2
         ],
         "yaxis": "y17"
        },
        {
         "mode": "lines",
         "name": "gene_12394",
         "type": "scatter",
         "x": [
          "KIRC",
          "LUAD",
          "PRAD",
          "BRCA",
          "COAD",
          "gene"
         ],
         "xaxis": "x17",
         "y": [
          17,
          15,
          12,
          13,
          3
         ],
         "yaxis": "y17"
        },
        {
         "mode": "lines",
         "name": "gene_12395",
         "type": "scatter",
         "x": [
          "KIRC",
          "LUAD",
          "PRAD",
          "BRCA",
          "COAD",
          "gene"
         ],
         "xaxis": "x17",
         "y": [
          5,
          1,
          11,
          20,
          null
         ],
         "yaxis": "y17"
        },
        {
         "mode": "lines",
         "name": "gene_12396",
         "type": "scatter",
         "x": [
          "KIRC",
          "LUAD",
          "PRAD",
          "BRCA",
          "COAD",
          "gene"
         ],
         "xaxis": "x18",
         "y": [
          42,
          7,
          9,
          12,
          3
         ],
         "yaxis": "y18"
        },
        {
         "mode": "lines",
         "name": "gene_12397",
         "type": "scatter",
         "x": [
          "KIRC",
          "LUAD",
          "PRAD",
          "BRCA",
          "COAD",
          "gene"
         ],
         "xaxis": "x18",
         "y": [
          13,
          1,
          2,
          8,
          null
         ],
         "yaxis": "y18"
        },
        {
         "mode": "lines",
         "name": "gene_12399",
         "type": "scatter",
         "x": [
          "KIRC",
          "LUAD",
          "PRAD",
          "BRCA",
          "COAD",
          "gene"
         ],
         "xaxis": "x18",
         "y": [
          15,
          9,
          15,
          20,
          null
         ],
         "yaxis": "y18"
        },
        {
         "mode": "lines",
         "name": "gene_12400",
         "type": "scatter",
         "x": [
          "KIRC",
          "LUAD",
          "PRAD",
          "BRCA",
          "COAD",
          "gene"
         ],
         "xaxis": "x18",
         "y": [
          4,
          2,
          2,
          2,
          null
         ],
         "yaxis": "y18"
        },
        {
         "mode": "lines",
         "name": "gene_12401",
         "type": "scatter",
         "x": [
          "KIRC",
          "LUAD",
          "PRAD",
          "BRCA",
          "COAD",
          "gene"
         ],
         "xaxis": "x18",
         "y": [
          3,
          null,
          2,
          3,
          null
         ],
         "yaxis": "y18"
        },
        {
         "mode": "lines",
         "name": "gene_12402",
         "type": "scatter",
         "x": [
          "KIRC",
          "LUAD",
          "PRAD",
          "BRCA",
          "COAD",
          "gene"
         ],
         "xaxis": "x18",
         "y": [
          13,
          4,
          10,
          23,
          3
         ],
         "yaxis": "y18"
        },
        {
         "mode": "lines",
         "name": "gene_12403",
         "type": "scatter",
         "x": [
          "KIRC",
          "LUAD",
          "PRAD",
          "BRCA",
          "COAD",
          "gene"
         ],
         "xaxis": "x18",
         "y": [
          3,
          null,
          1,
          3,
          null
         ],
         "yaxis": "y18"
        },
        {
         "mode": "lines",
         "name": "gene_12404",
         "type": "scatter",
         "x": [
          "KIRC",
          "LUAD",
          "PRAD",
          "BRCA",
          "COAD",
          "gene"
         ],
         "xaxis": "x18",
         "y": [
          4,
          1,
          6,
          1,
          null
         ],
         "yaxis": "y18"
        },
        {
         "mode": "lines",
         "name": "gene_12405",
         "type": "scatter",
         "x": [
          "KIRC",
          "LUAD",
          "PRAD",
          "BRCA",
          "COAD",
          "gene"
         ],
         "xaxis": "x18",
         "y": [
          16,
          13,
          10,
          21,
          2
         ],
         "yaxis": "y18"
        },
        {
         "mode": "lines",
         "name": "gene_12406",
         "type": "scatter",
         "x": [
          "KIRC",
          "LUAD",
          "PRAD",
          "BRCA",
          "COAD",
          "gene"
         ],
         "xaxis": "x18",
         "y": [
          4,
          2,
          5,
          3,
          3
         ],
         "yaxis": "y18"
        },
        {
         "mode": "lines",
         "name": "gene_12407",
         "type": "scatter",
         "x": [
          "KIRC",
          "LUAD",
          "PRAD",
          "BRCA",
          "COAD",
          "gene"
         ],
         "xaxis": "x18",
         "y": [
          7,
          4,
          52,
          73,
          4
         ],
         "yaxis": "y18"
        },
        {
         "mode": "lines",
         "name": "gene_12408",
         "type": "scatter",
         "x": [
          "KIRC",
          "LUAD",
          "PRAD",
          "BRCA",
          "COAD",
          "gene"
         ],
         "xaxis": "x18",
         "y": [
          6,
          20,
          2,
          9,
          2
         ],
         "yaxis": "y18"
        },
        {
         "mode": "lines",
         "name": "gene_12410",
         "type": "scatter",
         "x": [
          "KIRC",
          "LUAD",
          "PRAD",
          "BRCA",
          "COAD",
          "gene"
         ],
         "xaxis": "x18",
         "y": [
          3,
          null,
          7,
          27,
          1
         ],
         "yaxis": "y18"
        },
        {
         "mode": "lines",
         "name": "gene_12411",
         "type": "scatter",
         "x": [
          "KIRC",
          "LUAD",
          "PRAD",
          "BRCA",
          "COAD",
          "gene"
         ],
         "xaxis": "x18",
         "y": [
          3,
          3,
          10,
          3,
          null
         ],
         "yaxis": "y18"
        },
        {
         "mode": "lines",
         "name": "gene_12413",
         "type": "scatter",
         "x": [
          "KIRC",
          "LUAD",
          "PRAD",
          "BRCA",
          "COAD",
          "gene"
         ],
         "xaxis": "x18",
         "y": [
          8,
          null,
          1,
          2,
          null
         ],
         "yaxis": "y18"
        },
        {
         "mode": "lines",
         "name": "gene_12414",
         "type": "scatter",
         "x": [
          "KIRC",
          "LUAD",
          "PRAD",
          "BRCA",
          "COAD",
          "gene"
         ],
         "xaxis": "x18",
         "y": [
          5,
          null,
          2,
          2,
          null
         ],
         "yaxis": "y18"
        },
        {
         "mode": "lines",
         "name": "gene_12415",
         "type": "scatter",
         "x": [
          "KIRC",
          "LUAD",
          "PRAD",
          "BRCA",
          "COAD",
          "gene"
         ],
         "xaxis": "x18",
         "y": [
          4,
          1,
          2,
          4,
          null
         ],
         "yaxis": "y18"
        },
        {
         "mode": "lines",
         "name": "gene_12416",
         "type": "scatter",
         "x": [
          "KIRC",
          "LUAD",
          "PRAD",
          "BRCA",
          "COAD",
          "gene"
         ],
         "xaxis": "x18",
         "y": [
          25,
          14,
          19,
          39,
          6
         ],
         "yaxis": "y18"
        },
        {
         "mode": "lines",
         "name": "gene_12418",
         "type": "scatter",
         "x": [
          "KIRC",
          "LUAD",
          "PRAD",
          "BRCA",
          "COAD",
          "gene"
         ],
         "xaxis": "x18",
         "y": [
          4,
          1,
          3,
          3,
          null
         ],
         "yaxis": "y18"
        },
        {
         "mode": "lines",
         "name": "gene_12419",
         "type": "scatter",
         "x": [
          "KIRC",
          "LUAD",
          "PRAD",
          "BRCA",
          "COAD",
          "gene"
         ],
         "xaxis": "x18",
         "y": [
          9,
          14,
          7,
          16,
          4
         ],
         "yaxis": "y18"
        },
        {
         "mode": "lines",
         "name": "gene_12420",
         "type": "scatter",
         "x": [
          "KIRC",
          "LUAD",
          "PRAD",
          "BRCA",
          "COAD",
          "gene"
         ],
         "xaxis": "x18",
         "y": [
          23,
          19,
          15,
          65,
          6
         ],
         "yaxis": "y18"
        },
        {
         "mode": "lines",
         "name": "gene_12421",
         "type": "scatter",
         "x": [
          "KIRC",
          "LUAD",
          "PRAD",
          "BRCA",
          "COAD",
          "gene"
         ],
         "xaxis": "x18",
         "y": [
          17,
          1,
          1,
          12,
          2
         ],
         "yaxis": "y18"
        },
        {
         "mode": "lines",
         "name": "gene_12422",
         "type": "scatter",
         "x": [
          "KIRC",
          "LUAD",
          "PRAD",
          "BRCA",
          "COAD",
          "gene"
         ],
         "xaxis": "x18",
         "y": [
          21,
          41,
          2,
          76,
          21
         ],
         "yaxis": "y18"
        },
        {
         "mode": "lines",
         "name": "gene_12423",
         "type": "scatter",
         "x": [
          "KIRC",
          "LUAD",
          "PRAD",
          "BRCA",
          "COAD",
          "gene"
         ],
         "xaxis": "x18",
         "y": [
          22,
          25,
          21,
          60,
          11
         ],
         "yaxis": "y18"
        },
        {
         "mode": "lines",
         "name": "gene_12424",
         "type": "scatter",
         "x": [
          "KIRC",
          "LUAD",
          "PRAD",
          "BRCA",
          "COAD",
          "gene"
         ],
         "xaxis": "x18",
         "y": [
          51,
          10,
          12,
          44,
          3
         ],
         "yaxis": "y18"
        },
        {
         "mode": "lines",
         "name": "gene_12425",
         "type": "scatter",
         "x": [
          "KIRC",
          "LUAD",
          "PRAD",
          "BRCA",
          "COAD",
          "gene"
         ],
         "xaxis": "x18",
         "y": [
          8,
          null,
          2,
          2,
          null
         ],
         "yaxis": "y18"
        },
        {
         "mode": "lines",
         "name": "gene_12429",
         "type": "scatter",
         "x": [
          "KIRC",
          "LUAD",
          "PRAD",
          "BRCA",
          "COAD",
          "gene"
         ],
         "xaxis": "x18",
         "y": [
          40,
          24,
          31,
          46,
          8
         ],
         "yaxis": "y18"
        },
        {
         "mode": "lines",
         "name": "gene_12430",
         "type": "scatter",
         "x": [
          "KIRC",
          "LUAD",
          "PRAD",
          "BRCA",
          "COAD",
          "gene"
         ],
         "xaxis": "x18",
         "y": [
          5,
          7,
          4,
          16,
          1
         ],
         "yaxis": "y18"
        },
        {
         "mode": "lines",
         "name": "gene_12431",
         "type": "scatter",
         "x": [
          "KIRC",
          "LUAD",
          "PRAD",
          "BRCA",
          "COAD",
          "gene"
         ],
         "xaxis": "x18",
         "y": [
          22,
          12,
          8,
          30,
          5
         ],
         "yaxis": "y18"
        },
        {
         "mode": "lines",
         "name": "gene_12432",
         "type": "scatter",
         "x": [
          "KIRC",
          "LUAD",
          "PRAD",
          "BRCA",
          "COAD",
          "gene"
         ],
         "xaxis": "x18",
         "y": [
          13,
          14,
          3,
          24,
          2
         ],
         "yaxis": "y18"
        },
        {
         "mode": "lines",
         "name": "gene_12433",
         "type": "scatter",
         "x": [
          "KIRC",
          "LUAD",
          "PRAD",
          "BRCA",
          "COAD",
          "gene"
         ],
         "xaxis": "x18",
         "y": [
          6,
          6,
          2,
          9,
          3
         ],
         "yaxis": "y18"
        },
        {
         "mode": "lines",
         "name": "gene_12435",
         "type": "scatter",
         "x": [
          "KIRC",
          "LUAD",
          "PRAD",
          "BRCA",
          "COAD",
          "gene"
         ],
         "xaxis": "x18",
         "y": [
          4,
          15,
          null,
          9,
          null
         ],
         "yaxis": "y18"
        },
        {
         "mode": "lines",
         "name": "gene_12436",
         "type": "scatter",
         "x": [
          "KIRC",
          "LUAD",
          "PRAD",
          "BRCA",
          "COAD",
          "gene"
         ],
         "xaxis": "x18",
         "y": [
          39,
          15,
          16,
          40,
          4
         ],
         "yaxis": "y18"
        },
        {
         "mode": "lines",
         "name": "gene_12437",
         "type": "scatter",
         "x": [
          "KIRC",
          "LUAD",
          "PRAD",
          "BRCA",
          "COAD",
          "gene"
         ],
         "xaxis": "x18",
         "y": [
          24,
          6,
          4,
          20,
          6
         ],
         "yaxis": "y18"
        },
        {
         "mode": "lines",
         "name": "gene_12439",
         "type": "scatter",
         "x": [
          "KIRC",
          "LUAD",
          "PRAD",
          "BRCA",
          "COAD",
          "gene"
         ],
         "xaxis": "x18",
         "y": [
          2,
          1,
          2,
          1,
          null
         ],
         "yaxis": "y18"
        },
        {
         "mode": "lines",
         "name": "gene_12440",
         "type": "scatter",
         "x": [
          "KIRC",
          "LUAD",
          "PRAD",
          "BRCA",
          "COAD",
          "gene"
         ],
         "xaxis": "x18",
         "y": [
          5,
          null,
          2,
          1,
          null
         ],
         "yaxis": "y18"
        },
        {
         "mode": "lines",
         "name": "gene_12441",
         "type": "scatter",
         "x": [
          "KIRC",
          "LUAD",
          "PRAD",
          "BRCA",
          "COAD",
          "gene"
         ],
         "xaxis": "x18",
         "y": [
          13,
          7,
          3,
          11,
          null
         ],
         "yaxis": "y18"
        },
        {
         "mode": "lines",
         "name": "gene_12442",
         "type": "scatter",
         "x": [
          "KIRC",
          "LUAD",
          "PRAD",
          "BRCA",
          "COAD",
          "gene"
         ],
         "xaxis": "x18",
         "y": [
          42,
          28,
          16,
          28,
          13
         ],
         "yaxis": "y18"
        },
        {
         "mode": "lines",
         "name": "gene_12445",
         "type": "scatter",
         "x": [
          "KIRC",
          "LUAD",
          "PRAD",
          "BRCA",
          "COAD",
          "gene"
         ],
         "xaxis": "x18",
         "y": [
          33,
          15,
          17,
          26,
          12
         ],
         "yaxis": "y18"
        },
        {
         "mode": "lines",
         "name": "gene_12447",
         "type": "scatter",
         "x": [
          "KIRC",
          "LUAD",
          "PRAD",
          "BRCA",
          "COAD",
          "gene"
         ],
         "xaxis": "x18",
         "y": [
          21,
          9,
          7,
          22,
          6
         ],
         "yaxis": "y18"
        },
        {
         "mode": "lines",
         "name": "gene_12451",
         "type": "scatter",
         "x": [
          "KIRC",
          "LUAD",
          "PRAD",
          "BRCA",
          "COAD",
          "gene"
         ],
         "xaxis": "x18",
         "y": [
          14,
          3,
          4,
          12,
          1
         ],
         "yaxis": "y18"
        },
        {
         "mode": "lines",
         "name": "gene_12453",
         "type": "scatter",
         "x": [
          "KIRC",
          "LUAD",
          "PRAD",
          "BRCA",
          "COAD",
          "gene"
         ],
         "xaxis": "x18",
         "y": [
          8,
          1,
          25,
          21,
          null
         ],
         "yaxis": "y18"
        },
        {
         "mode": "lines",
         "name": "gene_12454",
         "type": "scatter",
         "x": [
          "KIRC",
          "LUAD",
          "PRAD",
          "BRCA",
          "COAD",
          "gene"
         ],
         "xaxis": "x18",
         "y": [
          41,
          6,
          10,
          6,
          3
         ],
         "yaxis": "y18"
        },
        {
         "mode": "lines",
         "name": "gene_12455",
         "type": "scatter",
         "x": [
          "KIRC",
          "LUAD",
          "PRAD",
          "BRCA",
          "COAD",
          "gene"
         ],
         "xaxis": "x18",
         "y": [
          48,
          34,
          27,
          63,
          11
         ],
         "yaxis": "y18"
        },
        {
         "mode": "lines",
         "name": "gene_12456",
         "type": "scatter",
         "x": [
          "KIRC",
          "LUAD",
          "PRAD",
          "BRCA",
          "COAD",
          "gene"
         ],
         "xaxis": "x18",
         "y": [
          16,
          11,
          16,
          59,
          1
         ],
         "yaxis": "y18"
        },
        {
         "mode": "lines",
         "name": "gene_12457",
         "type": "scatter",
         "x": [
          "KIRC",
          "LUAD",
          "PRAD",
          "BRCA",
          "COAD",
          "gene"
         ],
         "xaxis": "x18",
         "y": [
          3,
          null,
          4,
          2,
          3
         ],
         "yaxis": "y18"
        },
        {
         "mode": "lines",
         "name": "gene_12461",
         "type": "scatter",
         "x": [
          "KIRC",
          "LUAD",
          "PRAD",
          "BRCA",
          "COAD",
          "gene"
         ],
         "xaxis": "x18",
         "y": [
          23,
          14,
          11,
          12,
          18
         ],
         "yaxis": "y18"
        },
        {
         "mode": "lines",
         "name": "gene_12462",
         "type": "scatter",
         "x": [
          "KIRC",
          "LUAD",
          "PRAD",
          "BRCA",
          "COAD",
          "gene"
         ],
         "xaxis": "x18",
         "y": [
          11,
          10,
          2,
          7,
          6
         ],
         "yaxis": "y18"
        },
        {
         "mode": "lines",
         "name": "gene_12463",
         "type": "scatter",
         "x": [
          "KIRC",
          "LUAD",
          "PRAD",
          "BRCA",
          "COAD",
          "gene"
         ],
         "xaxis": "x18",
         "y": [
          13,
          3,
          2,
          19,
          null
         ],
         "yaxis": "y18"
        },
        {
         "mode": "lines",
         "name": "gene_12464",
         "type": "scatter",
         "x": [
          "KIRC",
          "LUAD",
          "PRAD",
          "BRCA",
          "COAD",
          "gene"
         ],
         "xaxis": "x18",
         "y": [
          6,
          1,
          5,
          7,
          2
         ],
         "yaxis": "y18"
        },
        {
         "mode": "lines",
         "name": "gene_12465",
         "type": "scatter",
         "x": [
          "KIRC",
          "LUAD",
          "PRAD",
          "BRCA",
          "COAD",
          "gene"
         ],
         "xaxis": "x18",
         "y": [
          8,
          1,
          8,
          3,
          2
         ],
         "yaxis": "y18"
        },
        {
         "mode": "lines",
         "name": "gene_12466",
         "type": "scatter",
         "x": [
          "KIRC",
          "LUAD",
          "PRAD",
          "BRCA",
          "COAD",
          "gene"
         ],
         "xaxis": "x18",
         "y": [
          10,
          null,
          5,
          4,
          null
         ],
         "yaxis": "y18"
        },
        {
         "mode": "lines",
         "name": "gene_12467",
         "type": "scatter",
         "x": [
          "KIRC",
          "LUAD",
          "PRAD",
          "BRCA",
          "COAD",
          "gene"
         ],
         "xaxis": "x19",
         "y": [
          80,
          5,
          25,
          5,
          1
         ],
         "yaxis": "y19"
        },
        {
         "mode": "lines",
         "name": "gene_12468",
         "type": "scatter",
         "x": [
          "KIRC",
          "LUAD",
          "PRAD",
          "BRCA",
          "COAD",
          "gene"
         ],
         "xaxis": "x19",
         "y": [
          43,
          11,
          51,
          20,
          6
         ],
         "yaxis": "y19"
        },
        {
         "mode": "lines",
         "name": "gene_12470",
         "type": "scatter",
         "x": [
          "KIRC",
          "LUAD",
          "PRAD",
          "BRCA",
          "COAD",
          "gene"
         ],
         "xaxis": "x19",
         "y": [
          2,
          4,
          13,
          7,
          1
         ],
         "yaxis": "y19"
        },
        {
         "mode": "lines",
         "name": "gene_12471",
         "type": "scatter",
         "x": [
          "KIRC",
          "LUAD",
          "PRAD",
          "BRCA",
          "COAD",
          "gene"
         ],
         "xaxis": "x19",
         "y": [
          3,
          17,
          54,
          13,
          3
         ],
         "yaxis": "y19"
        },
        {
         "mode": "lines",
         "name": "gene_12472",
         "type": "scatter",
         "x": [
          "KIRC",
          "LUAD",
          "PRAD",
          "BRCA",
          "COAD",
          "gene"
         ],
         "xaxis": "x19",
         "y": [
          20,
          36,
          14,
          64,
          5
         ],
         "yaxis": "y19"
        },
        {
         "mode": "lines",
         "name": "gene_12475",
         "type": "scatter",
         "x": [
          "KIRC",
          "LUAD",
          "PRAD",
          "BRCA",
          "COAD",
          "gene"
         ],
         "xaxis": "x19",
         "y": [
          19,
          10,
          44,
          36,
          5
         ],
         "yaxis": "y19"
        },
        {
         "mode": "lines",
         "name": "gene_12476",
         "type": "scatter",
         "x": [
          "KIRC",
          "LUAD",
          "PRAD",
          "BRCA",
          "COAD",
          "gene"
         ],
         "xaxis": "x19",
         "y": [
          13,
          5,
          38,
          44,
          3
         ],
         "yaxis": "y19"
        },
        {
         "mode": "lines",
         "name": "gene_12477",
         "type": "scatter",
         "x": [
          "KIRC",
          "LUAD",
          "PRAD",
          "BRCA",
          "COAD",
          "gene"
         ],
         "xaxis": "x19",
         "y": [
          3,
          null,
          19,
          14,
          1
         ],
         "yaxis": "y19"
        },
        {
         "mode": "lines",
         "name": "gene_12478",
         "type": "scatter",
         "x": [
          "KIRC",
          "LUAD",
          "PRAD",
          "BRCA",
          "COAD",
          "gene"
         ],
         "xaxis": "x19",
         "y": [
          null,
          null,
          null,
          5,
          null
         ],
         "yaxis": "y19"
        },
        {
         "mode": "lines",
         "name": "gene_12479",
         "type": "scatter",
         "x": [
          "KIRC",
          "LUAD",
          "PRAD",
          "BRCA",
          "COAD",
          "gene"
         ],
         "xaxis": "x19",
         "y": [
          1,
          null,
          null,
          5,
          null
         ],
         "yaxis": "y19"
        },
        {
         "mode": "lines",
         "name": "gene_12480",
         "type": "scatter",
         "x": [
          "KIRC",
          "LUAD",
          "PRAD",
          "BRCA",
          "COAD",
          "gene"
         ],
         "xaxis": "x19",
         "y": [
          3,
          1,
          6,
          9,
          null
         ],
         "yaxis": "y19"
        },
        {
         "mode": "lines",
         "name": "gene_12481",
         "type": "scatter",
         "x": [
          "KIRC",
          "LUAD",
          "PRAD",
          "BRCA",
          "COAD",
          "gene"
         ],
         "xaxis": "x19",
         "y": [
          6,
          2,
          16,
          40,
          null
         ],
         "yaxis": "y19"
        },
        {
         "mode": "lines",
         "name": "gene_12482",
         "type": "scatter",
         "x": [
          "KIRC",
          "LUAD",
          "PRAD",
          "BRCA",
          "COAD",
          "gene"
         ],
         "xaxis": "x19",
         "y": [
          3,
          1,
          1,
          4,
          null
         ],
         "yaxis": "y19"
        },
        {
         "mode": "lines",
         "name": "gene_12483",
         "type": "scatter",
         "x": [
          "KIRC",
          "LUAD",
          "PRAD",
          "BRCA",
          "COAD",
          "gene"
         ],
         "xaxis": "x19",
         "y": [
          6,
          1,
          1,
          3,
          null
         ],
         "yaxis": "y19"
        },
        {
         "mode": "lines",
         "name": "gene_12484",
         "type": "scatter",
         "x": [
          "KIRC",
          "LUAD",
          "PRAD",
          "BRCA",
          "COAD",
          "gene"
         ],
         "xaxis": "x19",
         "y": [
          33,
          15,
          10,
          61,
          4
         ],
         "yaxis": "y19"
        },
        {
         "mode": "lines",
         "name": "gene_12485",
         "type": "scatter",
         "x": [
          "KIRC",
          "LUAD",
          "PRAD",
          "BRCA",
          "COAD",
          "gene"
         ],
         "xaxis": "x19",
         "y": [
          127,
          8,
          35,
          11,
          14
         ],
         "yaxis": "y19"
        },
        {
         "mode": "lines",
         "name": "gene_12486",
         "type": "scatter",
         "x": [
          "KIRC",
          "LUAD",
          "PRAD",
          "BRCA",
          "COAD",
          "gene"
         ],
         "xaxis": "x19",
         "y": [
          58,
          null,
          8,
          null,
          7
         ],
         "yaxis": "y19"
        },
        {
         "mode": "lines",
         "name": "gene_12487",
         "type": "scatter",
         "x": [
          "KIRC",
          "LUAD",
          "PRAD",
          "BRCA",
          "COAD",
          "gene"
         ],
         "xaxis": "x19",
         "y": [
          3,
          null,
          3,
          15,
          null
         ],
         "yaxis": "y19"
        },
        {
         "mode": "lines",
         "name": "gene_12488",
         "type": "scatter",
         "x": [
          "KIRC",
          "LUAD",
          "PRAD",
          "BRCA",
          "COAD",
          "gene"
         ],
         "xaxis": "x19",
         "y": [
          7,
          1,
          1,
          2,
          null
         ],
         "yaxis": "y19"
        },
        {
         "mode": "lines",
         "name": "gene_12489",
         "type": "scatter",
         "x": [
          "KIRC",
          "LUAD",
          "PRAD",
          "BRCA",
          "COAD",
          "gene"
         ],
         "xaxis": "x19",
         "y": [
          1,
          null,
          null,
          null,
          null
         ],
         "yaxis": "y19"
        },
        {
         "mode": "lines",
         "name": "gene_12490",
         "type": "scatter",
         "x": [
          "KIRC",
          "LUAD",
          "PRAD",
          "BRCA",
          "COAD",
          "gene"
         ],
         "xaxis": "x19",
         "y": [
          1,
          null,
          null,
          1,
          null
         ],
         "yaxis": "y19"
        },
        {
         "mode": "lines",
         "name": "gene_12491",
         "type": "scatter",
         "x": [
          "KIRC",
          "LUAD",
          "PRAD",
          "BRCA",
          "COAD",
          "gene"
         ],
         "xaxis": "x19",
         "y": [
          71,
          3,
          18,
          4,
          3
         ],
         "yaxis": "y19"
        },
        {
         "mode": "lines",
         "name": "gene_12493",
         "type": "scatter",
         "x": [
          "KIRC",
          "LUAD",
          "PRAD",
          "BRCA",
          "COAD",
          "gene"
         ],
         "xaxis": "x19",
         "y": [
          32,
          3,
          7,
          5,
          null
         ],
         "yaxis": "y19"
        },
        {
         "mode": "lines",
         "name": "gene_12494",
         "type": "scatter",
         "x": [
          "KIRC",
          "LUAD",
          "PRAD",
          "BRCA",
          "COAD",
          "gene"
         ],
         "xaxis": "x19",
         "y": [
          30,
          null,
          6,
          1,
          1
         ],
         "yaxis": "y19"
        },
        {
         "mode": "lines",
         "name": "gene_12495",
         "type": "scatter",
         "x": [
          "KIRC",
          "LUAD",
          "PRAD",
          "BRCA",
          "COAD",
          "gene"
         ],
         "xaxis": "x19",
         "y": [
          52,
          6,
          18,
          17,
          2
         ],
         "yaxis": "y19"
        },
        {
         "mode": "lines",
         "name": "gene_12496",
         "type": "scatter",
         "x": [
          "KIRC",
          "LUAD",
          "PRAD",
          "BRCA",
          "COAD",
          "gene"
         ],
         "xaxis": "x19",
         "y": [
          24,
          5,
          36,
          31,
          1
         ],
         "yaxis": "y19"
        },
        {
         "mode": "lines",
         "name": "gene_12497",
         "type": "scatter",
         "x": [
          "KIRC",
          "LUAD",
          "PRAD",
          "BRCA",
          "COAD",
          "gene"
         ],
         "xaxis": "x19",
         "y": [
          90,
          14,
          53,
          20,
          3
         ],
         "yaxis": "y19"
        },
        {
         "mode": "lines",
         "name": "gene_12498",
         "type": "scatter",
         "x": [
          "KIRC",
          "LUAD",
          "PRAD",
          "BRCA",
          "COAD",
          "gene"
         ],
         "xaxis": "x19",
         "y": [
          2,
          2,
          4,
          5,
          null
         ],
         "yaxis": "y19"
        },
        {
         "mode": "lines",
         "name": "gene_12500",
         "type": "scatter",
         "x": [
          "KIRC",
          "LUAD",
          "PRAD",
          "BRCA",
          "COAD",
          "gene"
         ],
         "xaxis": "x19",
         "y": [
          9,
          3,
          6,
          5,
          null
         ],
         "yaxis": "y19"
        },
        {
         "mode": "lines",
         "name": "gene_12501",
         "type": "scatter",
         "x": [
          "KIRC",
          "LUAD",
          "PRAD",
          "BRCA",
          "COAD",
          "gene"
         ],
         "xaxis": "x19",
         "y": [
          5,
          null,
          1,
          3,
          2
         ],
         "yaxis": "y19"
        },
        {
         "mode": "lines",
         "name": "gene_12503",
         "type": "scatter",
         "x": [
          "KIRC",
          "LUAD",
          "PRAD",
          "BRCA",
          "COAD",
          "gene"
         ],
         "xaxis": "x19",
         "y": [
          3,
          5,
          63,
          8,
          null
         ],
         "yaxis": "y19"
        },
        {
         "mode": "lines",
         "name": "gene_12504",
         "type": "scatter",
         "x": [
          "KIRC",
          "LUAD",
          "PRAD",
          "BRCA",
          "COAD",
          "gene"
         ],
         "xaxis": "x19",
         "y": [
          3,
          null,
          2,
          1,
          null
         ],
         "yaxis": "y19"
        },
        {
         "mode": "lines",
         "name": "gene_12505",
         "type": "scatter",
         "x": [
          "KIRC",
          "LUAD",
          "PRAD",
          "BRCA",
          "COAD",
          "gene"
         ],
         "xaxis": "x19",
         "y": [
          9,
          2,
          3,
          2,
          null
         ],
         "yaxis": "y19"
        },
        {
         "mode": "lines",
         "name": "gene_12508",
         "type": "scatter",
         "x": [
          "KIRC",
          "LUAD",
          "PRAD",
          "BRCA",
          "COAD",
          "gene"
         ],
         "xaxis": "x19",
         "y": [
          22,
          10,
          4,
          25,
          3
         ],
         "yaxis": "y19"
        },
        {
         "mode": "lines",
         "name": "gene_12509",
         "type": "scatter",
         "x": [
          "KIRC",
          "LUAD",
          "PRAD",
          "BRCA",
          "COAD",
          "gene"
         ],
         "xaxis": "x19",
         "y": [
          8,
          4,
          null,
          9,
          1
         ],
         "yaxis": "y19"
        },
        {
         "mode": "lines",
         "name": "gene_12510",
         "type": "scatter",
         "x": [
          "KIRC",
          "LUAD",
          "PRAD",
          "BRCA",
          "COAD",
          "gene"
         ],
         "xaxis": "x19",
         "y": [
          5,
          1,
          null,
          1,
          null
         ],
         "yaxis": "y19"
        },
        {
         "mode": "lines",
         "name": "gene_12511",
         "type": "scatter",
         "x": [
          "KIRC",
          "LUAD",
          "PRAD",
          "BRCA",
          "COAD",
          "gene"
         ],
         "xaxis": "x19",
         "y": [
          4,
          2,
          1,
          5,
          null
         ],
         "yaxis": "y19"
        },
        {
         "mode": "lines",
         "name": "gene_12512",
         "type": "scatter",
         "x": [
          "KIRC",
          "LUAD",
          "PRAD",
          "BRCA",
          "COAD",
          "gene"
         ],
         "xaxis": "x19",
         "y": [
          9,
          3,
          4,
          8,
          1
         ],
         "yaxis": "y19"
        },
        {
         "mode": "lines",
         "name": "gene_12513",
         "type": "scatter",
         "x": [
          "KIRC",
          "LUAD",
          "PRAD",
          "BRCA",
          "COAD",
          "gene"
         ],
         "xaxis": "x19",
         "y": [
          2,
          null,
          null,
          1,
          null
         ],
         "yaxis": "y19"
        },
        {
         "mode": "lines",
         "name": "gene_12514",
         "type": "scatter",
         "x": [
          "KIRC",
          "LUAD",
          "PRAD",
          "BRCA",
          "COAD",
          "gene"
         ],
         "xaxis": "x19",
         "y": [
          6,
          null,
          2,
          1,
          null
         ],
         "yaxis": "y19"
        },
        {
         "mode": "lines",
         "name": "gene_12515",
         "type": "scatter",
         "x": [
          "KIRC",
          "LUAD",
          "PRAD",
          "BRCA",
          "COAD",
          "gene"
         ],
         "xaxis": "x19",
         "y": [
          1,
          null,
          6,
          8,
          null
         ],
         "yaxis": "y19"
        },
        {
         "mode": "lines",
         "name": "gene_12516",
         "type": "scatter",
         "x": [
          "KIRC",
          "LUAD",
          "PRAD",
          "BRCA",
          "COAD",
          "gene"
         ],
         "xaxis": "x19",
         "y": [
          2,
          1,
          1,
          4,
          2
         ],
         "yaxis": "y19"
        },
        {
         "mode": "lines",
         "name": "gene_12517",
         "type": "scatter",
         "x": [
          "KIRC",
          "LUAD",
          "PRAD",
          "BRCA",
          "COAD",
          "gene"
         ],
         "xaxis": "x19",
         "y": [
          6,
          null,
          1,
          6,
          null
         ],
         "yaxis": "y19"
        },
        {
         "mode": "lines",
         "name": "gene_12518",
         "type": "scatter",
         "x": [
          "KIRC",
          "LUAD",
          "PRAD",
          "BRCA",
          "COAD",
          "gene"
         ],
         "xaxis": "x19",
         "y": [
          6,
          null,
          2,
          4,
          null
         ],
         "yaxis": "y19"
        },
        {
         "mode": "lines",
         "name": "gene_12519",
         "type": "scatter",
         "x": [
          "KIRC",
          "LUAD",
          "PRAD",
          "BRCA",
          "COAD",
          "gene"
         ],
         "xaxis": "x19",
         "y": [
          1,
          null,
          1,
          null,
          null
         ],
         "yaxis": "y19"
        },
        {
         "mode": "lines",
         "name": "gene_12520",
         "type": "scatter",
         "x": [
          "KIRC",
          "LUAD",
          "PRAD",
          "BRCA",
          "COAD",
          "gene"
         ],
         "xaxis": "x19",
         "y": [
          8,
          1,
          1,
          8,
          null
         ],
         "yaxis": "y19"
        },
        {
         "mode": "lines",
         "name": "gene_12521",
         "type": "scatter",
         "x": [
          "KIRC",
          "LUAD",
          "PRAD",
          "BRCA",
          "COAD",
          "gene"
         ],
         "xaxis": "x19",
         "y": [
          4,
          1,
          null,
          8,
          null
         ],
         "yaxis": "y19"
        },
        {
         "mode": "lines",
         "name": "gene_12522",
         "type": "scatter",
         "x": [
          "KIRC",
          "LUAD",
          "PRAD",
          "BRCA",
          "COAD",
          "gene"
         ],
         "xaxis": "x19",
         "y": [
          null,
          null,
          1,
          1,
          null
         ],
         "yaxis": "y19"
        },
        {
         "mode": "lines",
         "name": "gene_12524",
         "type": "scatter",
         "x": [
          "KIRC",
          "LUAD",
          "PRAD",
          "BRCA",
          "COAD",
          "gene"
         ],
         "xaxis": "x19",
         "y": [
          4,
          7,
          5,
          10,
          null
         ],
         "yaxis": "y19"
        },
        {
         "mode": "lines",
         "name": "gene_12525",
         "type": "scatter",
         "x": [
          "KIRC",
          "LUAD",
          "PRAD",
          "BRCA",
          "COAD",
          "gene"
         ],
         "xaxis": "x19",
         "y": [
          9,
          null,
          3,
          null,
          null
         ],
         "yaxis": "y19"
        },
        {
         "mode": "lines",
         "name": "gene_12526",
         "type": "scatter",
         "x": [
          "KIRC",
          "LUAD",
          "PRAD",
          "BRCA",
          "COAD",
          "gene"
         ],
         "xaxis": "x19",
         "y": [
          12,
          4,
          6,
          24,
          2
         ],
         "yaxis": "y19"
        },
        {
         "mode": "lines",
         "name": "gene_12527",
         "type": "scatter",
         "x": [
          "KIRC",
          "LUAD",
          "PRAD",
          "BRCA",
          "COAD",
          "gene"
         ],
         "xaxis": "x19",
         "y": [
          2,
          3,
          5,
          1,
          null
         ],
         "yaxis": "y19"
        },
        {
         "mode": "lines",
         "name": "gene_12528",
         "type": "scatter",
         "x": [
          "KIRC",
          "LUAD",
          "PRAD",
          "BRCA",
          "COAD",
          "gene"
         ],
         "xaxis": "x20",
         "y": [
          6,
          3,
          4,
          3,
          6
         ],
         "yaxis": "y20"
        },
        {
         "mode": "lines",
         "name": "gene_12529",
         "type": "scatter",
         "x": [
          "KIRC",
          "LUAD",
          "PRAD",
          "BRCA",
          "COAD",
          "gene"
         ],
         "xaxis": "x20",
         "y": [
          3,
          4,
          1,
          7,
          1
         ],
         "yaxis": "y20"
        },
        {
         "mode": "lines",
         "name": "gene_12530",
         "type": "scatter",
         "x": [
          "KIRC",
          "LUAD",
          "PRAD",
          "BRCA",
          "COAD",
          "gene"
         ],
         "xaxis": "x20",
         "y": [
          10,
          1,
          6,
          2,
          null
         ],
         "yaxis": "y20"
        },
        {
         "mode": "lines",
         "name": "gene_12531",
         "type": "scatter",
         "x": [
          "KIRC",
          "LUAD",
          "PRAD",
          "BRCA",
          "COAD",
          "gene"
         ],
         "xaxis": "x20",
         "y": [
          4,
          11,
          6,
          11,
          4
         ],
         "yaxis": "y20"
        },
        {
         "mode": "lines",
         "name": "gene_12532",
         "type": "scatter",
         "x": [
          "KIRC",
          "LUAD",
          "PRAD",
          "BRCA",
          "COAD",
          "gene"
         ],
         "xaxis": "x20",
         "y": [
          20,
          null,
          3,
          4,
          null
         ],
         "yaxis": "y20"
        },
        {
         "mode": "lines",
         "name": "gene_12533",
         "type": "scatter",
         "x": [
          "KIRC",
          "LUAD",
          "PRAD",
          "BRCA",
          "COAD",
          "gene"
         ],
         "xaxis": "x20",
         "y": [
          2,
          null,
          2,
          2,
          null
         ],
         "yaxis": "y20"
        },
        {
         "mode": "lines",
         "name": "gene_12534",
         "type": "scatter",
         "x": [
          "KIRC",
          "LUAD",
          "PRAD",
          "BRCA",
          "COAD",
          "gene"
         ],
         "xaxis": "x20",
         "y": [
          6,
          5,
          4,
          13,
          5
         ],
         "yaxis": "y20"
        },
        {
         "mode": "lines",
         "name": "gene_12536",
         "type": "scatter",
         "x": [
          "KIRC",
          "LUAD",
          "PRAD",
          "BRCA",
          "COAD",
          "gene"
         ],
         "xaxis": "x20",
         "y": [
          13,
          null,
          6,
          3,
          null
         ],
         "yaxis": "y20"
        },
        {
         "mode": "lines",
         "name": "gene_12537",
         "type": "scatter",
         "x": [
          "KIRC",
          "LUAD",
          "PRAD",
          "BRCA",
          "COAD",
          "gene"
         ],
         "xaxis": "x20",
         "y": [
          10,
          3,
          7,
          7,
          3
         ],
         "yaxis": "y20"
        },
        {
         "mode": "lines",
         "name": "gene_12538",
         "type": "scatter",
         "x": [
          "KIRC",
          "LUAD",
          "PRAD",
          "BRCA",
          "COAD",
          "gene"
         ],
         "xaxis": "x20",
         "y": [
          15,
          2,
          2,
          2,
          1
         ],
         "yaxis": "y20"
        },
        {
         "mode": "lines",
         "name": "gene_12539",
         "type": "scatter",
         "x": [
          "KIRC",
          "LUAD",
          "PRAD",
          "BRCA",
          "COAD",
          "gene"
         ],
         "xaxis": "x20",
         "y": [
          4,
          null,
          2,
          2,
          null
         ],
         "yaxis": "y20"
        },
        {
         "mode": "lines",
         "name": "gene_12540",
         "type": "scatter",
         "x": [
          "KIRC",
          "LUAD",
          "PRAD",
          "BRCA",
          "COAD",
          "gene"
         ],
         "xaxis": "x20",
         "y": [
          8,
          null,
          2,
          1,
          null
         ],
         "yaxis": "y20"
        },
        {
         "mode": "lines",
         "name": "gene_12541",
         "type": "scatter",
         "x": [
          "KIRC",
          "LUAD",
          "PRAD",
          "BRCA",
          "COAD",
          "gene"
         ],
         "xaxis": "x20",
         "y": [
          4,
          null,
          5,
          41,
          null
         ],
         "yaxis": "y20"
        },
        {
         "mode": "lines",
         "name": "gene_12542",
         "type": "scatter",
         "x": [
          "KIRC",
          "LUAD",
          "PRAD",
          "BRCA",
          "COAD",
          "gene"
         ],
         "xaxis": "x20",
         "y": [
          1,
          1,
          null,
          2,
          null
         ],
         "yaxis": "y20"
        },
        {
         "mode": "lines",
         "name": "gene_12543",
         "type": "scatter",
         "x": [
          "KIRC",
          "LUAD",
          "PRAD",
          "BRCA",
          "COAD",
          "gene"
         ],
         "xaxis": "x20",
         "y": [
          4,
          null,
          7,
          5,
          null
         ],
         "yaxis": "y20"
        },
        {
         "mode": "lines",
         "name": "gene_12544",
         "type": "scatter",
         "x": [
          "KIRC",
          "LUAD",
          "PRAD",
          "BRCA",
          "COAD",
          "gene"
         ],
         "xaxis": "x20",
         "y": [
          16,
          null,
          12,
          1,
          null
         ],
         "yaxis": "y20"
        },
        {
         "mode": "lines",
         "name": "gene_12545",
         "type": "scatter",
         "x": [
          "KIRC",
          "LUAD",
          "PRAD",
          "BRCA",
          "COAD",
          "gene"
         ],
         "xaxis": "x20",
         "y": [
          4,
          null,
          null,
          1,
          null
         ],
         "yaxis": "y20"
        },
        {
         "mode": "lines",
         "name": "gene_12546",
         "type": "scatter",
         "x": [
          "KIRC",
          "LUAD",
          "PRAD",
          "BRCA",
          "COAD",
          "gene"
         ],
         "xaxis": "x20",
         "y": [
          4,
          null,
          7,
          3,
          null
         ],
         "yaxis": "y20"
        },
        {
         "mode": "lines",
         "name": "gene_12547",
         "type": "scatter",
         "x": [
          "KIRC",
          "LUAD",
          "PRAD",
          "BRCA",
          "COAD",
          "gene"
         ],
         "xaxis": "x20",
         "y": [
          4,
          1,
          12,
          6,
          1
         ],
         "yaxis": "y20"
        },
        {
         "mode": "lines",
         "name": "gene_12548",
         "type": "scatter",
         "x": [
          "KIRC",
          "LUAD",
          "PRAD",
          "BRCA",
          "COAD",
          "gene"
         ],
         "xaxis": "x20",
         "y": [
          6,
          3,
          21,
          21,
          2
         ],
         "yaxis": "y20"
        },
        {
         "mode": "lines",
         "name": "gene_12549",
         "type": "scatter",
         "x": [
          "KIRC",
          "LUAD",
          "PRAD",
          "BRCA",
          "COAD",
          "gene"
         ],
         "xaxis": "x20",
         "y": [
          18,
          5,
          48,
          23,
          1
         ],
         "yaxis": "y20"
        },
        {
         "mode": "lines",
         "name": "gene_12550",
         "type": "scatter",
         "x": [
          "KIRC",
          "LUAD",
          "PRAD",
          "BRCA",
          "COAD",
          "gene"
         ],
         "xaxis": "x20",
         "y": [
          8,
          6,
          40,
          16,
          1
         ],
         "yaxis": "y20"
        },
        {
         "mode": "lines",
         "name": "gene_12551",
         "type": "scatter",
         "x": [
          "KIRC",
          "LUAD",
          "PRAD",
          "BRCA",
          "COAD",
          "gene"
         ],
         "xaxis": "x20",
         "y": [
          7,
          13,
          62,
          44,
          3
         ],
         "yaxis": "y20"
        },
        {
         "mode": "lines",
         "name": "gene_12552",
         "type": "scatter",
         "x": [
          "KIRC",
          "LUAD",
          "PRAD",
          "BRCA",
          "COAD",
          "gene"
         ],
         "xaxis": "x20",
         "y": [
          5,
          null,
          29,
          2,
          null
         ],
         "yaxis": "y20"
        },
        {
         "mode": "lines",
         "name": "gene_12553",
         "type": "scatter",
         "x": [
          "KIRC",
          "LUAD",
          "PRAD",
          "BRCA",
          "COAD",
          "gene"
         ],
         "xaxis": "x20",
         "y": [
          3,
          null,
          null,
          null,
          null
         ],
         "yaxis": "y20"
        },
        {
         "mode": "lines",
         "name": "gene_12554",
         "type": "scatter",
         "x": [
          "KIRC",
          "LUAD",
          "PRAD",
          "BRCA",
          "COAD",
          "gene"
         ],
         "xaxis": "x20",
         "y": [
          7,
          null,
          26,
          4,
          null
         ],
         "yaxis": "y20"
        },
        {
         "mode": "lines",
         "name": "gene_12555",
         "type": "scatter",
         "x": [
          "KIRC",
          "LUAD",
          "PRAD",
          "BRCA",
          "COAD",
          "gene"
         ],
         "xaxis": "x20",
         "y": [
          5,
          null,
          2,
          2,
          null
         ],
         "yaxis": "y20"
        },
        {
         "mode": "lines",
         "name": "gene_12556",
         "type": "scatter",
         "x": [
          "KIRC",
          "LUAD",
          "PRAD",
          "BRCA",
          "COAD",
          "gene"
         ],
         "xaxis": "x20",
         "y": [
          1,
          null,
          null,
          1,
          null
         ],
         "yaxis": "y20"
        },
        {
         "mode": "lines",
         "name": "gene_12557",
         "type": "scatter",
         "x": [
          "KIRC",
          "LUAD",
          "PRAD",
          "BRCA",
          "COAD",
          "gene"
         ],
         "xaxis": "x20",
         "y": [
          5,
          null,
          3,
          1,
          null
         ],
         "yaxis": "y20"
        },
        {
         "mode": "lines",
         "name": "gene_12558",
         "type": "scatter",
         "x": [
          "KIRC",
          "LUAD",
          "PRAD",
          "BRCA",
          "COAD",
          "gene"
         ],
         "xaxis": "x20",
         "y": [
          10,
          2,
          4,
          6,
          2
         ],
         "yaxis": "y20"
        },
        {
         "mode": "lines",
         "name": "gene_12559",
         "type": "scatter",
         "x": [
          "KIRC",
          "LUAD",
          "PRAD",
          "BRCA",
          "COAD",
          "gene"
         ],
         "xaxis": "x20",
         "y": [
          1,
          null,
          2,
          null,
          null
         ],
         "yaxis": "y20"
        },
        {
         "mode": "lines",
         "name": "gene_12560",
         "type": "scatter",
         "x": [
          "KIRC",
          "LUAD",
          "PRAD",
          "BRCA",
          "COAD",
          "gene"
         ],
         "xaxis": "x20",
         "y": [
          5,
          1,
          25,
          2,
          null
         ],
         "yaxis": "y20"
        },
        {
         "mode": "lines",
         "name": "gene_12561",
         "type": "scatter",
         "x": [
          "KIRC",
          "LUAD",
          "PRAD",
          "BRCA",
          "COAD",
          "gene"
         ],
         "xaxis": "x20",
         "y": [
          10,
          4,
          45,
          1,
          null
         ],
         "yaxis": "y20"
        },
        {
         "mode": "lines",
         "name": "gene_12562",
         "type": "scatter",
         "x": [
          "KIRC",
          "LUAD",
          "PRAD",
          "BRCA",
          "COAD",
          "gene"
         ],
         "xaxis": "x20",
         "y": [
          17,
          16,
          11,
          29,
          3
         ],
         "yaxis": "y20"
        },
        {
         "mode": "lines",
         "name": "gene_12565",
         "type": "scatter",
         "x": [
          "KIRC",
          "LUAD",
          "PRAD",
          "BRCA",
          "COAD",
          "gene"
         ],
         "xaxis": "x20",
         "y": [
          14,
          7,
          2,
          5,
          1
         ],
         "yaxis": "y20"
        },
        {
         "mode": "lines",
         "name": "gene_12566",
         "type": "scatter",
         "x": [
          "KIRC",
          "LUAD",
          "PRAD",
          "BRCA",
          "COAD",
          "gene"
         ],
         "xaxis": "x20",
         "y": [
          5,
          null,
          67,
          3,
          null
         ],
         "yaxis": "y20"
        },
        {
         "mode": "lines",
         "name": "gene_12569",
         "type": "scatter",
         "x": [
          "KIRC",
          "LUAD",
          "PRAD",
          "BRCA",
          "COAD",
          "gene"
         ],
         "xaxis": "x20",
         "y": [
          4,
          null,
          63,
          2,
          null
         ],
         "yaxis": "y20"
        },
        {
         "mode": "lines",
         "name": "gene_12570",
         "type": "scatter",
         "x": [
          "KIRC",
          "LUAD",
          "PRAD",
          "BRCA",
          "COAD",
          "gene"
         ],
         "xaxis": "x20",
         "y": [
          4,
          1,
          77,
          5,
          1
         ],
         "yaxis": "y20"
        },
        {
         "mode": "lines",
         "name": "gene_12571",
         "type": "scatter",
         "x": [
          "KIRC",
          "LUAD",
          "PRAD",
          "BRCA",
          "COAD",
          "gene"
         ],
         "xaxis": "x20",
         "y": [
          4,
          null,
          31,
          3,
          null
         ],
         "yaxis": "y20"
        },
        {
         "mode": "lines",
         "name": "gene_12572",
         "type": "scatter",
         "x": [
          "KIRC",
          "LUAD",
          "PRAD",
          "BRCA",
          "COAD",
          "gene"
         ],
         "xaxis": "x20",
         "y": [
          5,
          3,
          33,
          2,
          4
         ],
         "yaxis": "y20"
        },
        {
         "mode": "lines",
         "name": "gene_12573",
         "type": "scatter",
         "x": [
          "KIRC",
          "LUAD",
          "PRAD",
          "BRCA",
          "COAD",
          "gene"
         ],
         "xaxis": "x20",
         "y": [
          32,
          21,
          19,
          36,
          1
         ],
         "yaxis": "y20"
        },
        {
         "mode": "lines",
         "name": "gene_12574",
         "type": "scatter",
         "x": [
          "KIRC",
          "LUAD",
          "PRAD",
          "BRCA",
          "COAD",
          "gene"
         ],
         "xaxis": "x20",
         "y": [
          16,
          6,
          4,
          14,
          2
         ],
         "yaxis": "y20"
        },
        {
         "mode": "lines",
         "name": "gene_12575",
         "type": "scatter",
         "x": [
          "KIRC",
          "LUAD",
          "PRAD",
          "BRCA",
          "COAD",
          "gene"
         ],
         "xaxis": "x20",
         "y": [
          2,
          1,
          43,
          1,
          null
         ],
         "yaxis": "y20"
        },
        {
         "mode": "lines",
         "name": "gene_12576",
         "type": "scatter",
         "x": [
          "KIRC",
          "LUAD",
          "PRAD",
          "BRCA",
          "COAD",
          "gene"
         ],
         "xaxis": "x20",
         "y": [
          7,
          8,
          5,
          7,
          null
         ],
         "yaxis": "y20"
        },
        {
         "mode": "lines",
         "name": "gene_12577",
         "type": "scatter",
         "x": [
          "KIRC",
          "LUAD",
          "PRAD",
          "BRCA",
          "COAD",
          "gene"
         ],
         "xaxis": "x20",
         "y": [
          20,
          22,
          16,
          58,
          1
         ],
         "yaxis": "y20"
        },
        {
         "mode": "lines",
         "name": "gene_12578",
         "type": "scatter",
         "x": [
          "KIRC",
          "LUAD",
          "PRAD",
          "BRCA",
          "COAD",
          "gene"
         ],
         "xaxis": "x20",
         "y": [
          4,
          2,
          82,
          1,
          null
         ],
         "yaxis": "y20"
        },
        {
         "mode": "lines",
         "name": "gene_12579",
         "type": "scatter",
         "x": [
          "KIRC",
          "LUAD",
          "PRAD",
          "BRCA",
          "COAD",
          "gene"
         ],
         "xaxis": "x20",
         "y": [
          5,
          4,
          91,
          6,
          1
         ],
         "yaxis": "y20"
        },
        {
         "mode": "lines",
         "name": "gene_12580",
         "type": "scatter",
         "x": [
          "KIRC",
          "LUAD",
          "PRAD",
          "BRCA",
          "COAD",
          "gene"
         ],
         "xaxis": "x20",
         "y": [
          6,
          null,
          3,
          1,
          null
         ],
         "yaxis": "y20"
        },
        {
         "mode": "lines",
         "name": "gene_12581",
         "type": "scatter",
         "x": [
          "KIRC",
          "LUAD",
          "PRAD",
          "BRCA",
          "COAD",
          "gene"
         ],
         "xaxis": "x20",
         "y": [
          4,
          1,
          3,
          2,
          null
         ],
         "yaxis": "y20"
        },
        {
         "mode": "lines",
         "name": "gene_12582",
         "type": "scatter",
         "x": [
          "KIRC",
          "LUAD",
          "PRAD",
          "BRCA",
          "COAD",
          "gene"
         ],
         "xaxis": "x20",
         "y": [
          4,
          5,
          1,
          2,
          null
         ],
         "yaxis": "y20"
        },
        {
         "mode": "lines",
         "name": "gene_12583",
         "type": "scatter",
         "x": [
          "KIRC",
          "LUAD",
          "PRAD",
          "BRCA",
          "COAD",
          "gene"
         ],
         "xaxis": "x20",
         "y": [
          4,
          1,
          8,
          1,
          null
         ],
         "yaxis": "y20"
        },
        {
         "mode": "lines",
         "name": "gene_12584",
         "type": "scatter",
         "x": [
          "KIRC",
          "LUAD",
          "PRAD",
          "BRCA",
          "COAD",
          "gene"
         ],
         "xaxis": "x20",
         "y": [
          23,
          9,
          12,
          22,
          8
         ],
         "yaxis": "y20"
        },
        {
         "mode": "lines",
         "name": "gene_12585",
         "type": "scatter",
         "x": [
          "KIRC",
          "LUAD",
          "PRAD",
          "BRCA",
          "COAD",
          "gene"
         ],
         "xaxis": "x21",
         "y": [
          8,
          3,
          10,
          11,
          2
         ],
         "yaxis": "y21"
        },
        {
         "mode": "lines",
         "name": "gene_12586",
         "type": "scatter",
         "x": [
          "KIRC",
          "LUAD",
          "PRAD",
          "BRCA",
          "COAD",
          "gene"
         ],
         "xaxis": "x21",
         "y": [
          56,
          23,
          25,
          66,
          8
         ],
         "yaxis": "y21"
        },
        {
         "mode": "lines",
         "name": "gene_12587",
         "type": "scatter",
         "x": [
          "KIRC",
          "LUAD",
          "PRAD",
          "BRCA",
          "COAD",
          "gene"
         ],
         "xaxis": "x21",
         "y": [
          33,
          17,
          21,
          47,
          2
         ],
         "yaxis": "y21"
        },
        {
         "mode": "lines",
         "name": "gene_12588",
         "type": "scatter",
         "x": [
          "KIRC",
          "LUAD",
          "PRAD",
          "BRCA",
          "COAD",
          "gene"
         ],
         "xaxis": "x21",
         "y": [
          5,
          6,
          5,
          4,
          null
         ],
         "yaxis": "y21"
        },
        {
         "mode": "lines",
         "name": "gene_12589",
         "type": "scatter",
         "x": [
          "KIRC",
          "LUAD",
          "PRAD",
          "BRCA",
          "COAD",
          "gene"
         ],
         "xaxis": "x21",
         "y": [
          4,
          6,
          4,
          31,
          1
         ],
         "yaxis": "y21"
        },
        {
         "mode": "lines",
         "name": "gene_12590",
         "type": "scatter",
         "x": [
          "KIRC",
          "LUAD",
          "PRAD",
          "BRCA",
          "COAD",
          "gene"
         ],
         "xaxis": "x21",
         "y": [
          6,
          12,
          7,
          53,
          1
         ],
         "yaxis": "y21"
        },
        {
         "mode": "lines",
         "name": "gene_12591",
         "type": "scatter",
         "x": [
          "KIRC",
          "LUAD",
          "PRAD",
          "BRCA",
          "COAD",
          "gene"
         ],
         "xaxis": "x21",
         "y": [
          6,
          1,
          null,
          12,
          null
         ],
         "yaxis": "y21"
        },
        {
         "mode": "lines",
         "name": "gene_12592",
         "type": "scatter",
         "x": [
          "KIRC",
          "LUAD",
          "PRAD",
          "BRCA",
          "COAD",
          "gene"
         ],
         "xaxis": "x21",
         "y": [
          35,
          14,
          13,
          50,
          1
         ],
         "yaxis": "y21"
        },
        {
         "mode": "lines",
         "name": "gene_12593",
         "type": "scatter",
         "x": [
          "KIRC",
          "LUAD",
          "PRAD",
          "BRCA",
          "COAD",
          "gene"
         ],
         "xaxis": "x21",
         "y": [
          24,
          33,
          88,
          22,
          8
         ],
         "yaxis": "y21"
        },
        {
         "mode": "lines",
         "name": "gene_12594",
         "type": "scatter",
         "x": [
          "KIRC",
          "LUAD",
          "PRAD",
          "BRCA",
          "COAD",
          "gene"
         ],
         "xaxis": "x21",
         "y": [
          14,
          26,
          67,
          18,
          5
         ],
         "yaxis": "y21"
        },
        {
         "mode": "lines",
         "name": "gene_12595",
         "type": "scatter",
         "x": [
          "KIRC",
          "LUAD",
          "PRAD",
          "BRCA",
          "COAD",
          "gene"
         ],
         "xaxis": "x21",
         "y": [
          4,
          1,
          5,
          2,
          null
         ],
         "yaxis": "y21"
        },
        {
         "mode": "lines",
         "name": "gene_12596",
         "type": "scatter",
         "x": [
          "KIRC",
          "LUAD",
          "PRAD",
          "BRCA",
          "COAD",
          "gene"
         ],
         "xaxis": "x21",
         "y": [
          10,
          10,
          12,
          18,
          8
         ],
         "yaxis": "y21"
        },
        {
         "mode": "lines",
         "name": "gene_12597",
         "type": "scatter",
         "x": [
          "KIRC",
          "LUAD",
          "PRAD",
          "BRCA",
          "COAD",
          "gene"
         ],
         "xaxis": "x21",
         "y": [
          17,
          33,
          17,
          50,
          20
         ],
         "yaxis": "y21"
        },
        {
         "mode": "lines",
         "name": "gene_12598",
         "type": "scatter",
         "x": [
          "KIRC",
          "LUAD",
          "PRAD",
          "BRCA",
          "COAD",
          "gene"
         ],
         "xaxis": "x21",
         "y": [
          11,
          16,
          10,
          26,
          4
         ],
         "yaxis": "y21"
        },
        {
         "mode": "lines",
         "name": "gene_12599",
         "type": "scatter",
         "x": [
          "KIRC",
          "LUAD",
          "PRAD",
          "BRCA",
          "COAD",
          "gene"
         ],
         "xaxis": "x21",
         "y": [
          5,
          3,
          12,
          2,
          1
         ],
         "yaxis": "y21"
        },
        {
         "mode": "lines",
         "name": "gene_12600",
         "type": "scatter",
         "x": [
          "KIRC",
          "LUAD",
          "PRAD",
          "BRCA",
          "COAD",
          "gene"
         ],
         "xaxis": "x21",
         "y": [
          14,
          6,
          11,
          38,
          1
         ],
         "yaxis": "y21"
        },
        {
         "mode": "lines",
         "name": "gene_12603",
         "type": "scatter",
         "x": [
          "KIRC",
          "LUAD",
          "PRAD",
          "BRCA",
          "COAD",
          "gene"
         ],
         "xaxis": "x21",
         "y": [
          10,
          9,
          13,
          43,
          3
         ],
         "yaxis": "y21"
        },
        {
         "mode": "lines",
         "name": "gene_12604",
         "type": "scatter",
         "x": [
          "KIRC",
          "LUAD",
          "PRAD",
          "BRCA",
          "COAD",
          "gene"
         ],
         "xaxis": "x21",
         "y": [
          16,
          4,
          106,
          3,
          null
         ],
         "yaxis": "y21"
        },
        {
         "mode": "lines",
         "name": "gene_12606",
         "type": "scatter",
         "x": [
          "KIRC",
          "LUAD",
          "PRAD",
          "BRCA",
          "COAD",
          "gene"
         ],
         "xaxis": "x21",
         "y": [
          5,
          7,
          2,
          14,
          1
         ],
         "yaxis": "y21"
        },
        {
         "mode": "lines",
         "name": "gene_12607",
         "type": "scatter",
         "x": [
          "KIRC",
          "LUAD",
          "PRAD",
          "BRCA",
          "COAD",
          "gene"
         ],
         "xaxis": "x21",
         "y": [
          11,
          22,
          12,
          56,
          2
         ],
         "yaxis": "y21"
        },
        {
         "mode": "lines",
         "name": "gene_12608",
         "type": "scatter",
         "x": [
          "KIRC",
          "LUAD",
          "PRAD",
          "BRCA",
          "COAD",
          "gene"
         ],
         "xaxis": "x21",
         "y": [
          7,
          5,
          4,
          14,
          2
         ],
         "yaxis": "y21"
        },
        {
         "mode": "lines",
         "name": "gene_12609",
         "type": "scatter",
         "x": [
          "KIRC",
          "LUAD",
          "PRAD",
          "BRCA",
          "COAD",
          "gene"
         ],
         "xaxis": "x21",
         "y": [
          10,
          13,
          18,
          35,
          5
         ],
         "yaxis": "y21"
        },
        {
         "mode": "lines",
         "name": "gene_12612",
         "type": "scatter",
         "x": [
          "KIRC",
          "LUAD",
          "PRAD",
          "BRCA",
          "COAD",
          "gene"
         ],
         "xaxis": "x21",
         "y": [
          18,
          3,
          2,
          8,
          null
         ],
         "yaxis": "y21"
        },
        {
         "mode": "lines",
         "name": "gene_12613",
         "type": "scatter",
         "x": [
          "KIRC",
          "LUAD",
          "PRAD",
          "BRCA",
          "COAD",
          "gene"
         ],
         "xaxis": "x21",
         "y": [
          5,
          null,
          1,
          2,
          null
         ],
         "yaxis": "y21"
        },
        {
         "mode": "lines",
         "name": "gene_12614",
         "type": "scatter",
         "x": [
          "KIRC",
          "LUAD",
          "PRAD",
          "BRCA",
          "COAD",
          "gene"
         ],
         "xaxis": "x21",
         "y": [
          1,
          2,
          1,
          4,
          null
         ],
         "yaxis": "y21"
        },
        {
         "mode": "lines",
         "name": "gene_12615",
         "type": "scatter",
         "x": [
          "KIRC",
          "LUAD",
          "PRAD",
          "BRCA",
          "COAD",
          "gene"
         ],
         "xaxis": "x21",
         "y": [
          25,
          8,
          2,
          6,
          1
         ],
         "yaxis": "y21"
        },
        {
         "mode": "lines",
         "name": "gene_12616",
         "type": "scatter",
         "x": [
          "KIRC",
          "LUAD",
          "PRAD",
          "BRCA",
          "COAD",
          "gene"
         ],
         "xaxis": "x21",
         "y": [
          8,
          4,
          1,
          3,
          1
         ],
         "yaxis": "y21"
        },
        {
         "mode": "lines",
         "name": "gene_12617",
         "type": "scatter",
         "x": [
          "KIRC",
          "LUAD",
          "PRAD",
          "BRCA",
          "COAD",
          "gene"
         ],
         "xaxis": "x21",
         "y": [
          7,
          1,
          null,
          6,
          null
         ],
         "yaxis": "y21"
        },
        {
         "mode": "lines",
         "name": "gene_12618",
         "type": "scatter",
         "x": [
          "KIRC",
          "LUAD",
          "PRAD",
          "BRCA",
          "COAD",
          "gene"
         ],
         "xaxis": "x21",
         "y": [
          2,
          1,
          null,
          4,
          1
         ],
         "yaxis": "y21"
        },
        {
         "mode": "lines",
         "name": "gene_12619",
         "type": "scatter",
         "x": [
          "KIRC",
          "LUAD",
          "PRAD",
          "BRCA",
          "COAD",
          "gene"
         ],
         "xaxis": "x21",
         "y": [
          1,
          1,
          null,
          null,
          null
         ],
         "yaxis": "y21"
        },
        {
         "mode": "lines",
         "name": "gene_12620",
         "type": "scatter",
         "x": [
          "KIRC",
          "LUAD",
          "PRAD",
          "BRCA",
          "COAD",
          "gene"
         ],
         "xaxis": "x21",
         "y": [
          5,
          22,
          9,
          44,
          5
         ],
         "yaxis": "y21"
        },
        {
         "mode": "lines",
         "name": "gene_12621",
         "type": "scatter",
         "x": [
          "KIRC",
          "LUAD",
          "PRAD",
          "BRCA",
          "COAD",
          "gene"
         ],
         "xaxis": "x21",
         "y": [
          35,
          22,
          29,
          23,
          3
         ],
         "yaxis": "y21"
        },
        {
         "mode": "lines",
         "name": "gene_12622",
         "type": "scatter",
         "x": [
          "KIRC",
          "LUAD",
          "PRAD",
          "BRCA",
          "COAD",
          "gene"
         ],
         "xaxis": "x21",
         "y": [
          6,
          null,
          null,
          2,
          null
         ],
         "yaxis": "y21"
        },
        {
         "mode": "lines",
         "name": "gene_12623",
         "type": "scatter",
         "x": [
          "KIRC",
          "LUAD",
          "PRAD",
          "BRCA",
          "COAD",
          "gene"
         ],
         "xaxis": "x21",
         "y": [
          28,
          17,
          10,
          25,
          4
         ],
         "yaxis": "y21"
        },
        {
         "mode": "lines",
         "name": "gene_12624",
         "type": "scatter",
         "x": [
          "KIRC",
          "LUAD",
          "PRAD",
          "BRCA",
          "COAD",
          "gene"
         ],
         "xaxis": "x21",
         "y": [
          41,
          13,
          30,
          13,
          3
         ],
         "yaxis": "y21"
        },
        {
         "mode": "lines",
         "name": "gene_12625",
         "type": "scatter",
         "x": [
          "KIRC",
          "LUAD",
          "PRAD",
          "BRCA",
          "COAD",
          "gene"
         ],
         "xaxis": "x21",
         "y": [
          8,
          1,
          null,
          2,
          null
         ],
         "yaxis": "y21"
        },
        {
         "mode": "lines",
         "name": "gene_12626",
         "type": "scatter",
         "x": [
          "KIRC",
          "LUAD",
          "PRAD",
          "BRCA",
          "COAD",
          "gene"
         ],
         "xaxis": "x21",
         "y": [
          40,
          14,
          19,
          30,
          5
         ],
         "yaxis": "y21"
        },
        {
         "mode": "lines",
         "name": "gene_12627",
         "type": "scatter",
         "x": [
          "KIRC",
          "LUAD",
          "PRAD",
          "BRCA",
          "COAD",
          "gene"
         ],
         "xaxis": "x21",
         "y": [
          3,
          null,
          null,
          1,
          null
         ],
         "yaxis": "y21"
        },
        {
         "mode": "lines",
         "name": "gene_12628",
         "type": "scatter",
         "x": [
          "KIRC",
          "LUAD",
          "PRAD",
          "BRCA",
          "COAD",
          "gene"
         ],
         "xaxis": "x21",
         "y": [
          4,
          null,
          1,
          1,
          null
         ],
         "yaxis": "y21"
        },
        {
         "mode": "lines",
         "name": "gene_12629",
         "type": "scatter",
         "x": [
          "KIRC",
          "LUAD",
          "PRAD",
          "BRCA",
          "COAD",
          "gene"
         ],
         "xaxis": "x21",
         "y": [
          1,
          null,
          null,
          2,
          null
         ],
         "yaxis": "y21"
        },
        {
         "mode": "lines",
         "name": "gene_12630",
         "type": "scatter",
         "x": [
          "KIRC",
          "LUAD",
          "PRAD",
          "BRCA",
          "COAD",
          "gene"
         ],
         "xaxis": "x21",
         "y": [
          1,
          null,
          null,
          3,
          null
         ],
         "yaxis": "y21"
        },
        {
         "mode": "lines",
         "name": "gene_12631",
         "type": "scatter",
         "x": [
          "KIRC",
          "LUAD",
          "PRAD",
          "BRCA",
          "COAD",
          "gene"
         ],
         "xaxis": "x21",
         "y": [
          null,
          17,
          11,
          43,
          4
         ],
         "yaxis": "y21"
        },
        {
         "mode": "lines",
         "name": "gene_12632",
         "type": "scatter",
         "x": [
          "KIRC",
          "LUAD",
          "PRAD",
          "BRCA",
          "COAD",
          "gene"
         ],
         "xaxis": "x21",
         "y": [
          3,
          null,
          1,
          2,
          null
         ],
         "yaxis": "y21"
        },
        {
         "mode": "lines",
         "name": "gene_12633",
         "type": "scatter",
         "x": [
          "KIRC",
          "LUAD",
          "PRAD",
          "BRCA",
          "COAD",
          "gene"
         ],
         "xaxis": "x21",
         "y": [
          4,
          null,
          1,
          null,
          null
         ],
         "yaxis": "y21"
        },
        {
         "mode": "lines",
         "name": "gene_12634",
         "type": "scatter",
         "x": [
          "KIRC",
          "LUAD",
          "PRAD",
          "BRCA",
          "COAD",
          "gene"
         ],
         "xaxis": "x21",
         "y": [
          1,
          1,
          null,
          1,
          null
         ],
         "yaxis": "y21"
        },
        {
         "mode": "lines",
         "name": "gene_12635",
         "type": "scatter",
         "x": [
          "KIRC",
          "LUAD",
          "PRAD",
          "BRCA",
          "COAD",
          "gene"
         ],
         "xaxis": "x21",
         "y": [
          5,
          1,
          1,
          null,
          null
         ],
         "yaxis": "y21"
        },
        {
         "mode": "lines",
         "name": "gene_12636",
         "type": "scatter",
         "x": [
          "KIRC",
          "LUAD",
          "PRAD",
          "BRCA",
          "COAD",
          "gene"
         ],
         "xaxis": "x21",
         "y": [
          4,
          6,
          10,
          10,
          1
         ],
         "yaxis": "y21"
        },
        {
         "mode": "lines",
         "name": "gene_12637",
         "type": "scatter",
         "x": [
          "KIRC",
          "LUAD",
          "PRAD",
          "BRCA",
          "COAD",
          "gene"
         ],
         "xaxis": "x21",
         "y": [
          8,
          6,
          17,
          8,
          1
         ],
         "yaxis": "y21"
        },
        {
         "mode": "lines",
         "name": "gene_12638",
         "type": "scatter",
         "x": [
          "KIRC",
          "LUAD",
          "PRAD",
          "BRCA",
          "COAD",
          "gene"
         ],
         "xaxis": "x21",
         "y": [
          3,
          null,
          2,
          1,
          null
         ],
         "yaxis": "y21"
        },
        {
         "mode": "lines",
         "name": "gene_12639",
         "type": "scatter",
         "x": [
          "KIRC",
          "LUAD",
          "PRAD",
          "BRCA",
          "COAD",
          "gene"
         ],
         "xaxis": "x21",
         "y": [
          4,
          null,
          null,
          1,
          null
         ],
         "yaxis": "y21"
        },
        {
         "mode": "lines",
         "name": "gene_12640",
         "type": "scatter",
         "x": [
          "KIRC",
          "LUAD",
          "PRAD",
          "BRCA",
          "COAD",
          "gene"
         ],
         "xaxis": "x21",
         "y": [
          51,
          24,
          26,
          58,
          11
         ],
         "yaxis": "y21"
        },
        {
         "mode": "lines",
         "name": "gene_12642",
         "type": "scatter",
         "x": [
          "KIRC",
          "LUAD",
          "PRAD",
          "BRCA",
          "COAD",
          "gene"
         ],
         "xaxis": "x21",
         "y": [
          3,
          null,
          null,
          5,
          null
         ],
         "yaxis": "y21"
        },
        {
         "mode": "lines",
         "name": "gene_12643",
         "type": "scatter",
         "x": [
          "KIRC",
          "LUAD",
          "PRAD",
          "BRCA",
          "COAD",
          "gene"
         ],
         "xaxis": "x22",
         "y": [
          4,
          1,
          null,
          null,
          null
         ],
         "yaxis": "y22"
        },
        {
         "mode": "lines",
         "name": "gene_12644",
         "type": "scatter",
         "x": [
          "KIRC",
          "LUAD",
          "PRAD",
          "BRCA",
          "COAD",
          "gene"
         ],
         "xaxis": "x22",
         "y": [
          2,
          null,
          1,
          2,
          null
         ],
         "yaxis": "y22"
        },
        {
         "mode": "lines",
         "name": "gene_12645",
         "type": "scatter",
         "x": [
          "KIRC",
          "LUAD",
          "PRAD",
          "BRCA",
          "COAD",
          "gene"
         ],
         "xaxis": "x22",
         "y": [
          1,
          null,
          null,
          1,
          null
         ],
         "yaxis": "y22"
        },
        {
         "mode": "lines",
         "name": "gene_12646",
         "type": "scatter",
         "x": [
          "KIRC",
          "LUAD",
          "PRAD",
          "BRCA",
          "COAD",
          "gene"
         ],
         "xaxis": "x22",
         "y": [
          3,
          null,
          1,
          3,
          1
         ],
         "yaxis": "y22"
        },
        {
         "mode": "lines",
         "name": "gene_12647",
         "type": "scatter",
         "x": [
          "KIRC",
          "LUAD",
          "PRAD",
          "BRCA",
          "COAD",
          "gene"
         ],
         "xaxis": "x22",
         "y": [
          14,
          29,
          21,
          18,
          42
         ],
         "yaxis": "y22"
        },
        {
         "mode": "lines",
         "name": "gene_12648",
         "type": "scatter",
         "x": [
          "KIRC",
          "LUAD",
          "PRAD",
          "BRCA",
          "COAD",
          "gene"
         ],
         "xaxis": "x22",
         "y": [
          3,
          1,
          2,
          1,
          null
         ],
         "yaxis": "y22"
        },
        {
         "mode": "lines",
         "name": "gene_12649",
         "type": "scatter",
         "x": [
          "KIRC",
          "LUAD",
          "PRAD",
          "BRCA",
          "COAD",
          "gene"
         ],
         "xaxis": "x22",
         "y": [
          1,
          null,
          null,
          2,
          null
         ],
         "yaxis": "y22"
        },
        {
         "mode": "lines",
         "name": "gene_12650",
         "type": "scatter",
         "x": [
          "KIRC",
          "LUAD",
          "PRAD",
          "BRCA",
          "COAD",
          "gene"
         ],
         "xaxis": "x22",
         "y": [
          7,
          1,
          null,
          2,
          null
         ],
         "yaxis": "y22"
        },
        {
         "mode": "lines",
         "name": "gene_12651",
         "type": "scatter",
         "x": [
          "KIRC",
          "LUAD",
          "PRAD",
          "BRCA",
          "COAD",
          "gene"
         ],
         "xaxis": "x22",
         "y": [
          3,
          null,
          null,
          1,
          null
         ],
         "yaxis": "y22"
        },
        {
         "mode": "lines",
         "name": "gene_12652",
         "type": "scatter",
         "x": [
          "KIRC",
          "LUAD",
          "PRAD",
          "BRCA",
          "COAD",
          "gene"
         ],
         "xaxis": "x22",
         "y": [
          4,
          9,
          12,
          34,
          1
         ],
         "yaxis": "y22"
        },
        {
         "mode": "lines",
         "name": "gene_12653",
         "type": "scatter",
         "x": [
          "KIRC",
          "LUAD",
          "PRAD",
          "BRCA",
          "COAD",
          "gene"
         ],
         "xaxis": "x22",
         "y": [
          3,
          14,
          15,
          41,
          null
         ],
         "yaxis": "y22"
        },
        {
         "mode": "lines",
         "name": "gene_12654",
         "type": "scatter",
         "x": [
          "KIRC",
          "LUAD",
          "PRAD",
          "BRCA",
          "COAD",
          "gene"
         ],
         "xaxis": "x22",
         "y": [
          4,
          null,
          1,
          1,
          null
         ],
         "yaxis": "y22"
        },
        {
         "mode": "lines",
         "name": "gene_12655",
         "type": "scatter",
         "x": [
          "KIRC",
          "LUAD",
          "PRAD",
          "BRCA",
          "COAD",
          "gene"
         ],
         "xaxis": "x22",
         "y": [
          4,
          null,
          2,
          3,
          null
         ],
         "yaxis": "y22"
        },
        {
         "mode": "lines",
         "name": "gene_12656",
         "type": "scatter",
         "x": [
          "KIRC",
          "LUAD",
          "PRAD",
          "BRCA",
          "COAD",
          "gene"
         ],
         "xaxis": "x22",
         "y": [
          3,
          4,
          1,
          22,
          2
         ],
         "yaxis": "y22"
        },
        {
         "mode": "lines",
         "name": "gene_12657",
         "type": "scatter",
         "x": [
          "KIRC",
          "LUAD",
          "PRAD",
          "BRCA",
          "COAD",
          "gene"
         ],
         "xaxis": "x22",
         "y": [
          2,
          2,
          2,
          2,
          null
         ],
         "yaxis": "y22"
        },
        {
         "mode": "lines",
         "name": "gene_12658",
         "type": "scatter",
         "x": [
          "KIRC",
          "LUAD",
          "PRAD",
          "BRCA",
          "COAD",
          "gene"
         ],
         "xaxis": "x22",
         "y": [
          8,
          2,
          3,
          3,
          null
         ],
         "yaxis": "y22"
        },
        {
         "mode": "lines",
         "name": "gene_12659",
         "type": "scatter",
         "x": [
          "KIRC",
          "LUAD",
          "PRAD",
          "BRCA",
          "COAD",
          "gene"
         ],
         "xaxis": "x22",
         "y": [
          9,
          1,
          2,
          1,
          null
         ],
         "yaxis": "y22"
        },
        {
         "mode": "lines",
         "name": "gene_12660",
         "type": "scatter",
         "x": [
          "KIRC",
          "LUAD",
          "PRAD",
          "BRCA",
          "COAD",
          "gene"
         ],
         "xaxis": "x22",
         "y": [
          40,
          18,
          10,
          25,
          14
         ],
         "yaxis": "y22"
        },
        {
         "mode": "lines",
         "name": "gene_12661",
         "type": "scatter",
         "x": [
          "KIRC",
          "LUAD",
          "PRAD",
          "BRCA",
          "COAD",
          "gene"
         ],
         "xaxis": "x22",
         "y": [
          10,
          null,
          2,
          6,
          2
         ],
         "yaxis": "y22"
        },
        {
         "mode": "lines",
         "name": "gene_12663",
         "type": "scatter",
         "x": [
          "KIRC",
          "LUAD",
          "PRAD",
          "BRCA",
          "COAD",
          "gene"
         ],
         "xaxis": "x22",
         "y": [
          5,
          4,
          8,
          90,
          3
         ],
         "yaxis": "y22"
        },
        {
         "mode": "lines",
         "name": "gene_12664",
         "type": "scatter",
         "x": [
          "KIRC",
          "LUAD",
          "PRAD",
          "BRCA",
          "COAD",
          "gene"
         ],
         "xaxis": "x22",
         "y": [
          2,
          null,
          1,
          null,
          null
         ],
         "yaxis": "y22"
        },
        {
         "mode": "lines",
         "name": "gene_12665",
         "type": "scatter",
         "x": [
          "KIRC",
          "LUAD",
          "PRAD",
          "BRCA",
          "COAD",
          "gene"
         ],
         "xaxis": "x22",
         "y": [
          8,
          6,
          10,
          2,
          1
         ],
         "yaxis": "y22"
        },
        {
         "mode": "lines",
         "name": "gene_12666",
         "type": "scatter",
         "x": [
          "KIRC",
          "LUAD",
          "PRAD",
          "BRCA",
          "COAD",
          "gene"
         ],
         "xaxis": "x22",
         "y": [
          4,
          3,
          null,
          2,
          null
         ],
         "yaxis": "y22"
        },
        {
         "mode": "lines",
         "name": "gene_12667",
         "type": "scatter",
         "x": [
          "KIRC",
          "LUAD",
          "PRAD",
          "BRCA",
          "COAD",
          "gene"
         ],
         "xaxis": "x22",
         "y": [
          2,
          1,
          null,
          2,
          null
         ],
         "yaxis": "y22"
        },
        {
         "mode": "lines",
         "name": "gene_12668",
         "type": "scatter",
         "x": [
          "KIRC",
          "LUAD",
          "PRAD",
          "BRCA",
          "COAD",
          "gene"
         ],
         "xaxis": "x22",
         "y": [
          3,
          null,
          null,
          null,
          null
         ],
         "yaxis": "y22"
        },
        {
         "mode": "lines",
         "name": "gene_12669",
         "type": "scatter",
         "x": [
          "KIRC",
          "LUAD",
          "PRAD",
          "BRCA",
          "COAD",
          "gene"
         ],
         "xaxis": "x22",
         "y": [
          3,
          1,
          3,
          4,
          1
         ],
         "yaxis": "y22"
        },
        {
         "mode": "lines",
         "name": "gene_12670",
         "type": "scatter",
         "x": [
          "KIRC",
          "LUAD",
          "PRAD",
          "BRCA",
          "COAD",
          "gene"
         ],
         "xaxis": "x22",
         "y": [
          3,
          null,
          null,
          null,
          null
         ],
         "yaxis": "y22"
        },
        {
         "mode": "lines",
         "name": "gene_12671",
         "type": "scatter",
         "x": [
          "KIRC",
          "LUAD",
          "PRAD",
          "BRCA",
          "COAD",
          "gene"
         ],
         "xaxis": "x22",
         "y": [
          5,
          5,
          2,
          7,
          1
         ],
         "yaxis": "y22"
        },
        {
         "mode": "lines",
         "name": "gene_12672",
         "type": "scatter",
         "x": [
          "KIRC",
          "LUAD",
          "PRAD",
          "BRCA",
          "COAD",
          "gene"
         ],
         "xaxis": "x22",
         "y": [
          2,
          null,
          null,
          null,
          null
         ],
         "yaxis": "y22"
        },
        {
         "mode": "lines",
         "name": "gene_12673",
         "type": "scatter",
         "x": [
          "KIRC",
          "LUAD",
          "PRAD",
          "BRCA",
          "COAD",
          "gene"
         ],
         "xaxis": "x22",
         "y": [
          7,
          2,
          4,
          null,
          null
         ],
         "yaxis": "y22"
        },
        {
         "mode": "lines",
         "name": "gene_12674",
         "type": "scatter",
         "x": [
          "KIRC",
          "LUAD",
          "PRAD",
          "BRCA",
          "COAD",
          "gene"
         ],
         "xaxis": "x22",
         "y": [
          8,
          null,
          2,
          2,
          null
         ],
         "yaxis": "y22"
        },
        {
         "mode": "lines",
         "name": "gene_12675",
         "type": "scatter",
         "x": [
          "KIRC",
          "LUAD",
          "PRAD",
          "BRCA",
          "COAD",
          "gene"
         ],
         "xaxis": "x22",
         "y": [
          18,
          3,
          58,
          94,
          9
         ],
         "yaxis": "y22"
        },
        {
         "mode": "lines",
         "name": "gene_12676",
         "type": "scatter",
         "x": [
          "KIRC",
          "LUAD",
          "PRAD",
          "BRCA",
          "COAD",
          "gene"
         ],
         "xaxis": "x22",
         "y": [
          7,
          null,
          1,
          3,
          null
         ],
         "yaxis": "y22"
        },
        {
         "mode": "lines",
         "name": "gene_12677",
         "type": "scatter",
         "x": [
          "KIRC",
          "LUAD",
          "PRAD",
          "BRCA",
          "COAD",
          "gene"
         ],
         "xaxis": "x22",
         "y": [
          11,
          35,
          3,
          37,
          3
         ],
         "yaxis": "y22"
        },
        {
         "mode": "lines",
         "name": "gene_12678",
         "type": "scatter",
         "x": [
          "KIRC",
          "LUAD",
          "PRAD",
          "BRCA",
          "COAD",
          "gene"
         ],
         "xaxis": "x22",
         "y": [
          2,
          1,
          null,
          4,
          1
         ],
         "yaxis": "y22"
        },
        {
         "mode": "lines",
         "name": "gene_12679",
         "type": "scatter",
         "x": [
          "KIRC",
          "LUAD",
          "PRAD",
          "BRCA",
          "COAD",
          "gene"
         ],
         "xaxis": "x22",
         "y": [
          12,
          1,
          3,
          8,
          7
         ],
         "yaxis": "y22"
        },
        {
         "mode": "lines",
         "name": "gene_12680",
         "type": "scatter",
         "x": [
          "KIRC",
          "LUAD",
          "PRAD",
          "BRCA",
          "COAD",
          "gene"
         ],
         "xaxis": "x22",
         "y": [
          6,
          7,
          null,
          5,
          null
         ],
         "yaxis": "y22"
        },
        {
         "mode": "lines",
         "name": "gene_12681",
         "type": "scatter",
         "x": [
          "KIRC",
          "LUAD",
          "PRAD",
          "BRCA",
          "COAD",
          "gene"
         ],
         "xaxis": "x22",
         "y": [
          6,
          1,
          1,
          2,
          null
         ],
         "yaxis": "y22"
        },
        {
         "mode": "lines",
         "name": "gene_12682",
         "type": "scatter",
         "x": [
          "KIRC",
          "LUAD",
          "PRAD",
          "BRCA",
          "COAD",
          "gene"
         ],
         "xaxis": "x22",
         "y": [
          1,
          null,
          null,
          1,
          null
         ],
         "yaxis": "y22"
        },
        {
         "mode": "lines",
         "name": "gene_12683",
         "type": "scatter",
         "x": [
          "KIRC",
          "LUAD",
          "PRAD",
          "BRCA",
          "COAD",
          "gene"
         ],
         "xaxis": "x22",
         "y": [
          7,
          null,
          5,
          3,
          null
         ],
         "yaxis": "y22"
        },
        {
         "mode": "lines",
         "name": "gene_12684",
         "type": "scatter",
         "x": [
          "KIRC",
          "LUAD",
          "PRAD",
          "BRCA",
          "COAD",
          "gene"
         ],
         "xaxis": "x22",
         "y": [
          16,
          19,
          4,
          16,
          7
         ],
         "yaxis": "y22"
        },
        {
         "mode": "lines",
         "name": "gene_12685",
         "type": "scatter",
         "x": [
          "KIRC",
          "LUAD",
          "PRAD",
          "BRCA",
          "COAD",
          "gene"
         ],
         "xaxis": "x22",
         "y": [
          11,
          7,
          9,
          14,
          8
         ],
         "yaxis": "y22"
        },
        {
         "mode": "lines",
         "name": "gene_12686",
         "type": "scatter",
         "x": [
          "KIRC",
          "LUAD",
          "PRAD",
          "BRCA",
          "COAD",
          "gene"
         ],
         "xaxis": "x22",
         "y": [
          10,
          3,
          3,
          22,
          3
         ],
         "yaxis": "y22"
        },
        {
         "mode": "lines",
         "name": "gene_12687",
         "type": "scatter",
         "x": [
          "KIRC",
          "LUAD",
          "PRAD",
          "BRCA",
          "COAD",
          "gene"
         ],
         "xaxis": "x22",
         "y": [
          45,
          11,
          12,
          87,
          1
         ],
         "yaxis": "y22"
        },
        {
         "mode": "lines",
         "name": "gene_12688",
         "type": "scatter",
         "x": [
          "KIRC",
          "LUAD",
          "PRAD",
          "BRCA",
          "COAD",
          "gene"
         ],
         "xaxis": "x22",
         "y": [
          2,
          1,
          1,
          3,
          8
         ],
         "yaxis": "y22"
        },
        {
         "mode": "lines",
         "name": "gene_12689",
         "type": "scatter",
         "x": [
          "KIRC",
          "LUAD",
          "PRAD",
          "BRCA",
          "COAD",
          "gene"
         ],
         "xaxis": "x22",
         "y": [
          4,
          null,
          1,
          null,
          null
         ],
         "yaxis": "y22"
        },
        {
         "mode": "lines",
         "name": "gene_12690",
         "type": "scatter",
         "x": [
          "KIRC",
          "LUAD",
          "PRAD",
          "BRCA",
          "COAD",
          "gene"
         ],
         "xaxis": "x22",
         "y": [
          3,
          null,
          1,
          2,
          null
         ],
         "yaxis": "y22"
        },
        {
         "mode": "lines",
         "name": "gene_12691",
         "type": "scatter",
         "x": [
          "KIRC",
          "LUAD",
          "PRAD",
          "BRCA",
          "COAD",
          "gene"
         ],
         "xaxis": "x22",
         "y": [
          1,
          null,
          3,
          null,
          null
         ],
         "yaxis": "y22"
        },
        {
         "mode": "lines",
         "name": "gene_12694",
         "type": "scatter",
         "x": [
          "KIRC",
          "LUAD",
          "PRAD",
          "BRCA",
          "COAD",
          "gene"
         ],
         "xaxis": "x22",
         "y": [
          7,
          null,
          1,
          6,
          1
         ],
         "yaxis": "y22"
        },
        {
         "mode": "lines",
         "name": "gene_12696",
         "type": "scatter",
         "x": [
          "KIRC",
          "LUAD",
          "PRAD",
          "BRCA",
          "COAD",
          "gene"
         ],
         "xaxis": "x22",
         "y": [
          8,
          3,
          4,
          6,
          null
         ],
         "yaxis": "y22"
        },
        {
         "mode": "lines",
         "name": "gene_12697",
         "type": "scatter",
         "x": [
          "KIRC",
          "LUAD",
          "PRAD",
          "BRCA",
          "COAD",
          "gene"
         ],
         "xaxis": "x22",
         "y": [
          23,
          15,
          7,
          29,
          12
         ],
         "yaxis": "y22"
        },
        {
         "mode": "lines",
         "name": "gene_12698",
         "type": "scatter",
         "x": [
          "KIRC",
          "LUAD",
          "PRAD",
          "BRCA",
          "COAD",
          "gene"
         ],
         "xaxis": "x22",
         "y": [
          11,
          13,
          9,
          33,
          4
         ],
         "yaxis": "y22"
        },
        {
         "mode": "lines",
         "name": "gene_12700",
         "type": "scatter",
         "x": [
          "KIRC",
          "LUAD",
          "PRAD",
          "BRCA",
          "COAD",
          "gene"
         ],
         "xaxis": "x23",
         "y": [
          12,
          8,
          6,
          25,
          4
         ],
         "yaxis": "y23"
        },
        {
         "mode": "lines",
         "name": "gene_12702",
         "type": "scatter",
         "x": [
          "KIRC",
          "LUAD",
          "PRAD",
          "BRCA",
          "COAD",
          "gene"
         ],
         "xaxis": "x23",
         "y": [
          3,
          1,
          1,
          3,
          null
         ],
         "yaxis": "y23"
        },
        {
         "mode": "lines",
         "name": "gene_12703",
         "type": "scatter",
         "x": [
          "KIRC",
          "LUAD",
          "PRAD",
          "BRCA",
          "COAD",
          "gene"
         ],
         "xaxis": "x23",
         "y": [
          7,
          2,
          3,
          3,
          null
         ],
         "yaxis": "y23"
        },
        {
         "mode": "lines",
         "name": "gene_12704",
         "type": "scatter",
         "x": [
          "KIRC",
          "LUAD",
          "PRAD",
          "BRCA",
          "COAD",
          "gene"
         ],
         "xaxis": "x23",
         "y": [
          5,
          1,
          1,
          3,
          null
         ],
         "yaxis": "y23"
        },
        {
         "mode": "lines",
         "name": "gene_12705",
         "type": "scatter",
         "x": [
          "KIRC",
          "LUAD",
          "PRAD",
          "BRCA",
          "COAD",
          "gene"
         ],
         "xaxis": "x23",
         "y": [
          11,
          12,
          14,
          30,
          2
         ],
         "yaxis": "y23"
        },
        {
         "mode": "lines",
         "name": "gene_12706",
         "type": "scatter",
         "x": [
          "KIRC",
          "LUAD",
          "PRAD",
          "BRCA",
          "COAD",
          "gene"
         ],
         "xaxis": "x23",
         "y": [
          2,
          null,
          1,
          9,
          null
         ],
         "yaxis": "y23"
        },
        {
         "mode": "lines",
         "name": "gene_12707",
         "type": "scatter",
         "x": [
          "KIRC",
          "LUAD",
          "PRAD",
          "BRCA",
          "COAD",
          "gene"
         ],
         "xaxis": "x23",
         "y": [
          20,
          6,
          5,
          8,
          null
         ],
         "yaxis": "y23"
        },
        {
         "mode": "lines",
         "name": "gene_12708",
         "type": "scatter",
         "x": [
          "KIRC",
          "LUAD",
          "PRAD",
          "BRCA",
          "COAD",
          "gene"
         ],
         "xaxis": "x23",
         "y": [
          10,
          1,
          2,
          2,
          null
         ],
         "yaxis": "y23"
        },
        {
         "mode": "lines",
         "name": "gene_12709",
         "type": "scatter",
         "x": [
          "KIRC",
          "LUAD",
          "PRAD",
          "BRCA",
          "COAD",
          "gene"
         ],
         "xaxis": "x23",
         "y": [
          3,
          null,
          null,
          1,
          null
         ],
         "yaxis": "y23"
        },
        {
         "mode": "lines",
         "name": "gene_12710",
         "type": "scatter",
         "x": [
          "KIRC",
          "LUAD",
          "PRAD",
          "BRCA",
          "COAD",
          "gene"
         ],
         "xaxis": "x23",
         "y": [
          6,
          null,
          null,
          6,
          null
         ],
         "yaxis": "y23"
        },
        {
         "mode": "lines",
         "name": "gene_12711",
         "type": "scatter",
         "x": [
          "KIRC",
          "LUAD",
          "PRAD",
          "BRCA",
          "COAD",
          "gene"
         ],
         "xaxis": "x23",
         "y": [
          8,
          8,
          14,
          18,
          5
         ],
         "yaxis": "y23"
        },
        {
         "mode": "lines",
         "name": "gene_12712",
         "type": "scatter",
         "x": [
          "KIRC",
          "LUAD",
          "PRAD",
          "BRCA",
          "COAD",
          "gene"
         ],
         "xaxis": "x23",
         "y": [
          5,
          7,
          2,
          11,
          2
         ],
         "yaxis": "y23"
        },
        {
         "mode": "lines",
         "name": "gene_12713",
         "type": "scatter",
         "x": [
          "KIRC",
          "LUAD",
          "PRAD",
          "BRCA",
          "COAD",
          "gene"
         ],
         "xaxis": "x23",
         "y": [
          6,
          1,
          6,
          null,
          4
         ],
         "yaxis": "y23"
        },
        {
         "mode": "lines",
         "name": "gene_12714",
         "type": "scatter",
         "x": [
          "KIRC",
          "LUAD",
          "PRAD",
          "BRCA",
          "COAD",
          "gene"
         ],
         "xaxis": "x23",
         "y": [
          3,
          4,
          1,
          6,
          null
         ],
         "yaxis": "y23"
        },
        {
         "mode": "lines",
         "name": "gene_12715",
         "type": "scatter",
         "x": [
          "KIRC",
          "LUAD",
          "PRAD",
          "BRCA",
          "COAD",
          "gene"
         ],
         "xaxis": "x23",
         "y": [
          4,
          10,
          5,
          16,
          1
         ],
         "yaxis": "y23"
        },
        {
         "mode": "lines",
         "name": "gene_12716",
         "type": "scatter",
         "x": [
          "KIRC",
          "LUAD",
          "PRAD",
          "BRCA",
          "COAD",
          "gene"
         ],
         "xaxis": "x23",
         "y": [
          null,
          1,
          null,
          3,
          null
         ],
         "yaxis": "y23"
        },
        {
         "mode": "lines",
         "name": "gene_12717",
         "type": "scatter",
         "x": [
          "KIRC",
          "LUAD",
          "PRAD",
          "BRCA",
          "COAD",
          "gene"
         ],
         "xaxis": "x23",
         "y": [
          3,
          null,
          null,
          3,
          null
         ],
         "yaxis": "y23"
        },
        {
         "mode": "lines",
         "name": "gene_12718",
         "type": "scatter",
         "x": [
          "KIRC",
          "LUAD",
          "PRAD",
          "BRCA",
          "COAD",
          "gene"
         ],
         "xaxis": "x23",
         "y": [
          2,
          null,
          null,
          null,
          null
         ],
         "yaxis": "y23"
        },
        {
         "mode": "lines",
         "name": "gene_12719",
         "type": "scatter",
         "x": [
          "KIRC",
          "LUAD",
          "PRAD",
          "BRCA",
          "COAD",
          "gene"
         ],
         "xaxis": "x23",
         "y": [
          3,
          null,
          null,
          null,
          null
         ],
         "yaxis": "y23"
        },
        {
         "mode": "lines",
         "name": "gene_12720",
         "type": "scatter",
         "x": [
          "KIRC",
          "LUAD",
          "PRAD",
          "BRCA",
          "COAD",
          "gene"
         ],
         "xaxis": "x23",
         "y": [
          3,
          null,
          null,
          4,
          null
         ],
         "yaxis": "y23"
        },
        {
         "mode": "lines",
         "name": "gene_12721",
         "type": "scatter",
         "x": [
          "KIRC",
          "LUAD",
          "PRAD",
          "BRCA",
          "COAD",
          "gene"
         ],
         "xaxis": "x23",
         "y": [
          2,
          null,
          1,
          1,
          null
         ],
         "yaxis": "y23"
        },
        {
         "mode": "lines",
         "name": "gene_12722",
         "type": "scatter",
         "x": [
          "KIRC",
          "LUAD",
          "PRAD",
          "BRCA",
          "COAD",
          "gene"
         ],
         "xaxis": "x23",
         "y": [
          7,
          null,
          2,
          2,
          null
         ],
         "yaxis": "y23"
        },
        {
         "mode": "lines",
         "name": "gene_12723",
         "type": "scatter",
         "x": [
          "KIRC",
          "LUAD",
          "PRAD",
          "BRCA",
          "COAD",
          "gene"
         ],
         "xaxis": "x23",
         "y": [
          2,
          2,
          1,
          4,
          1
         ],
         "yaxis": "y23"
        },
        {
         "mode": "lines",
         "name": "gene_12724",
         "type": "scatter",
         "x": [
          "KIRC",
          "LUAD",
          "PRAD",
          "BRCA",
          "COAD",
          "gene"
         ],
         "xaxis": "x23",
         "y": [
          6,
          null,
          3,
          1,
          null
         ],
         "yaxis": "y23"
        },
        {
         "mode": "lines",
         "name": "gene_12725",
         "type": "scatter",
         "x": [
          "KIRC",
          "LUAD",
          "PRAD",
          "BRCA",
          "COAD",
          "gene"
         ],
         "xaxis": "x23",
         "y": [
          29,
          25,
          13,
          32,
          2
         ],
         "yaxis": "y23"
        },
        {
         "mode": "lines",
         "name": "gene_12726",
         "type": "scatter",
         "x": [
          "KIRC",
          "LUAD",
          "PRAD",
          "BRCA",
          "COAD",
          "gene"
         ],
         "xaxis": "x23",
         "y": [
          1,
          1,
          null,
          2,
          null
         ],
         "yaxis": "y23"
        },
        {
         "mode": "lines",
         "name": "gene_12727",
         "type": "scatter",
         "x": [
          "KIRC",
          "LUAD",
          "PRAD",
          "BRCA",
          "COAD",
          "gene"
         ],
         "xaxis": "x23",
         "y": [
          6,
          7,
          8,
          59,
          1
         ],
         "yaxis": "y23"
        },
        {
         "mode": "lines",
         "name": "gene_12728",
         "type": "scatter",
         "x": [
          "KIRC",
          "LUAD",
          "PRAD",
          "BRCA",
          "COAD",
          "gene"
         ],
         "xaxis": "x23",
         "y": [
          35,
          33,
          12,
          38,
          5
         ],
         "yaxis": "y23"
        },
        {
         "mode": "lines",
         "name": "gene_12729",
         "type": "scatter",
         "x": [
          "KIRC",
          "LUAD",
          "PRAD",
          "BRCA",
          "COAD",
          "gene"
         ],
         "xaxis": "x23",
         "y": [
          1,
          4,
          1,
          2,
          null
         ],
         "yaxis": "y23"
        },
        {
         "mode": "lines",
         "name": "gene_12730",
         "type": "scatter",
         "x": [
          "KIRC",
          "LUAD",
          "PRAD",
          "BRCA",
          "COAD",
          "gene"
         ],
         "xaxis": "x23",
         "y": [
          3,
          2,
          null,
          3,
          null
         ],
         "yaxis": "y23"
        },
        {
         "mode": "lines",
         "name": "gene_12731",
         "type": "scatter",
         "x": [
          "KIRC",
          "LUAD",
          "PRAD",
          "BRCA",
          "COAD",
          "gene"
         ],
         "xaxis": "x23",
         "y": [
          53,
          1,
          2,
          4,
          null
         ],
         "yaxis": "y23"
        },
        {
         "mode": "lines",
         "name": "gene_12732",
         "type": "scatter",
         "x": [
          "KIRC",
          "LUAD",
          "PRAD",
          "BRCA",
          "COAD",
          "gene"
         ],
         "xaxis": "x23",
         "y": [
          2,
          2,
          1,
          2,
          null
         ],
         "yaxis": "y23"
        },
        {
         "mode": "lines",
         "name": "gene_12733",
         "type": "scatter",
         "x": [
          "KIRC",
          "LUAD",
          "PRAD",
          "BRCA",
          "COAD",
          "gene"
         ],
         "xaxis": "x23",
         "y": [
          56,
          2,
          5,
          11,
          2
         ],
         "yaxis": "y23"
        },
        {
         "mode": "lines",
         "name": "gene_12734",
         "type": "scatter",
         "x": [
          "KIRC",
          "LUAD",
          "PRAD",
          "BRCA",
          "COAD",
          "gene"
         ],
         "xaxis": "x23",
         "y": [
          5,
          null,
          1,
          2,
          1
         ],
         "yaxis": "y23"
        },
        {
         "mode": "lines",
         "name": "gene_12779",
         "type": "scatter",
         "x": [
          "KIRC",
          "LUAD",
          "PRAD",
          "BRCA",
          "COAD",
          "gene"
         ],
         "xaxis": "x23",
         "y": [
          28,
          13,
          35,
          15,
          3
         ],
         "yaxis": "y23"
        },
        {
         "mode": "lines",
         "name": "gene_12784",
         "type": "scatter",
         "x": [
          "KIRC",
          "LUAD",
          "PRAD",
          "BRCA",
          "COAD",
          "gene"
         ],
         "xaxis": "x23",
         "y": [
          10,
          14,
          4,
          14,
          1
         ],
         "yaxis": "y23"
        },
        {
         "mode": "lines",
         "name": "gene_12785",
         "type": "scatter",
         "x": [
          "KIRC",
          "LUAD",
          "PRAD",
          "BRCA",
          "COAD",
          "gene"
         ],
         "xaxis": "x23",
         "y": [
          8,
          12,
          9,
          24,
          13
         ],
         "yaxis": "y23"
        },
        {
         "mode": "lines",
         "name": "gene_12786",
         "type": "scatter",
         "x": [
          "KIRC",
          "LUAD",
          "PRAD",
          "BRCA",
          "COAD",
          "gene"
         ],
         "xaxis": "x23",
         "y": [
          40,
          40,
          17,
          59,
          35
         ],
         "yaxis": "y23"
        },
        {
         "mode": "lines",
         "name": "gene_12787",
         "type": "scatter",
         "x": [
          "KIRC",
          "LUAD",
          "PRAD",
          "BRCA",
          "COAD",
          "gene"
         ],
         "xaxis": "x23",
         "y": [
          12,
          18,
          56,
          54,
          11
         ],
         "yaxis": "y23"
        },
        {
         "mode": "lines",
         "name": "gene_12789",
         "type": "scatter",
         "x": [
          "KIRC",
          "LUAD",
          "PRAD",
          "BRCA",
          "COAD",
          "gene"
         ],
         "xaxis": "x23",
         "y": [
          44,
          29,
          6,
          116,
          5
         ],
         "yaxis": "y23"
        },
        {
         "mode": "lines",
         "name": "gene_12797",
         "type": "scatter",
         "x": [
          "KIRC",
          "LUAD",
          "PRAD",
          "BRCA",
          "COAD",
          "gene"
         ],
         "xaxis": "x23",
         "y": [
          20,
          6,
          8,
          9,
          1
         ],
         "yaxis": "y23"
        },
        {
         "mode": "lines",
         "name": "gene_12802",
         "type": "scatter",
         "x": [
          "KIRC",
          "LUAD",
          "PRAD",
          "BRCA",
          "COAD",
          "gene"
         ],
         "xaxis": "x23",
         "y": [
          22,
          42,
          14,
          52,
          12
         ],
         "yaxis": "y23"
        },
        {
         "mode": "lines",
         "name": "gene_12825",
         "type": "scatter",
         "x": [
          "KIRC",
          "LUAD",
          "PRAD",
          "BRCA",
          "COAD",
          "gene"
         ],
         "xaxis": "x23",
         "y": [
          null,
          1,
          null,
          1,
          null
         ],
         "yaxis": "y23"
        },
        {
         "mode": "lines",
         "name": "gene_12869",
         "type": "scatter",
         "x": [
          "KIRC",
          "LUAD",
          "PRAD",
          "BRCA",
          "COAD",
          "gene"
         ],
         "xaxis": "x23",
         "y": [
          49,
          22,
          5,
          97,
          5
         ],
         "yaxis": "y23"
        },
        {
         "mode": "lines",
         "name": "gene_12877",
         "type": "scatter",
         "x": [
          "KIRC",
          "LUAD",
          "PRAD",
          "BRCA",
          "COAD",
          "gene"
         ],
         "xaxis": "x23",
         "y": [
          3,
          30,
          1,
          18,
          6
         ],
         "yaxis": "y23"
        },
        {
         "mode": "lines",
         "name": "gene_12879",
         "type": "scatter",
         "x": [
          "KIRC",
          "LUAD",
          "PRAD",
          "BRCA",
          "COAD",
          "gene"
         ],
         "xaxis": "x23",
         "y": [
          12,
          33,
          7,
          59,
          5
         ],
         "yaxis": "y23"
        },
        {
         "mode": "lines",
         "name": "gene_12880",
         "type": "scatter",
         "x": [
          "KIRC",
          "LUAD",
          "PRAD",
          "BRCA",
          "COAD",
          "gene"
         ],
         "xaxis": "x23",
         "y": [
          null,
          10,
          1,
          3,
          null
         ],
         "yaxis": "y23"
        },
        {
         "mode": "lines",
         "name": "gene_12881",
         "type": "scatter",
         "x": [
          "KIRC",
          "LUAD",
          "PRAD",
          "BRCA",
          "COAD",
          "gene"
         ],
         "xaxis": "x23",
         "y": [
          7,
          17,
          134,
          23,
          9
         ],
         "yaxis": "y23"
        },
        {
         "mode": "lines",
         "name": "gene_12912",
         "type": "scatter",
         "x": [
          "KIRC",
          "LUAD",
          "PRAD",
          "BRCA",
          "COAD",
          "gene"
         ],
         "xaxis": "x23",
         "y": [
          25,
          28,
          65,
          67,
          6
         ],
         "yaxis": "y23"
        },
        {
         "mode": "lines",
         "name": "gene_12935",
         "type": "scatter",
         "x": [
          "KIRC",
          "LUAD",
          "PRAD",
          "BRCA",
          "COAD",
          "gene"
         ],
         "xaxis": "x23",
         "y": [
          35,
          6,
          48,
          23,
          3
         ],
         "yaxis": "y23"
        },
        {
         "mode": "lines",
         "name": "gene_12966",
         "type": "scatter",
         "x": [
          "KIRC",
          "LUAD",
          "PRAD",
          "BRCA",
          "COAD",
          "gene"
         ],
         "xaxis": "x23",
         "y": [
          12,
          27,
          1,
          21,
          8
         ],
         "yaxis": "y23"
        },
        {
         "mode": "lines",
         "name": "gene_12968",
         "type": "scatter",
         "x": [
          "KIRC",
          "LUAD",
          "PRAD",
          "BRCA",
          "COAD",
          "gene"
         ],
         "xaxis": "x23",
         "y": [
          9,
          7,
          45,
          13,
          1
         ],
         "yaxis": "y23"
        },
        {
         "mode": "lines",
         "name": "gene_12970",
         "type": "scatter",
         "x": [
          "KIRC",
          "LUAD",
          "PRAD",
          "BRCA",
          "COAD",
          "gene"
         ],
         "xaxis": "x24",
         "y": [
          8,
          14,
          30,
          27,
          null
         ],
         "yaxis": "y24"
        },
        {
         "mode": "lines",
         "name": "gene_12979",
         "type": "scatter",
         "x": [
          "KIRC",
          "LUAD",
          "PRAD",
          "BRCA",
          "COAD",
          "gene"
         ],
         "xaxis": "x24",
         "y": [
          17,
          12,
          9,
          12,
          34
         ],
         "yaxis": "y24"
        },
        {
         "mode": "lines",
         "name": "gene_13091",
         "type": "scatter",
         "x": [
          "KIRC",
          "LUAD",
          "PRAD",
          "BRCA",
          "COAD",
          "gene"
         ],
         "xaxis": "x24",
         "y": [
          4,
          4,
          4,
          5,
          null
         ],
         "yaxis": "y24"
        },
        {
         "mode": "lines",
         "name": "gene_13131",
         "type": "scatter",
         "x": [
          "KIRC",
          "LUAD",
          "PRAD",
          "BRCA",
          "COAD",
          "gene"
         ],
         "xaxis": "x24",
         "y": [
          22,
          30,
          3,
          32,
          16
         ],
         "yaxis": "y24"
        },
        {
         "mode": "lines",
         "name": "gene_13156",
         "type": "scatter",
         "x": [
          "KIRC",
          "LUAD",
          "PRAD",
          "BRCA",
          "COAD",
          "gene"
         ],
         "xaxis": "x24",
         "y": [
          40,
          29,
          34,
          79,
          6
         ],
         "yaxis": "y24"
        },
        {
         "mode": "lines",
         "name": "gene_13171",
         "type": "scatter",
         "x": [
          "KIRC",
          "LUAD",
          "PRAD",
          "BRCA",
          "COAD",
          "gene"
         ],
         "xaxis": "x24",
         "y": [
          17,
          17,
          1,
          17,
          8
         ],
         "yaxis": "y24"
        },
        {
         "mode": "lines",
         "name": "gene_13181",
         "type": "scatter",
         "x": [
          "KIRC",
          "LUAD",
          "PRAD",
          "BRCA",
          "COAD",
          "gene"
         ],
         "xaxis": "x24",
         "y": [
          44,
          6,
          92,
          24,
          null
         ],
         "yaxis": "y24"
        },
        {
         "mode": "lines",
         "name": "gene_13242",
         "type": "scatter",
         "x": [
          "KIRC",
          "LUAD",
          "PRAD",
          "BRCA",
          "COAD",
          "gene"
         ],
         "xaxis": "x24",
         "y": [
          9,
          2,
          10,
          6,
          2
         ],
         "yaxis": "y24"
        },
        {
         "mode": "lines",
         "name": "gene_13280",
         "type": "scatter",
         "x": [
          "KIRC",
          "LUAD",
          "PRAD",
          "BRCA",
          "COAD",
          "gene"
         ],
         "xaxis": "x24",
         "y": [
          16,
          5,
          1,
          28,
          6
         ],
         "yaxis": "y24"
        },
        {
         "mode": "lines",
         "name": "gene_13283",
         "type": "scatter",
         "x": [
          "KIRC",
          "LUAD",
          "PRAD",
          "BRCA",
          "COAD",
          "gene"
         ],
         "xaxis": "x24",
         "y": [
          39,
          38,
          11,
          31,
          4
         ],
         "yaxis": "y24"
        },
        {
         "mode": "lines",
         "name": "gene_13373",
         "type": "scatter",
         "x": [
          "KIRC",
          "LUAD",
          "PRAD",
          "BRCA",
          "COAD",
          "gene"
         ],
         "xaxis": "x24",
         "y": [
          19,
          42,
          18,
          26,
          43
         ],
         "yaxis": "y24"
        },
        {
         "mode": "lines",
         "name": "gene_13466",
         "type": "scatter",
         "x": [
          "KIRC",
          "LUAD",
          "PRAD",
          "BRCA",
          "COAD",
          "gene"
         ],
         "xaxis": "x24",
         "y": [
          3,
          null,
          1,
          3,
          null
         ],
         "yaxis": "y24"
        },
        {
         "mode": "lines",
         "name": "gene_13479",
         "type": "scatter",
         "x": [
          "KIRC",
          "LUAD",
          "PRAD",
          "BRCA",
          "COAD",
          "gene"
         ],
         "xaxis": "x24",
         "y": [
          42,
          38,
          10,
          45,
          4
         ],
         "yaxis": "y24"
        },
        {
         "mode": "lines",
         "name": "gene_13518",
         "type": "scatter",
         "x": [
          "KIRC",
          "LUAD",
          "PRAD",
          "BRCA",
          "COAD",
          "gene"
         ],
         "xaxis": "x24",
         "y": [
          16,
          34,
          20,
          54,
          4
         ],
         "yaxis": "y24"
        },
        {
         "mode": "lines",
         "name": "gene_13520",
         "type": "scatter",
         "x": [
          "KIRC",
          "LUAD",
          "PRAD",
          "BRCA",
          "COAD",
          "gene"
         ],
         "xaxis": "x24",
         "y": [
          null,
          null,
          1,
          null,
          3
         ],
         "yaxis": "y24"
        },
        {
         "mode": "lines",
         "name": "gene_13533",
         "type": "scatter",
         "x": [
          "KIRC",
          "LUAD",
          "PRAD",
          "BRCA",
          "COAD",
          "gene"
         ],
         "xaxis": "x24",
         "y": [
          6,
          2,
          20,
          2,
          1
         ],
         "yaxis": "y24"
        },
        {
         "mode": "lines",
         "name": "gene_13566",
         "type": "scatter",
         "x": [
          "KIRC",
          "LUAD",
          "PRAD",
          "BRCA",
          "COAD",
          "gene"
         ],
         "xaxis": "x24",
         "y": [
          51,
          44,
          8,
          60,
          1
         ],
         "yaxis": "y24"
        },
        {
         "mode": "lines",
         "name": "gene_13609",
         "type": "scatter",
         "x": [
          "KIRC",
          "LUAD",
          "PRAD",
          "BRCA",
          "COAD",
          "gene"
         ],
         "xaxis": "x24",
         "y": [
          3,
          3,
          1,
          16,
          1
         ],
         "yaxis": "y24"
        },
        {
         "mode": "lines",
         "name": "gene_13637",
         "type": "scatter",
         "x": [
          "KIRC",
          "LUAD",
          "PRAD",
          "BRCA",
          "COAD",
          "gene"
         ],
         "xaxis": "x24",
         "y": [
          8,
          16,
          9,
          41,
          4
         ],
         "yaxis": "y24"
        },
        {
         "mode": "lines",
         "name": "gene_13655",
         "type": "scatter",
         "x": [
          "KIRC",
          "LUAD",
          "PRAD",
          "BRCA",
          "COAD",
          "gene"
         ],
         "xaxis": "x24",
         "y": [
          11,
          4,
          7,
          28,
          5
         ],
         "yaxis": "y24"
        },
        {
         "mode": "lines",
         "name": "gene_13656",
         "type": "scatter",
         "x": [
          "KIRC",
          "LUAD",
          "PRAD",
          "BRCA",
          "COAD",
          "gene"
         ],
         "xaxis": "x24",
         "y": [
          17,
          3,
          20,
          44,
          3
         ],
         "yaxis": "y24"
        },
        {
         "mode": "lines",
         "name": "gene_13682",
         "type": "scatter",
         "x": [
          "KIRC",
          "LUAD",
          "PRAD",
          "BRCA",
          "COAD",
          "gene"
         ],
         "xaxis": "x24",
         "y": [
          15,
          6,
          3,
          12,
          31
         ],
         "yaxis": "y24"
        },
        {
         "mode": "lines",
         "name": "gene_13684",
         "type": "scatter",
         "x": [
          "KIRC",
          "LUAD",
          "PRAD",
          "BRCA",
          "COAD",
          "gene"
         ],
         "xaxis": "x24",
         "y": [
          21,
          37,
          23,
          81,
          4
         ],
         "yaxis": "y24"
        },
        {
         "mode": "lines",
         "name": "gene_13685",
         "type": "scatter",
         "x": [
          "KIRC",
          "LUAD",
          "PRAD",
          "BRCA",
          "COAD",
          "gene"
         ],
         "xaxis": "x24",
         "y": [
          4,
          6,
          76,
          31,
          2
         ],
         "yaxis": "y24"
        },
        {
         "mode": "lines",
         "name": "gene_13701",
         "type": "scatter",
         "x": [
          "KIRC",
          "LUAD",
          "PRAD",
          "BRCA",
          "COAD",
          "gene"
         ],
         "xaxis": "x24",
         "y": [
          31,
          66,
          21,
          72,
          3
         ],
         "yaxis": "y24"
        },
        {
         "mode": "lines",
         "name": "gene_13777",
         "type": "scatter",
         "x": [
          "KIRC",
          "LUAD",
          "PRAD",
          "BRCA",
          "COAD",
          "gene"
         ],
         "xaxis": "x24",
         "y": [
          2,
          null,
          null,
          1,
          1
         ],
         "yaxis": "y24"
        },
        {
         "mode": "lines",
         "name": "gene_13803",
         "type": "scatter",
         "x": [
          "KIRC",
          "LUAD",
          "PRAD",
          "BRCA",
          "COAD",
          "gene"
         ],
         "xaxis": "x24",
         "y": [
          3,
          3,
          null,
          3,
          1
         ],
         "yaxis": "y24"
        },
        {
         "mode": "lines",
         "name": "gene_13804",
         "type": "scatter",
         "x": [
          "KIRC",
          "LUAD",
          "PRAD",
          "BRCA",
          "COAD",
          "gene"
         ],
         "xaxis": "x24",
         "y": [
          6,
          4,
          53,
          56,
          1
         ],
         "yaxis": "y24"
        },
        {
         "mode": "lines",
         "name": "gene_13805",
         "type": "scatter",
         "x": [
          "KIRC",
          "LUAD",
          "PRAD",
          "BRCA",
          "COAD",
          "gene"
         ],
         "xaxis": "x24",
         "y": [
          3,
          5,
          33,
          93,
          5
         ],
         "yaxis": "y24"
        },
        {
         "mode": "lines",
         "name": "gene_13806",
         "type": "scatter",
         "x": [
          "KIRC",
          "LUAD",
          "PRAD",
          "BRCA",
          "COAD",
          "gene"
         ],
         "xaxis": "x24",
         "y": [
          3,
          null,
          48,
          107,
          3
         ],
         "yaxis": "y24"
        },
        {
         "mode": "lines",
         "name": "gene_13819",
         "type": "scatter",
         "x": [
          "KIRC",
          "LUAD",
          "PRAD",
          "BRCA",
          "COAD",
          "gene"
         ],
         "xaxis": "x24",
         "y": [
          20,
          14,
          7,
          25,
          17
         ],
         "yaxis": "y24"
        },
        {
         "mode": "lines",
         "name": "gene_13821",
         "type": "scatter",
         "x": [
          "KIRC",
          "LUAD",
          "PRAD",
          "BRCA",
          "COAD",
          "gene"
         ],
         "xaxis": "x24",
         "y": [
          12,
          23,
          28,
          45,
          11
         ],
         "yaxis": "y24"
        },
        {
         "mode": "lines",
         "name": "gene_13846",
         "type": "scatter",
         "x": [
          "KIRC",
          "LUAD",
          "PRAD",
          "BRCA",
          "COAD",
          "gene"
         ],
         "xaxis": "x24",
         "y": [
          21,
          10,
          11,
          5,
          15
         ],
         "yaxis": "y24"
        },
        {
         "mode": "lines",
         "name": "gene_13860",
         "type": "scatter",
         "x": [
          "KIRC",
          "LUAD",
          "PRAD",
          "BRCA",
          "COAD",
          "gene"
         ],
         "xaxis": "x24",
         "y": [
          null,
          null,
          null,
          1,
          null
         ],
         "yaxis": "y24"
        },
        {
         "mode": "lines",
         "name": "gene_13863",
         "type": "scatter",
         "x": [
          "KIRC",
          "LUAD",
          "PRAD",
          "BRCA",
          "COAD",
          "gene"
         ],
         "xaxis": "x24",
         "y": [
          4,
          5,
          2,
          7,
          3
         ],
         "yaxis": "y24"
        },
        {
         "mode": "lines",
         "name": "gene_13920",
         "type": "scatter",
         "x": [
          "KIRC",
          "LUAD",
          "PRAD",
          "BRCA",
          "COAD",
          "gene"
         ],
         "xaxis": "x24",
         "y": [
          17,
          18,
          1,
          63,
          6
         ],
         "yaxis": "y24"
        },
        {
         "mode": "lines",
         "name": "gene_13922",
         "type": "scatter",
         "x": [
          "KIRC",
          "LUAD",
          "PRAD",
          "BRCA",
          "COAD",
          "gene"
         ],
         "xaxis": "x24",
         "y": [
          14,
          13,
          23,
          13,
          3
         ],
         "yaxis": "y24"
        },
        {
         "mode": "lines",
         "name": "gene_13971",
         "type": "scatter",
         "x": [
          "KIRC",
          "LUAD",
          "PRAD",
          "BRCA",
          "COAD",
          "gene"
         ],
         "xaxis": "x24",
         "y": [
          13,
          19,
          12,
          26,
          16
         ],
         "yaxis": "y24"
        },
        {
         "mode": "lines",
         "name": "gene_13976",
         "type": "scatter",
         "x": [
          "KIRC",
          "LUAD",
          "PRAD",
          "BRCA",
          "COAD",
          "gene"
         ],
         "xaxis": "x24",
         "y": [
          1,
          5,
          136,
          10,
          46
         ],
         "yaxis": "y24"
        },
        {
         "mode": "lines",
         "name": "gene_13979",
         "type": "scatter",
         "x": [
          "KIRC",
          "LUAD",
          "PRAD",
          "BRCA",
          "COAD",
          "gene"
         ],
         "xaxis": "x24",
         "y": [
          6,
          2,
          2,
          2,
          null
         ],
         "yaxis": "y24"
        },
        {
         "mode": "lines",
         "name": "gene_13980",
         "type": "scatter",
         "x": [
          "KIRC",
          "LUAD",
          "PRAD",
          "BRCA",
          "COAD",
          "gene"
         ],
         "xaxis": "x24",
         "y": [
          22,
          7,
          5,
          15,
          null
         ],
         "yaxis": "y24"
        },
        {
         "mode": "lines",
         "name": "gene_13981",
         "type": "scatter",
         "x": [
          "KIRC",
          "LUAD",
          "PRAD",
          "BRCA",
          "COAD",
          "gene"
         ],
         "xaxis": "x24",
         "y": [
          10,
          10,
          16,
          32,
          1
         ],
         "yaxis": "y24"
        },
        {
         "mode": "lines",
         "name": "gene_13982",
         "type": "scatter",
         "x": [
          "KIRC",
          "LUAD",
          "PRAD",
          "BRCA",
          "COAD",
          "gene"
         ],
         "xaxis": "x24",
         "y": [
          2,
          4,
          1,
          5,
          null
         ],
         "yaxis": "y24"
        },
        {
         "mode": "lines",
         "name": "gene_13983",
         "type": "scatter",
         "x": [
          "KIRC",
          "LUAD",
          "PRAD",
          "BRCA",
          "COAD",
          "gene"
         ],
         "xaxis": "x24",
         "y": [
          6,
          5,
          2,
          8,
          1
         ],
         "yaxis": "y24"
        },
        {
         "mode": "lines",
         "name": "gene_13984",
         "type": "scatter",
         "x": [
          "KIRC",
          "LUAD",
          "PRAD",
          "BRCA",
          "COAD",
          "gene"
         ],
         "xaxis": "x24",
         "y": [
          13,
          7,
          2,
          4,
          null
         ],
         "yaxis": "y24"
        },
        {
         "mode": "lines",
         "name": "gene_13985",
         "type": "scatter",
         "x": [
          "KIRC",
          "LUAD",
          "PRAD",
          "BRCA",
          "COAD",
          "gene"
         ],
         "xaxis": "x24",
         "y": [
          3,
          1,
          2,
          2,
          null
         ],
         "yaxis": "y24"
        },
        {
         "mode": "lines",
         "name": "gene_13986",
         "type": "scatter",
         "x": [
          "KIRC",
          "LUAD",
          "PRAD",
          "BRCA",
          "COAD",
          "gene"
         ],
         "xaxis": "x24",
         "y": [
          7,
          9,
          6,
          8,
          3
         ],
         "yaxis": "y24"
        },
        {
         "mode": "lines",
         "name": "gene_13987",
         "type": "scatter",
         "x": [
          "KIRC",
          "LUAD",
          "PRAD",
          "BRCA",
          "COAD",
          "gene"
         ],
         "xaxis": "x24",
         "y": [
          9,
          9,
          2,
          16,
          1
         ],
         "yaxis": "y24"
        },
        {
         "mode": "lines",
         "name": "gene_13988",
         "type": "scatter",
         "x": [
          "KIRC",
          "LUAD",
          "PRAD",
          "BRCA",
          "COAD",
          "gene"
         ],
         "xaxis": "x24",
         "y": [
          3,
          4,
          4,
          6,
          3
         ],
         "yaxis": "y24"
        },
        {
         "mode": "lines",
         "name": "gene_13989",
         "type": "scatter",
         "x": [
          "KIRC",
          "LUAD",
          "PRAD",
          "BRCA",
          "COAD",
          "gene"
         ],
         "xaxis": "x24",
         "y": [
          7,
          2,
          3,
          7,
          1
         ],
         "yaxis": "y24"
        },
        {
         "mode": "lines",
         "name": "gene_13990",
         "type": "scatter",
         "x": [
          "KIRC",
          "LUAD",
          "PRAD",
          "BRCA",
          "COAD",
          "gene"
         ],
         "xaxis": "x24",
         "y": [
          6,
          12,
          8,
          14,
          null
         ],
         "yaxis": "y24"
        },
        {
         "mode": "lines",
         "name": "gene_13992",
         "type": "scatter",
         "x": [
          "KIRC",
          "LUAD",
          "PRAD",
          "BRCA",
          "COAD",
          "gene"
         ],
         "xaxis": "x24",
         "y": [
          19,
          6,
          5,
          12,
          null
         ],
         "yaxis": "y24"
        },
        {
         "mode": "lines",
         "name": "gene_13993",
         "type": "scatter",
         "x": [
          "KIRC",
          "LUAD",
          "PRAD",
          "BRCA",
          "COAD",
          "gene"
         ],
         "xaxis": "x25",
         "y": [
          5,
          2,
          2,
          4,
          null
         ],
         "yaxis": "y25"
        },
        {
         "mode": "lines",
         "name": "gene_13994",
         "type": "scatter",
         "x": [
          "KIRC",
          "LUAD",
          "PRAD",
          "BRCA",
          "COAD",
          "gene"
         ],
         "xaxis": "x25",
         "y": [
          14,
          3,
          5,
          6,
          null
         ],
         "yaxis": "y25"
        },
        {
         "mode": "lines",
         "name": "gene_13995",
         "type": "scatter",
         "x": [
          "KIRC",
          "LUAD",
          "PRAD",
          "BRCA",
          "COAD",
          "gene"
         ],
         "xaxis": "x25",
         "y": [
          31,
          21,
          19,
          43,
          1
         ],
         "yaxis": "y25"
        },
        {
         "mode": "lines",
         "name": "gene_13996",
         "type": "scatter",
         "x": [
          "KIRC",
          "LUAD",
          "PRAD",
          "BRCA",
          "COAD",
          "gene"
         ],
         "xaxis": "x25",
         "y": [
          3,
          4,
          2,
          4,
          null
         ],
         "yaxis": "y25"
        },
        {
         "mode": "lines",
         "name": "gene_13999",
         "type": "scatter",
         "x": [
          "KIRC",
          "LUAD",
          "PRAD",
          "BRCA",
          "COAD",
          "gene"
         ],
         "xaxis": "x25",
         "y": [
          6,
          26,
          22,
          26,
          21
         ],
         "yaxis": "y25"
        },
        {
         "mode": "lines",
         "name": "gene_14000",
         "type": "scatter",
         "x": [
          "KIRC",
          "LUAD",
          "PRAD",
          "BRCA",
          "COAD",
          "gene"
         ],
         "xaxis": "x25",
         "y": [
          20,
          28,
          34,
          42,
          31
         ],
         "yaxis": "y25"
        },
        {
         "mode": "lines",
         "name": "gene_14002",
         "type": "scatter",
         "x": [
          "KIRC",
          "LUAD",
          "PRAD",
          "BRCA",
          "COAD",
          "gene"
         ],
         "xaxis": "x25",
         "y": [
          12,
          11,
          8,
          21,
          9
         ],
         "yaxis": "y25"
        },
        {
         "mode": "lines",
         "name": "gene_14011",
         "type": "scatter",
         "x": [
          "KIRC",
          "LUAD",
          "PRAD",
          "BRCA",
          "COAD",
          "gene"
         ],
         "xaxis": "x25",
         "y": [
          46,
          15,
          15,
          25,
          9
         ],
         "yaxis": "y25"
        },
        {
         "mode": "lines",
         "name": "gene_14021",
         "type": "scatter",
         "x": [
          "KIRC",
          "LUAD",
          "PRAD",
          "BRCA",
          "COAD",
          "gene"
         ],
         "xaxis": "x25",
         "y": [
          31,
          30,
          7,
          25,
          5
         ],
         "yaxis": "y25"
        },
        {
         "mode": "lines",
         "name": "gene_14038",
         "type": "scatter",
         "x": [
          "KIRC",
          "LUAD",
          "PRAD",
          "BRCA",
          "COAD",
          "gene"
         ],
         "xaxis": "x25",
         "y": [
          17,
          22,
          72,
          29,
          18
         ],
         "yaxis": "y25"
        },
        {
         "mode": "lines",
         "name": "gene_14040",
         "type": "scatter",
         "x": [
          "KIRC",
          "LUAD",
          "PRAD",
          "BRCA",
          "COAD",
          "gene"
         ],
         "xaxis": "x25",
         "y": [
          10,
          6,
          null,
          1,
          null
         ],
         "yaxis": "y25"
        },
        {
         "mode": "lines",
         "name": "gene_14044",
         "type": "scatter",
         "x": [
          "KIRC",
          "LUAD",
          "PRAD",
          "BRCA",
          "COAD",
          "gene"
         ],
         "xaxis": "x25",
         "y": [
          2,
          2,
          1,
          25,
          34
         ],
         "yaxis": "y25"
        },
        {
         "mode": "lines",
         "name": "gene_14060",
         "type": "scatter",
         "x": [
          "KIRC",
          "LUAD",
          "PRAD",
          "BRCA",
          "COAD",
          "gene"
         ],
         "xaxis": "x25",
         "y": [
          32,
          24,
          26,
          49,
          29
         ],
         "yaxis": "y25"
        },
        {
         "mode": "lines",
         "name": "gene_14090",
         "type": "scatter",
         "x": [
          "KIRC",
          "LUAD",
          "PRAD",
          "BRCA",
          "COAD",
          "gene"
         ],
         "xaxis": "x25",
         "y": [
          17,
          20,
          89,
          36,
          22
         ],
         "yaxis": "y25"
        },
        {
         "mode": "lines",
         "name": "gene_14091",
         "type": "scatter",
         "x": [
          "KIRC",
          "LUAD",
          "PRAD",
          "BRCA",
          "COAD",
          "gene"
         ],
         "xaxis": "x25",
         "y": [
          2,
          4,
          7,
          66,
          2
         ],
         "yaxis": "y25"
        },
        {
         "mode": "lines",
         "name": "gene_14094",
         "type": "scatter",
         "x": [
          "KIRC",
          "LUAD",
          "PRAD",
          "BRCA",
          "COAD",
          "gene"
         ],
         "xaxis": "x25",
         "y": [
          null,
          1,
          1,
          2,
          null
         ],
         "yaxis": "y25"
        },
        {
         "mode": "lines",
         "name": "gene_14095",
         "type": "scatter",
         "x": [
          "KIRC",
          "LUAD",
          "PRAD",
          "BRCA",
          "COAD",
          "gene"
         ],
         "xaxis": "x25",
         "y": [
          2,
          4,
          1,
          5,
          3
         ],
         "yaxis": "y25"
        },
        {
         "mode": "lines",
         "name": "gene_14096",
         "type": "scatter",
         "x": [
          "KIRC",
          "LUAD",
          "PRAD",
          "BRCA",
          "COAD",
          "gene"
         ],
         "xaxis": "x25",
         "y": [
          1,
          3,
          3,
          2,
          null
         ],
         "yaxis": "y25"
        },
        {
         "mode": "lines",
         "name": "gene_14107",
         "type": "scatter",
         "x": [
          "KIRC",
          "LUAD",
          "PRAD",
          "BRCA",
          "COAD",
          "gene"
         ],
         "xaxis": "x25",
         "y": [
          15,
          null,
          3,
          8,
          1
         ],
         "yaxis": "y25"
        },
        {
         "mode": "lines",
         "name": "gene_14110",
         "type": "scatter",
         "x": [
          "KIRC",
          "LUAD",
          "PRAD",
          "BRCA",
          "COAD",
          "gene"
         ],
         "xaxis": "x25",
         "y": [
          42,
          18,
          6,
          26,
          3
         ],
         "yaxis": "y25"
        },
        {
         "mode": "lines",
         "name": "gene_14114",
         "type": "scatter",
         "x": [
          "KIRC",
          "LUAD",
          "PRAD",
          "BRCA",
          "COAD",
          "gene"
         ],
         "xaxis": "x25",
         "y": [
          144,
          12,
          7,
          11,
          12
         ],
         "yaxis": "y25"
        },
        {
         "mode": "lines",
         "name": "gene_14119",
         "type": "scatter",
         "x": [
          "KIRC",
          "LUAD",
          "PRAD",
          "BRCA",
          "COAD",
          "gene"
         ],
         "xaxis": "x25",
         "y": [
          80,
          18,
          24,
          58,
          5
         ],
         "yaxis": "y25"
        },
        {
         "mode": "lines",
         "name": "gene_14120",
         "type": "scatter",
         "x": [
          "KIRC",
          "LUAD",
          "PRAD",
          "BRCA",
          "COAD",
          "gene"
         ],
         "xaxis": "x25",
         "y": [
          13,
          1,
          9,
          172,
          null
         ],
         "yaxis": "y25"
        },
        {
         "mode": "lines",
         "name": "gene_14123",
         "type": "scatter",
         "x": [
          "KIRC",
          "LUAD",
          "PRAD",
          "BRCA",
          "COAD",
          "gene"
         ],
         "xaxis": "x25",
         "y": [
          39,
          6,
          48,
          72,
          1
         ],
         "yaxis": "y25"
        },
        {
         "mode": "lines",
         "name": "gene_14160",
         "type": "scatter",
         "x": [
          "KIRC",
          "LUAD",
          "PRAD",
          "BRCA",
          "COAD",
          "gene"
         ],
         "xaxis": "x25",
         "y": [
          null,
          null,
          null,
          1,
          null
         ],
         "yaxis": "y25"
        },
        {
         "mode": "lines",
         "name": "gene_14162",
         "type": "scatter",
         "x": [
          "KIRC",
          "LUAD",
          "PRAD",
          "BRCA",
          "COAD",
          "gene"
         ],
         "xaxis": "x25",
         "y": [
          5,
          1,
          6,
          9,
          null
         ],
         "yaxis": "y25"
        },
        {
         "mode": "lines",
         "name": "gene_14164",
         "type": "scatter",
         "x": [
          "KIRC",
          "LUAD",
          "PRAD",
          "BRCA",
          "COAD",
          "gene"
         ],
         "xaxis": "x25",
         "y": [
          19,
          5,
          12,
          13,
          2
         ],
         "yaxis": "y25"
        },
        {
         "mode": "lines",
         "name": "gene_14165",
         "type": "scatter",
         "x": [
          "KIRC",
          "LUAD",
          "PRAD",
          "BRCA",
          "COAD",
          "gene"
         ],
         "xaxis": "x25",
         "y": [
          4,
          null,
          8,
          7,
          1
         ],
         "yaxis": "y25"
        },
        {
         "mode": "lines",
         "name": "gene_14166",
         "type": "scatter",
         "x": [
          "KIRC",
          "LUAD",
          "PRAD",
          "BRCA",
          "COAD",
          "gene"
         ],
         "xaxis": "x25",
         "y": [
          11,
          4,
          7,
          3,
          null
         ],
         "yaxis": "y25"
        },
        {
         "mode": "lines",
         "name": "gene_14168",
         "type": "scatter",
         "x": [
          "KIRC",
          "LUAD",
          "PRAD",
          "BRCA",
          "COAD",
          "gene"
         ],
         "xaxis": "x25",
         "y": [
          34,
          26,
          41,
          87,
          11
         ],
         "yaxis": "y25"
        },
        {
         "mode": "lines",
         "name": "gene_14198",
         "type": "scatter",
         "x": [
          "KIRC",
          "LUAD",
          "PRAD",
          "BRCA",
          "COAD",
          "gene"
         ],
         "xaxis": "x25",
         "y": [
          20,
          14,
          13,
          25,
          4
         ],
         "yaxis": "y25"
        },
        {
         "mode": "lines",
         "name": "gene_14200",
         "type": "scatter",
         "x": [
          "KIRC",
          "LUAD",
          "PRAD",
          "BRCA",
          "COAD",
          "gene"
         ],
         "xaxis": "x25",
         "y": [
          12,
          40,
          26,
          53,
          48
         ],
         "yaxis": "y25"
        },
        {
         "mode": "lines",
         "name": "gene_14201",
         "type": "scatter",
         "x": [
          "KIRC",
          "LUAD",
          "PRAD",
          "BRCA",
          "COAD",
          "gene"
         ],
         "xaxis": "x25",
         "y": [
          49,
          41,
          17,
          43,
          13
         ],
         "yaxis": "y25"
        },
        {
         "mode": "lines",
         "name": "gene_14203",
         "type": "scatter",
         "x": [
          "KIRC",
          "LUAD",
          "PRAD",
          "BRCA",
          "COAD",
          "gene"
         ],
         "xaxis": "x25",
         "y": [
          18,
          15,
          18,
          29,
          10
         ],
         "yaxis": "y25"
        },
        {
         "mode": "lines",
         "name": "gene_14206",
         "type": "scatter",
         "x": [
          "KIRC",
          "LUAD",
          "PRAD",
          "BRCA",
          "COAD",
          "gene"
         ],
         "xaxis": "x25",
         "y": [
          5,
          10,
          11,
          26,
          3
         ],
         "yaxis": "y25"
        },
        {
         "mode": "lines",
         "name": "gene_14216",
         "type": "scatter",
         "x": [
          "KIRC",
          "LUAD",
          "PRAD",
          "BRCA",
          "COAD",
          "gene"
         ],
         "xaxis": "x25",
         "y": [
          26,
          18,
          46,
          2,
          13
         ],
         "yaxis": "y25"
        },
        {
         "mode": "lines",
         "name": "gene_14228",
         "type": "scatter",
         "x": [
          "KIRC",
          "LUAD",
          "PRAD",
          "BRCA",
          "COAD",
          "gene"
         ],
         "xaxis": "x25",
         "y": [
          12,
          3,
          1,
          22,
          null
         ],
         "yaxis": "y25"
        },
        {
         "mode": "lines",
         "name": "gene_14229",
         "type": "scatter",
         "x": [
          "KIRC",
          "LUAD",
          "PRAD",
          "BRCA",
          "COAD",
          "gene"
         ],
         "xaxis": "x25",
         "y": [
          7,
          4,
          null,
          6,
          1
         ],
         "yaxis": "y25"
        },
        {
         "mode": "lines",
         "name": "gene_14230",
         "type": "scatter",
         "x": [
          "KIRC",
          "LUAD",
          "PRAD",
          "BRCA",
          "COAD",
          "gene"
         ],
         "xaxis": "x25",
         "y": [
          55,
          28,
          10,
          38,
          9
         ],
         "yaxis": "y25"
        },
        {
         "mode": "lines",
         "name": "gene_14231",
         "type": "scatter",
         "x": [
          "KIRC",
          "LUAD",
          "PRAD",
          "BRCA",
          "COAD",
          "gene"
         ],
         "xaxis": "x25",
         "y": [
          10,
          10,
          4,
          25,
          2
         ],
         "yaxis": "y25"
        },
        {
         "mode": "lines",
         "name": "gene_14232",
         "type": "scatter",
         "x": [
          "KIRC",
          "LUAD",
          "PRAD",
          "BRCA",
          "COAD",
          "gene"
         ],
         "xaxis": "x25",
         "y": [
          21,
          41,
          12,
          52,
          4
         ],
         "yaxis": "y25"
        },
        {
         "mode": "lines",
         "name": "gene_14235",
         "type": "scatter",
         "x": [
          "KIRC",
          "LUAD",
          "PRAD",
          "BRCA",
          "COAD",
          "gene"
         ],
         "xaxis": "x25",
         "y": [
          9,
          19,
          2,
          22,
          null
         ],
         "yaxis": "y25"
        },
        {
         "mode": "lines",
         "name": "gene_14236",
         "type": "scatter",
         "x": [
          "KIRC",
          "LUAD",
          "PRAD",
          "BRCA",
          "COAD",
          "gene"
         ],
         "xaxis": "x25",
         "y": [
          13,
          6,
          5,
          18,
          3
         ],
         "yaxis": "y25"
        },
        {
         "mode": "lines",
         "name": "gene_14237",
         "type": "scatter",
         "x": [
          "KIRC",
          "LUAD",
          "PRAD",
          "BRCA",
          "COAD",
          "gene"
         ],
         "xaxis": "x25",
         "y": [
          30,
          18,
          13,
          50,
          3
         ],
         "yaxis": "y25"
        },
        {
         "mode": "lines",
         "name": "gene_14242",
         "type": "scatter",
         "x": [
          "KIRC",
          "LUAD",
          "PRAD",
          "BRCA",
          "COAD",
          "gene"
         ],
         "xaxis": "x25",
         "y": [
          7,
          3,
          8,
          79,
          6
         ],
         "yaxis": "y25"
        },
        {
         "mode": "lines",
         "name": "gene_14252",
         "type": "scatter",
         "x": [
          "KIRC",
          "LUAD",
          "PRAD",
          "BRCA",
          "COAD",
          "gene"
         ],
         "xaxis": "x25",
         "y": [
          44,
          26,
          44,
          70,
          10
         ],
         "yaxis": "y25"
        },
        {
         "mode": "lines",
         "name": "gene_14320",
         "type": "scatter",
         "x": [
          "KIRC",
          "LUAD",
          "PRAD",
          "BRCA",
          "COAD",
          "gene"
         ],
         "xaxis": "x25",
         "y": [
          44,
          17,
          24,
          32,
          30
         ],
         "yaxis": "y25"
        },
        {
         "mode": "lines",
         "name": "gene_14340",
         "type": "scatter",
         "x": [
          "KIRC",
          "LUAD",
          "PRAD",
          "BRCA",
          "COAD",
          "gene"
         ],
         "xaxis": "x25",
         "y": [
          1,
          4,
          null,
          14,
          null
         ],
         "yaxis": "y25"
        },
        {
         "mode": "lines",
         "name": "gene_14342",
         "type": "scatter",
         "x": [
          "KIRC",
          "LUAD",
          "PRAD",
          "BRCA",
          "COAD",
          "gene"
         ],
         "xaxis": "x25",
         "y": [
          37,
          15,
          10,
          9,
          1
         ],
         "yaxis": "y25"
        },
        {
         "mode": "lines",
         "name": "gene_14366",
         "type": "scatter",
         "x": [
          "KIRC",
          "LUAD",
          "PRAD",
          "BRCA",
          "COAD",
          "gene"
         ],
         "xaxis": "x25",
         "y": [
          22,
          9,
          15,
          49,
          1
         ],
         "yaxis": "y25"
        },
        {
         "mode": "lines",
         "name": "gene_14432",
         "type": "scatter",
         "x": [
          "KIRC",
          "LUAD",
          "PRAD",
          "BRCA",
          "COAD",
          "gene"
         ],
         "xaxis": "x25",
         "y": [
          58,
          18,
          47,
          16,
          8
         ],
         "yaxis": "y25"
        },
        {
         "mode": "lines",
         "name": "gene_14433",
         "type": "scatter",
         "x": [
          "KIRC",
          "LUAD",
          "PRAD",
          "BRCA",
          "COAD",
          "gene"
         ],
         "xaxis": "x25",
         "y": [
          30,
          5,
          11,
          10,
          11
         ],
         "yaxis": "y25"
        },
        {
         "mode": "lines",
         "name": "gene_14448",
         "type": "scatter",
         "x": [
          "KIRC",
          "LUAD",
          "PRAD",
          "BRCA",
          "COAD",
          "gene"
         ],
         "xaxis": "x26",
         "y": [
          null,
          null,
          1,
          1,
          null
         ],
         "yaxis": "y26"
        },
        {
         "mode": "lines",
         "name": "gene_14550",
         "type": "scatter",
         "x": [
          "KIRC",
          "LUAD",
          "PRAD",
          "BRCA",
          "COAD",
          "gene"
         ],
         "xaxis": "x26",
         "y": [
          2,
          null,
          null,
          null,
          null
         ],
         "yaxis": "y26"
        },
        {
         "mode": "lines",
         "name": "gene_14600",
         "type": "scatter",
         "x": [
          "KIRC",
          "LUAD",
          "PRAD",
          "BRCA",
          "COAD",
          "gene"
         ],
         "xaxis": "x26",
         "y": [
          35,
          14,
          12,
          21,
          5
         ],
         "yaxis": "y26"
        },
        {
         "mode": "lines",
         "name": "gene_14693",
         "type": "scatter",
         "x": [
          "KIRC",
          "LUAD",
          "PRAD",
          "BRCA",
          "COAD",
          "gene"
         ],
         "xaxis": "x26",
         "y": [
          19,
          12,
          24,
          50,
          6
         ],
         "yaxis": "y26"
        },
        {
         "mode": "lines",
         "name": "gene_14752",
         "type": "scatter",
         "x": [
          "KIRC",
          "LUAD",
          "PRAD",
          "BRCA",
          "COAD",
          "gene"
         ],
         "xaxis": "x26",
         "y": [
          11,
          7,
          8,
          8,
          1
         ],
         "yaxis": "y26"
        },
        {
         "mode": "lines",
         "name": "gene_14754",
         "type": "scatter",
         "x": [
          "KIRC",
          "LUAD",
          "PRAD",
          "BRCA",
          "COAD",
          "gene"
         ],
         "xaxis": "x26",
         "y": [
          6,
          9,
          4,
          1,
          1
         ],
         "yaxis": "y26"
        },
        {
         "mode": "lines",
         "name": "gene_14755",
         "type": "scatter",
         "x": [
          "KIRC",
          "LUAD",
          "PRAD",
          "BRCA",
          "COAD",
          "gene"
         ],
         "xaxis": "x26",
         "y": [
          null,
          1,
          null,
          1,
          1
         ],
         "yaxis": "y26"
        },
        {
         "mode": "lines",
         "name": "gene_14756",
         "type": "scatter",
         "x": [
          "KIRC",
          "LUAD",
          "PRAD",
          "BRCA",
          "COAD",
          "gene"
         ],
         "xaxis": "x26",
         "y": [
          null,
          2,
          null,
          null,
          null
         ],
         "yaxis": "y26"
        },
        {
         "mode": "lines",
         "name": "gene_14757",
         "type": "scatter",
         "x": [
          "KIRC",
          "LUAD",
          "PRAD",
          "BRCA",
          "COAD",
          "gene"
         ],
         "xaxis": "x26",
         "y": [
          1,
          6,
          null,
          1,
          null
         ],
         "yaxis": "y26"
        },
        {
         "mode": "lines",
         "name": "gene_14758",
         "type": "scatter",
         "x": [
          "KIRC",
          "LUAD",
          "PRAD",
          "BRCA",
          "COAD",
          "gene"
         ],
         "xaxis": "x26",
         "y": [
          null,
          3,
          null,
          1,
          null
         ],
         "yaxis": "y26"
        },
        {
         "mode": "lines",
         "name": "gene_14759",
         "type": "scatter",
         "x": [
          "KIRC",
          "LUAD",
          "PRAD",
          "BRCA",
          "COAD",
          "gene"
         ],
         "xaxis": "x26",
         "y": [
          2,
          5,
          null,
          1,
          null
         ],
         "yaxis": "y26"
        },
        {
         "mode": "lines",
         "name": "gene_14760",
         "type": "scatter",
         "x": [
          "KIRC",
          "LUAD",
          "PRAD",
          "BRCA",
          "COAD",
          "gene"
         ],
         "xaxis": "x26",
         "y": [
          null,
          4,
          null,
          null,
          22
         ],
         "yaxis": "y26"
        },
        {
         "mode": "lines",
         "name": "gene_14761",
         "type": "scatter",
         "x": [
          "KIRC",
          "LUAD",
          "PRAD",
          "BRCA",
          "COAD",
          "gene"
         ],
         "xaxis": "x26",
         "y": [
          2,
          4,
          3,
          1,
          null
         ],
         "yaxis": "y26"
        },
        {
         "mode": "lines",
         "name": "gene_14762",
         "type": "scatter",
         "x": [
          "KIRC",
          "LUAD",
          "PRAD",
          "BRCA",
          "COAD",
          "gene"
         ],
         "xaxis": "x26",
         "y": [
          2,
          null,
          null,
          1,
          null
         ],
         "yaxis": "y26"
        },
        {
         "mode": "lines",
         "name": "gene_14804",
         "type": "scatter",
         "x": [
          "KIRC",
          "LUAD",
          "PRAD",
          "BRCA",
          "COAD",
          "gene"
         ],
         "xaxis": "x26",
         "y": [
          35,
          15,
          9,
          84,
          36
         ],
         "yaxis": "y26"
        },
        {
         "mode": "lines",
         "name": "gene_14819",
         "type": "scatter",
         "x": [
          "KIRC",
          "LUAD",
          "PRAD",
          "BRCA",
          "COAD",
          "gene"
         ],
         "xaxis": "x26",
         "y": [
          105,
          6,
          19,
          4,
          62
         ],
         "yaxis": "y26"
        },
        {
         "mode": "lines",
         "name": "gene_14820",
         "type": "scatter",
         "x": [
          "KIRC",
          "LUAD",
          "PRAD",
          "BRCA",
          "COAD",
          "gene"
         ],
         "xaxis": "x26",
         "y": [
          7,
          null,
          2,
          1,
          12
         ],
         "yaxis": "y26"
        },
        {
         "mode": "lines",
         "name": "gene_14821",
         "type": "scatter",
         "x": [
          "KIRC",
          "LUAD",
          "PRAD",
          "BRCA",
          "COAD",
          "gene"
         ],
         "xaxis": "x26",
         "y": [
          40,
          11,
          11,
          6,
          71
         ],
         "yaxis": "y26"
        },
        {
         "mode": "lines",
         "name": "gene_14822",
         "type": "scatter",
         "x": [
          "KIRC",
          "LUAD",
          "PRAD",
          "BRCA",
          "COAD",
          "gene"
         ],
         "xaxis": "x26",
         "y": [
          81,
          8,
          6,
          2,
          23
         ],
         "yaxis": "y26"
        },
        {
         "mode": "lines",
         "name": "gene_14843",
         "type": "scatter",
         "x": [
          "KIRC",
          "LUAD",
          "PRAD",
          "BRCA",
          "COAD",
          "gene"
         ],
         "xaxis": "x26",
         "y": [
          7,
          3,
          3,
          8,
          1
         ],
         "yaxis": "y26"
        },
        {
         "mode": "lines",
         "name": "gene_14845",
         "type": "scatter",
         "x": [
          "KIRC",
          "LUAD",
          "PRAD",
          "BRCA",
          "COAD",
          "gene"
         ],
         "xaxis": "x26",
         "y": [
          5,
          32,
          8,
          10,
          77
         ],
         "yaxis": "y26"
        },
        {
         "mode": "lines",
         "name": "gene_14851",
         "type": "scatter",
         "x": [
          "KIRC",
          "LUAD",
          "PRAD",
          "BRCA",
          "COAD",
          "gene"
         ],
         "xaxis": "x26",
         "y": [
          27,
          9,
          6,
          70,
          3
         ],
         "yaxis": "y26"
        },
        {
         "mode": "lines",
         "name": "gene_14905",
         "type": "scatter",
         "x": [
          "KIRC",
          "LUAD",
          "PRAD",
          "BRCA",
          "COAD",
          "gene"
         ],
         "xaxis": "x26",
         "y": [
          19,
          18,
          23,
          36,
          10
         ],
         "yaxis": "y26"
        },
        {
         "mode": "lines",
         "name": "gene_14918",
         "type": "scatter",
         "x": [
          "KIRC",
          "LUAD",
          "PRAD",
          "BRCA",
          "COAD",
          "gene"
         ],
         "xaxis": "x26",
         "y": [
          4,
          7,
          4,
          14,
          8
         ],
         "yaxis": "y26"
        },
        {
         "mode": "lines",
         "name": "gene_14927",
         "type": "scatter",
         "x": [
          "KIRC",
          "LUAD",
          "PRAD",
          "BRCA",
          "COAD",
          "gene"
         ],
         "xaxis": "x26",
         "y": [
          8,
          25,
          10,
          103,
          14
         ],
         "yaxis": "y26"
        },
        {
         "mode": "lines",
         "name": "gene_14930",
         "type": "scatter",
         "x": [
          "KIRC",
          "LUAD",
          "PRAD",
          "BRCA",
          "COAD",
          "gene"
         ],
         "xaxis": "x26",
         "y": [
          55,
          14,
          23,
          45,
          7
         ],
         "yaxis": "y26"
        },
        {
         "mode": "lines",
         "name": "gene_14963",
         "type": "scatter",
         "x": [
          "KIRC",
          "LUAD",
          "PRAD",
          "BRCA",
          "COAD",
          "gene"
         ],
         "xaxis": "x26",
         "y": [
          47,
          41,
          24,
          71,
          14
         ],
         "yaxis": "y26"
        },
        {
         "mode": "lines",
         "name": "gene_15009",
         "type": "scatter",
         "x": [
          "KIRC",
          "LUAD",
          "PRAD",
          "BRCA",
          "COAD",
          "gene"
         ],
         "xaxis": "x26",
         "y": [
          13,
          89,
          11,
          29,
          1
         ],
         "yaxis": "y26"
        },
        {
         "mode": "lines",
         "name": "gene_15018",
         "type": "scatter",
         "x": [
          "KIRC",
          "LUAD",
          "PRAD",
          "BRCA",
          "COAD",
          "gene"
         ],
         "xaxis": "x26",
         "y": [
          35,
          null,
          7,
          12,
          null
         ],
         "yaxis": "y26"
        },
        {
         "mode": "lines",
         "name": "gene_15019",
         "type": "scatter",
         "x": [
          "KIRC",
          "LUAD",
          "PRAD",
          "BRCA",
          "COAD",
          "gene"
         ],
         "xaxis": "x26",
         "y": [
          3,
          null,
          61,
          3,
          2
         ],
         "yaxis": "y26"
        },
        {
         "mode": "lines",
         "name": "gene_15027",
         "type": "scatter",
         "x": [
          "KIRC",
          "LUAD",
          "PRAD",
          "BRCA",
          "COAD",
          "gene"
         ],
         "xaxis": "x26",
         "y": [
          18,
          6,
          3,
          11,
          1
         ],
         "yaxis": "y26"
        },
        {
         "mode": "lines",
         "name": "gene_15028",
         "type": "scatter",
         "x": [
          "KIRC",
          "LUAD",
          "PRAD",
          "BRCA",
          "COAD",
          "gene"
         ],
         "xaxis": "x26",
         "y": [
          15,
          2,
          1,
          9,
          4
         ],
         "yaxis": "y26"
        },
        {
         "mode": "lines",
         "name": "gene_15136",
         "type": "scatter",
         "x": [
          "KIRC",
          "LUAD",
          "PRAD",
          "BRCA",
          "COAD",
          "gene"
         ],
         "xaxis": "x26",
         "y": [
          32,
          17,
          35,
          54,
          11
         ],
         "yaxis": "y26"
        },
        {
         "mode": "lines",
         "name": "gene_15137",
         "type": "scatter",
         "x": [
          "KIRC",
          "LUAD",
          "PRAD",
          "BRCA",
          "COAD",
          "gene"
         ],
         "xaxis": "x26",
         "y": [
          3,
          5,
          15,
          20,
          5
         ],
         "yaxis": "y26"
        },
        {
         "mode": "lines",
         "name": "gene_15139",
         "type": "scatter",
         "x": [
          "KIRC",
          "LUAD",
          "PRAD",
          "BRCA",
          "COAD",
          "gene"
         ],
         "xaxis": "x26",
         "y": [
          9,
          4,
          6,
          15,
          1
         ],
         "yaxis": "y26"
        },
        {
         "mode": "lines",
         "name": "gene_15162",
         "type": "scatter",
         "x": [
          "KIRC",
          "LUAD",
          "PRAD",
          "BRCA",
          "COAD",
          "gene"
         ],
         "xaxis": "x26",
         "y": [
          44,
          26,
          16,
          41,
          5
         ],
         "yaxis": "y26"
        },
        {
         "mode": "lines",
         "name": "gene_15187",
         "type": "scatter",
         "x": [
          "KIRC",
          "LUAD",
          "PRAD",
          "BRCA",
          "COAD",
          "gene"
         ],
         "xaxis": "x26",
         "y": [
          22,
          42,
          26,
          27,
          62
         ],
         "yaxis": "y26"
        },
        {
         "mode": "lines",
         "name": "gene_15241",
         "type": "scatter",
         "x": [
          "KIRC",
          "LUAD",
          "PRAD",
          "BRCA",
          "COAD",
          "gene"
         ],
         "xaxis": "x26",
         "y": [
          16,
          26,
          47,
          72,
          3
         ],
         "yaxis": "y26"
        },
        {
         "mode": "lines",
         "name": "gene_15302",
         "type": "scatter",
         "x": [
          "KIRC",
          "LUAD",
          "PRAD",
          "BRCA",
          "COAD",
          "gene"
         ],
         "xaxis": "x26",
         "y": [
          17,
          16,
          128,
          null,
          9
         ],
         "yaxis": "y26"
        },
        {
         "mode": "lines",
         "name": "gene_15396",
         "type": "scatter",
         "x": [
          "KIRC",
          "LUAD",
          "PRAD",
          "BRCA",
          "COAD",
          "gene"
         ],
         "xaxis": "x26",
         "y": [
          63,
          22,
          26,
          66,
          21
         ],
         "yaxis": "y26"
        },
        {
         "mode": "lines",
         "name": "gene_15422",
         "type": "scatter",
         "x": [
          "KIRC",
          "LUAD",
          "PRAD",
          "BRCA",
          "COAD",
          "gene"
         ],
         "xaxis": "x26",
         "y": [
          47,
          32,
          2,
          30,
          1
         ],
         "yaxis": "y26"
        },
        {
         "mode": "lines",
         "name": "gene_15451",
         "type": "scatter",
         "x": [
          "KIRC",
          "LUAD",
          "PRAD",
          "BRCA",
          "COAD",
          "gene"
         ],
         "xaxis": "x26",
         "y": [
          31,
          17,
          5,
          74,
          9
         ],
         "yaxis": "y26"
        },
        {
         "mode": "lines",
         "name": "gene_15462",
         "type": "scatter",
         "x": [
          "KIRC",
          "LUAD",
          "PRAD",
          "BRCA",
          "COAD",
          "gene"
         ],
         "xaxis": "x26",
         "y": [
          2,
          5,
          2,
          10,
          4
         ],
         "yaxis": "y26"
        },
        {
         "mode": "lines",
         "name": "gene_15487",
         "type": "scatter",
         "x": [
          "KIRC",
          "LUAD",
          "PRAD",
          "BRCA",
          "COAD",
          "gene"
         ],
         "xaxis": "x26",
         "y": [
          19,
          26,
          25,
          31,
          25
         ],
         "yaxis": "y26"
        },
        {
         "mode": "lines",
         "name": "gene_15552",
         "type": "scatter",
         "x": [
          "KIRC",
          "LUAD",
          "PRAD",
          "BRCA",
          "COAD",
          "gene"
         ],
         "xaxis": "x26",
         "y": [
          3,
          1,
          1,
          6,
          1
         ],
         "yaxis": "y26"
        },
        {
         "mode": "lines",
         "name": "gene_15554",
         "type": "scatter",
         "x": [
          "KIRC",
          "LUAD",
          "PRAD",
          "BRCA",
          "COAD",
          "gene"
         ],
         "xaxis": "x26",
         "y": [
          1,
          null,
          null,
          1,
          null
         ],
         "yaxis": "y26"
        },
        {
         "mode": "lines",
         "name": "gene_15555",
         "type": "scatter",
         "x": [
          "KIRC",
          "LUAD",
          "PRAD",
          "BRCA",
          "COAD",
          "gene"
         ],
         "xaxis": "x26",
         "y": [
          11,
          4,
          5,
          15,
          6
         ],
         "yaxis": "y26"
        },
        {
         "mode": "lines",
         "name": "gene_15558",
         "type": "scatter",
         "x": [
          "KIRC",
          "LUAD",
          "PRAD",
          "BRCA",
          "COAD",
          "gene"
         ],
         "xaxis": "x26",
         "y": [
          2,
          2,
          4,
          8,
          null
         ],
         "yaxis": "y26"
        },
        {
         "mode": "lines",
         "name": "gene_15559",
         "type": "scatter",
         "x": [
          "KIRC",
          "LUAD",
          "PRAD",
          "BRCA",
          "COAD",
          "gene"
         ],
         "xaxis": "x26",
         "y": [
          11,
          8,
          9,
          24,
          null
         ],
         "yaxis": "y26"
        },
        {
         "mode": "lines",
         "name": "gene_15560",
         "type": "scatter",
         "x": [
          "KIRC",
          "LUAD",
          "PRAD",
          "BRCA",
          "COAD",
          "gene"
         ],
         "xaxis": "x26",
         "y": [
          3,
          2,
          1,
          3,
          null
         ],
         "yaxis": "y26"
        },
        {
         "mode": "lines",
         "name": "gene_15561",
         "type": "scatter",
         "x": [
          "KIRC",
          "LUAD",
          "PRAD",
          "BRCA",
          "COAD",
          "gene"
         ],
         "xaxis": "x26",
         "y": [
          13,
          9,
          25,
          16,
          3
         ],
         "yaxis": "y26"
        },
        {
         "mode": "lines",
         "name": "gene_15562",
         "type": "scatter",
         "x": [
          "KIRC",
          "LUAD",
          "PRAD",
          "BRCA",
          "COAD",
          "gene"
         ],
         "xaxis": "x26",
         "y": [
          4,
          3,
          3,
          12,
          8
         ],
         "yaxis": "y26"
        },
        {
         "mode": "lines",
         "name": "gene_15563",
         "type": "scatter",
         "x": [
          "KIRC",
          "LUAD",
          "PRAD",
          "BRCA",
          "COAD",
          "gene"
         ],
         "xaxis": "x27",
         "y": [
          null,
          null,
          1,
          3,
          1
         ],
         "yaxis": "y27"
        },
        {
         "mode": "lines",
         "name": "gene_15564",
         "type": "scatter",
         "x": [
          "KIRC",
          "LUAD",
          "PRAD",
          "BRCA",
          "COAD",
          "gene"
         ],
         "xaxis": "x27",
         "y": [
          1,
          1,
          1,
          null,
          null
         ],
         "yaxis": "y27"
        },
        {
         "mode": "lines",
         "name": "gene_15566",
         "type": "scatter",
         "x": [
          "KIRC",
          "LUAD",
          "PRAD",
          "BRCA",
          "COAD",
          "gene"
         ],
         "xaxis": "x27",
         "y": [
          4,
          6,
          null,
          7,
          2
         ],
         "yaxis": "y27"
        },
        {
         "mode": "lines",
         "name": "gene_15567",
         "type": "scatter",
         "x": [
          "KIRC",
          "LUAD",
          "PRAD",
          "BRCA",
          "COAD",
          "gene"
         ],
         "xaxis": "x27",
         "y": [
          7,
          2,
          1,
          9,
          null
         ],
         "yaxis": "y27"
        },
        {
         "mode": "lines",
         "name": "gene_15571",
         "type": "scatter",
         "x": [
          "KIRC",
          "LUAD",
          "PRAD",
          "BRCA",
          "COAD",
          "gene"
         ],
         "xaxis": "x27",
         "y": [
          14,
          null,
          2,
          19,
          2
         ],
         "yaxis": "y27"
        },
        {
         "mode": "lines",
         "name": "gene_15584",
         "type": "scatter",
         "x": [
          "KIRC",
          "LUAD",
          "PRAD",
          "BRCA",
          "COAD",
          "gene"
         ],
         "xaxis": "x27",
         "y": [
          27,
          15,
          14,
          60,
          9
         ],
         "yaxis": "y27"
        },
        {
         "mode": "lines",
         "name": "gene_15585",
         "type": "scatter",
         "x": [
          "KIRC",
          "LUAD",
          "PRAD",
          "BRCA",
          "COAD",
          "gene"
         ],
         "xaxis": "x27",
         "y": [
          2,
          3,
          null,
          18,
          null
         ],
         "yaxis": "y27"
        },
        {
         "mode": "lines",
         "name": "gene_15587",
         "type": "scatter",
         "x": [
          "KIRC",
          "LUAD",
          "PRAD",
          "BRCA",
          "COAD",
          "gene"
         ],
         "xaxis": "x27",
         "y": [
          4,
          null,
          5,
          25,
          1
         ],
         "yaxis": "y27"
        },
        {
         "mode": "lines",
         "name": "gene_15632",
         "type": "scatter",
         "x": [
          "KIRC",
          "LUAD",
          "PRAD",
          "BRCA",
          "COAD",
          "gene"
         ],
         "xaxis": "x27",
         "y": [
          39,
          21,
          19,
          37,
          5
         ],
         "yaxis": "y27"
        },
        {
         "mode": "lines",
         "name": "gene_15646",
         "type": "scatter",
         "x": [
          "KIRC",
          "LUAD",
          "PRAD",
          "BRCA",
          "COAD",
          "gene"
         ],
         "xaxis": "x27",
         "y": [
          26,
          13,
          1,
          2,
          1
         ],
         "yaxis": "y27"
        },
        {
         "mode": "lines",
         "name": "gene_15674",
         "type": "scatter",
         "x": [
          "KIRC",
          "LUAD",
          "PRAD",
          "BRCA",
          "COAD",
          "gene"
         ],
         "xaxis": "x27",
         "y": [
          39,
          19,
          14,
          44,
          10
         ],
         "yaxis": "y27"
        },
        {
         "mode": "lines",
         "name": "gene_15680",
         "type": "scatter",
         "x": [
          "KIRC",
          "LUAD",
          "PRAD",
          "BRCA",
          "COAD",
          "gene"
         ],
         "xaxis": "x27",
         "y": [
          38,
          96,
          10,
          36,
          14
         ],
         "yaxis": "y27"
        },
        {
         "mode": "lines",
         "name": "gene_15743",
         "type": "scatter",
         "x": [
          "KIRC",
          "LUAD",
          "PRAD",
          "BRCA",
          "COAD",
          "gene"
         ],
         "xaxis": "x27",
         "y": [
          17,
          10,
          111,
          37,
          25
         ],
         "yaxis": "y27"
        },
        {
         "mode": "lines",
         "name": "gene_15760",
         "type": "scatter",
         "x": [
          "KIRC",
          "LUAD",
          "PRAD",
          "BRCA",
          "COAD",
          "gene"
         ],
         "xaxis": "x27",
         "y": [
          34,
          33,
          18,
          39,
          5
         ],
         "yaxis": "y27"
        },
        {
         "mode": "lines",
         "name": "gene_15791",
         "type": "scatter",
         "x": [
          "KIRC",
          "LUAD",
          "PRAD",
          "BRCA",
          "COAD",
          "gene"
         ],
         "xaxis": "x27",
         "y": [
          4,
          5,
          2,
          26,
          4
         ],
         "yaxis": "y27"
        },
        {
         "mode": "lines",
         "name": "gene_15799",
         "type": "scatter",
         "x": [
          "KIRC",
          "LUAD",
          "PRAD",
          "BRCA",
          "COAD",
          "gene"
         ],
         "xaxis": "x27",
         "y": [
          17,
          38,
          29,
          83,
          9
         ],
         "yaxis": "y27"
        },
        {
         "mode": "lines",
         "name": "gene_15801",
         "type": "scatter",
         "x": [
          "KIRC",
          "LUAD",
          "PRAD",
          "BRCA",
          "COAD",
          "gene"
         ],
         "xaxis": "x27",
         "y": [
          5,
          13,
          28,
          39,
          2
         ],
         "yaxis": "y27"
        },
        {
         "mode": "lines",
         "name": "gene_15911",
         "type": "scatter",
         "x": [
          "KIRC",
          "LUAD",
          "PRAD",
          "BRCA",
          "COAD",
          "gene"
         ],
         "xaxis": "x27",
         "y": [
          20,
          13,
          50,
          75,
          11
         ],
         "yaxis": "y27"
        },
        {
         "mode": "lines",
         "name": "gene_16131",
         "type": "scatter",
         "x": [
          "KIRC",
          "LUAD",
          "PRAD",
          "BRCA",
          "COAD",
          "gene"
         ],
         "xaxis": "x27",
         "y": [
          144,
          14,
          13,
          10,
          1
         ],
         "yaxis": "y27"
        },
        {
         "mode": "lines",
         "name": "gene_16135",
         "type": "scatter",
         "x": [
          "KIRC",
          "LUAD",
          "PRAD",
          "BRCA",
          "COAD",
          "gene"
         ],
         "xaxis": "x27",
         "y": [
          8,
          7,
          2,
          24,
          3
         ],
         "yaxis": "y27"
        },
        {
         "mode": "lines",
         "name": "gene_16173",
         "type": "scatter",
         "x": [
          "KIRC",
          "LUAD",
          "PRAD",
          "BRCA",
          "COAD",
          "gene"
         ],
         "xaxis": "x27",
         "y": [
          141,
          3,
          16,
          14,
          3
         ],
         "yaxis": "y27"
        },
        {
         "mode": "lines",
         "name": "gene_16209",
         "type": "scatter",
         "x": [
          "KIRC",
          "LUAD",
          "PRAD",
          "BRCA",
          "COAD",
          "gene"
         ],
         "xaxis": "x27",
         "y": [
          32,
          30,
          17,
          77,
          8
         ],
         "yaxis": "y27"
        },
        {
         "mode": "lines",
         "name": "gene_16280",
         "type": "scatter",
         "x": [
          "KIRC",
          "LUAD",
          "PRAD",
          "BRCA",
          "COAD",
          "gene"
         ],
         "xaxis": "x27",
         "y": [
          25,
          41,
          24,
          83,
          10
         ],
         "yaxis": "y27"
        },
        {
         "mode": "lines",
         "name": "gene_16311",
         "type": "scatter",
         "x": [
          "KIRC",
          "LUAD",
          "PRAD",
          "BRCA",
          "COAD",
          "gene"
         ],
         "xaxis": "x27",
         "y": [
          52,
          31,
          25,
          54,
          5
         ],
         "yaxis": "y27"
        },
        {
         "mode": "lines",
         "name": "gene_16404",
         "type": "scatter",
         "x": [
          "KIRC",
          "LUAD",
          "PRAD",
          "BRCA",
          "COAD",
          "gene"
         ],
         "xaxis": "x27",
         "y": [
          5,
          2,
          6,
          3,
          1
         ],
         "yaxis": "y27"
        },
        {
         "mode": "lines",
         "name": "gene_16451",
         "type": "scatter",
         "x": [
          "KIRC",
          "LUAD",
          "PRAD",
          "BRCA",
          "COAD",
          "gene"
         ],
         "xaxis": "x27",
         "y": [
          26,
          45,
          7,
          32,
          3
         ],
         "yaxis": "y27"
        },
        {
         "mode": "lines",
         "name": "gene_16511",
         "type": "scatter",
         "x": [
          "KIRC",
          "LUAD",
          "PRAD",
          "BRCA",
          "COAD",
          "gene"
         ],
         "xaxis": "x27",
         "y": [
          5,
          3,
          2,
          17,
          3
         ],
         "yaxis": "y27"
        },
        {
         "mode": "lines",
         "name": "gene_16518",
         "type": "scatter",
         "x": [
          "KIRC",
          "LUAD",
          "PRAD",
          "BRCA",
          "COAD",
          "gene"
         ],
         "xaxis": "x27",
         "y": [
          16,
          22,
          6,
          27,
          2
         ],
         "yaxis": "y27"
        },
        {
         "mode": "lines",
         "name": "gene_16537",
         "type": "scatter",
         "x": [
          "KIRC",
          "LUAD",
          "PRAD",
          "BRCA",
          "COAD",
          "gene"
         ],
         "xaxis": "x27",
         "y": [
          2,
          4,
          7,
          32,
          null
         ],
         "yaxis": "y27"
        },
        {
         "mode": "lines",
         "name": "gene_16538",
         "type": "scatter",
         "x": [
          "KIRC",
          "LUAD",
          "PRAD",
          "BRCA",
          "COAD",
          "gene"
         ],
         "xaxis": "x27",
         "y": [
          4,
          5,
          31,
          121,
          2
         ],
         "yaxis": "y27"
        },
        {
         "mode": "lines",
         "name": "gene_16567",
         "type": "scatter",
         "x": [
          "KIRC",
          "LUAD",
          "PRAD",
          "BRCA",
          "COAD",
          "gene"
         ],
         "xaxis": "x27",
         "y": [
          1,
          null,
          null,
          null,
          null
         ],
         "yaxis": "y27"
        },
        {
         "mode": "lines",
         "name": "gene_16570",
         "type": "scatter",
         "x": [
          "KIRC",
          "LUAD",
          "PRAD",
          "BRCA",
          "COAD",
          "gene"
         ],
         "xaxis": "x27",
         "y": [
          3,
          7,
          5,
          7,
          7
         ],
         "yaxis": "y27"
        },
        {
         "mode": "lines",
         "name": "gene_16572",
         "type": "scatter",
         "x": [
          "KIRC",
          "LUAD",
          "PRAD",
          "BRCA",
          "COAD",
          "gene"
         ],
         "xaxis": "x27",
         "y": [
          1,
          null,
          null,
          null,
          1
         ],
         "yaxis": "y27"
        },
        {
         "mode": "lines",
         "name": "gene_16573",
         "type": "scatter",
         "x": [
          "KIRC",
          "LUAD",
          "PRAD",
          "BRCA",
          "COAD",
          "gene"
         ],
         "xaxis": "x27",
         "y": [
          null,
          null,
          null,
          1,
          null
         ],
         "yaxis": "y27"
        },
        {
         "mode": "lines",
         "name": "gene_16574",
         "type": "scatter",
         "x": [
          "KIRC",
          "LUAD",
          "PRAD",
          "BRCA",
          "COAD",
          "gene"
         ],
         "xaxis": "x27",
         "y": [
          null,
          null,
          1,
          null,
          null
         ],
         "yaxis": "y27"
        },
        {
         "mode": "lines",
         "name": "gene_16576",
         "type": "scatter",
         "x": [
          "KIRC",
          "LUAD",
          "PRAD",
          "BRCA",
          "COAD",
          "gene"
         ],
         "xaxis": "x27",
         "y": [
          null,
          null,
          null,
          null,
          1
         ],
         "yaxis": "y27"
        },
        {
         "mode": "lines",
         "name": "gene_16577",
         "type": "scatter",
         "x": [
          "KIRC",
          "LUAD",
          "PRAD",
          "BRCA",
          "COAD",
          "gene"
         ],
         "xaxis": "x27",
         "y": [
          null,
          4,
          null,
          2,
          null
         ],
         "yaxis": "y27"
        },
        {
         "mode": "lines",
         "name": "gene_16580",
         "type": "scatter",
         "x": [
          "KIRC",
          "LUAD",
          "PRAD",
          "BRCA",
          "COAD",
          "gene"
         ],
         "xaxis": "x27",
         "y": [
          null,
          null,
          null,
          null,
          1
         ],
         "yaxis": "y27"
        },
        {
         "mode": "lines",
         "name": "gene_16603",
         "type": "scatter",
         "x": [
          "KIRC",
          "LUAD",
          "PRAD",
          "BRCA",
          "COAD",
          "gene"
         ],
         "xaxis": "x27",
         "y": [
          1,
          null,
          1,
          1,
          null
         ],
         "yaxis": "y27"
        },
        {
         "mode": "lines",
         "name": "gene_16605",
         "type": "scatter",
         "x": [
          "KIRC",
          "LUAD",
          "PRAD",
          "BRCA",
          "COAD",
          "gene"
         ],
         "xaxis": "x27",
         "y": [
          1,
          null,
          2,
          6,
          null
         ],
         "yaxis": "y27"
        },
        {
         "mode": "lines",
         "name": "gene_16606",
         "type": "scatter",
         "x": [
          "KIRC",
          "LUAD",
          "PRAD",
          "BRCA",
          "COAD",
          "gene"
         ],
         "xaxis": "x27",
         "y": [
          null,
          null,
          3,
          2,
          null
         ],
         "yaxis": "y27"
        },
        {
         "mode": "lines",
         "name": "gene_16607",
         "type": "scatter",
         "x": [
          "KIRC",
          "LUAD",
          "PRAD",
          "BRCA",
          "COAD",
          "gene"
         ],
         "xaxis": "x27",
         "y": [
          7,
          4,
          17,
          58,
          1
         ],
         "yaxis": "y27"
        },
        {
         "mode": "lines",
         "name": "gene_16608",
         "type": "scatter",
         "x": [
          "KIRC",
          "LUAD",
          "PRAD",
          "BRCA",
          "COAD",
          "gene"
         ],
         "xaxis": "x27",
         "y": [
          42,
          23,
          32,
          50,
          12
         ],
         "yaxis": "y27"
        },
        {
         "mode": "lines",
         "name": "gene_16609",
         "type": "scatter",
         "x": [
          "KIRC",
          "LUAD",
          "PRAD",
          "BRCA",
          "COAD",
          "gene"
         ],
         "xaxis": "x27",
         "y": [
          5,
          2,
          7,
          10,
          1
         ],
         "yaxis": "y27"
        },
        {
         "mode": "lines",
         "name": "gene_16610",
         "type": "scatter",
         "x": [
          "KIRC",
          "LUAD",
          "PRAD",
          "BRCA",
          "COAD",
          "gene"
         ],
         "xaxis": "x27",
         "y": [
          2,
          4,
          2,
          2,
          1
         ],
         "yaxis": "y27"
        },
        {
         "mode": "lines",
         "name": "gene_16611",
         "type": "scatter",
         "x": [
          "KIRC",
          "LUAD",
          "PRAD",
          "BRCA",
          "COAD",
          "gene"
         ],
         "xaxis": "x27",
         "y": [
          12,
          18,
          13,
          31,
          4
         ],
         "yaxis": "y27"
        },
        {
         "mode": "lines",
         "name": "gene_16612",
         "type": "scatter",
         "x": [
          "KIRC",
          "LUAD",
          "PRAD",
          "BRCA",
          "COAD",
          "gene"
         ],
         "xaxis": "x27",
         "y": [
          6,
          4,
          5,
          11,
          6
         ],
         "yaxis": "y27"
        },
        {
         "mode": "lines",
         "name": "gene_16613",
         "type": "scatter",
         "x": [
          "KIRC",
          "LUAD",
          "PRAD",
          "BRCA",
          "COAD",
          "gene"
         ],
         "xaxis": "x27",
         "y": [
          13,
          21,
          14,
          19,
          11
         ],
         "yaxis": "y27"
        },
        {
         "mode": "lines",
         "name": "gene_16614",
         "type": "scatter",
         "x": [
          "KIRC",
          "LUAD",
          "PRAD",
          "BRCA",
          "COAD",
          "gene"
         ],
         "xaxis": "x27",
         "y": [
          6,
          7,
          2,
          15,
          2
         ],
         "yaxis": "y27"
        },
        {
         "mode": "lines",
         "name": "gene_16616",
         "type": "scatter",
         "x": [
          "KIRC",
          "LUAD",
          "PRAD",
          "BRCA",
          "COAD",
          "gene"
         ],
         "xaxis": "x27",
         "y": [
          null,
          2,
          2,
          4,
          null
         ],
         "yaxis": "y27"
        },
        {
         "mode": "lines",
         "name": "gene_16617",
         "type": "scatter",
         "x": [
          "KIRC",
          "LUAD",
          "PRAD",
          "BRCA",
          "COAD",
          "gene"
         ],
         "xaxis": "x27",
         "y": [
          1,
          3,
          3,
          7,
          6
         ],
         "yaxis": "y27"
        },
        {
         "mode": "lines",
         "name": "gene_16618",
         "type": "scatter",
         "x": [
          "KIRC",
          "LUAD",
          "PRAD",
          "BRCA",
          "COAD",
          "gene"
         ],
         "xaxis": "x27",
         "y": [
          25,
          10,
          23,
          48,
          8
         ],
         "yaxis": "y27"
        },
        {
         "mode": "lines",
         "name": "gene_16619",
         "type": "scatter",
         "x": [
          "KIRC",
          "LUAD",
          "PRAD",
          "BRCA",
          "COAD",
          "gene"
         ],
         "xaxis": "x28",
         "y": [
          27,
          30,
          29,
          84,
          15
         ],
         "yaxis": "y28"
        },
        {
         "mode": "lines",
         "name": "gene_16620",
         "type": "scatter",
         "x": [
          "KIRC",
          "LUAD",
          "PRAD",
          "BRCA",
          "COAD",
          "gene"
         ],
         "xaxis": "x28",
         "y": [
          21,
          12,
          14,
          39,
          3
         ],
         "yaxis": "y28"
        },
        {
         "mode": "lines",
         "name": "gene_16623",
         "type": "scatter",
         "x": [
          "KIRC",
          "LUAD",
          "PRAD",
          "BRCA",
          "COAD",
          "gene"
         ],
         "xaxis": "x28",
         "y": [
          9,
          5,
          13,
          20,
          7
         ],
         "yaxis": "y28"
        },
        {
         "mode": "lines",
         "name": "gene_16624",
         "type": "scatter",
         "x": [
          "KIRC",
          "LUAD",
          "PRAD",
          "BRCA",
          "COAD",
          "gene"
         ],
         "xaxis": "x28",
         "y": [
          8,
          8,
          20,
          26,
          7
         ],
         "yaxis": "y28"
        },
        {
         "mode": "lines",
         "name": "gene_16625",
         "type": "scatter",
         "x": [
          "KIRC",
          "LUAD",
          "PRAD",
          "BRCA",
          "COAD",
          "gene"
         ],
         "xaxis": "x28",
         "y": [
          22,
          19,
          15,
          45,
          27
         ],
         "yaxis": "y28"
        },
        {
         "mode": "lines",
         "name": "gene_16626",
         "type": "scatter",
         "x": [
          "KIRC",
          "LUAD",
          "PRAD",
          "BRCA",
          "COAD",
          "gene"
         ],
         "xaxis": "x28",
         "y": [
          5,
          1,
          2,
          1,
          1
         ],
         "yaxis": "y28"
        },
        {
         "mode": "lines",
         "name": "gene_16627",
         "type": "scatter",
         "x": [
          "KIRC",
          "LUAD",
          "PRAD",
          "BRCA",
          "COAD",
          "gene"
         ],
         "xaxis": "x28",
         "y": [
          9,
          8,
          13,
          18,
          7
         ],
         "yaxis": "y28"
        },
        {
         "mode": "lines",
         "name": "gene_16628",
         "type": "scatter",
         "x": [
          "KIRC",
          "LUAD",
          "PRAD",
          "BRCA",
          "COAD",
          "gene"
         ],
         "xaxis": "x28",
         "y": [
          8,
          12,
          5,
          16,
          4
         ],
         "yaxis": "y28"
        },
        {
         "mode": "lines",
         "name": "gene_16629",
         "type": "scatter",
         "x": [
          "KIRC",
          "LUAD",
          "PRAD",
          "BRCA",
          "COAD",
          "gene"
         ],
         "xaxis": "x28",
         "y": [
          5,
          4,
          5,
          10,
          1
         ],
         "yaxis": "y28"
        },
        {
         "mode": "lines",
         "name": "gene_16630",
         "type": "scatter",
         "x": [
          "KIRC",
          "LUAD",
          "PRAD",
          "BRCA",
          "COAD",
          "gene"
         ],
         "xaxis": "x28",
         "y": [
          null,
          null,
          1,
          1,
          null
         ],
         "yaxis": "y28"
        },
        {
         "mode": "lines",
         "name": "gene_16632",
         "type": "scatter",
         "x": [
          "KIRC",
          "LUAD",
          "PRAD",
          "BRCA",
          "COAD",
          "gene"
         ],
         "xaxis": "x28",
         "y": [
          5,
          null,
          6,
          8,
          1
         ],
         "yaxis": "y28"
        },
        {
         "mode": "lines",
         "name": "gene_16633",
         "type": "scatter",
         "x": [
          "KIRC",
          "LUAD",
          "PRAD",
          "BRCA",
          "COAD",
          "gene"
         ],
         "xaxis": "x28",
         "y": [
          31,
          25,
          24,
          59,
          12
         ],
         "yaxis": "y28"
        },
        {
         "mode": "lines",
         "name": "gene_16635",
         "type": "scatter",
         "x": [
          "KIRC",
          "LUAD",
          "PRAD",
          "BRCA",
          "COAD",
          "gene"
         ],
         "xaxis": "x28",
         "y": [
          4,
          1,
          19,
          12,
          null
         ],
         "yaxis": "y28"
        },
        {
         "mode": "lines",
         "name": "gene_16636",
         "type": "scatter",
         "x": [
          "KIRC",
          "LUAD",
          "PRAD",
          "BRCA",
          "COAD",
          "gene"
         ],
         "xaxis": "x28",
         "y": [
          2,
          null,
          4,
          2,
          null
         ],
         "yaxis": "y28"
        },
        {
         "mode": "lines",
         "name": "gene_16638",
         "type": "scatter",
         "x": [
          "KIRC",
          "LUAD",
          "PRAD",
          "BRCA",
          "COAD",
          "gene"
         ],
         "xaxis": "x28",
         "y": [
          6,
          4,
          8,
          22,
          1
         ],
         "yaxis": "y28"
        },
        {
         "mode": "lines",
         "name": "gene_16639",
         "type": "scatter",
         "x": [
          "KIRC",
          "LUAD",
          "PRAD",
          "BRCA",
          "COAD",
          "gene"
         ],
         "xaxis": "x28",
         "y": [
          15,
          6,
          6,
          24,
          1
         ],
         "yaxis": "y28"
        },
        {
         "mode": "lines",
         "name": "gene_16640",
         "type": "scatter",
         "x": [
          "KIRC",
          "LUAD",
          "PRAD",
          "BRCA",
          "COAD",
          "gene"
         ],
         "xaxis": "x28",
         "y": [
          1,
          3,
          7,
          12,
          null
         ],
         "yaxis": "y28"
        },
        {
         "mode": "lines",
         "name": "gene_16642",
         "type": "scatter",
         "x": [
          "KIRC",
          "LUAD",
          "PRAD",
          "BRCA",
          "COAD",
          "gene"
         ],
         "xaxis": "x28",
         "y": [
          18,
          13,
          15,
          39,
          14
         ],
         "yaxis": "y28"
        },
        {
         "mode": "lines",
         "name": "gene_16644",
         "type": "scatter",
         "x": [
          "KIRC",
          "LUAD",
          "PRAD",
          "BRCA",
          "COAD",
          "gene"
         ],
         "xaxis": "x28",
         "y": [
          6,
          8,
          6,
          15,
          10
         ],
         "yaxis": "y28"
        },
        {
         "mode": "lines",
         "name": "gene_16645",
         "type": "scatter",
         "x": [
          "KIRC",
          "LUAD",
          "PRAD",
          "BRCA",
          "COAD",
          "gene"
         ],
         "xaxis": "x28",
         "y": [
          4,
          3,
          3,
          14,
          null
         ],
         "yaxis": "y28"
        },
        {
         "mode": "lines",
         "name": "gene_16646",
         "type": "scatter",
         "x": [
          "KIRC",
          "LUAD",
          "PRAD",
          "BRCA",
          "COAD",
          "gene"
         ],
         "xaxis": "x28",
         "y": [
          10,
          11,
          13,
          14,
          4
         ],
         "yaxis": "y28"
        },
        {
         "mode": "lines",
         "name": "gene_16647",
         "type": "scatter",
         "x": [
          "KIRC",
          "LUAD",
          "PRAD",
          "BRCA",
          "COAD",
          "gene"
         ],
         "xaxis": "x28",
         "y": [
          10,
          17,
          32,
          48,
          15
         ],
         "yaxis": "y28"
        },
        {
         "mode": "lines",
         "name": "gene_16648",
         "type": "scatter",
         "x": [
          "KIRC",
          "LUAD",
          "PRAD",
          "BRCA",
          "COAD",
          "gene"
         ],
         "xaxis": "x28",
         "y": [
          14,
          7,
          11,
          27,
          2
         ],
         "yaxis": "y28"
        },
        {
         "mode": "lines",
         "name": "gene_16649",
         "type": "scatter",
         "x": [
          "KIRC",
          "LUAD",
          "PRAD",
          "BRCA",
          "COAD",
          "gene"
         ],
         "xaxis": "x28",
         "y": [
          25,
          8,
          13,
          17,
          9
         ],
         "yaxis": "y28"
        },
        {
         "mode": "lines",
         "name": "gene_16651",
         "type": "scatter",
         "x": [
          "KIRC",
          "LUAD",
          "PRAD",
          "BRCA",
          "COAD",
          "gene"
         ],
         "xaxis": "x28",
         "y": [
          22,
          13,
          10,
          38,
          1
         ],
         "yaxis": "y28"
        },
        {
         "mode": "lines",
         "name": "gene_16652",
         "type": "scatter",
         "x": [
          "KIRC",
          "LUAD",
          "PRAD",
          "BRCA",
          "COAD",
          "gene"
         ],
         "xaxis": "x28",
         "y": [
          17,
          14,
          10,
          31,
          12
         ],
         "yaxis": "y28"
        },
        {
         "mode": "lines",
         "name": "gene_16653",
         "type": "scatter",
         "x": [
          "KIRC",
          "LUAD",
          "PRAD",
          "BRCA",
          "COAD",
          "gene"
         ],
         "xaxis": "x28",
         "y": [
          12,
          4,
          5,
          22,
          2
         ],
         "yaxis": "y28"
        },
        {
         "mode": "lines",
         "name": "gene_16654",
         "type": "scatter",
         "x": [
          "KIRC",
          "LUAD",
          "PRAD",
          "BRCA",
          "COAD",
          "gene"
         ],
         "xaxis": "x28",
         "y": [
          7,
          7,
          4,
          7,
          5
         ],
         "yaxis": "y28"
        },
        {
         "mode": "lines",
         "name": "gene_16655",
         "type": "scatter",
         "x": [
          "KIRC",
          "LUAD",
          "PRAD",
          "BRCA",
          "COAD",
          "gene"
         ],
         "xaxis": "x28",
         "y": [
          35,
          17,
          27,
          49,
          16
         ],
         "yaxis": "y28"
        },
        {
         "mode": "lines",
         "name": "gene_16657",
         "type": "scatter",
         "x": [
          "KIRC",
          "LUAD",
          "PRAD",
          "BRCA",
          "COAD",
          "gene"
         ],
         "xaxis": "x28",
         "y": [
          11,
          11,
          8,
          20,
          null
         ],
         "yaxis": "y28"
        },
        {
         "mode": "lines",
         "name": "gene_16658",
         "type": "scatter",
         "x": [
          "KIRC",
          "LUAD",
          "PRAD",
          "BRCA",
          "COAD",
          "gene"
         ],
         "xaxis": "x28",
         "y": [
          4,
          7,
          8,
          16,
          3
         ],
         "yaxis": "y28"
        },
        {
         "mode": "lines",
         "name": "gene_16659",
         "type": "scatter",
         "x": [
          "KIRC",
          "LUAD",
          "PRAD",
          "BRCA",
          "COAD",
          "gene"
         ],
         "xaxis": "x28",
         "y": [
          9,
          7,
          8,
          5,
          10
         ],
         "yaxis": "y28"
        },
        {
         "mode": "lines",
         "name": "gene_16661",
         "type": "scatter",
         "x": [
          "KIRC",
          "LUAD",
          "PRAD",
          "BRCA",
          "COAD",
          "gene"
         ],
         "xaxis": "x28",
         "y": [
          2,
          null,
          null,
          5,
          null
         ],
         "yaxis": "y28"
        },
        {
         "mode": "lines",
         "name": "gene_16663",
         "type": "scatter",
         "x": [
          "KIRC",
          "LUAD",
          "PRAD",
          "BRCA",
          "COAD",
          "gene"
         ],
         "xaxis": "x28",
         "y": [
          33,
          28,
          27,
          72,
          26
         ],
         "yaxis": "y28"
        },
        {
         "mode": "lines",
         "name": "gene_16664",
         "type": "scatter",
         "x": [
          "KIRC",
          "LUAD",
          "PRAD",
          "BRCA",
          "COAD",
          "gene"
         ],
         "xaxis": "x28",
         "y": [
          1,
          8,
          2,
          6,
          6
         ],
         "yaxis": "y28"
        },
        {
         "mode": "lines",
         "name": "gene_16665",
         "type": "scatter",
         "x": [
          "KIRC",
          "LUAD",
          "PRAD",
          "BRCA",
          "COAD",
          "gene"
         ],
         "xaxis": "x28",
         "y": [
          12,
          23,
          12,
          30,
          14
         ],
         "yaxis": "y28"
        },
        {
         "mode": "lines",
         "name": "gene_16667",
         "type": "scatter",
         "x": [
          "KIRC",
          "LUAD",
          "PRAD",
          "BRCA",
          "COAD",
          "gene"
         ],
         "xaxis": "x28",
         "y": [
          14,
          26,
          19,
          51,
          19
         ],
         "yaxis": "y28"
        },
        {
         "mode": "lines",
         "name": "gene_16669",
         "type": "scatter",
         "x": [
          "KIRC",
          "LUAD",
          "PRAD",
          "BRCA",
          "COAD",
          "gene"
         ],
         "xaxis": "x28",
         "y": [
          22,
          13,
          17,
          55,
          2
         ],
         "yaxis": "y28"
        },
        {
         "mode": "lines",
         "name": "gene_16670",
         "type": "scatter",
         "x": [
          "KIRC",
          "LUAD",
          "PRAD",
          "BRCA",
          "COAD",
          "gene"
         ],
         "xaxis": "x28",
         "y": [
          29,
          32,
          33,
          48,
          18
         ],
         "yaxis": "y28"
        },
        {
         "mode": "lines",
         "name": "gene_16671",
         "type": "scatter",
         "x": [
          "KIRC",
          "LUAD",
          "PRAD",
          "BRCA",
          "COAD",
          "gene"
         ],
         "xaxis": "x28",
         "y": [
          1,
          1,
          8,
          6,
          2
         ],
         "yaxis": "y28"
        },
        {
         "mode": "lines",
         "name": "gene_16673",
         "type": "scatter",
         "x": [
          "KIRC",
          "LUAD",
          "PRAD",
          "BRCA",
          "COAD",
          "gene"
         ],
         "xaxis": "x28",
         "y": [
          19,
          25,
          23,
          52,
          5
         ],
         "yaxis": "y28"
        },
        {
         "mode": "lines",
         "name": "gene_16674",
         "type": "scatter",
         "x": [
          "KIRC",
          "LUAD",
          "PRAD",
          "BRCA",
          "COAD",
          "gene"
         ],
         "xaxis": "x28",
         "y": [
          null,
          null,
          1,
          3,
          null
         ],
         "yaxis": "y28"
        },
        {
         "mode": "lines",
         "name": "gene_16676",
         "type": "scatter",
         "x": [
          "KIRC",
          "LUAD",
          "PRAD",
          "BRCA",
          "COAD",
          "gene"
         ],
         "xaxis": "x28",
         "y": [
          1,
          2,
          null,
          3,
          null
         ],
         "yaxis": "y28"
        },
        {
         "mode": "lines",
         "name": "gene_16678",
         "type": "scatter",
         "x": [
          "KIRC",
          "LUAD",
          "PRAD",
          "BRCA",
          "COAD",
          "gene"
         ],
         "xaxis": "x28",
         "y": [
          12,
          25,
          11,
          61,
          8
         ],
         "yaxis": "y28"
        },
        {
         "mode": "lines",
         "name": "gene_16679",
         "type": "scatter",
         "x": [
          "KIRC",
          "LUAD",
          "PRAD",
          "BRCA",
          "COAD",
          "gene"
         ],
         "xaxis": "x28",
         "y": [
          16,
          19,
          22,
          34,
          25
         ],
         "yaxis": "y28"
        },
        {
         "mode": "lines",
         "name": "gene_16680",
         "type": "scatter",
         "x": [
          "KIRC",
          "LUAD",
          "PRAD",
          "BRCA",
          "COAD",
          "gene"
         ],
         "xaxis": "x28",
         "y": [
          13,
          20,
          12,
          46,
          16
         ],
         "yaxis": "y28"
        },
        {
         "mode": "lines",
         "name": "gene_16681",
         "type": "scatter",
         "x": [
          "KIRC",
          "LUAD",
          "PRAD",
          "BRCA",
          "COAD",
          "gene"
         ],
         "xaxis": "x28",
         "y": [
          4,
          15,
          15,
          26,
          12
         ],
         "yaxis": "y28"
        },
        {
         "mode": "lines",
         "name": "gene_16682",
         "type": "scatter",
         "x": [
          "KIRC",
          "LUAD",
          "PRAD",
          "BRCA",
          "COAD",
          "gene"
         ],
         "xaxis": "x28",
         "y": [
          6,
          14,
          6,
          18,
          6
         ],
         "yaxis": "y28"
        },
        {
         "mode": "lines",
         "name": "gene_16686",
         "type": "scatter",
         "x": [
          "KIRC",
          "LUAD",
          "PRAD",
          "BRCA",
          "COAD",
          "gene"
         ],
         "xaxis": "x28",
         "y": [
          13,
          5,
          15,
          12,
          4
         ],
         "yaxis": "y28"
        },
        {
         "mode": "lines",
         "name": "gene_16688",
         "type": "scatter",
         "x": [
          "KIRC",
          "LUAD",
          "PRAD",
          "BRCA",
          "COAD",
          "gene"
         ],
         "xaxis": "x28",
         "y": [
          1,
          3,
          1,
          3,
          null
         ],
         "yaxis": "y28"
        },
        {
         "mode": "lines",
         "name": "gene_16689",
         "type": "scatter",
         "x": [
          "KIRC",
          "LUAD",
          "PRAD",
          "BRCA",
          "COAD",
          "gene"
         ],
         "xaxis": "x28",
         "y": [
          4,
          5,
          10,
          7,
          2
         ],
         "yaxis": "y28"
        },
        {
         "mode": "lines",
         "name": "gene_16690",
         "type": "scatter",
         "x": [
          "KIRC",
          "LUAD",
          "PRAD",
          "BRCA",
          "COAD",
          "gene"
         ],
         "xaxis": "x28",
         "y": [
          1,
          1,
          1,
          4,
          null
         ],
         "yaxis": "y28"
        },
        {
         "mode": "lines",
         "name": "gene_16692",
         "type": "scatter",
         "x": [
          "KIRC",
          "LUAD",
          "PRAD",
          "BRCA",
          "COAD",
          "gene"
         ],
         "xaxis": "x29",
         "y": [
          5,
          5,
          11,
          18,
          2
         ],
         "yaxis": "y29"
        },
        {
         "mode": "lines",
         "name": "gene_16694",
         "type": "scatter",
         "x": [
          "KIRC",
          "LUAD",
          "PRAD",
          "BRCA",
          "COAD",
          "gene"
         ],
         "xaxis": "x29",
         "y": [
          7,
          7,
          7,
          16,
          7
         ],
         "yaxis": "y29"
        },
        {
         "mode": "lines",
         "name": "gene_16696",
         "type": "scatter",
         "x": [
          "KIRC",
          "LUAD",
          "PRAD",
          "BRCA",
          "COAD",
          "gene"
         ],
         "xaxis": "x29",
         "y": [
          20,
          20,
          18,
          36,
          8
         ],
         "yaxis": "y29"
        },
        {
         "mode": "lines",
         "name": "gene_16747",
         "type": "scatter",
         "x": [
          "KIRC",
          "LUAD",
          "PRAD",
          "BRCA",
          "COAD",
          "gene"
         ],
         "xaxis": "x29",
         "y": [
          16,
          null,
          19,
          11,
          null
         ],
         "yaxis": "y29"
        },
        {
         "mode": "lines",
         "name": "gene_16773",
         "type": "scatter",
         "x": [
          "KIRC",
          "LUAD",
          "PRAD",
          "BRCA",
          "COAD",
          "gene"
         ],
         "xaxis": "x29",
         "y": [
          4,
          null,
          6,
          3,
          null
         ],
         "yaxis": "y29"
        },
        {
         "mode": "lines",
         "name": "gene_16784",
         "type": "scatter",
         "x": [
          "KIRC",
          "LUAD",
          "PRAD",
          "BRCA",
          "COAD",
          "gene"
         ],
         "xaxis": "x29",
         "y": [
          null,
          null,
          null,
          1,
          null
         ],
         "yaxis": "y29"
        },
        {
         "mode": "lines",
         "name": "gene_16814",
         "type": "scatter",
         "x": [
          "KIRC",
          "LUAD",
          "PRAD",
          "BRCA",
          "COAD",
          "gene"
         ],
         "xaxis": "x29",
         "y": [
          33,
          25,
          17,
          42,
          7
         ],
         "yaxis": "y29"
        },
        {
         "mode": "lines",
         "name": "gene_16829",
         "type": "scatter",
         "x": [
          "KIRC",
          "LUAD",
          "PRAD",
          "BRCA",
          "COAD",
          "gene"
         ],
         "xaxis": "x29",
         "y": [
          null,
          null,
          1,
          1,
          null
         ],
         "yaxis": "y29"
        },
        {
         "mode": "lines",
         "name": "gene_16887",
         "type": "scatter",
         "x": [
          "KIRC",
          "LUAD",
          "PRAD",
          "BRCA",
          "COAD",
          "gene"
         ],
         "xaxis": "x29",
         "y": [
          null,
          null,
          null,
          1,
          null
         ],
         "yaxis": "y29"
        },
        {
         "mode": "lines",
         "name": "gene_16912",
         "type": "scatter",
         "x": [
          "KIRC",
          "LUAD",
          "PRAD",
          "BRCA",
          "COAD",
          "gene"
         ],
         "xaxis": "x29",
         "y": [
          11,
          1,
          9,
          7,
          2
         ],
         "yaxis": "y29"
        },
        {
         "mode": "lines",
         "name": "gene_16913",
         "type": "scatter",
         "x": [
          "KIRC",
          "LUAD",
          "PRAD",
          "BRCA",
          "COAD",
          "gene"
         ],
         "xaxis": "x29",
         "y": [
          null,
          null,
          1,
          1,
          null
         ],
         "yaxis": "y29"
        },
        {
         "mode": "lines",
         "name": "gene_16951",
         "type": "scatter",
         "x": [
          "KIRC",
          "LUAD",
          "PRAD",
          "BRCA",
          "COAD",
          "gene"
         ],
         "xaxis": "x29",
         "y": [
          10,
          9,
          2,
          19,
          2
         ],
         "yaxis": "y29"
        },
        {
         "mode": "lines",
         "name": "gene_17049",
         "type": "scatter",
         "x": [
          "KIRC",
          "LUAD",
          "PRAD",
          "BRCA",
          "COAD",
          "gene"
         ],
         "xaxis": "x29",
         "y": [
          12,
          37,
          37,
          90,
          20
         ],
         "yaxis": "y29"
        },
        {
         "mode": "lines",
         "name": "gene_17051",
         "type": "scatter",
         "x": [
          "KIRC",
          "LUAD",
          "PRAD",
          "BRCA",
          "COAD",
          "gene"
         ],
         "xaxis": "x29",
         "y": [
          20,
          3,
          2,
          3,
          3
         ],
         "yaxis": "y29"
        },
        {
         "mode": "lines",
         "name": "gene_17055",
         "type": "scatter",
         "x": [
          "KIRC",
          "LUAD",
          "PRAD",
          "BRCA",
          "COAD",
          "gene"
         ],
         "xaxis": "x29",
         "y": [
          4,
          8,
          13,
          8,
          1
         ],
         "yaxis": "y29"
        },
        {
         "mode": "lines",
         "name": "gene_17056",
         "type": "scatter",
         "x": [
          "KIRC",
          "LUAD",
          "PRAD",
          "BRCA",
          "COAD",
          "gene"
         ],
         "xaxis": "x29",
         "y": [
          14,
          16,
          38,
          14,
          2
         ],
         "yaxis": "y29"
        },
        {
         "mode": "lines",
         "name": "gene_17066",
         "type": "scatter",
         "x": [
          "KIRC",
          "LUAD",
          "PRAD",
          "BRCA",
          "COAD",
          "gene"
         ],
         "xaxis": "x29",
         "y": [
          17,
          12,
          33,
          17,
          13
         ],
         "yaxis": "y29"
        },
        {
         "mode": "lines",
         "name": "gene_17067",
         "type": "scatter",
         "x": [
          "KIRC",
          "LUAD",
          "PRAD",
          "BRCA",
          "COAD",
          "gene"
         ],
         "xaxis": "x29",
         "y": [
          6,
          20,
          2,
          40,
          3
         ],
         "yaxis": "y29"
        },
        {
         "mode": "lines",
         "name": "gene_17068",
         "type": "scatter",
         "x": [
          "KIRC",
          "LUAD",
          "PRAD",
          "BRCA",
          "COAD",
          "gene"
         ],
         "xaxis": "x29",
         "y": [
          24,
          28,
          1,
          94,
          5
         ],
         "yaxis": "y29"
        },
        {
         "mode": "lines",
         "name": "gene_17069",
         "type": "scatter",
         "x": [
          "KIRC",
          "LUAD",
          "PRAD",
          "BRCA",
          "COAD",
          "gene"
         ],
         "xaxis": "x29",
         "y": [
          5,
          26,
          2,
          58,
          5
         ],
         "yaxis": "y29"
        },
        {
         "mode": "lines",
         "name": "gene_17070",
         "type": "scatter",
         "x": [
          "KIRC",
          "LUAD",
          "PRAD",
          "BRCA",
          "COAD",
          "gene"
         ],
         "xaxis": "x29",
         "y": [
          5,
          23,
          null,
          26,
          3
         ],
         "yaxis": "y29"
        },
        {
         "mode": "lines",
         "name": "gene_17071",
         "type": "scatter",
         "x": [
          "KIRC",
          "LUAD",
          "PRAD",
          "BRCA",
          "COAD",
          "gene"
         ],
         "xaxis": "x29",
         "y": [
          3,
          3,
          null,
          8,
          null
         ],
         "yaxis": "y29"
        },
        {
         "mode": "lines",
         "name": "gene_17072",
         "type": "scatter",
         "x": [
          "KIRC",
          "LUAD",
          "PRAD",
          "BRCA",
          "COAD",
          "gene"
         ],
         "xaxis": "x29",
         "y": [
          3,
          6,
          null,
          null,
          null
         ],
         "yaxis": "y29"
        },
        {
         "mode": "lines",
         "name": "gene_17073",
         "type": "scatter",
         "x": [
          "KIRC",
          "LUAD",
          "PRAD",
          "BRCA",
          "COAD",
          "gene"
         ],
         "xaxis": "x29",
         "y": [
          24,
          16,
          1,
          55,
          3
         ],
         "yaxis": "y29"
        },
        {
         "mode": "lines",
         "name": "gene_17074",
         "type": "scatter",
         "x": [
          "KIRC",
          "LUAD",
          "PRAD",
          "BRCA",
          "COAD",
          "gene"
         ],
         "xaxis": "x29",
         "y": [
          null,
          3,
          1,
          null,
          1
         ],
         "yaxis": "y29"
        },
        {
         "mode": "lines",
         "name": "gene_17075",
         "type": "scatter",
         "x": [
          "KIRC",
          "LUAD",
          "PRAD",
          "BRCA",
          "COAD",
          "gene"
         ],
         "xaxis": "x29",
         "y": [
          4,
          5,
          null,
          11,
          3
         ],
         "yaxis": "y29"
        },
        {
         "mode": "lines",
         "name": "gene_17081",
         "type": "scatter",
         "x": [
          "KIRC",
          "LUAD",
          "PRAD",
          "BRCA",
          "COAD",
          "gene"
         ],
         "xaxis": "x29",
         "y": [
          16,
          20,
          4,
          21,
          4
         ],
         "yaxis": "y29"
        },
        {
         "mode": "lines",
         "name": "gene_17084",
         "type": "scatter",
         "x": [
          "KIRC",
          "LUAD",
          "PRAD",
          "BRCA",
          "COAD",
          "gene"
         ],
         "xaxis": "x29",
         "y": [
          2,
          5,
          8,
          6,
          null
         ],
         "yaxis": "y29"
        },
        {
         "mode": "lines",
         "name": "gene_17092",
         "type": "scatter",
         "x": [
          "KIRC",
          "LUAD",
          "PRAD",
          "BRCA",
          "COAD",
          "gene"
         ],
         "xaxis": "x29",
         "y": [
          10,
          2,
          10,
          45,
          1
         ],
         "yaxis": "y29"
        },
        {
         "mode": "lines",
         "name": "gene_17115",
         "type": "scatter",
         "x": [
          "KIRC",
          "LUAD",
          "PRAD",
          "BRCA",
          "COAD",
          "gene"
         ],
         "xaxis": "x29",
         "y": [
          24,
          21,
          14,
          37,
          6
         ],
         "yaxis": "y29"
        },
        {
         "mode": "lines",
         "name": "gene_17123",
         "type": "scatter",
         "x": [
          "KIRC",
          "LUAD",
          "PRAD",
          "BRCA",
          "COAD",
          "gene"
         ],
         "xaxis": "x29",
         "y": [
          22,
          23,
          27,
          99,
          5
         ],
         "yaxis": "y29"
        },
        {
         "mode": "lines",
         "name": "gene_17144",
         "type": "scatter",
         "x": [
          "KIRC",
          "LUAD",
          "PRAD",
          "BRCA",
          "COAD",
          "gene"
         ],
         "xaxis": "x29",
         "y": [
          null,
          7,
          1,
          7,
          2
         ],
         "yaxis": "y29"
        },
        {
         "mode": "lines",
         "name": "gene_17150",
         "type": "scatter",
         "x": [
          "KIRC",
          "LUAD",
          "PRAD",
          "BRCA",
          "COAD",
          "gene"
         ],
         "xaxis": "x29",
         "y": [
          52,
          16,
          13,
          23,
          29
         ],
         "yaxis": "y29"
        },
        {
         "mode": "lines",
         "name": "gene_17152",
         "type": "scatter",
         "x": [
          "KIRC",
          "LUAD",
          "PRAD",
          "BRCA",
          "COAD",
          "gene"
         ],
         "xaxis": "x29",
         "y": [
          25,
          24,
          35,
          7,
          3
         ],
         "yaxis": "y29"
        },
        {
         "mode": "lines",
         "name": "gene_17156",
         "type": "scatter",
         "x": [
          "KIRC",
          "LUAD",
          "PRAD",
          "BRCA",
          "COAD",
          "gene"
         ],
         "xaxis": "x29",
         "y": [
          2,
          1,
          25,
          28,
          null
         ],
         "yaxis": "y29"
        },
        {
         "mode": "lines",
         "name": "gene_17157",
         "type": "scatter",
         "x": [
          "KIRC",
          "LUAD",
          "PRAD",
          "BRCA",
          "COAD",
          "gene"
         ],
         "xaxis": "x29",
         "y": [
          1,
          6,
          null,
          1,
          1
         ],
         "yaxis": "y29"
        },
        {
         "mode": "lines",
         "name": "gene_17164",
         "type": "scatter",
         "x": [
          "KIRC",
          "LUAD",
          "PRAD",
          "BRCA",
          "COAD",
          "gene"
         ],
         "xaxis": "x29",
         "y": [
          1,
          1,
          4,
          7,
          2
         ],
         "yaxis": "y29"
        },
        {
         "mode": "lines",
         "name": "gene_17174",
         "type": "scatter",
         "x": [
          "KIRC",
          "LUAD",
          "PRAD",
          "BRCA",
          "COAD",
          "gene"
         ],
         "xaxis": "x29",
         "y": [
          6,
          95,
          1,
          23,
          null
         ],
         "yaxis": "y29"
        },
        {
         "mode": "lines",
         "name": "gene_17185",
         "type": "scatter",
         "x": [
          "KIRC",
          "LUAD",
          "PRAD",
          "BRCA",
          "COAD",
          "gene"
         ],
         "xaxis": "x29",
         "y": [
          8,
          14,
          5,
          16,
          4
         ],
         "yaxis": "y29"
        },
        {
         "mode": "lines",
         "name": "gene_17186",
         "type": "scatter",
         "x": [
          "KIRC",
          "LUAD",
          "PRAD",
          "BRCA",
          "COAD",
          "gene"
         ],
         "xaxis": "x29",
         "y": [
          6,
          50,
          10,
          13,
          13
         ],
         "yaxis": "y29"
        },
        {
         "mode": "lines",
         "name": "gene_17188",
         "type": "scatter",
         "x": [
          "KIRC",
          "LUAD",
          "PRAD",
          "BRCA",
          "COAD",
          "gene"
         ],
         "xaxis": "x29",
         "y": [
          24,
          37,
          28,
          52,
          30
         ],
         "yaxis": "y29"
        },
        {
         "mode": "lines",
         "name": "gene_17189",
         "type": "scatter",
         "x": [
          "KIRC",
          "LUAD",
          "PRAD",
          "BRCA",
          "COAD",
          "gene"
         ],
         "xaxis": "x29",
         "y": [
          13,
          62,
          31,
          72,
          21
         ],
         "yaxis": "y29"
        },
        {
         "mode": "lines",
         "name": "gene_17190",
         "type": "scatter",
         "x": [
          "KIRC",
          "LUAD",
          "PRAD",
          "BRCA",
          "COAD",
          "gene"
         ],
         "xaxis": "x29",
         "y": [
          8,
          33,
          18,
          40,
          6
         ],
         "yaxis": "y29"
        },
        {
         "mode": "lines",
         "name": "gene_17192",
         "type": "scatter",
         "x": [
          "KIRC",
          "LUAD",
          "PRAD",
          "BRCA",
          "COAD",
          "gene"
         ],
         "xaxis": "x29",
         "y": [
          8,
          13,
          4,
          17,
          5
         ],
         "yaxis": "y29"
        },
        {
         "mode": "lines",
         "name": "gene_17199",
         "type": "scatter",
         "x": [
          "KIRC",
          "LUAD",
          "PRAD",
          "BRCA",
          "COAD",
          "gene"
         ],
         "xaxis": "x29",
         "y": [
          5,
          38,
          18,
          37,
          1
         ],
         "yaxis": "y29"
        },
        {
         "mode": "lines",
         "name": "gene_17216",
         "type": "scatter",
         "x": [
          "KIRC",
          "LUAD",
          "PRAD",
          "BRCA",
          "COAD",
          "gene"
         ],
         "xaxis": "x29",
         "y": [
          4,
          13,
          47,
          20,
          20
         ],
         "yaxis": "y29"
        },
        {
         "mode": "lines",
         "name": "gene_17264",
         "type": "scatter",
         "x": [
          "KIRC",
          "LUAD",
          "PRAD",
          "BRCA",
          "COAD",
          "gene"
         ],
         "xaxis": "x29",
         "y": [
          15,
          21,
          59,
          3,
          3
         ],
         "yaxis": "y29"
        },
        {
         "mode": "lines",
         "name": "gene_17290",
         "type": "scatter",
         "x": [
          "KIRC",
          "LUAD",
          "PRAD",
          "BRCA",
          "COAD",
          "gene"
         ],
         "xaxis": "x29",
         "y": [
          19,
          27,
          15,
          31,
          6
         ],
         "yaxis": "y29"
        },
        {
         "mode": "lines",
         "name": "gene_17294",
         "type": "scatter",
         "x": [
          "KIRC",
          "LUAD",
          "PRAD",
          "BRCA",
          "COAD",
          "gene"
         ],
         "xaxis": "x29",
         "y": [
          14,
          32,
          14,
          42,
          11
         ],
         "yaxis": "y29"
        },
        {
         "mode": "lines",
         "name": "gene_17296",
         "type": "scatter",
         "x": [
          "KIRC",
          "LUAD",
          "PRAD",
          "BRCA",
          "COAD",
          "gene"
         ],
         "xaxis": "x29",
         "y": [
          18,
          40,
          19,
          33,
          9
         ],
         "yaxis": "y29"
        },
        {
         "mode": "lines",
         "name": "gene_17297",
         "type": "scatter",
         "x": [
          "KIRC",
          "LUAD",
          "PRAD",
          "BRCA",
          "COAD",
          "gene"
         ],
         "xaxis": "x29",
         "y": [
          6,
          25,
          4,
          23,
          12
         ],
         "yaxis": "y29"
        },
        {
         "mode": "lines",
         "name": "gene_17298",
         "type": "scatter",
         "x": [
          "KIRC",
          "LUAD",
          "PRAD",
          "BRCA",
          "COAD",
          "gene"
         ],
         "xaxis": "x29",
         "y": [
          9,
          57,
          6,
          86,
          32
         ],
         "yaxis": "y29"
        },
        {
         "mode": "lines",
         "name": "gene_17299",
         "type": "scatter",
         "x": [
          "KIRC",
          "LUAD",
          "PRAD",
          "BRCA",
          "COAD",
          "gene"
         ],
         "xaxis": "x30",
         "y": [
          24,
          31,
          6,
          33,
          7
         ],
         "yaxis": "y30"
        },
        {
         "mode": "lines",
         "name": "gene_17301",
         "type": "scatter",
         "x": [
          "KIRC",
          "LUAD",
          "PRAD",
          "BRCA",
          "COAD",
          "gene"
         ],
         "xaxis": "x30",
         "y": [
          9,
          4,
          1,
          5,
          3
         ],
         "yaxis": "y30"
        },
        {
         "mode": "lines",
         "name": "gene_17302",
         "type": "scatter",
         "x": [
          "KIRC",
          "LUAD",
          "PRAD",
          "BRCA",
          "COAD",
          "gene"
         ],
         "xaxis": "x30",
         "y": [
          8,
          8,
          1,
          9,
          17
         ],
         "yaxis": "y30"
        },
        {
         "mode": "lines",
         "name": "gene_17324",
         "type": "scatter",
         "x": [
          "KIRC",
          "LUAD",
          "PRAD",
          "BRCA",
          "COAD",
          "gene"
         ],
         "xaxis": "x30",
         "y": [
          62,
          54,
          27,
          41,
          9
         ],
         "yaxis": "y30"
        },
        {
         "mode": "lines",
         "name": "gene_17330",
         "type": "scatter",
         "x": [
          "KIRC",
          "LUAD",
          "PRAD",
          "BRCA",
          "COAD",
          "gene"
         ],
         "xaxis": "x30",
         "y": [
          22,
          29,
          95,
          10,
          37
         ],
         "yaxis": "y30"
        },
        {
         "mode": "lines",
         "name": "gene_17358",
         "type": "scatter",
         "x": [
          "KIRC",
          "LUAD",
          "PRAD",
          "BRCA",
          "COAD",
          "gene"
         ],
         "xaxis": "x30",
         "y": [
          37,
          15,
          10,
          74,
          2
         ],
         "yaxis": "y30"
        },
        {
         "mode": "lines",
         "name": "gene_17369",
         "type": "scatter",
         "x": [
          "KIRC",
          "LUAD",
          "PRAD",
          "BRCA",
          "COAD",
          "gene"
         ],
         "xaxis": "x30",
         "y": [
          1,
          13,
          11,
          11,
          1
         ],
         "yaxis": "y30"
        },
        {
         "mode": "lines",
         "name": "gene_17478",
         "type": "scatter",
         "x": [
          "KIRC",
          "LUAD",
          "PRAD",
          "BRCA",
          "COAD",
          "gene"
         ],
         "xaxis": "x30",
         "y": [
          7,
          4,
          70,
          18,
          42
         ],
         "yaxis": "y30"
        },
        {
         "mode": "lines",
         "name": "gene_17481",
         "type": "scatter",
         "x": [
          "KIRC",
          "LUAD",
          "PRAD",
          "BRCA",
          "COAD",
          "gene"
         ],
         "xaxis": "x30",
         "y": [
          29,
          3,
          22,
          14,
          52
         ],
         "yaxis": "y30"
        },
        {
         "mode": "lines",
         "name": "gene_17484",
         "type": "scatter",
         "x": [
          "KIRC",
          "LUAD",
          "PRAD",
          "BRCA",
          "COAD",
          "gene"
         ],
         "xaxis": "x30",
         "y": [
          7,
          2,
          10,
          2,
          null
         ],
         "yaxis": "y30"
        },
        {
         "mode": "lines",
         "name": "gene_17496",
         "type": "scatter",
         "x": [
          "KIRC",
          "LUAD",
          "PRAD",
          "BRCA",
          "COAD",
          "gene"
         ],
         "xaxis": "x30",
         "y": [
          null,
          null,
          null,
          1,
          null
         ],
         "yaxis": "y30"
        },
        {
         "mode": "lines",
         "name": "gene_17534",
         "type": "scatter",
         "x": [
          "KIRC",
          "LUAD",
          "PRAD",
          "BRCA",
          "COAD",
          "gene"
         ],
         "xaxis": "x30",
         "y": [
          4,
          8,
          null,
          6,
          3
         ],
         "yaxis": "y30"
        },
        {
         "mode": "lines",
         "name": "gene_17535",
         "type": "scatter",
         "x": [
          "KIRC",
          "LUAD",
          "PRAD",
          "BRCA",
          "COAD",
          "gene"
         ],
         "xaxis": "x30",
         "y": [
          2,
          10,
          10,
          116,
          2
         ],
         "yaxis": "y30"
        },
        {
         "mode": "lines",
         "name": "gene_17574",
         "type": "scatter",
         "x": [
          "KIRC",
          "LUAD",
          "PRAD",
          "BRCA",
          "COAD",
          "gene"
         ],
         "xaxis": "x30",
         "y": [
          34,
          18,
          27,
          81,
          1
         ],
         "yaxis": "y30"
        },
        {
         "mode": "lines",
         "name": "gene_17595",
         "type": "scatter",
         "x": [
          "KIRC",
          "LUAD",
          "PRAD",
          "BRCA",
          "COAD",
          "gene"
         ],
         "xaxis": "x30",
         "y": [
          1,
          null,
          null,
          null,
          null
         ],
         "yaxis": "y30"
        },
        {
         "mode": "lines",
         "name": "gene_17596",
         "type": "scatter",
         "x": [
          "KIRC",
          "LUAD",
          "PRAD",
          "BRCA",
          "COAD",
          "gene"
         ],
         "xaxis": "x30",
         "y": [
          27,
          1,
          3,
          3,
          null
         ],
         "yaxis": "y30"
        },
        {
         "mode": "lines",
         "name": "gene_17597",
         "type": "scatter",
         "x": [
          "KIRC",
          "LUAD",
          "PRAD",
          "BRCA",
          "COAD",
          "gene"
         ],
         "xaxis": "x30",
         "y": [
          48,
          5,
          2,
          3,
          4
         ],
         "yaxis": "y30"
        },
        {
         "mode": "lines",
         "name": "gene_17598",
         "type": "scatter",
         "x": [
          "KIRC",
          "LUAD",
          "PRAD",
          "BRCA",
          "COAD",
          "gene"
         ],
         "xaxis": "x30",
         "y": [
          26,
          1,
          4,
          2,
          1
         ],
         "yaxis": "y30"
        },
        {
         "mode": "lines",
         "name": "gene_17599",
         "type": "scatter",
         "x": [
          "KIRC",
          "LUAD",
          "PRAD",
          "BRCA",
          "COAD",
          "gene"
         ],
         "xaxis": "x30",
         "y": [
          17,
          3,
          null,
          1,
          null
         ],
         "yaxis": "y30"
        },
        {
         "mode": "lines",
         "name": "gene_17663",
         "type": "scatter",
         "x": [
          "KIRC",
          "LUAD",
          "PRAD",
          "BRCA",
          "COAD",
          "gene"
         ],
         "xaxis": "x30",
         "y": [
          4,
          8,
          null,
          6,
          null
         ],
         "yaxis": "y30"
        },
        {
         "mode": "lines",
         "name": "gene_17669",
         "type": "scatter",
         "x": [
          "KIRC",
          "LUAD",
          "PRAD",
          "BRCA",
          "COAD",
          "gene"
         ],
         "xaxis": "x30",
         "y": [
          24,
          17,
          9,
          32,
          8
         ],
         "yaxis": "y30"
        },
        {
         "mode": "lines",
         "name": "gene_17674",
         "type": "scatter",
         "x": [
          "KIRC",
          "LUAD",
          "PRAD",
          "BRCA",
          "COAD",
          "gene"
         ],
         "xaxis": "x30",
         "y": [
          3,
          null,
          null,
          null,
          null
         ],
         "yaxis": "y30"
        },
        {
         "mode": "lines",
         "name": "gene_17681",
         "type": "scatter",
         "x": [
          "KIRC",
          "LUAD",
          "PRAD",
          "BRCA",
          "COAD",
          "gene"
         ],
         "xaxis": "x30",
         "y": [
          7,
          1,
          6,
          11,
          2
         ],
         "yaxis": "y30"
        },
        {
         "mode": "lines",
         "name": "gene_17683",
         "type": "scatter",
         "x": [
          "KIRC",
          "LUAD",
          "PRAD",
          "BRCA",
          "COAD",
          "gene"
         ],
         "xaxis": "x30",
         "y": [
          17,
          26,
          11,
          60,
          7
         ],
         "yaxis": "y30"
        },
        {
         "mode": "lines",
         "name": "gene_17684",
         "type": "scatter",
         "x": [
          "KIRC",
          "LUAD",
          "PRAD",
          "BRCA",
          "COAD",
          "gene"
         ],
         "xaxis": "x30",
         "y": [
          7,
          1,
          4,
          8,
          1
         ],
         "yaxis": "y30"
        },
        {
         "mode": "lines",
         "name": "gene_17691",
         "type": "scatter",
         "x": [
          "KIRC",
          "LUAD",
          "PRAD",
          "BRCA",
          "COAD",
          "gene"
         ],
         "xaxis": "x30",
         "y": [
          24,
          34,
          13,
          53,
          20
         ],
         "yaxis": "y30"
        },
        {
         "mode": "lines",
         "name": "gene_17692",
         "type": "scatter",
         "x": [
          "KIRC",
          "LUAD",
          "PRAD",
          "BRCA",
          "COAD",
          "gene"
         ],
         "xaxis": "x30",
         "y": [
          5,
          1,
          1,
          7,
          null
         ],
         "yaxis": "y30"
        },
        {
         "mode": "lines",
         "name": "gene_17693",
         "type": "scatter",
         "x": [
          "KIRC",
          "LUAD",
          "PRAD",
          "BRCA",
          "COAD",
          "gene"
         ],
         "xaxis": "x30",
         "y": [
          13,
          14,
          10,
          46,
          7
         ],
         "yaxis": "y30"
        },
        {
         "mode": "lines",
         "name": "gene_17694",
         "type": "scatter",
         "x": [
          "KIRC",
          "LUAD",
          "PRAD",
          "BRCA",
          "COAD",
          "gene"
         ],
         "xaxis": "x30",
         "y": [
          17,
          8,
          7,
          40,
          6
         ],
         "yaxis": "y30"
        },
        {
         "mode": "lines",
         "name": "gene_17715",
         "type": "scatter",
         "x": [
          "KIRC",
          "LUAD",
          "PRAD",
          "BRCA",
          "COAD",
          "gene"
         ],
         "xaxis": "x30",
         "y": [
          2,
          null,
          2,
          1,
          1
         ],
         "yaxis": "y30"
        },
        {
         "mode": "lines",
         "name": "gene_17722",
         "type": "scatter",
         "x": [
          "KIRC",
          "LUAD",
          "PRAD",
          "BRCA",
          "COAD",
          "gene"
         ],
         "xaxis": "x30",
         "y": [
          8,
          8,
          3,
          9,
          1
         ],
         "yaxis": "y30"
        },
        {
         "mode": "lines",
         "name": "gene_17730",
         "type": "scatter",
         "x": [
          "KIRC",
          "LUAD",
          "PRAD",
          "BRCA",
          "COAD",
          "gene"
         ],
         "xaxis": "x30",
         "y": [
          47,
          35,
          17,
          79,
          7
         ],
         "yaxis": "y30"
        },
        {
         "mode": "lines",
         "name": "gene_17755",
         "type": "scatter",
         "x": [
          "KIRC",
          "LUAD",
          "PRAD",
          "BRCA",
          "COAD",
          "gene"
         ],
         "xaxis": "x30",
         "y": [
          10,
          19,
          11,
          15,
          13
         ],
         "yaxis": "y30"
        },
        {
         "mode": "lines",
         "name": "gene_17793",
         "type": "scatter",
         "x": [
          "KIRC",
          "LUAD",
          "PRAD",
          "BRCA",
          "COAD",
          "gene"
         ],
         "xaxis": "x30",
         "y": [
          38,
          24,
          16,
          67,
          7
         ],
         "yaxis": "y30"
        },
        {
         "mode": "lines",
         "name": "gene_17802",
         "type": "scatter",
         "x": [
          "KIRC",
          "LUAD",
          "PRAD",
          "BRCA",
          "COAD",
          "gene"
         ],
         "xaxis": "x30",
         "y": [
          37,
          15,
          24,
          74,
          13
         ],
         "yaxis": "y30"
        },
        {
         "mode": "lines",
         "name": "gene_17810",
         "type": "scatter",
         "x": [
          "KIRC",
          "LUAD",
          "PRAD",
          "BRCA",
          "COAD",
          "gene"
         ],
         "xaxis": "x30",
         "y": [
          16,
          17,
          7,
          55,
          4
         ],
         "yaxis": "y30"
        },
        {
         "mode": "lines",
         "name": "gene_17820",
         "type": "scatter",
         "x": [
          "KIRC",
          "LUAD",
          "PRAD",
          "BRCA",
          "COAD",
          "gene"
         ],
         "xaxis": "x30",
         "y": [
          14,
          9,
          3,
          16,
          60
         ],
         "yaxis": "y30"
        },
        {
         "mode": "lines",
         "name": "gene_17822",
         "type": "scatter",
         "x": [
          "KIRC",
          "LUAD",
          "PRAD",
          "BRCA",
          "COAD",
          "gene"
         ],
         "xaxis": "x30",
         "y": [
          17,
          8,
          30,
          14,
          64
         ],
         "yaxis": "y30"
        },
        {
         "mode": "lines",
         "name": "gene_17859",
         "type": "scatter",
         "x": [
          "KIRC",
          "LUAD",
          "PRAD",
          "BRCA",
          "COAD",
          "gene"
         ],
         "xaxis": "x30",
         "y": [
          19,
          1,
          19,
          13,
          1
         ],
         "yaxis": "y30"
        },
        {
         "mode": "lines",
         "name": "gene_17862",
         "type": "scatter",
         "x": [
          "KIRC",
          "LUAD",
          "PRAD",
          "BRCA",
          "COAD",
          "gene"
         ],
         "xaxis": "x30",
         "y": [
          6,
          10,
          5,
          8,
          8
         ],
         "yaxis": "y30"
        },
        {
         "mode": "lines",
         "name": "gene_17888",
         "type": "scatter",
         "x": [
          "KIRC",
          "LUAD",
          "PRAD",
          "BRCA",
          "COAD",
          "gene"
         ],
         "xaxis": "x30",
         "y": [
          15,
          32,
          50,
          55,
          46
         ],
         "yaxis": "y30"
        },
        {
         "mode": "lines",
         "name": "gene_17892",
         "type": "scatter",
         "x": [
          "KIRC",
          "LUAD",
          "PRAD",
          "BRCA",
          "COAD",
          "gene"
         ],
         "xaxis": "x30",
         "y": [
          5,
          4,
          1,
          1,
          4
         ],
         "yaxis": "y30"
        },
        {
         "mode": "lines",
         "name": "gene_17893",
         "type": "scatter",
         "x": [
          "KIRC",
          "LUAD",
          "PRAD",
          "BRCA",
          "COAD",
          "gene"
         ],
         "xaxis": "x30",
         "y": [
          36,
          19,
          9,
          50,
          16
         ],
         "yaxis": "y30"
        },
        {
         "mode": "lines",
         "name": "gene_17899",
         "type": "scatter",
         "x": [
          "KIRC",
          "LUAD",
          "PRAD",
          "BRCA",
          "COAD",
          "gene"
         ],
         "xaxis": "x30",
         "y": [
          null,
          1,
          null,
          null,
          null
         ],
         "yaxis": "y30"
        },
        {
         "mode": "lines",
         "name": "gene_17907",
         "type": "scatter",
         "x": [
          "KIRC",
          "LUAD",
          "PRAD",
          "BRCA",
          "COAD",
          "gene"
         ],
         "xaxis": "x30",
         "y": [
          21,
          76,
          2,
          8,
          1
         ],
         "yaxis": "y30"
        },
        {
         "mode": "lines",
         "name": "gene_17943",
         "type": "scatter",
         "x": [
          "KIRC",
          "LUAD",
          "PRAD",
          "BRCA",
          "COAD",
          "gene"
         ],
         "xaxis": "x30",
         "y": [
          5,
          23,
          9,
          29,
          5
         ],
         "yaxis": "y30"
        },
        {
         "mode": "lines",
         "name": "gene_17944",
         "type": "scatter",
         "x": [
          "KIRC",
          "LUAD",
          "PRAD",
          "BRCA",
          "COAD",
          "gene"
         ],
         "xaxis": "x30",
         "y": [
          1,
          13,
          7,
          9,
          3
         ],
         "yaxis": "y30"
        },
        {
         "mode": "lines",
         "name": "gene_17951",
         "type": "scatter",
         "x": [
          "KIRC",
          "LUAD",
          "PRAD",
          "BRCA",
          "COAD",
          "gene"
         ],
         "xaxis": "x30",
         "y": [
          2,
          3,
          37,
          3,
          9
         ],
         "yaxis": "y30"
        },
        {
         "mode": "lines",
         "name": "gene_18082",
         "type": "scatter",
         "x": [
          "KIRC",
          "LUAD",
          "PRAD",
          "BRCA",
          "COAD",
          "gene"
         ],
         "xaxis": "x30",
         "y": [
          8,
          27,
          11,
          65,
          36
         ],
         "yaxis": "y30"
        },
        {
         "mode": "lines",
         "name": "gene_18119",
         "type": "scatter",
         "x": [
          "KIRC",
          "LUAD",
          "PRAD",
          "BRCA",
          "COAD",
          "gene"
         ],
         "xaxis": "x30",
         "y": [
          11,
          21,
          16,
          13,
          null
         ],
         "yaxis": "y30"
        },
        {
         "mode": "lines",
         "name": "gene_18149",
         "type": "scatter",
         "x": [
          "KIRC",
          "LUAD",
          "PRAD",
          "BRCA",
          "COAD",
          "gene"
         ],
         "xaxis": "x30",
         "y": [
          13,
          71,
          35,
          55,
          16
         ],
         "yaxis": "y30"
        },
        {
         "mode": "lines",
         "name": "gene_18214",
         "type": "scatter",
         "x": [
          "KIRC",
          "LUAD",
          "PRAD",
          "BRCA",
          "COAD",
          "gene"
         ],
         "xaxis": "x30",
         "y": [
          141,
          7,
          4,
          8,
          5
         ],
         "yaxis": "y30"
        },
        {
         "mode": "lines",
         "name": "gene_18252",
         "type": "scatter",
         "x": [
          "KIRC",
          "LUAD",
          "PRAD",
          "BRCA",
          "COAD",
          "gene"
         ],
         "xaxis": "x31",
         "y": [
          7,
          3,
          2,
          8,
          null
         ],
         "yaxis": "y31"
        },
        {
         "mode": "lines",
         "name": "gene_18257",
         "type": "scatter",
         "x": [
          "KIRC",
          "LUAD",
          "PRAD",
          "BRCA",
          "COAD",
          "gene"
         ],
         "xaxis": "x31",
         "y": [
          27,
          22,
          24,
          7,
          4
         ],
         "yaxis": "y31"
        },
        {
         "mode": "lines",
         "name": "gene_18273",
         "type": "scatter",
         "x": [
          "KIRC",
          "LUAD",
          "PRAD",
          "BRCA",
          "COAD",
          "gene"
         ],
         "xaxis": "x31",
         "y": [
          3,
          2,
          null,
          1,
          1
         ],
         "yaxis": "y31"
        },
        {
         "mode": "lines",
         "name": "gene_18286",
         "type": "scatter",
         "x": [
          "KIRC",
          "LUAD",
          "PRAD",
          "BRCA",
          "COAD",
          "gene"
         ],
         "xaxis": "x31",
         "y": [
          1,
          2,
          null,
          8,
          null
         ],
         "yaxis": "y31"
        },
        {
         "mode": "lines",
         "name": "gene_18345",
         "type": "scatter",
         "x": [
          "KIRC",
          "LUAD",
          "PRAD",
          "BRCA",
          "COAD",
          "gene"
         ],
         "xaxis": "x31",
         "y": [
          15,
          94,
          13,
          42,
          12
         ],
         "yaxis": "y31"
        },
        {
         "mode": "lines",
         "name": "gene_18350",
         "type": "scatter",
         "x": [
          "KIRC",
          "LUAD",
          "PRAD",
          "BRCA",
          "COAD",
          "gene"
         ],
         "xaxis": "x31",
         "y": [
          25,
          31,
          37,
          34,
          8
         ],
         "yaxis": "y31"
        },
        {
         "mode": "lines",
         "name": "gene_18356",
         "type": "scatter",
         "x": [
          "KIRC",
          "LUAD",
          "PRAD",
          "BRCA",
          "COAD",
          "gene"
         ],
         "xaxis": "x31",
         "y": [
          12,
          9,
          6,
          17,
          6
         ],
         "yaxis": "y31"
        },
        {
         "mode": "lines",
         "name": "gene_18374",
         "type": "scatter",
         "x": [
          "KIRC",
          "LUAD",
          "PRAD",
          "BRCA",
          "COAD",
          "gene"
         ],
         "xaxis": "x31",
         "y": [
          22,
          6,
          null,
          11,
          null
         ],
         "yaxis": "y31"
        },
        {
         "mode": "lines",
         "name": "gene_18375",
         "type": "scatter",
         "x": [
          "KIRC",
          "LUAD",
          "PRAD",
          "BRCA",
          "COAD",
          "gene"
         ],
         "xaxis": "x31",
         "y": [
          15,
          3,
          13,
          12,
          5
         ],
         "yaxis": "y31"
        },
        {
         "mode": "lines",
         "name": "gene_18466",
         "type": "scatter",
         "x": [
          "KIRC",
          "LUAD",
          "PRAD",
          "BRCA",
          "COAD",
          "gene"
         ],
         "xaxis": "x31",
         "y": [
          2,
          5,
          null,
          18,
          1
         ],
         "yaxis": "y31"
        },
        {
         "mode": "lines",
         "name": "gene_18467",
         "type": "scatter",
         "x": [
          "KIRC",
          "LUAD",
          "PRAD",
          "BRCA",
          "COAD",
          "gene"
         ],
         "xaxis": "x31",
         "y": [
          3,
          1,
          6,
          3,
          1
         ],
         "yaxis": "y31"
        },
        {
         "mode": "lines",
         "name": "gene_18537",
         "type": "scatter",
         "x": [
          "KIRC",
          "LUAD",
          "PRAD",
          "BRCA",
          "COAD",
          "gene"
         ],
         "xaxis": "x31",
         "y": [
          13,
          11,
          10,
          26,
          5
         ],
         "yaxis": "y31"
        },
        {
         "mode": "lines",
         "name": "gene_18540",
         "type": "scatter",
         "x": [
          "KIRC",
          "LUAD",
          "PRAD",
          "BRCA",
          "COAD",
          "gene"
         ],
         "xaxis": "x31",
         "y": [
          13,
          37,
          22,
          70,
          13
         ],
         "yaxis": "y31"
        },
        {
         "mode": "lines",
         "name": "gene_18553",
         "type": "scatter",
         "x": [
          "KIRC",
          "LUAD",
          "PRAD",
          "BRCA",
          "COAD",
          "gene"
         ],
         "xaxis": "x31",
         "y": [
          36,
          10,
          40,
          76,
          16
         ],
         "yaxis": "y31"
        },
        {
         "mode": "lines",
         "name": "gene_18561",
         "type": "scatter",
         "x": [
          "KIRC",
          "LUAD",
          "PRAD",
          "BRCA",
          "COAD",
          "gene"
         ],
         "xaxis": "x31",
         "y": [
          17,
          13,
          14,
          15,
          3
         ],
         "yaxis": "y31"
        },
        {
         "mode": "lines",
         "name": "gene_18617",
         "type": "scatter",
         "x": [
          "KIRC",
          "LUAD",
          "PRAD",
          "BRCA",
          "COAD",
          "gene"
         ],
         "xaxis": "x31",
         "y": [
          2,
          5,
          null,
          null,
          2
         ],
         "yaxis": "y31"
        },
        {
         "mode": "lines",
         "name": "gene_18625",
         "type": "scatter",
         "x": [
          "KIRC",
          "LUAD",
          "PRAD",
          "BRCA",
          "COAD",
          "gene"
         ],
         "xaxis": "x31",
         "y": [
          28,
          18,
          13,
          46,
          2
         ],
         "yaxis": "y31"
        },
        {
         "mode": "lines",
         "name": "gene_18662",
         "type": "scatter",
         "x": [
          "KIRC",
          "LUAD",
          "PRAD",
          "BRCA",
          "COAD",
          "gene"
         ],
         "xaxis": "x31",
         "y": [
          31,
          6,
          8,
          23,
          3
         ],
         "yaxis": "y31"
        },
        {
         "mode": "lines",
         "name": "gene_18663",
         "type": "scatter",
         "x": [
          "KIRC",
          "LUAD",
          "PRAD",
          "BRCA",
          "COAD",
          "gene"
         ],
         "xaxis": "x31",
         "y": [
          9,
          19,
          6,
          58,
          1
         ],
         "yaxis": "y31"
        },
        {
         "mode": "lines",
         "name": "gene_18668",
         "type": "scatter",
         "x": [
          "KIRC",
          "LUAD",
          "PRAD",
          "BRCA",
          "COAD",
          "gene"
         ],
         "xaxis": "x31",
         "y": [
          3,
          19,
          33,
          25,
          1
         ],
         "yaxis": "y31"
        },
        {
         "mode": "lines",
         "name": "gene_18669",
         "type": "scatter",
         "x": [
          "KIRC",
          "LUAD",
          "PRAD",
          "BRCA",
          "COAD",
          "gene"
         ],
         "xaxis": "x31",
         "y": [
          15,
          11,
          103,
          30,
          1
         ],
         "yaxis": "y31"
        },
        {
         "mode": "lines",
         "name": "gene_18670",
         "type": "scatter",
         "x": [
          "KIRC",
          "LUAD",
          "PRAD",
          "BRCA",
          "COAD",
          "gene"
         ],
         "xaxis": "x31",
         "y": [
          20,
          53,
          48,
          35,
          1
         ],
         "yaxis": "y31"
        },
        {
         "mode": "lines",
         "name": "gene_18674",
         "type": "scatter",
         "x": [
          "KIRC",
          "LUAD",
          "PRAD",
          "BRCA",
          "COAD",
          "gene"
         ],
         "xaxis": "x31",
         "y": [
          5,
          57,
          27,
          20,
          1
         ],
         "yaxis": "y31"
        },
        {
         "mode": "lines",
         "name": "gene_18681",
         "type": "scatter",
         "x": [
          "KIRC",
          "LUAD",
          "PRAD",
          "BRCA",
          "COAD",
          "gene"
         ],
         "xaxis": "x31",
         "y": [
          52,
          7,
          3,
          47,
          6
         ],
         "yaxis": "y31"
        },
        {
         "mode": "lines",
         "name": "gene_18682",
         "type": "scatter",
         "x": [
          "KIRC",
          "LUAD",
          "PRAD",
          "BRCA",
          "COAD",
          "gene"
         ],
         "xaxis": "x31",
         "y": [
          6,
          1,
          3,
          1,
          2
         ],
         "yaxis": "y31"
        },
        {
         "mode": "lines",
         "name": "gene_18686",
         "type": "scatter",
         "x": [
          "KIRC",
          "LUAD",
          "PRAD",
          "BRCA",
          "COAD",
          "gene"
         ],
         "xaxis": "x31",
         "y": [
          2,
          5,
          null,
          1,
          null
         ],
         "yaxis": "y31"
        },
        {
         "mode": "lines",
         "name": "gene_18696",
         "type": "scatter",
         "x": [
          "KIRC",
          "LUAD",
          "PRAD",
          "BRCA",
          "COAD",
          "gene"
         ],
         "xaxis": "x31",
         "y": [
          3,
          4,
          9,
          2,
          1
         ],
         "yaxis": "y31"
        },
        {
         "mode": "lines",
         "name": "gene_18701",
         "type": "scatter",
         "x": [
          "KIRC",
          "LUAD",
          "PRAD",
          "BRCA",
          "COAD",
          "gene"
         ],
         "xaxis": "x31",
         "y": [
          46,
          17,
          21,
          40,
          2
         ],
         "yaxis": "y31"
        },
        {
         "mode": "lines",
         "name": "gene_18737",
         "type": "scatter",
         "x": [
          "KIRC",
          "LUAD",
          "PRAD",
          "BRCA",
          "COAD",
          "gene"
         ],
         "xaxis": "x31",
         "y": [
          100,
          4,
          65,
          13,
          7
         ],
         "yaxis": "y31"
        },
        {
         "mode": "lines",
         "name": "gene_18758",
         "type": "scatter",
         "x": [
          "KIRC",
          "LUAD",
          "PRAD",
          "BRCA",
          "COAD",
          "gene"
         ],
         "xaxis": "x31",
         "y": [
          10,
          1,
          3,
          9,
          7
         ],
         "yaxis": "y31"
        },
        {
         "mode": "lines",
         "name": "gene_18774",
         "type": "scatter",
         "x": [
          "KIRC",
          "LUAD",
          "PRAD",
          "BRCA",
          "COAD",
          "gene"
         ],
         "xaxis": "x31",
         "y": [
          17,
          32,
          49,
          51,
          6
         ],
         "yaxis": "y31"
        },
        {
         "mode": "lines",
         "name": "gene_18776",
         "type": "scatter",
         "x": [
          "KIRC",
          "LUAD",
          "PRAD",
          "BRCA",
          "COAD",
          "gene"
         ],
         "xaxis": "x31",
         "y": [
          31,
          12,
          25,
          43,
          4
         ],
         "yaxis": "y31"
        },
        {
         "mode": "lines",
         "name": "gene_18796",
         "type": "scatter",
         "x": [
          "KIRC",
          "LUAD",
          "PRAD",
          "BRCA",
          "COAD",
          "gene"
         ],
         "xaxis": "x31",
         "y": [
          48,
          23,
          36,
          81,
          10
         ],
         "yaxis": "y31"
        },
        {
         "mode": "lines",
         "name": "gene_18814",
         "type": "scatter",
         "x": [
          "KIRC",
          "LUAD",
          "PRAD",
          "BRCA",
          "COAD",
          "gene"
         ],
         "xaxis": "x31",
         "y": [
          1,
          2,
          null,
          2,
          1
         ],
         "yaxis": "y31"
        },
        {
         "mode": "lines",
         "name": "gene_18815",
         "type": "scatter",
         "x": [
          "KIRC",
          "LUAD",
          "PRAD",
          "BRCA",
          "COAD",
          "gene"
         ],
         "xaxis": "x31",
         "y": [
          4,
          4,
          5,
          2,
          1
         ],
         "yaxis": "y31"
        },
        {
         "mode": "lines",
         "name": "gene_18816",
         "type": "scatter",
         "x": [
          "KIRC",
          "LUAD",
          "PRAD",
          "BRCA",
          "COAD",
          "gene"
         ],
         "xaxis": "x31",
         "y": [
          2,
          2,
          null,
          2,
          null
         ],
         "yaxis": "y31"
        },
        {
         "mode": "lines",
         "name": "gene_18817",
         "type": "scatter",
         "x": [
          "KIRC",
          "LUAD",
          "PRAD",
          "BRCA",
          "COAD",
          "gene"
         ],
         "xaxis": "x31",
         "y": [
          null,
          2,
          null,
          1,
          1
         ],
         "yaxis": "y31"
        },
        {
         "mode": "lines",
         "name": "gene_18894",
         "type": "scatter",
         "x": [
          "KIRC",
          "LUAD",
          "PRAD",
          "BRCA",
          "COAD",
          "gene"
         ],
         "xaxis": "x31",
         "y": [
          3,
          30,
          23,
          18,
          2
         ],
         "yaxis": "y31"
        },
        {
         "mode": "lines",
         "name": "gene_18904",
         "type": "scatter",
         "x": [
          "KIRC",
          "LUAD",
          "PRAD",
          "BRCA",
          "COAD",
          "gene"
         ],
         "xaxis": "x31",
         "y": [
          null,
          null,
          null,
          null,
          1
         ],
         "yaxis": "y31"
        },
        {
         "mode": "lines",
         "name": "gene_18907",
         "type": "scatter",
         "x": [
          "KIRC",
          "LUAD",
          "PRAD",
          "BRCA",
          "COAD",
          "gene"
         ],
         "xaxis": "x31",
         "y": [
          null,
          2,
          15,
          null,
          null
         ],
         "yaxis": "y31"
        },
        {
         "mode": "lines",
         "name": "gene_18912",
         "type": "scatter",
         "x": [
          "KIRC",
          "LUAD",
          "PRAD",
          "BRCA",
          "COAD",
          "gene"
         ],
         "xaxis": "x31",
         "y": [
          2,
          2,
          1,
          null,
          9
         ],
         "yaxis": "y31"
        },
        {
         "mode": "lines",
         "name": "gene_18913",
         "type": "scatter",
         "x": [
          "KIRC",
          "LUAD",
          "PRAD",
          "BRCA",
          "COAD",
          "gene"
         ],
         "xaxis": "x31",
         "y": [
          2,
          null,
          null,
          null,
          null
         ],
         "yaxis": "y31"
        },
        {
         "mode": "lines",
         "name": "gene_18916",
         "type": "scatter",
         "x": [
          "KIRC",
          "LUAD",
          "PRAD",
          "BRCA",
          "COAD",
          "gene"
         ],
         "xaxis": "x31",
         "y": [
          null,
          null,
          2,
          null,
          null
         ],
         "yaxis": "y31"
        },
        {
         "mode": "lines",
         "name": "gene_18917",
         "type": "scatter",
         "x": [
          "KIRC",
          "LUAD",
          "PRAD",
          "BRCA",
          "COAD",
          "gene"
         ],
         "xaxis": "x31",
         "y": [
          10,
          21,
          12,
          1,
          32
         ],
         "yaxis": "y31"
        },
        {
         "mode": "lines",
         "name": "gene_18918",
         "type": "scatter",
         "x": [
          "KIRC",
          "LUAD",
          "PRAD",
          "BRCA",
          "COAD",
          "gene"
         ],
         "xaxis": "x31",
         "y": [
          null,
          null,
          1,
          null,
          null
         ],
         "yaxis": "y31"
        },
        {
         "mode": "lines",
         "name": "gene_18919",
         "type": "scatter",
         "x": [
          "KIRC",
          "LUAD",
          "PRAD",
          "BRCA",
          "COAD",
          "gene"
         ],
         "xaxis": "x31",
         "y": [
          59,
          15,
          3,
          1,
          4
         ],
         "yaxis": "y31"
        },
        {
         "mode": "lines",
         "name": "gene_18920",
         "type": "scatter",
         "x": [
          "KIRC",
          "LUAD",
          "PRAD",
          "BRCA",
          "COAD",
          "gene"
         ],
         "xaxis": "x31",
         "y": [
          3,
          2,
          4,
          1,
          null
         ],
         "yaxis": "y31"
        },
        {
         "mode": "lines",
         "name": "gene_18921",
         "type": "scatter",
         "x": [
          "KIRC",
          "LUAD",
          "PRAD",
          "BRCA",
          "COAD",
          "gene"
         ],
         "xaxis": "x31",
         "y": [
          6,
          1,
          8,
          null,
          2
         ],
         "yaxis": "y31"
        },
        {
         "mode": "lines",
         "name": "gene_18922",
         "type": "scatter",
         "x": [
          "KIRC",
          "LUAD",
          "PRAD",
          "BRCA",
          "COAD",
          "gene"
         ],
         "xaxis": "x31",
         "y": [
          3,
          null,
          6,
          null,
          3
         ],
         "yaxis": "y31"
        },
        {
         "mode": "lines",
         "name": "gene_18923",
         "type": "scatter",
         "x": [
          "KIRC",
          "LUAD",
          "PRAD",
          "BRCA",
          "COAD",
          "gene"
         ],
         "xaxis": "x31",
         "y": [
          1,
          4,
          1,
          null,
          18
         ],
         "yaxis": "y31"
        },
        {
         "mode": "lines",
         "name": "gene_18924",
         "type": "scatter",
         "x": [
          "KIRC",
          "LUAD",
          "PRAD",
          "BRCA",
          "COAD",
          "gene"
         ],
         "xaxis": "x31",
         "y": [
          1,
          1,
          null,
          1,
          null
         ],
         "yaxis": "y31"
        },
        {
         "mode": "lines",
         "name": "gene_18925",
         "type": "scatter",
         "x": [
          "KIRC",
          "LUAD",
          "PRAD",
          "BRCA",
          "COAD",
          "gene"
         ],
         "xaxis": "x31",
         "y": [
          8,
          9,
          4,
          1,
          null
         ],
         "yaxis": "y31"
        },
        {
         "mode": "lines",
         "name": "gene_18992",
         "type": "scatter",
         "x": [
          "KIRC",
          "LUAD",
          "PRAD",
          "BRCA",
          "COAD",
          "gene"
         ],
         "xaxis": "x32",
         "y": [
          null,
          1,
          null,
          null,
          null
         ],
         "yaxis": "y32"
        },
        {
         "mode": "lines",
         "name": "gene_19013",
         "type": "scatter",
         "x": [
          "KIRC",
          "LUAD",
          "PRAD",
          "BRCA",
          "COAD",
          "gene"
         ],
         "xaxis": "x32",
         "y": [
          11,
          84,
          39,
          32,
          26
         ],
         "yaxis": "y32"
        },
        {
         "mode": "lines",
         "name": "gene_19045",
         "type": "scatter",
         "x": [
          "KIRC",
          "LUAD",
          "PRAD",
          "BRCA",
          "COAD",
          "gene"
         ],
         "xaxis": "x32",
         "y": [
          6,
          3,
          3,
          9,
          6
         ],
         "yaxis": "y32"
        },
        {
         "mode": "lines",
         "name": "gene_19071",
         "type": "scatter",
         "x": [
          "KIRC",
          "LUAD",
          "PRAD",
          "BRCA",
          "COAD",
          "gene"
         ],
         "xaxis": "x32",
         "y": [
          27,
          28,
          1,
          22,
          4
         ],
         "yaxis": "y32"
        },
        {
         "mode": "lines",
         "name": "gene_19095",
         "type": "scatter",
         "x": [
          "KIRC",
          "LUAD",
          "PRAD",
          "BRCA",
          "COAD",
          "gene"
         ],
         "xaxis": "x32",
         "y": [
          20,
          11,
          11,
          38,
          1
         ],
         "yaxis": "y32"
        },
        {
         "mode": "lines",
         "name": "gene_19106",
         "type": "scatter",
         "x": [
          "KIRC",
          "LUAD",
          "PRAD",
          "BRCA",
          "COAD",
          "gene"
         ],
         "xaxis": "x32",
         "y": [
          4,
          7,
          2,
          6,
          2
         ],
         "yaxis": "y32"
        },
        {
         "mode": "lines",
         "name": "gene_19125",
         "type": "scatter",
         "x": [
          "KIRC",
          "LUAD",
          "PRAD",
          "BRCA",
          "COAD",
          "gene"
         ],
         "xaxis": "x32",
         "y": [
          8,
          11,
          6,
          25,
          null
         ],
         "yaxis": "y32"
        },
        {
         "mode": "lines",
         "name": "gene_19146",
         "type": "scatter",
         "x": [
          "KIRC",
          "LUAD",
          "PRAD",
          "BRCA",
          "COAD",
          "gene"
         ],
         "xaxis": "x32",
         "y": [
          103,
          28,
          33,
          13,
          12
         ],
         "yaxis": "y32"
        },
        {
         "mode": "lines",
         "name": "gene_19147",
         "type": "scatter",
         "x": [
          "KIRC",
          "LUAD",
          "PRAD",
          "BRCA",
          "COAD",
          "gene"
         ],
         "xaxis": "x32",
         "y": [
          74,
          27,
          33,
          6,
          13
         ],
         "yaxis": "y32"
        },
        {
         "mode": "lines",
         "name": "gene_19149",
         "type": "scatter",
         "x": [
          "KIRC",
          "LUAD",
          "PRAD",
          "BRCA",
          "COAD",
          "gene"
         ],
         "xaxis": "x32",
         "y": [
          105,
          24,
          11,
          40,
          16
         ],
         "yaxis": "y32"
        },
        {
         "mode": "lines",
         "name": "gene_19196",
         "type": "scatter",
         "x": [
          "KIRC",
          "LUAD",
          "PRAD",
          "BRCA",
          "COAD",
          "gene"
         ],
         "xaxis": "x32",
         "y": [
          12,
          null,
          8,
          null,
          4
         ],
         "yaxis": "y32"
        },
        {
         "mode": "lines",
         "name": "gene_19250",
         "type": "scatter",
         "x": [
          "KIRC",
          "LUAD",
          "PRAD",
          "BRCA",
          "COAD",
          "gene"
         ],
         "xaxis": "x32",
         "y": [
          10,
          1,
          5,
          13,
          1
         ],
         "yaxis": "y32"
        },
        {
         "mode": "lines",
         "name": "gene_19251",
         "type": "scatter",
         "x": [
          "KIRC",
          "LUAD",
          "PRAD",
          "BRCA",
          "COAD",
          "gene"
         ],
         "xaxis": "x32",
         "y": [
          13,
          5,
          8,
          27,
          4
         ],
         "yaxis": "y32"
        },
        {
         "mode": "lines",
         "name": "gene_19263",
         "type": "scatter",
         "x": [
          "KIRC",
          "LUAD",
          "PRAD",
          "BRCA",
          "COAD",
          "gene"
         ],
         "xaxis": "x32",
         "y": [
          27,
          7,
          4,
          15,
          1
         ],
         "yaxis": "y32"
        },
        {
         "mode": "lines",
         "name": "gene_19286",
         "type": "scatter",
         "x": [
          "KIRC",
          "LUAD",
          "PRAD",
          "BRCA",
          "COAD",
          "gene"
         ],
         "xaxis": "x32",
         "y": [
          38,
          17,
          43,
          72,
          7
         ],
         "yaxis": "y32"
        },
        {
         "mode": "lines",
         "name": "gene_19348",
         "type": "scatter",
         "x": [
          "KIRC",
          "LUAD",
          "PRAD",
          "BRCA",
          "COAD",
          "gene"
         ],
         "xaxis": "x32",
         "y": [
          6,
          13,
          10,
          17,
          3
         ],
         "yaxis": "y32"
        },
        {
         "mode": "lines",
         "name": "gene_19352",
         "type": "scatter",
         "x": [
          "KIRC",
          "LUAD",
          "PRAD",
          "BRCA",
          "COAD",
          "gene"
         ],
         "xaxis": "x32",
         "y": [
          3,
          8,
          2,
          3,
          1
         ],
         "yaxis": "y32"
        },
        {
         "mode": "lines",
         "name": "gene_19360",
         "type": "scatter",
         "x": [
          "KIRC",
          "LUAD",
          "PRAD",
          "BRCA",
          "COAD",
          "gene"
         ],
         "xaxis": "x32",
         "y": [
          7,
          5,
          null,
          8,
          1
         ],
         "yaxis": "y32"
        },
        {
         "mode": "lines",
         "name": "gene_19361",
         "type": "scatter",
         "x": [
          "KIRC",
          "LUAD",
          "PRAD",
          "BRCA",
          "COAD",
          "gene"
         ],
         "xaxis": "x32",
         "y": [
          31,
          3,
          14,
          29,
          2
         ],
         "yaxis": "y32"
        },
        {
         "mode": "lines",
         "name": "gene_19368",
         "type": "scatter",
         "x": [
          "KIRC",
          "LUAD",
          "PRAD",
          "BRCA",
          "COAD",
          "gene"
         ],
         "xaxis": "x32",
         "y": [
          20,
          38,
          26,
          81,
          12
         ],
         "yaxis": "y32"
        },
        {
         "mode": "lines",
         "name": "gene_19388",
         "type": "scatter",
         "x": [
          "KIRC",
          "LUAD",
          "PRAD",
          "BRCA",
          "COAD",
          "gene"
         ],
         "xaxis": "x32",
         "y": [
          13,
          17,
          59,
          27,
          2
         ],
         "yaxis": "y32"
        },
        {
         "mode": "lines",
         "name": "gene_19389",
         "type": "scatter",
         "x": [
          "KIRC",
          "LUAD",
          "PRAD",
          "BRCA",
          "COAD",
          "gene"
         ],
         "xaxis": "x32",
         "y": [
          4,
          3,
          3,
          2,
          null
         ],
         "yaxis": "y32"
        },
        {
         "mode": "lines",
         "name": "gene_19396",
         "type": "scatter",
         "x": [
          "KIRC",
          "LUAD",
          "PRAD",
          "BRCA",
          "COAD",
          "gene"
         ],
         "xaxis": "x32",
         "y": [
          6,
          12,
          7,
          15,
          6
         ],
         "yaxis": "y32"
        },
        {
         "mode": "lines",
         "name": "gene_19441",
         "type": "scatter",
         "x": [
          "KIRC",
          "LUAD",
          "PRAD",
          "BRCA",
          "COAD",
          "gene"
         ],
         "xaxis": "x32",
         "y": [
          27,
          9,
          8,
          21,
          27
         ],
         "yaxis": "y32"
        },
        {
         "mode": "lines",
         "name": "gene_19460",
         "type": "scatter",
         "x": [
          "KIRC",
          "LUAD",
          "PRAD",
          "BRCA",
          "COAD",
          "gene"
         ],
         "xaxis": "x32",
         "y": [
          46,
          10,
          14,
          24,
          1
         ],
         "yaxis": "y32"
        },
        {
         "mode": "lines",
         "name": "gene_19571",
         "type": "scatter",
         "x": [
          "KIRC",
          "LUAD",
          "PRAD",
          "BRCA",
          "COAD",
          "gene"
         ],
         "xaxis": "x32",
         "y": [
          10,
          60,
          10,
          65,
          53
         ],
         "yaxis": "y32"
        },
        {
         "mode": "lines",
         "name": "gene_19573",
         "type": "scatter",
         "x": [
          "KIRC",
          "LUAD",
          "PRAD",
          "BRCA",
          "COAD",
          "gene"
         ],
         "xaxis": "x32",
         "y": [
          11,
          21,
          2,
          12,
          6
         ],
         "yaxis": "y32"
        },
        {
         "mode": "lines",
         "name": "gene_19581",
         "type": "scatter",
         "x": [
          "KIRC",
          "LUAD",
          "PRAD",
          "BRCA",
          "COAD",
          "gene"
         ],
         "xaxis": "x32",
         "y": [
          12,
          20,
          9,
          20,
          6
         ],
         "yaxis": "y32"
        },
        {
         "mode": "lines",
         "name": "gene_19582",
         "type": "scatter",
         "x": [
          "KIRC",
          "LUAD",
          "PRAD",
          "BRCA",
          "COAD",
          "gene"
         ],
         "xaxis": "x32",
         "y": [
          null,
          null,
          null,
          1,
          8
         ],
         "yaxis": "y32"
        },
        {
         "mode": "lines",
         "name": "gene_19624",
         "type": "scatter",
         "x": [
          "KIRC",
          "LUAD",
          "PRAD",
          "BRCA",
          "COAD",
          "gene"
         ],
         "xaxis": "x32",
         "y": [
          26,
          7,
          15,
          32,
          null
         ],
         "yaxis": "y32"
        },
        {
         "mode": "lines",
         "name": "gene_19649",
         "type": "scatter",
         "x": [
          "KIRC",
          "LUAD",
          "PRAD",
          "BRCA",
          "COAD",
          "gene"
         ],
         "xaxis": "x32",
         "y": [
          7,
          92,
          3,
          33,
          16
         ],
         "yaxis": "y32"
        },
        {
         "mode": "lines",
         "name": "gene_19650",
         "type": "scatter",
         "x": [
          "KIRC",
          "LUAD",
          "PRAD",
          "BRCA",
          "COAD",
          "gene"
         ],
         "xaxis": "x32",
         "y": [
          23,
          32,
          1,
          24,
          7
         ],
         "yaxis": "y32"
        },
        {
         "mode": "lines",
         "name": "gene_19651",
         "type": "scatter",
         "x": [
          "KIRC",
          "LUAD",
          "PRAD",
          "BRCA",
          "COAD",
          "gene"
         ],
         "xaxis": "x32",
         "y": [
          1,
          4,
          null,
          12,
          2
         ],
         "yaxis": "y32"
        },
        {
         "mode": "lines",
         "name": "gene_19670",
         "type": "scatter",
         "x": [
          "KIRC",
          "LUAD",
          "PRAD",
          "BRCA",
          "COAD",
          "gene"
         ],
         "xaxis": "x32",
         "y": [
          13,
          12,
          64,
          2,
          1
         ],
         "yaxis": "y32"
        },
        {
         "mode": "lines",
         "name": "gene_19749",
         "type": "scatter",
         "x": [
          "KIRC",
          "LUAD",
          "PRAD",
          "BRCA",
          "COAD",
          "gene"
         ],
         "xaxis": "x32",
         "y": [
          14,
          46,
          19,
          33,
          21
         ],
         "yaxis": "y32"
        },
        {
         "mode": "lines",
         "name": "gene_19819",
         "type": "scatter",
         "x": [
          "KIRC",
          "LUAD",
          "PRAD",
          "BRCA",
          "COAD",
          "gene"
         ],
         "xaxis": "x32",
         "y": [
          7,
          null,
          2,
          4,
          null
         ],
         "yaxis": "y32"
        },
        {
         "mode": "lines",
         "name": "gene_19928",
         "type": "scatter",
         "x": [
          "KIRC",
          "LUAD",
          "PRAD",
          "BRCA",
          "COAD",
          "gene"
         ],
         "xaxis": "x32",
         "y": [
          10,
          4,
          6,
          4,
          1
         ],
         "yaxis": "y32"
        },
        {
         "mode": "lines",
         "name": "gene_20184",
         "type": "scatter",
         "x": [
          "KIRC",
          "LUAD",
          "PRAD",
          "BRCA",
          "COAD",
          "gene"
         ],
         "xaxis": "x32",
         "y": [
          13,
          23,
          null,
          20,
          9
         ],
         "yaxis": "y32"
        },
        {
         "mode": "lines",
         "name": "gene_20316",
         "type": "scatter",
         "x": [
          "KIRC",
          "LUAD",
          "PRAD",
          "BRCA",
          "COAD",
          "gene"
         ],
         "xaxis": "x32",
         "y": [
          20,
          10,
          6,
          20,
          1
         ],
         "yaxis": "y32"
        },
        {
         "mode": "lines",
         "name": "gene_20341",
         "type": "scatter",
         "x": [
          "KIRC",
          "LUAD",
          "PRAD",
          "BRCA",
          "COAD",
          "gene"
         ],
         "xaxis": "x32",
         "y": [
          5,
          22,
          2,
          18,
          4
         ],
         "yaxis": "y32"
        },
        {
         "mode": "lines",
         "name": "gene_20363",
         "type": "scatter",
         "x": [
          "KIRC",
          "LUAD",
          "PRAD",
          "BRCA",
          "COAD",
          "gene"
         ],
         "xaxis": "x32",
         "y": [
          33,
          11,
          40,
          25,
          8
         ],
         "yaxis": "y32"
        },
        {
         "mode": "lines",
         "name": "gene_20373",
         "type": "scatter",
         "x": [
          "KIRC",
          "LUAD",
          "PRAD",
          "BRCA",
          "COAD",
          "gene"
         ],
         "xaxis": "x32",
         "y": [
          31,
          33,
          22,
          76,
          6
         ],
         "yaxis": "y32"
        },
        {
         "mode": "lines",
         "name": "gene_20381",
         "type": "scatter",
         "x": [
          "KIRC",
          "LUAD",
          "PRAD",
          "BRCA",
          "COAD",
          "gene"
         ],
         "xaxis": "x32",
         "y": [
          6,
          1,
          4,
          5,
          null
         ],
         "yaxis": "y32"
        },
        {
         "mode": "lines",
         "name": "gene_20483",
         "type": "scatter",
         "x": [
          "KIRC",
          "LUAD",
          "PRAD",
          "BRCA",
          "COAD",
          "gene"
         ],
         "xaxis": "x32",
         "y": [
          14,
          5,
          5,
          12,
          null
         ],
         "yaxis": "y32"
        },
        {
         "mode": "lines",
         "name": "gene_20487",
         "type": "scatter",
         "x": [
          "KIRC",
          "LUAD",
          "PRAD",
          "BRCA",
          "COAD",
          "gene"
         ],
         "xaxis": "x32",
         "y": [
          3,
          3,
          2,
          67,
          6
         ],
         "yaxis": "y32"
        },
        {
         "mode": "lines",
         "name": "gene_20489",
         "type": "scatter",
         "x": [
          "KIRC",
          "LUAD",
          "PRAD",
          "BRCA",
          "COAD",
          "gene"
         ],
         "xaxis": "x32",
         "y": [
          21,
          21,
          43,
          48,
          12
         ],
         "yaxis": "y32"
        },
        {
         "mode": "lines",
         "name": "gene_20511",
         "type": "scatter",
         "x": [
          "KIRC",
          "LUAD",
          "PRAD",
          "BRCA",
          "COAD",
          "gene"
         ],
         "xaxis": "x32",
         "y": [
          12,
          16,
          1,
          26,
          3
         ],
         "yaxis": "y32"
        },
        {
         "mode": "lines",
         "name": "gene_20530",
         "type": "scatter",
         "x": [
          "KIRC",
          "LUAD",
          "PRAD",
          "BRCA",
          "COAD",
          "gene"
         ],
         "xaxis": "x32",
         "y": [
          22,
          32,
          10,
          29,
          5
         ],
         "yaxis": "y32"
        }
       ],
       "layout": {
        "height": 1200,
        "template": {
         "data": {
          "bar": [
           {
            "error_x": {
             "color": "#2a3f5f"
            },
            "error_y": {
             "color": "#2a3f5f"
            },
            "marker": {
             "line": {
              "color": "#E5ECF6",
              "width": 0.5
             },
             "pattern": {
              "fillmode": "overlay",
              "size": 10,
              "solidity": 0.2
             }
            },
            "type": "bar"
           }
          ],
          "barpolar": [
           {
            "marker": {
             "line": {
              "color": "#E5ECF6",
              "width": 0.5
             },
             "pattern": {
              "fillmode": "overlay",
              "size": 10,
              "solidity": 0.2
             }
            },
            "type": "barpolar"
           }
          ],
          "carpet": [
           {
            "aaxis": {
             "endlinecolor": "#2a3f5f",
             "gridcolor": "white",
             "linecolor": "white",
             "minorgridcolor": "white",
             "startlinecolor": "#2a3f5f"
            },
            "baxis": {
             "endlinecolor": "#2a3f5f",
             "gridcolor": "white",
             "linecolor": "white",
             "minorgridcolor": "white",
             "startlinecolor": "#2a3f5f"
            },
            "type": "carpet"
           }
          ],
          "choropleth": [
           {
            "colorbar": {
             "outlinewidth": 0,
             "ticks": ""
            },
            "type": "choropleth"
           }
          ],
          "contour": [
           {
            "colorbar": {
             "outlinewidth": 0,
             "ticks": ""
            },
            "colorscale": [
             [
              0,
              "#0d0887"
             ],
             [
              0.1111111111111111,
              "#46039f"
             ],
             [
              0.2222222222222222,
              "#7201a8"
             ],
             [
              0.3333333333333333,
              "#9c179e"
             ],
             [
              0.4444444444444444,
              "#bd3786"
             ],
             [
              0.5555555555555556,
              "#d8576b"
             ],
             [
              0.6666666666666666,
              "#ed7953"
             ],
             [
              0.7777777777777778,
              "#fb9f3a"
             ],
             [
              0.8888888888888888,
              "#fdca26"
             ],
             [
              1,
              "#f0f921"
             ]
            ],
            "type": "contour"
           }
          ],
          "contourcarpet": [
           {
            "colorbar": {
             "outlinewidth": 0,
             "ticks": ""
            },
            "type": "contourcarpet"
           }
          ],
          "heatmap": [
           {
            "colorbar": {
             "outlinewidth": 0,
             "ticks": ""
            },
            "colorscale": [
             [
              0,
              "#0d0887"
             ],
             [
              0.1111111111111111,
              "#46039f"
             ],
             [
              0.2222222222222222,
              "#7201a8"
             ],
             [
              0.3333333333333333,
              "#9c179e"
             ],
             [
              0.4444444444444444,
              "#bd3786"
             ],
             [
              0.5555555555555556,
              "#d8576b"
             ],
             [
              0.6666666666666666,
              "#ed7953"
             ],
             [
              0.7777777777777778,
              "#fb9f3a"
             ],
             [
              0.8888888888888888,
              "#fdca26"
             ],
             [
              1,
              "#f0f921"
             ]
            ],
            "type": "heatmap"
           }
          ],
          "histogram": [
           {
            "marker": {
             "pattern": {
              "fillmode": "overlay",
              "size": 10,
              "solidity": 0.2
             }
            },
            "type": "histogram"
           }
          ],
          "histogram2d": [
           {
            "colorbar": {
             "outlinewidth": 0,
             "ticks": ""
            },
            "colorscale": [
             [
              0,
              "#0d0887"
             ],
             [
              0.1111111111111111,
              "#46039f"
             ],
             [
              0.2222222222222222,
              "#7201a8"
             ],
             [
              0.3333333333333333,
              "#9c179e"
             ],
             [
              0.4444444444444444,
              "#bd3786"
             ],
             [
              0.5555555555555556,
              "#d8576b"
             ],
             [
              0.6666666666666666,
              "#ed7953"
             ],
             [
              0.7777777777777778,
              "#fb9f3a"
             ],
             [
              0.8888888888888888,
              "#fdca26"
             ],
             [
              1,
              "#f0f921"
             ]
            ],
            "type": "histogram2d"
           }
          ],
          "histogram2dcontour": [
           {
            "colorbar": {
             "outlinewidth": 0,
             "ticks": ""
            },
            "colorscale": [
             [
              0,
              "#0d0887"
             ],
             [
              0.1111111111111111,
              "#46039f"
             ],
             [
              0.2222222222222222,
              "#7201a8"
             ],
             [
              0.3333333333333333,
              "#9c179e"
             ],
             [
              0.4444444444444444,
              "#bd3786"
             ],
             [
              0.5555555555555556,
              "#d8576b"
             ],
             [
              0.6666666666666666,
              "#ed7953"
             ],
             [
              0.7777777777777778,
              "#fb9f3a"
             ],
             [
              0.8888888888888888,
              "#fdca26"
             ],
             [
              1,
              "#f0f921"
             ]
            ],
            "type": "histogram2dcontour"
           }
          ],
          "mesh3d": [
           {
            "colorbar": {
             "outlinewidth": 0,
             "ticks": ""
            },
            "type": "mesh3d"
           }
          ],
          "parcoords": [
           {
            "line": {
             "colorbar": {
              "outlinewidth": 0,
              "ticks": ""
             }
            },
            "type": "parcoords"
           }
          ],
          "pie": [
           {
            "automargin": true,
            "type": "pie"
           }
          ],
          "scatter": [
           {
            "fillpattern": {
             "fillmode": "overlay",
             "size": 10,
             "solidity": 0.2
            },
            "type": "scatter"
           }
          ],
          "scatter3d": [
           {
            "line": {
             "colorbar": {
              "outlinewidth": 0,
              "ticks": ""
             }
            },
            "marker": {
             "colorbar": {
              "outlinewidth": 0,
              "ticks": ""
             }
            },
            "type": "scatter3d"
           }
          ],
          "scattercarpet": [
           {
            "marker": {
             "colorbar": {
              "outlinewidth": 0,
              "ticks": ""
             }
            },
            "type": "scattercarpet"
           }
          ],
          "scattergeo": [
           {
            "marker": {
             "colorbar": {
              "outlinewidth": 0,
              "ticks": ""
             }
            },
            "type": "scattergeo"
           }
          ],
          "scattergl": [
           {
            "marker": {
             "colorbar": {
              "outlinewidth": 0,
              "ticks": ""
             }
            },
            "type": "scattergl"
           }
          ],
          "scattermap": [
           {
            "marker": {
             "colorbar": {
              "outlinewidth": 0,
              "ticks": ""
             }
            },
            "type": "scattermap"
           }
          ],
          "scattermapbox": [
           {
            "marker": {
             "colorbar": {
              "outlinewidth": 0,
              "ticks": ""
             }
            },
            "type": "scattermapbox"
           }
          ],
          "scatterpolar": [
           {
            "marker": {
             "colorbar": {
              "outlinewidth": 0,
              "ticks": ""
             }
            },
            "type": "scatterpolar"
           }
          ],
          "scatterpolargl": [
           {
            "marker": {
             "colorbar": {
              "outlinewidth": 0,
              "ticks": ""
             }
            },
            "type": "scatterpolargl"
           }
          ],
          "scatterternary": [
           {
            "marker": {
             "colorbar": {
              "outlinewidth": 0,
              "ticks": ""
             }
            },
            "type": "scatterternary"
           }
          ],
          "surface": [
           {
            "colorbar": {
             "outlinewidth": 0,
             "ticks": ""
            },
            "colorscale": [
             [
              0,
              "#0d0887"
             ],
             [
              0.1111111111111111,
              "#46039f"
             ],
             [
              0.2222222222222222,
              "#7201a8"
             ],
             [
              0.3333333333333333,
              "#9c179e"
             ],
             [
              0.4444444444444444,
              "#bd3786"
             ],
             [
              0.5555555555555556,
              "#d8576b"
             ],
             [
              0.6666666666666666,
              "#ed7953"
             ],
             [
              0.7777777777777778,
              "#fb9f3a"
             ],
             [
              0.8888888888888888,
              "#fdca26"
             ],
             [
              1,
              "#f0f921"
             ]
            ],
            "type": "surface"
           }
          ],
          "table": [
           {
            "cells": {
             "fill": {
              "color": "#EBF0F8"
             },
             "line": {
              "color": "white"
             }
            },
            "header": {
             "fill": {
              "color": "#C8D4E3"
             },
             "line": {
              "color": "white"
             }
            },
            "type": "table"
           }
          ]
         },
         "layout": {
          "annotationdefaults": {
           "arrowcolor": "#2a3f5f",
           "arrowhead": 0,
           "arrowwidth": 1
          },
          "autotypenumbers": "strict",
          "coloraxis": {
           "colorbar": {
            "outlinewidth": 0,
            "ticks": ""
           }
          },
          "colorscale": {
           "diverging": [
            [
             0,
             "#8e0152"
            ],
            [
             0.1,
             "#c51b7d"
            ],
            [
             0.2,
             "#de77ae"
            ],
            [
             0.3,
             "#f1b6da"
            ],
            [
             0.4,
             "#fde0ef"
            ],
            [
             0.5,
             "#f7f7f7"
            ],
            [
             0.6,
             "#e6f5d0"
            ],
            [
             0.7,
             "#b8e186"
            ],
            [
             0.8,
             "#7fbc41"
            ],
            [
             0.9,
             "#4d9221"
            ],
            [
             1,
             "#276419"
            ]
           ],
           "sequential": [
            [
             0,
             "#0d0887"
            ],
            [
             0.1111111111111111,
             "#46039f"
            ],
            [
             0.2222222222222222,
             "#7201a8"
            ],
            [
             0.3333333333333333,
             "#9c179e"
            ],
            [
             0.4444444444444444,
             "#bd3786"
            ],
            [
             0.5555555555555556,
             "#d8576b"
            ],
            [
             0.6666666666666666,
             "#ed7953"
            ],
            [
             0.7777777777777778,
             "#fb9f3a"
            ],
            [
             0.8888888888888888,
             "#fdca26"
            ],
            [
             1,
             "#f0f921"
            ]
           ],
           "sequentialminus": [
            [
             0,
             "#0d0887"
            ],
            [
             0.1111111111111111,
             "#46039f"
            ],
            [
             0.2222222222222222,
             "#7201a8"
            ],
            [
             0.3333333333333333,
             "#9c179e"
            ],
            [
             0.4444444444444444,
             "#bd3786"
            ],
            [
             0.5555555555555556,
             "#d8576b"
            ],
            [
             0.6666666666666666,
             "#ed7953"
            ],
            [
             0.7777777777777778,
             "#fb9f3a"
            ],
            [
             0.8888888888888888,
             "#fdca26"
            ],
            [
             1,
             "#f0f921"
            ]
           ]
          },
          "colorway": [
           "#636efa",
           "#EF553B",
           "#00cc96",
           "#ab63fa",
           "#FFA15A",
           "#19d3f3",
           "#FF6692",
           "#B6E880",
           "#FF97FF",
           "#FECB52"
          ],
          "font": {
           "color": "#2a3f5f"
          },
          "geo": {
           "bgcolor": "white",
           "lakecolor": "white",
           "landcolor": "#E5ECF6",
           "showlakes": true,
           "showland": true,
           "subunitcolor": "white"
          },
          "hoverlabel": {
           "align": "left"
          },
          "hovermode": "closest",
          "mapbox": {
           "style": "light"
          },
          "paper_bgcolor": "white",
          "plot_bgcolor": "#E5ECF6",
          "polar": {
           "angularaxis": {
            "gridcolor": "white",
            "linecolor": "white",
            "ticks": ""
           },
           "bgcolor": "#E5ECF6",
           "radialaxis": {
            "gridcolor": "white",
            "linecolor": "white",
            "ticks": ""
           }
          },
          "scene": {
           "xaxis": {
            "backgroundcolor": "#E5ECF6",
            "gridcolor": "white",
            "gridwidth": 2,
            "linecolor": "white",
            "showbackground": true,
            "ticks": "",
            "zerolinecolor": "white"
           },
           "yaxis": {
            "backgroundcolor": "#E5ECF6",
            "gridcolor": "white",
            "gridwidth": 2,
            "linecolor": "white",
            "showbackground": true,
            "ticks": "",
            "zerolinecolor": "white"
           },
           "zaxis": {
            "backgroundcolor": "#E5ECF6",
            "gridcolor": "white",
            "gridwidth": 2,
            "linecolor": "white",
            "showbackground": true,
            "ticks": "",
            "zerolinecolor": "white"
           }
          },
          "shapedefaults": {
           "line": {
            "color": "#2a3f5f"
           }
          },
          "ternary": {
           "aaxis": {
            "gridcolor": "white",
            "linecolor": "white",
            "ticks": ""
           },
           "baxis": {
            "gridcolor": "white",
            "linecolor": "white",
            "ticks": ""
           },
           "bgcolor": "#E5ECF6",
           "caxis": {
            "gridcolor": "white",
            "linecolor": "white",
            "ticks": ""
           }
          },
          "title": {
           "x": 0.05
          },
          "xaxis": {
           "automargin": true,
           "gridcolor": "white",
           "linecolor": "white",
           "ticks": "",
           "title": {
            "standoff": 15
           },
           "zerolinecolor": "white",
           "zerolinewidth": 2
          },
          "yaxis": {
           "automargin": true,
           "gridcolor": "white",
           "linecolor": "white",
           "ticks": "",
           "title": {
            "standoff": 15
           },
           "zerolinecolor": "white",
           "zerolinewidth": 2
          }
         }
        },
        "title": {
         "text": "Outlier columns only : Records with (non-zero) values across the 5 classes"
        },
        "width": 800,
        "xaxis": {
         "anchor": "y",
         "domain": [
          0,
          0.2125
         ],
         "matches": "x29",
         "showticklabels": false
        },
        "xaxis10": {
         "anchor": "y10",
         "domain": [
          0.2625,
          0.475
         ],
         "matches": "x30",
         "showticklabels": false
        },
        "xaxis11": {
         "anchor": "y11",
         "domain": [
          0.525,
          0.7375
         ],
         "matches": "x31",
         "showticklabels": false
        },
        "xaxis12": {
         "anchor": "y12",
         "domain": [
          0.7875,
          1
         ],
         "matches": "x32",
         "showticklabels": false
        },
        "xaxis13": {
         "anchor": "y13",
         "domain": [
          0,
          0.2125
         ],
         "matches": "x29",
         "showticklabels": false
        },
        "xaxis14": {
         "anchor": "y14",
         "domain": [
          0.2625,
          0.475
         ],
         "matches": "x30",
         "showticklabels": false
        },
        "xaxis15": {
         "anchor": "y15",
         "domain": [
          0.525,
          0.7375
         ],
         "matches": "x31",
         "showticklabels": false
        },
        "xaxis16": {
         "anchor": "y16",
         "domain": [
          0.7875,
          1
         ],
         "matches": "x32",
         "showticklabels": false
        },
        "xaxis17": {
         "anchor": "y17",
         "domain": [
          0,
          0.2125
         ],
         "matches": "x29",
         "showticklabels": false
        },
        "xaxis18": {
         "anchor": "y18",
         "domain": [
          0.2625,
          0.475
         ],
         "matches": "x30",
         "showticklabels": false
        },
        "xaxis19": {
         "anchor": "y19",
         "domain": [
          0.525,
          0.7375
         ],
         "matches": "x31",
         "showticklabels": false
        },
        "xaxis2": {
         "anchor": "y2",
         "domain": [
          0.2625,
          0.475
         ],
         "matches": "x30",
         "showticklabels": false
        },
        "xaxis20": {
         "anchor": "y20",
         "domain": [
          0.7875,
          1
         ],
         "matches": "x32",
         "showticklabels": false
        },
        "xaxis21": {
         "anchor": "y21",
         "domain": [
          0,
          0.2125
         ],
         "matches": "x29",
         "showticklabels": false
        },
        "xaxis22": {
         "anchor": "y22",
         "domain": [
          0.2625,
          0.475
         ],
         "matches": "x30",
         "showticklabels": false
        },
        "xaxis23": {
         "anchor": "y23",
         "domain": [
          0.525,
          0.7375
         ],
         "matches": "x31",
         "showticklabels": false
        },
        "xaxis24": {
         "anchor": "y24",
         "domain": [
          0.7875,
          1
         ],
         "matches": "x32",
         "showticklabels": false
        },
        "xaxis25": {
         "anchor": "y25",
         "domain": [
          0,
          0.2125
         ],
         "matches": "x29",
         "showticklabels": false
        },
        "xaxis26": {
         "anchor": "y26",
         "domain": [
          0.2625,
          0.475
         ],
         "matches": "x30",
         "showticklabels": false
        },
        "xaxis27": {
         "anchor": "y27",
         "domain": [
          0.525,
          0.7375
         ],
         "matches": "x31",
         "showticklabels": false
        },
        "xaxis28": {
         "anchor": "y28",
         "domain": [
          0.7875,
          1
         ],
         "matches": "x32",
         "showticklabels": false
        },
        "xaxis29": {
         "anchor": "y29",
         "domain": [
          0,
          0.2125
         ]
        },
        "xaxis3": {
         "anchor": "y3",
         "domain": [
          0.525,
          0.7375
         ],
         "matches": "x31",
         "showticklabels": false
        },
        "xaxis30": {
         "anchor": "y30",
         "domain": [
          0.2625,
          0.475
         ]
        },
        "xaxis31": {
         "anchor": "y31",
         "domain": [
          0.525,
          0.7375
         ]
        },
        "xaxis32": {
         "anchor": "y32",
         "domain": [
          0.7875,
          1
         ]
        },
        "xaxis4": {
         "anchor": "y4",
         "domain": [
          0.7875,
          1
         ],
         "matches": "x32",
         "showticklabels": false
        },
        "xaxis5": {
         "anchor": "y5",
         "domain": [
          0,
          0.2125
         ],
         "matches": "x29",
         "showticklabels": false
        },
        "xaxis6": {
         "anchor": "y6",
         "domain": [
          0.2625,
          0.475
         ],
         "matches": "x30",
         "showticklabels": false
        },
        "xaxis7": {
         "anchor": "y7",
         "domain": [
          0.525,
          0.7375
         ],
         "matches": "x31",
         "showticklabels": false
        },
        "xaxis8": {
         "anchor": "y8",
         "domain": [
          0.7875,
          1
         ],
         "matches": "x32",
         "showticklabels": false
        },
        "xaxis9": {
         "anchor": "y9",
         "domain": [
          0,
          0.2125
         ],
         "matches": "x29",
         "showticklabels": false
        },
        "yaxis": {
         "anchor": "x",
         "domain": [
          0.90125,
          1
         ]
        },
        "yaxis10": {
         "anchor": "x10",
         "domain": [
          0.64375,
          0.7425
         ]
        },
        "yaxis11": {
         "anchor": "x11",
         "domain": [
          0.64375,
          0.7425
         ]
        },
        "yaxis12": {
         "anchor": "x12",
         "domain": [
          0.64375,
          0.7425
         ]
        },
        "yaxis13": {
         "anchor": "x13",
         "domain": [
          0.515,
          0.61375
         ]
        },
        "yaxis14": {
         "anchor": "x14",
         "domain": [
          0.515,
          0.61375
         ]
        },
        "yaxis15": {
         "anchor": "x15",
         "domain": [
          0.515,
          0.61375
         ]
        },
        "yaxis16": {
         "anchor": "x16",
         "domain": [
          0.515,
          0.61375
         ]
        },
        "yaxis17": {
         "anchor": "x17",
         "domain": [
          0.38625,
          0.485
         ]
        },
        "yaxis18": {
         "anchor": "x18",
         "domain": [
          0.38625,
          0.485
         ]
        },
        "yaxis19": {
         "anchor": "x19",
         "domain": [
          0.38625,
          0.485
         ]
        },
        "yaxis2": {
         "anchor": "x2",
         "domain": [
          0.90125,
          1
         ]
        },
        "yaxis20": {
         "anchor": "x20",
         "domain": [
          0.38625,
          0.485
         ]
        },
        "yaxis21": {
         "anchor": "x21",
         "domain": [
          0.2575,
          0.35625
         ]
        },
        "yaxis22": {
         "anchor": "x22",
         "domain": [
          0.2575,
          0.35625
         ]
        },
        "yaxis23": {
         "anchor": "x23",
         "domain": [
          0.2575,
          0.35625
         ]
        },
        "yaxis24": {
         "anchor": "x24",
         "domain": [
          0.2575,
          0.35625
         ]
        },
        "yaxis25": {
         "anchor": "x25",
         "domain": [
          0.12875,
          0.2275
         ]
        },
        "yaxis26": {
         "anchor": "x26",
         "domain": [
          0.12875,
          0.2275
         ]
        },
        "yaxis27": {
         "anchor": "x27",
         "domain": [
          0.12875,
          0.2275
         ]
        },
        "yaxis28": {
         "anchor": "x28",
         "domain": [
          0.12875,
          0.2275
         ]
        },
        "yaxis29": {
         "anchor": "x29",
         "domain": [
          0,
          0.09875
         ]
        },
        "yaxis3": {
         "anchor": "x3",
         "domain": [
          0.90125,
          1
         ]
        },
        "yaxis30": {
         "anchor": "x30",
         "domain": [
          0,
          0.09875
         ]
        },
        "yaxis31": {
         "anchor": "x31",
         "domain": [
          0,
          0.09875
         ]
        },
        "yaxis32": {
         "anchor": "x32",
         "domain": [
          0,
          0.09875
         ]
        },
        "yaxis4": {
         "anchor": "x4",
         "domain": [
          0.90125,
          1
         ]
        },
        "yaxis5": {
         "anchor": "x5",
         "domain": [
          0.7725,
          0.87125
         ]
        },
        "yaxis6": {
         "anchor": "x6",
         "domain": [
          0.7725,
          0.87125
         ]
        },
        "yaxis7": {
         "anchor": "x7",
         "domain": [
          0.7725,
          0.87125
         ]
        },
        "yaxis8": {
         "anchor": "x8",
         "domain": [
          0.7725,
          0.87125
         ]
        },
        "yaxis9": {
         "anchor": "x9",
         "domain": [
          0.64375,
          0.7425
         ]
        }
       }
      }
     },
     "metadata": {},
     "output_type": "display_data"
    }
   ],
   "source": [
    "import plotly.graph_objects as go\n",
    "from plotly.subplots import make_subplots\n",
    "import math\n",
    "\n",
    "# init vars to help draw the layout\n",
    "max_rows = 8\n",
    "max_cols = 4\n",
    "layout_diviser = min(max_rows, max_cols)\n",
    "\n",
    "# vars to help place graph in the matrix\n",
    "print(len(df_feature_outliers_count))\n",
    "# no of features to plot per graph determined based on graph matrix size\n",
    "features_per_graph = math.ceil( len(df_feature_outliers_count) / (max_rows * max_cols) )\n",
    "start_index: int = 0\n",
    "end_index: int = features_per_graph\n",
    "\n",
    "# Total # of graphs to plot\n",
    "total_graphs = math.ceil(len(df_feature_outliers_count) / features_per_graph)\n",
    "print(f\"# of feature groups: {total_graphs}\")\n",
    "\n",
    "# init plot\n",
    "fig = make_subplots(rows=max_rows, cols=max_cols, shared_xaxes=True, vertical_spacing=0.03)\n",
    "\n",
    "col_headers = df_feature_outliers_count.columns.to_list()\n",
    "\n",
    "# Loop through # of graphs to plot. For each graph, plot the determined # of features\n",
    "for fg in range(total_graphs):\n",
    "    row = (fg) // layout_diviser\n",
    "    col = (fg) % layout_diviser\n",
    "    # print(f\"row= {row} col= {col}\")\n",
    "    plot_df = df_feature_outliers_count.iloc[start_index:end_index, :]\n",
    "    for i in range(len(plot_df)):\n",
    "        fig.add_trace(go.Scatter(x=col_headers,\n",
    "                                 y=plot_df.iloc[i, :-1],\n",
    "                                 mode='lines',\n",
    "                                 name=plot_df.loc[plot_df.index[i], 'gene']),\n",
    "                                 row=row+1, col=col+1) #add_trace row and col, start index is 1, while row and col start with 0\n",
    "\n",
    "    start_index = start_index + features_per_graph\n",
    "    end_index = end_index + features_per_graph\n",
    "\n",
    "\n",
    "fig.update_layout(height=1200, width=800, title_text=\"Outlier columns only : Records with (non-zero) values across the 5 classes\")\n",
    "fig.show()\n"
   ]
  },
  {
   "cell_type": "markdown",
   "metadata": {},
   "source": [
    "#### Summary : Univariate and Multivariate Analysis\n",
    "\n",
    "- Descriptive Statistics of data : 1660 columns have mostly 0s, as values and their values fall into the 4th quartile.\n",
    "- Outliers : Given the above 1660 columns / features have largely outliders, from above graph we identify the count of actual rows having these outlier values is less than 150, mostly less than 100. \n",
    "- Correlation : Given the large number of features, finding correlation between the features is challenging. The output file does not even open. Thus no inference to make.\n"
   ]
  },
  {
   "cell_type": "markdown",
   "metadata": {},
   "source": [
    "### Feature Selection\n"
   ]
  },
  {
   "cell_type": "markdown",
   "metadata": {},
   "source": [
    "### Dimensionality Reduction"
   ]
  },
  {
   "cell_type": "markdown",
   "metadata": {},
   "source": [
    "#### PCA\n",
    "To meet PCA needs, we need to ensure data confirms to below : \n",
    "- <u>correlation</u> between Independent vars.\n",
    "- Variables must be <u>continuous</u> i.e numeric\n",
    "- Variables must <u>be on same scale</u>. If one is in 1000s and another single digit, we will need to scale it.\n",
    "- Data must be free from outliers"
   ]
  },
  {
   "cell_type": "markdown",
   "metadata": {},
   "source": [
    "##### Remove Outliers\n",
    "Based on data analysis on [outliers](#features-with-outliers) we know there are 1660 features with values in the 4th quartile. These gene expressions (features) are not specific to a tumor type (Class aka dependent variable) as observed in the output of function #get_features_target_class_counts. We will assume that these Gene expressions have not been recorded accurately or these have minimal influence from a tumor. Hence we remove these before running PCA."
   ]
  },
  {
   "cell_type": "code",
   "execution_count": 218,
   "metadata": {},
   "outputs": [],
   "source": [
    "# get quartiles for each column\n",
    "def get_quartiles(col):\n",
    "    quartile1, quartile3 = col.quantile([0.25, 0.75])\n",
    "    inter_quartile_range = quartile3 - quartile1\n",
    "    lower_range = quartile1 - (1.5* inter_quartile_range)\n",
    "    upper_range = quartile3 + (1.5* inter_quartile_range)\n",
    "\n",
    "    return lower_range, upper_range\n",
    "\n",
    "# lowerQ, upperQ = get_quartiles(X_train['gene_1'])\n",
    "# print(f'lower quantile= {lowerQ}, upper quantile= {upperQ}')"
   ]
  },
  {
   "cell_type": "code",
   "execution_count": 219,
   "metadata": {},
   "outputs": [],
   "source": [
    "# cols = X_train_pca.columns\n",
    "\n",
    "def normalize_within_quartiles(df_X:DataFrame, cols:Index):\n",
    "    '''\n",
    "    @input df_X : Dataframe with ONLY independent variables.\n",
    "    '''\n",
    "    for i in cols :\n",
    "        LL, UL = get_quartiles(df_X[i])\n",
    "        # if (i == 'gene_0'):\n",
    "        #     print(f\"UL: {np.where(df_X[i] > UL, UL, df_X[i])}\")\n",
    "            # print(f\"{np.where(df_X[i] < LL, LL, df_X[i]}\")\n",
    "        df_X[i] = np.where(df_X[i] > UL, UL, df_X[i])\n",
    "        df_X[i] = np.where(df_X[i] < LL, LL, df_X[i])\n",
    "    return df_X\n",
    "\n"
   ]
  },
  {
   "cell_type": "code",
   "execution_count": 220,
   "metadata": {},
   "outputs": [],
   "source": [
    "# print(type(df_feature_outliers.index.to_list()))\n",
    "def clean_input_data(X_dataframe: DataFrame, df_feature_outliers: DataFrame):\n",
    "    # print(len(X_train.columns))\n",
    "    X_train_pca = X_dataframe.drop(columns=df_feature_outliers.index.to_list())\n",
    "    # X_train_pca.columns\n",
    "    X_train_pca = normalize_within_quartiles(X_train_pca, X_train_pca.columns)\n",
    "    X_train_pca.head(10)\n",
    "    print(f\"Total # of cols after removing quartiles: {len(X_train_pca.columns)}\")\n",
    "\n",
    "    return X_train_pca"
   ]
  },
  {
   "cell_type": "markdown",
   "metadata": {},
   "source": [
    "##### Prep for PCA"
   ]
  },
  {
   "cell_type": "code",
   "execution_count": 221,
   "metadata": {},
   "outputs": [],
   "source": [
    "# Function to plot Confusion Matrix\n",
    "def plot_confusion_matrix(conf_matrix, labels, title=\"Confusion Matrix\"):\n",
    "\n",
    "    conf_matrix = conf_matrix[::-1]\n",
    "    # labels = labels[::-1]\n",
    "\n",
    "    #heat map\n",
    "    fig = go.Figure(data=go.Heatmap(\n",
    "        z=conf_matrix,\n",
    "        x=labels,\n",
    "        y=labels[::-1], #reverse the order to align labels with way Conf matrix is output\n",
    "        colorscale='Rainbow', # 'Hot', # 'YlOrRd', # 'YlGnBu', #'Viridis',\n",
    "        texttemplate=\"%{z}\",\n",
    "        textfont={\"size\": 10}\n",
    "    ))\n",
    "\n",
    "    fig.update_layout(\n",
    "        title_text = title,\n",
    "        xaxis_title=\"Predicted Class\",\n",
    "        yaxis_title=\"Actual Class\",\n",
    "        # xaxis={'side': 'top'},\n",
    "        # yaxis={'autorange': 'reversed'},\n",
    "        width=500,\n",
    "        height=500,\n",
    "    )\n",
    "\n",
    "    fig.show()\n",
    "\n"
   ]
  },
  {
   "cell_type": "code",
   "execution_count": 222,
   "metadata": {},
   "outputs": [],
   "source": [
    "# PCA -\n",
    "# -- Is PCA the right approach to this data set where we are trying to identify Gene expressions for tumors.\n",
    "# -- Shudnt we include every expression - small or big ?\n",
    "from sklearn.decomposition import PCA\n",
    "\n",
    "pca = PCA(random_state=42)\n"
   ]
  },
  {
   "cell_type": "markdown",
   "metadata": {},
   "source": [
    "##### Execution (Feature Selection)"
   ]
  },
  {
   "cell_type": "code",
   "execution_count": 223,
   "metadata": {},
   "outputs": [
    {
     "name": "stdout",
     "output_type": "stream",
     "text": [
      "Total # of cols after removing quartiles: 18604\n"
     ]
    },
    {
     "data": {
      "text/html": [
       "<div>\n",
       "<style scoped>\n",
       "    .dataframe tbody tr th:only-of-type {\n",
       "        vertical-align: middle;\n",
       "    }\n",
       "\n",
       "    .dataframe tbody tr th {\n",
       "        vertical-align: top;\n",
       "    }\n",
       "\n",
       "    .dataframe thead th {\n",
       "        text-align: right;\n",
       "    }\n",
       "</style>\n",
       "<table border=\"1\" class=\"dataframe\">\n",
       "  <thead>\n",
       "    <tr style=\"text-align: right;\">\n",
       "      <th></th>\n",
       "      <th>gene_1</th>\n",
       "      <th>gene_2</th>\n",
       "      <th>gene_3</th>\n",
       "      <th>gene_4</th>\n",
       "      <th>gene_6</th>\n",
       "      <th>gene_7</th>\n",
       "      <th>gene_10</th>\n",
       "      <th>gene_11</th>\n",
       "      <th>gene_12</th>\n",
       "      <th>gene_13</th>\n",
       "      <th>...</th>\n",
       "      <th>gene_20520</th>\n",
       "      <th>gene_20521</th>\n",
       "      <th>gene_20522</th>\n",
       "      <th>gene_20523</th>\n",
       "      <th>gene_20524</th>\n",
       "      <th>gene_20525</th>\n",
       "      <th>gene_20526</th>\n",
       "      <th>gene_20527</th>\n",
       "      <th>gene_20528</th>\n",
       "      <th>gene_20529</th>\n",
       "    </tr>\n",
       "  </thead>\n",
       "  <tbody>\n",
       "    <tr>\n",
       "      <th>391</th>\n",
       "      <td>4.094565</td>\n",
       "      <td>4.704501</td>\n",
       "      <td>7.545559</td>\n",
       "      <td>9.752299</td>\n",
       "      <td>8.595821</td>\n",
       "      <td>0.859970</td>\n",
       "      <td>1.152183</td>\n",
       "      <td>2.222650</td>\n",
       "      <td>2.222650</td>\n",
       "      <td>0.000000</td>\n",
       "      <td>...</td>\n",
       "      <td>9.532568</td>\n",
       "      <td>4.598568</td>\n",
       "      <td>7.654557</td>\n",
       "      <td>10.089887</td>\n",
       "      <td>7.107677</td>\n",
       "      <td>8.832156</td>\n",
       "      <td>12.816038</td>\n",
       "      <td>9.317229</td>\n",
       "      <td>9.461801</td>\n",
       "      <td>9.258929</td>\n",
       "    </tr>\n",
       "    <tr>\n",
       "      <th>148</th>\n",
       "      <td>6.237034</td>\n",
       "      <td>5.043235</td>\n",
       "      <td>6.297397</td>\n",
       "      <td>10.391415</td>\n",
       "      <td>7.669941</td>\n",
       "      <td>0.913033</td>\n",
       "      <td>0.527571</td>\n",
       "      <td>0.527571</td>\n",
       "      <td>2.752642</td>\n",
       "      <td>0.000000</td>\n",
       "      <td>...</td>\n",
       "      <td>8.136238</td>\n",
       "      <td>5.669299</td>\n",
       "      <td>8.437523</td>\n",
       "      <td>10.524503</td>\n",
       "      <td>1.467801</td>\n",
       "      <td>9.666187</td>\n",
       "      <td>11.258572</td>\n",
       "      <td>10.062033</td>\n",
       "      <td>9.018030</td>\n",
       "      <td>7.737159</td>\n",
       "    </tr>\n",
       "    <tr>\n",
       "      <th>595</th>\n",
       "      <td>3.028304</td>\n",
       "      <td>2.156138</td>\n",
       "      <td>6.459537</td>\n",
       "      <td>9.488378</td>\n",
       "      <td>5.319195</td>\n",
       "      <td>0.000000</td>\n",
       "      <td>1.043764</td>\n",
       "      <td>0.000000</td>\n",
       "      <td>3.703887</td>\n",
       "      <td>0.000000</td>\n",
       "      <td>...</td>\n",
       "      <td>7.647998</td>\n",
       "      <td>6.436851</td>\n",
       "      <td>8.557640</td>\n",
       "      <td>9.749657</td>\n",
       "      <td>5.406037</td>\n",
       "      <td>10.590297</td>\n",
       "      <td>11.449572</td>\n",
       "      <td>9.303614</td>\n",
       "      <td>9.228160</td>\n",
       "      <td>4.403943</td>\n",
       "    </tr>\n",
       "    <tr>\n",
       "      <th>770</th>\n",
       "      <td>2.706995</td>\n",
       "      <td>3.574586</td>\n",
       "      <td>6.090422</td>\n",
       "      <td>9.557619</td>\n",
       "      <td>7.162452</td>\n",
       "      <td>0.467175</td>\n",
       "      <td>0.467175</td>\n",
       "      <td>2.151112</td>\n",
       "      <td>2.667597</td>\n",
       "      <td>0.467175</td>\n",
       "      <td>...</td>\n",
       "      <td>9.467758</td>\n",
       "      <td>6.261474</td>\n",
       "      <td>9.005094</td>\n",
       "      <td>9.897212</td>\n",
       "      <td>6.405101</td>\n",
       "      <td>9.971630</td>\n",
       "      <td>12.057508</td>\n",
       "      <td>9.898369</td>\n",
       "      <td>9.835752</td>\n",
       "      <td>4.649144</td>\n",
       "    </tr>\n",
       "    <tr>\n",
       "      <th>493</th>\n",
       "      <td>3.522621</td>\n",
       "      <td>3.463021</td>\n",
       "      <td>8.133024</td>\n",
       "      <td>10.431341</td>\n",
       "      <td>7.536667</td>\n",
       "      <td>0.000000</td>\n",
       "      <td>0.000000</td>\n",
       "      <td>1.497740</td>\n",
       "      <td>1.901494</td>\n",
       "      <td>0.000000</td>\n",
       "      <td>...</td>\n",
       "      <td>10.234063</td>\n",
       "      <td>4.848788</td>\n",
       "      <td>8.581671</td>\n",
       "      <td>9.682631</td>\n",
       "      <td>0.542010</td>\n",
       "      <td>8.867365</td>\n",
       "      <td>12.051070</td>\n",
       "      <td>10.181786</td>\n",
       "      <td>8.857471</td>\n",
       "      <td>2.792439</td>\n",
       "    </tr>\n",
       "    <tr>\n",
       "      <th>706</th>\n",
       "      <td>3.913167</td>\n",
       "      <td>4.064193</td>\n",
       "      <td>6.530920</td>\n",
       "      <td>9.702678</td>\n",
       "      <td>8.404367</td>\n",
       "      <td>0.566084</td>\n",
       "      <td>1.547055</td>\n",
       "      <td>2.652119</td>\n",
       "      <td>1.547055</td>\n",
       "      <td>0.971663</td>\n",
       "      <td>...</td>\n",
       "      <td>9.741261</td>\n",
       "      <td>5.301701</td>\n",
       "      <td>8.260317</td>\n",
       "      <td>9.720046</td>\n",
       "      <td>5.513810</td>\n",
       "      <td>9.539921</td>\n",
       "      <td>12.177852</td>\n",
       "      <td>9.465385</td>\n",
       "      <td>9.314588</td>\n",
       "      <td>3.946366</td>\n",
       "    </tr>\n",
       "    <tr>\n",
       "      <th>526</th>\n",
       "      <td>2.463492</td>\n",
       "      <td>3.442293</td>\n",
       "      <td>6.850874</td>\n",
       "      <td>9.415991</td>\n",
       "      <td>7.270968</td>\n",
       "      <td>0.000000</td>\n",
       "      <td>0.485015</td>\n",
       "      <td>0.000000</td>\n",
       "      <td>3.458119</td>\n",
       "      <td>0.000000</td>\n",
       "      <td>...</td>\n",
       "      <td>7.722398</td>\n",
       "      <td>6.622088</td>\n",
       "      <td>9.022593</td>\n",
       "      <td>10.219907</td>\n",
       "      <td>2.886277</td>\n",
       "      <td>10.212630</td>\n",
       "      <td>11.027982</td>\n",
       "      <td>10.388082</td>\n",
       "      <td>9.968667</td>\n",
       "      <td>7.738680</td>\n",
       "    </tr>\n",
       "    <tr>\n",
       "      <th>480</th>\n",
       "      <td>2.676809</td>\n",
       "      <td>3.955629</td>\n",
       "      <td>6.639035</td>\n",
       "      <td>10.301165</td>\n",
       "      <td>7.946497</td>\n",
       "      <td>0.808426</td>\n",
       "      <td>0.460166</td>\n",
       "      <td>0.460166</td>\n",
       "      <td>3.933100</td>\n",
       "      <td>0.000000</td>\n",
       "      <td>...</td>\n",
       "      <td>7.855828</td>\n",
       "      <td>6.306275</td>\n",
       "      <td>9.071972</td>\n",
       "      <td>10.136145</td>\n",
       "      <td>7.163640</td>\n",
       "      <td>10.286477</td>\n",
       "      <td>10.573922</td>\n",
       "      <td>9.523879</td>\n",
       "      <td>10.355120</td>\n",
       "      <td>3.525868</td>\n",
       "    </tr>\n",
       "    <tr>\n",
       "      <th>223</th>\n",
       "      <td>2.870404</td>\n",
       "      <td>1.268614</td>\n",
       "      <td>6.516157</td>\n",
       "      <td>9.287569</td>\n",
       "      <td>6.674658</td>\n",
       "      <td>0.825541</td>\n",
       "      <td>0.000000</td>\n",
       "      <td>0.471031</td>\n",
       "      <td>1.109895</td>\n",
       "      <td>0.000000</td>\n",
       "      <td>...</td>\n",
       "      <td>8.173152</td>\n",
       "      <td>7.017599</td>\n",
       "      <td>8.560134</td>\n",
       "      <td>9.703589</td>\n",
       "      <td>5.989782</td>\n",
       "      <td>10.192428</td>\n",
       "      <td>11.646392</td>\n",
       "      <td>10.495325</td>\n",
       "      <td>9.885373</td>\n",
       "      <td>4.199633</td>\n",
       "    </tr>\n",
       "    <tr>\n",
       "      <th>455</th>\n",
       "      <td>3.069737</td>\n",
       "      <td>3.623200</td>\n",
       "      <td>6.744955</td>\n",
       "      <td>9.591219</td>\n",
       "      <td>7.254254</td>\n",
       "      <td>0.000000</td>\n",
       "      <td>2.204846</td>\n",
       "      <td>1.765450</td>\n",
       "      <td>3.268928</td>\n",
       "      <td>0.000000</td>\n",
       "      <td>...</td>\n",
       "      <td>7.722623</td>\n",
       "      <td>6.449447</td>\n",
       "      <td>8.276566</td>\n",
       "      <td>9.765221</td>\n",
       "      <td>3.339038</td>\n",
       "      <td>10.245957</td>\n",
       "      <td>12.200892</td>\n",
       "      <td>10.292529</td>\n",
       "      <td>9.378830</td>\n",
       "      <td>5.152070</td>\n",
       "    </tr>\n",
       "  </tbody>\n",
       "</table>\n",
       "<p>10 rows × 18604 columns</p>\n",
       "</div>"
      ],
      "text/plain": [
       "       gene_1    gene_2    gene_3     gene_4    gene_6    gene_7   gene_10  \\\n",
       "391  4.094565  4.704501  7.545559   9.752299  8.595821  0.859970  1.152183   \n",
       "148  6.237034  5.043235  6.297397  10.391415  7.669941  0.913033  0.527571   \n",
       "595  3.028304  2.156138  6.459537   9.488378  5.319195  0.000000  1.043764   \n",
       "770  2.706995  3.574586  6.090422   9.557619  7.162452  0.467175  0.467175   \n",
       "493  3.522621  3.463021  8.133024  10.431341  7.536667  0.000000  0.000000   \n",
       "706  3.913167  4.064193  6.530920   9.702678  8.404367  0.566084  1.547055   \n",
       "526  2.463492  3.442293  6.850874   9.415991  7.270968  0.000000  0.485015   \n",
       "480  2.676809  3.955629  6.639035  10.301165  7.946497  0.808426  0.460166   \n",
       "223  2.870404  1.268614  6.516157   9.287569  6.674658  0.825541  0.000000   \n",
       "455  3.069737  3.623200  6.744955   9.591219  7.254254  0.000000  2.204846   \n",
       "\n",
       "      gene_11   gene_12   gene_13  ...  gene_20520  gene_20521  gene_20522  \\\n",
       "391  2.222650  2.222650  0.000000  ...    9.532568    4.598568    7.654557   \n",
       "148  0.527571  2.752642  0.000000  ...    8.136238    5.669299    8.437523   \n",
       "595  0.000000  3.703887  0.000000  ...    7.647998    6.436851    8.557640   \n",
       "770  2.151112  2.667597  0.467175  ...    9.467758    6.261474    9.005094   \n",
       "493  1.497740  1.901494  0.000000  ...   10.234063    4.848788    8.581671   \n",
       "706  2.652119  1.547055  0.971663  ...    9.741261    5.301701    8.260317   \n",
       "526  0.000000  3.458119  0.000000  ...    7.722398    6.622088    9.022593   \n",
       "480  0.460166  3.933100  0.000000  ...    7.855828    6.306275    9.071972   \n",
       "223  0.471031  1.109895  0.000000  ...    8.173152    7.017599    8.560134   \n",
       "455  1.765450  3.268928  0.000000  ...    7.722623    6.449447    8.276566   \n",
       "\n",
       "     gene_20523  gene_20524  gene_20525  gene_20526  gene_20527  gene_20528  \\\n",
       "391   10.089887    7.107677    8.832156   12.816038    9.317229    9.461801   \n",
       "148   10.524503    1.467801    9.666187   11.258572   10.062033    9.018030   \n",
       "595    9.749657    5.406037   10.590297   11.449572    9.303614    9.228160   \n",
       "770    9.897212    6.405101    9.971630   12.057508    9.898369    9.835752   \n",
       "493    9.682631    0.542010    8.867365   12.051070   10.181786    8.857471   \n",
       "706    9.720046    5.513810    9.539921   12.177852    9.465385    9.314588   \n",
       "526   10.219907    2.886277   10.212630   11.027982   10.388082    9.968667   \n",
       "480   10.136145    7.163640   10.286477   10.573922    9.523879   10.355120   \n",
       "223    9.703589    5.989782   10.192428   11.646392   10.495325    9.885373   \n",
       "455    9.765221    3.339038   10.245957   12.200892   10.292529    9.378830   \n",
       "\n",
       "     gene_20529  \n",
       "391    9.258929  \n",
       "148    7.737159  \n",
       "595    4.403943  \n",
       "770    4.649144  \n",
       "493    2.792439  \n",
       "706    3.946366  \n",
       "526    7.738680  \n",
       "480    3.525868  \n",
       "223    4.199633  \n",
       "455    5.152070  \n",
       "\n",
       "[10 rows x 18604 columns]"
      ]
     },
     "execution_count": 223,
     "metadata": {},
     "output_type": "execute_result"
    }
   ],
   "source": [
    "X_train_pca = clean_input_data(X_train, df_feature_outliers)\n",
    "X_train_pca.head(10)"
   ]
  },
  {
   "cell_type": "code",
   "execution_count": 56,
   "metadata": {},
   "outputs": [],
   "source": [
    "# pca_df.to_csv(f\"{DATA_ANALYSIS_DIR}PCA_ExpVarianceRatio.csv\")\n",
    "# pca_df[0:640]\n",
    "# #TODO : How to get column names as part of PCA output. Also cleanup rows beyond 639"
   ]
  },
  {
   "cell_type": "markdown",
   "metadata": {},
   "source": [
    "#### Summary : Feature Selection\n",
    "- Features with outliers values (in 4th quartile) dropped\n",
    "- PCA reduces features to 640, from 18604 features. Data prepared for PCA execution in next section, as part of the Pipeline.\n"
   ]
  },
  {
   "cell_type": "markdown",
   "metadata": {},
   "source": [
    "## Modeling"
   ]
  },
  {
   "cell_type": "markdown",
   "metadata": {},
   "source": [
    "#### Random Forest"
   ]
  },
  {
   "cell_type": "code",
   "execution_count": 356,
   "metadata": {},
   "outputs": [],
   "source": [
    "from sklearn.ensemble import RandomForestClassifier\n",
    "from sklearn.tree import plot_tree\n",
    "from sklearn.metrics import roc_curve\n",
    "from sklearn.metrics import roc_auc_score\n",
    "from sklearn.metrics import auc\n",
    "from sklearn.preprocessing import label_binarize\n",
    "from sklearn.preprocessing import LabelBinarizer\n",
    "from sklearn.pipeline import Pipeline\n",
    "from sklearn.preprocessing import StandardScaler\n",
    "from sklearn.metrics import accuracy_score\n",
    "from sklearn.metrics import classification_report\n"
   ]
  },
  {
   "cell_type": "code",
   "execution_count": 335,
   "metadata": {},
   "outputs": [],
   "source": [
    "def createPipeline(model):\n",
    "\n",
    "    pca_pipeline = Pipeline([\n",
    "        ('scaler', StandardScaler()),\n",
    "        ('pca', pca),\n",
    "        ('model', model)\n",
    "    ])\n",
    "    return pca_pipeline\n",
    "\n",
    "    # pca_comp_df = pca_pipeline.fit_transform(df_X)\n",
    "\n",
    "    # print(f\"PCA Explained Variance Ratio: \\n{pca_pipeline.named_steps['pca'].explained_variance_ratio_}\")\n",
    "    # print(f\"PCA Components: {pca_pipeline.named_steps['pca'].n_components_}\")\n",
    "    # pca.n_features_in_\n"
   ]
  },
  {
   "cell_type": "code",
   "execution_count": 336,
   "metadata": {},
   "outputs": [],
   "source": [
    "# --- Create the model and fit train data\n",
    "def fit_randomforest(X_train_pca: DataFrame, y_train: Series):\n",
    "    rd_classifier = RandomForestClassifier(random_state=42, oob_score=True)\n",
    "    rd_pipeline = createPipeline(rd_classifier)\n",
    "    rd_pipeline.fit(X_train_pca, y_train)\n",
    "\n",
    "    return rd_pipeline\n",
    "\n"
   ]
  },
  {
   "cell_type": "code",
   "execution_count": null,
   "metadata": {},
   "outputs": [],
   "source": [
    "# evaluate the model\n",
    "def predict_randomforest(rd_pipeline: Pipeline, X_pca_dataframe: DataFrame, y_series: Series) :\n",
    "    '''\n",
    "    @param : sklearn Pipeline object with RandomForest as a classifier model\n",
    "    @return Returns the below in the given order :\n",
    "    predict_vals : Values predicted by the model, an ndarray\n",
    "    rd_train_accuracy : Value returned by the `.accuracy_score` method\n",
    "    rd_train_proba_accuracy : Value returned by `accuracy_score` using probability prediction\n",
    "    '''\n",
    "\n",
    "    rf_predict = rd_pipeline.predict(X_pca_dataframe)\n",
    "\n",
    "    pca_model = rd_pipeline.named_steps['pca']\n",
    "    rd_model = rd_pipeline.named_steps['model']\n",
    "\n",
    "    # The .score method uses accuracy_score, underneath.\n",
    "    # rd_train_score = rd_pipeline.score(X_pca_dataframe, y_series)\n",
    "    # print(f\"Random Classifier Model Score= {rd_train_score}\")\n",
    "\n",
    "    # using actual predictions\n",
    "    rd_train_accuracy = accuracy_score(y_series, rf_predict)\n",
    "    print(f\"Random Classifier Accuracy score= {rd_train_accuracy}\")\n",
    "\n",
    "    # converting probabilities to predictions\n",
    "    # below outputs an array for each row with proba of a match [[0.79, 0.05, 0.04, 0.09, 0.03]\n",
    "    rd_train_pred_proba = rd_pipeline.predict_proba(X_pca_dataframe)\n",
    "    # below converts abv array to index with max prob value. eg: in case of above example output 0 as the index i.e max prob\n",
    "    rd_train_pred_indices = np.argmax(rd_train_pred_proba, axis=1)\n",
    "    rd_train_pred_accuracy = accuracy_score(y_series, rd_train_pred_indices)\n",
    "    print(f\"Accuracy score after converting prob to predictions= {rd_train_pred_accuracy}\")\n",
    "\n",
    "    # Print the whole Classification report\n",
    "    report = classification_report(y_series, rf_predict)\n",
    "    print(report)\n",
    "\n",
    "\n",
    "    return rf_predict, rd_train_accuracy, rd_train_pred_accuracy\n",
    "\n",
    "# print(f\"rd_oob_score = {rd_model.oob_score_}\")\n",
    "# print(f\"PCA No. of components= {pca_model.n_components_}\")\n",
    "# print(f\"PCA Explained Variance Ratio= {pca_model.explained_variance_ratio_}\")\n",
    "# print(f\"rd_feature_imp = {rd_model.feature_importances_}\")\n"
   ]
  },
  {
   "cell_type": "markdown",
   "metadata": {},
   "source": [
    "##### Model Evaluation"
   ]
  },
  {
   "cell_type": "code",
   "execution_count": null,
   "metadata": {},
   "outputs": [],
   "source": [
    "# -- RUN all the data processing and feature selection steps on TEST data\n",
    "# def clean_test_data(X_test: DataFrame):\n",
    "#     print(f\"Total # of cols in test data: {len(X_test.columns)}\")\n",
    "#     # 1. Drop outliers columns\n",
    "#     X_test_pca = X_test.drop(columns=df_feature_outliers.index.to_list())\n",
    "#     X_test_pca.columns\n",
    "\n",
    "#     X_test_pca = normalize_within_quartiles(X_test_pca)\n",
    "#     X_test_pca.head(10)\n",
    "#     print(f\"Total # of cols after removing quartiles: {len(X_test_pca.columns)}\")\n",
    "\n",
    "#     return X_test_pca\n",
    "\n",
    "\n",
    "# predict_test = rd_pipeline.predict(X_test_pca)\n",
    "\n",
    "# # --- Evaluate ---\n",
    "# rd_test_score = rd_pipeline.score(X_test_pca, y_test)\n",
    "# print(f\"Random Classifier Model Score= {rd_test_score}\")\n",
    "# # -- using actual predictions\n",
    "# rd_test_accuracy = accuracy_score(y_test, predict_test)\n",
    "# print(f\"Random Classifier Accuracy score= {rd_test_accuracy}\")\n",
    "\n",
    "# # -- converting probabilities to predictions\n",
    "# # below outputs an array for each row with proba of a match [[0.79, 0.05, 0.04, 0.09, 0.03]\n",
    "# rd_test_pred_proba = rd_pipeline.predict_proba(X_test_pca)\n",
    "# # below returns indices with max prob value, from the given(above) array. eg: for abv array, returns 0 as the index\n",
    "# rd_test_pred_indices = np.argmax(rd_test_pred_proba, axis=1)\n",
    "# # convert y values to binary to match the above indices\n",
    "# label_binzer = LabelBinarizer()\n",
    "# label_binzer.fit(y_test)\n",
    "# y_test_bin = label_binzer.transform(y_test).tolist()\n",
    "# y_test_bin_indices = np.argmax(y_test_bin, axis=1)\n",
    "# rd_test_pred_accuracy = accuracy_score(y_test_bin_indices, rd_test_pred_indices)\n",
    "# print(f\"Accuracy score after converting prob to predictions= {rd_test_pred_accuracy}\")\n",
    "\n",
    "# print(f\"rd_oob_score = {rd_model.oob_score_}\")\n",
    "# print(f\"PCA No. of components= {pca_model.n_components_}\")\n",
    "\n",
    "# print(f\"PCA Explained Variance Ratio= {pca_model.explained_variance_ratio_}\")\n",
    "# print(f\"rd_feature_imp = {rd_model.feature_importances_}\")\n"
   ]
  },
  {
   "cell_type": "code",
   "execution_count": 370,
   "metadata": {},
   "outputs": [],
   "source": [
    "from sklearn.metrics import confusion_matrix\n",
    "\n",
    "def run_pca_randomforest():\n",
    "    # Fit and run for train data\n",
    "    print('----------- Train data -------------')\n",
    "    rf_pca_pipeline = fit_randomforest(X_train_pca, y_train)\n",
    "    rf_predict_train, rf_train_accuracy, rf_train_proba_accuracy = predict_randomforest(rf_pca_pipeline, X_train_pca, y_train)\n",
    "\n",
    "    # Test data\n",
    "    print('----------- Test data -------------')\n",
    "    rf_X_test_pca = clean_input_data(X_test, df_feature_outliers)\n",
    "    rf_predict_test, rf_test_accuracy, rf_test_proba_accuracy = predict_randomforest(rf_pca_pipeline, rf_X_test_pca, y_test)\n",
    "\n",
    "    # confusion matrix\n",
    "    cm = confusion_matrix(y_true=y_test, y_pred=rf_predict_test, labels=class_unique_vals)\n",
    "    plot_confusion_matrix(cm, labels=class_unique_vals, title='Random Forest with PCA : Confusion Matrix')\n",
    "\n"
   ]
  },
  {
   "cell_type": "code",
   "execution_count": null,
   "metadata": {},
   "outputs": [
    {
     "name": "stdout",
     "output_type": "stream",
     "text": [
      "----------- Train data -------------\n",
      "Random Classifier Accuracy score= 1.0\n",
      "Accuracy score after converting prob to predictions= 0.0\n",
      "              precision    recall  f1-score   support\n",
      "\n",
      "        BRCA       1.00      1.00      1.00       240\n",
      "        COAD       1.00      1.00      1.00        62\n",
      "        KIRC       1.00      1.00      1.00       116\n",
      "        LUAD       1.00      1.00      1.00       113\n",
      "        PRAD       1.00      1.00      1.00       109\n",
      "\n",
      "    accuracy                           1.00       640\n",
      "   macro avg       1.00      1.00      1.00       640\n",
      "weighted avg       1.00      1.00      1.00       640\n",
      "\n",
      "----------- Test data -------------\n"
     ]
    }
   ],
   "source": [
    "run_pca_randomforest()"
   ]
  },
  {
   "cell_type": "code",
   "execution_count": null,
   "metadata": {},
   "outputs": [],
   "source": [
    "# Area under Curve - REF : https://www.geeksforgeeks.org/interpreting-random-forest-classification-results/\n",
    "# -------- #TODO : need to fix the roc_curve function\n",
    "def plot_aoc_randomforest(rd_test_pred_proba: ndarray, y_test: Series) :\n",
    "    target_vals = y_test.unique()\n",
    "    # y_test_bin = label_binarize(y_test, classes=[0,1,2,3,4])\n",
    "    label_binzer = LabelBinarizer()\n",
    "    label_binzer.fit(y_test)\n",
    "    y_test_bin = label_binzer.transform(y_test).tolist()\n",
    "    print(y_test_bin[0])\n",
    "    fpr = dict()\n",
    "    tpr = dict()\n",
    "    roc_auc = dict()\n",
    "\n",
    "    print(f\"y_test_bin : {y_test_bin[1]}\")\n",
    "    print(f\"rd_preds_prob : {rd_test_pred_proba[:, 1]}\")\n",
    "    # print(f\"y_test_bin : {len(y_test_bin[:, 1])}\")\n",
    "    # print(f\"rd_preds_prob : {rd_preds_prob[:, 1]}\")\n",
    "    # print(rd_preds_prob)\n",
    "\n",
    "    for index in range(len(target_vals)):\n",
    "        fpr[index], tpr[index], _ = roc_curve(y_test_bin[index], rd_test_pred_proba[:, index])\n",
    "        # print(f\"FPR at {index}: \\n{fpr[index]}\")\n",
    "        # print(f\"TPR at {index}: \\n{tpr[index]}\")\n",
    "        roc_auc[index] = auc(fpr[index], tpr[index])\n",
    "\n",
    "    # Plot ROC curve\n",
    "    plt.figure()\n",
    "    for index in range(len(target_vals)) :\n",
    "        plt.plot(fpr[index], tpr[index], lw=2, label=f\"ROC curve of class {target_vals[index]} (area = {roc_auc[index]:.2f})\")\n",
    "\n",
    "    # plt.plot([0,1], [0,1], color='navy', lw=2, linestyle='--')\n",
    "    plt.xlim([0.0, 1.0])\n",
    "    plt.ylim([0.0, 1.05])\n",
    "    plt.xlabel('False Positive Rate')\n",
    "    plt.ylabel('True Positive Rate')\n",
    "    plt.title('Receiver Operating Characterstic for Tumor classes')\n",
    "    plt.legend(loc=\"lower right\")\n",
    "    plt.show()\n",
    "\n"
   ]
  },
  {
   "cell_type": "markdown",
   "metadata": {},
   "source": [
    "#### XGBoost Model"
   ]
  },
  {
   "cell_type": "code",
   "execution_count": 340,
   "metadata": {},
   "outputs": [],
   "source": [
    "from xgboost import XGBClassifier\n",
    "\n",
    "def fit_xgb(xgb_X_train: DataFrame, xgb_y_train: Series):\n",
    "    xgb_classifier = XGBClassifier(use_label_encoder=False, eval_metric='mlogloss')\n",
    "    xgb_pipeline = createPipeline(xgb_classifier)\n",
    "    xgb_pipeline.fit(xgb_X_train, xgb_y_train)\n",
    "\n",
    "    return xgb_pipeline"
   ]
  },
  {
   "cell_type": "code",
   "execution_count": null,
   "metadata": {},
   "outputs": [],
   "source": [
    "def predict_xgb(xgb_pipeline:Pipeline, X_pca_dataframe:DataFrame, y_series:Series) :\n",
    "    '''\n",
    "    @param : sklearn Pipeline object with XGB as a classifier model\n",
    "    @return Returns the below in the given order :\n",
    "    xgb_predict: Values predicted by the model, as ndarray\n",
    "    xgb_train_score : Value returned by the `.score` method\n",
    "    xgb_train_accuracy : Value returned by the `.accuracy_score` method\n",
    "    xgb_train_proba_accuracy : Value returned by `accuracy_score` using probability prediction\n",
    "    '''\n",
    "    xgb_predict = xgb_pipeline.predict(X_pca_dataframe)\n",
    "\n",
    "    xgb_pca_model = xgb_pipeline.named_steps['pca']\n",
    "    xgb_model = xgb_pipeline.named_steps['model']\n",
    "\n",
    "\n",
    "    # xgb_train_score = xgb_pipeline.score(X_pca_dataframe, y_series)\n",
    "    # print(f\"XGBooster Classifier Model Score= {xgb_train_score}\")\n",
    "\n",
    "    # using actual predictions\n",
    "    xgb_train_accuracy = accuracy_score(y_series, xgb_predict)\n",
    "    print(f\"XGBooster Classifier Accuracy score= {xgb_train_accuracy}\")\n",
    "    # converting probabilities to predictions\n",
    "    # below outputs an array for each row with proba of a match [[0.79, 0.05, 0.04, 0.09, 0.03]\n",
    "    xgb_train_pred_proba = xgb_pipeline.predict_proba(X_pca_dataframe)\n",
    "\n",
    "    # below converts abv array to index with max prob value. eg: in case of above example output 0 as the index i.e max prob\n",
    "    xgb_train_proba_indices = np.argmax(xgb_train_pred_proba, axis=1)\n",
    "    y_series_indices = np.argmax(y_series, axis=1)\n",
    "    xgb_train_proba_accuracy = accuracy_score(y_series_indices, xgb_train_proba_indices)\n",
    "    print(f\"Accuracy score after converting prob to predictions= {xgb_train_proba_accuracy}\")\n",
    "\n",
    "    # Print the whole Classification report\n",
    "    report = classification_report(y_series, xgb_predict)\n",
    "    print(report)\n",
    "\n",
    "    print(f\"PCA No. of components= {xgb_pca_model.n_components_}\")\n",
    "\n",
    "    return xgb_predict, xgb_train_accuracy, xgb_train_proba_accuracy\n"
   ]
  },
  {
   "cell_type": "markdown",
   "metadata": {},
   "source": [
    "##### Model Evaluation (XGB)"
   ]
  },
  {
   "cell_type": "code",
   "execution_count": null,
   "metadata": {},
   "outputs": [],
   "source": [
    "\n",
    "def run_pca_xgboost():\n",
    "    # convert Target to binary given XGBoost requires it\n",
    "    print('------------ Train data ------------')\n",
    "    label_binzer = LabelBinarizer()\n",
    "    label_binzer.fit(y_train)\n",
    "    y_train_bin = label_binzer.transform(y_train).tolist()\n",
    "    # Uncomment below to identify mappings between binary format and the actual label\n",
    "    # 0=BRCA 1=COAD, 2=KIRC, 3=LUAD, 4=PRAD\n",
    "    # print(\"Binary data: \", y_train_bin)\n",
    "    # print(\"Label to int mapping: \", label_binzer.inverse_transform(np.array(y_train_bin)))\n",
    "\n",
    "    # Fit and run for train data\n",
    "    xg_pca_pipeline = fit_xgb(X_train_pca, y_train_bin)\n",
    "    predict_train, xg_train_accuracy, xg_train_proba_accuracy = predict_xgb(xg_pca_pipeline, X_train_pca, y_train_bin)\n",
    "\n",
    "    # Test data\n",
    "    print('------------ Test data ------------')\n",
    "    label_binzer.fit(y_test)\n",
    "    y_test_bin = label_binzer.transform(y_test).tolist()\n",
    "    xg_X_test_pca = clean_input_data(X_test, df_feature_outliers)\n",
    "    predict_test, xg_test_accuracy, xg_test_proba_accuracy = predict_xgb(xg_pca_pipeline, xg_X_test_pca, y_test_bin)\n",
    "\n",
    "    y_test_bin_arr = np.array(y_test_bin)\n",
    "    # confusion matrix\n",
    "    cm = confusion_matrix(y_true=np.argmax(y_test_bin_arr, axis=1), y_pred=np.argmax(predict_test, axis=1)) #, labels=class_unique_vals)\n",
    "    plot_confusion_matrix(cm, labels=class_unique_vals, title='XGBoost with PCA : Confusion Matrix')\n",
    "\n",
    "\n",
    "# xgb_pca_pipeline = fit_xgb(X_train_pca, y_train)\n",
    "# xgb_train_score, xgb_train_accuracy, xgb_train_proba_accuracy = predict_xgb_train(xgb_pca_pipeline)\n",
    "# # X_test_pca = clean_test_data(X_test)\n",
    "\n",
    "# xgb_test_score, xgb_test_accuracy, xgb_test_proba_accuracy = predict_xgb_test(xgb_pca_pipeline, X_test_pca, y_test)\n",
    "\n"
   ]
  },
  {
   "cell_type": "code",
   "execution_count": 367,
   "metadata": {},
   "outputs": [
    {
     "name": "stdout",
     "output_type": "stream",
     "text": [
      "------------ Train data ------------\n",
      "              precision    recall  f1-score   support\n",
      "\n",
      "           0       1.00      1.00      1.00       240\n",
      "           1       1.00      1.00      1.00        62\n",
      "           2       1.00      1.00      1.00       116\n",
      "           3       1.00      1.00      1.00       113\n",
      "           4       1.00      1.00      1.00       109\n",
      "\n",
      "   micro avg       1.00      1.00      1.00       640\n",
      "   macro avg       1.00      1.00      1.00       640\n",
      "weighted avg       1.00      1.00      1.00       640\n",
      " samples avg       1.00      1.00      1.00       640\n",
      "\n",
      "XGBooster Classifier Accuracy score= 1.0\n",
      "Accuracy score after converting prob to predictions= 1.0\n",
      "PCA No. of components= 640\n",
      "------------ Test data ------------\n",
      "Total # of cols after removing quartiles: 18604\n",
      "              precision    recall  f1-score   support\n",
      "\n",
      "           0       0.98      1.00      0.99        60\n",
      "           1       0.93      0.88      0.90        16\n",
      "           2       1.00      0.97      0.98        30\n",
      "           3       1.00      0.68      0.81        28\n",
      "           4       1.00      0.96      0.98        27\n",
      "\n",
      "   micro avg       0.99      0.92      0.95       161\n",
      "   macro avg       0.98      0.90      0.93       161\n",
      "weighted avg       0.99      0.92      0.95       161\n",
      " samples avg       0.91      0.92      0.92       161\n",
      "\n",
      "XGBooster Classifier Accuracy score= 0.906832298136646\n",
      "Accuracy score after converting prob to predictions= 0.9751552795031055\n",
      "PCA No. of components= 640\n"
     ]
    },
    {
     "data": {
      "application/vnd.plotly.v1+json": {
       "config": {
        "plotlyServerURL": "https://plot.ly"
       },
       "data": [
        {
         "colorscale": [
          [
           0,
           "rgb(150,0,90)"
          ],
          [
           0.125,
           "rgb(0,0,200)"
          ],
          [
           0.25,
           "rgb(0,25,255)"
          ],
          [
           0.375,
           "rgb(0,152,255)"
          ],
          [
           0.5,
           "rgb(44,255,150)"
          ],
          [
           0.625,
           "rgb(151,255,0)"
          ],
          [
           0.75,
           "rgb(255,234,0)"
          ],
          [
           0.875,
           "rgb(255,111,0)"
          ],
          [
           1,
           "rgb(255,0,0)"
          ]
         ],
         "textfont": {
          "size": 10
         },
         "texttemplate": "%{z}",
         "type": "heatmap",
         "x": [
          "PRAD",
          "LUAD",
          "BRCA",
          "KIRC",
          "COAD"
         ],
         "y": [
          "COAD",
          "KIRC",
          "BRCA",
          "LUAD",
          "PRAD"
         ],
         "z": {
          "bdata": "AQAAABoKAAASAAEBHAAAAg4AAAA8AAAAAA==",
          "dtype": "i1",
          "shape": "5, 5"
         }
        }
       ],
       "layout": {
        "height": 500,
        "template": {
         "data": {
          "bar": [
           {
            "error_x": {
             "color": "#2a3f5f"
            },
            "error_y": {
             "color": "#2a3f5f"
            },
            "marker": {
             "line": {
              "color": "#E5ECF6",
              "width": 0.5
             },
             "pattern": {
              "fillmode": "overlay",
              "size": 10,
              "solidity": 0.2
             }
            },
            "type": "bar"
           }
          ],
          "barpolar": [
           {
            "marker": {
             "line": {
              "color": "#E5ECF6",
              "width": 0.5
             },
             "pattern": {
              "fillmode": "overlay",
              "size": 10,
              "solidity": 0.2
             }
            },
            "type": "barpolar"
           }
          ],
          "carpet": [
           {
            "aaxis": {
             "endlinecolor": "#2a3f5f",
             "gridcolor": "white",
             "linecolor": "white",
             "minorgridcolor": "white",
             "startlinecolor": "#2a3f5f"
            },
            "baxis": {
             "endlinecolor": "#2a3f5f",
             "gridcolor": "white",
             "linecolor": "white",
             "minorgridcolor": "white",
             "startlinecolor": "#2a3f5f"
            },
            "type": "carpet"
           }
          ],
          "choropleth": [
           {
            "colorbar": {
             "outlinewidth": 0,
             "ticks": ""
            },
            "type": "choropleth"
           }
          ],
          "contour": [
           {
            "colorbar": {
             "outlinewidth": 0,
             "ticks": ""
            },
            "colorscale": [
             [
              0,
              "#0d0887"
             ],
             [
              0.1111111111111111,
              "#46039f"
             ],
             [
              0.2222222222222222,
              "#7201a8"
             ],
             [
              0.3333333333333333,
              "#9c179e"
             ],
             [
              0.4444444444444444,
              "#bd3786"
             ],
             [
              0.5555555555555556,
              "#d8576b"
             ],
             [
              0.6666666666666666,
              "#ed7953"
             ],
             [
              0.7777777777777778,
              "#fb9f3a"
             ],
             [
              0.8888888888888888,
              "#fdca26"
             ],
             [
              1,
              "#f0f921"
             ]
            ],
            "type": "contour"
           }
          ],
          "contourcarpet": [
           {
            "colorbar": {
             "outlinewidth": 0,
             "ticks": ""
            },
            "type": "contourcarpet"
           }
          ],
          "heatmap": [
           {
            "colorbar": {
             "outlinewidth": 0,
             "ticks": ""
            },
            "colorscale": [
             [
              0,
              "#0d0887"
             ],
             [
              0.1111111111111111,
              "#46039f"
             ],
             [
              0.2222222222222222,
              "#7201a8"
             ],
             [
              0.3333333333333333,
              "#9c179e"
             ],
             [
              0.4444444444444444,
              "#bd3786"
             ],
             [
              0.5555555555555556,
              "#d8576b"
             ],
             [
              0.6666666666666666,
              "#ed7953"
             ],
             [
              0.7777777777777778,
              "#fb9f3a"
             ],
             [
              0.8888888888888888,
              "#fdca26"
             ],
             [
              1,
              "#f0f921"
             ]
            ],
            "type": "heatmap"
           }
          ],
          "histogram": [
           {
            "marker": {
             "pattern": {
              "fillmode": "overlay",
              "size": 10,
              "solidity": 0.2
             }
            },
            "type": "histogram"
           }
          ],
          "histogram2d": [
           {
            "colorbar": {
             "outlinewidth": 0,
             "ticks": ""
            },
            "colorscale": [
             [
              0,
              "#0d0887"
             ],
             [
              0.1111111111111111,
              "#46039f"
             ],
             [
              0.2222222222222222,
              "#7201a8"
             ],
             [
              0.3333333333333333,
              "#9c179e"
             ],
             [
              0.4444444444444444,
              "#bd3786"
             ],
             [
              0.5555555555555556,
              "#d8576b"
             ],
             [
              0.6666666666666666,
              "#ed7953"
             ],
             [
              0.7777777777777778,
              "#fb9f3a"
             ],
             [
              0.8888888888888888,
              "#fdca26"
             ],
             [
              1,
              "#f0f921"
             ]
            ],
            "type": "histogram2d"
           }
          ],
          "histogram2dcontour": [
           {
            "colorbar": {
             "outlinewidth": 0,
             "ticks": ""
            },
            "colorscale": [
             [
              0,
              "#0d0887"
             ],
             [
              0.1111111111111111,
              "#46039f"
             ],
             [
              0.2222222222222222,
              "#7201a8"
             ],
             [
              0.3333333333333333,
              "#9c179e"
             ],
             [
              0.4444444444444444,
              "#bd3786"
             ],
             [
              0.5555555555555556,
              "#d8576b"
             ],
             [
              0.6666666666666666,
              "#ed7953"
             ],
             [
              0.7777777777777778,
              "#fb9f3a"
             ],
             [
              0.8888888888888888,
              "#fdca26"
             ],
             [
              1,
              "#f0f921"
             ]
            ],
            "type": "histogram2dcontour"
           }
          ],
          "mesh3d": [
           {
            "colorbar": {
             "outlinewidth": 0,
             "ticks": ""
            },
            "type": "mesh3d"
           }
          ],
          "parcoords": [
           {
            "line": {
             "colorbar": {
              "outlinewidth": 0,
              "ticks": ""
             }
            },
            "type": "parcoords"
           }
          ],
          "pie": [
           {
            "automargin": true,
            "type": "pie"
           }
          ],
          "scatter": [
           {
            "fillpattern": {
             "fillmode": "overlay",
             "size": 10,
             "solidity": 0.2
            },
            "type": "scatter"
           }
          ],
          "scatter3d": [
           {
            "line": {
             "colorbar": {
              "outlinewidth": 0,
              "ticks": ""
             }
            },
            "marker": {
             "colorbar": {
              "outlinewidth": 0,
              "ticks": ""
             }
            },
            "type": "scatter3d"
           }
          ],
          "scattercarpet": [
           {
            "marker": {
             "colorbar": {
              "outlinewidth": 0,
              "ticks": ""
             }
            },
            "type": "scattercarpet"
           }
          ],
          "scattergeo": [
           {
            "marker": {
             "colorbar": {
              "outlinewidth": 0,
              "ticks": ""
             }
            },
            "type": "scattergeo"
           }
          ],
          "scattergl": [
           {
            "marker": {
             "colorbar": {
              "outlinewidth": 0,
              "ticks": ""
             }
            },
            "type": "scattergl"
           }
          ],
          "scattermap": [
           {
            "marker": {
             "colorbar": {
              "outlinewidth": 0,
              "ticks": ""
             }
            },
            "type": "scattermap"
           }
          ],
          "scattermapbox": [
           {
            "marker": {
             "colorbar": {
              "outlinewidth": 0,
              "ticks": ""
             }
            },
            "type": "scattermapbox"
           }
          ],
          "scatterpolar": [
           {
            "marker": {
             "colorbar": {
              "outlinewidth": 0,
              "ticks": ""
             }
            },
            "type": "scatterpolar"
           }
          ],
          "scatterpolargl": [
           {
            "marker": {
             "colorbar": {
              "outlinewidth": 0,
              "ticks": ""
             }
            },
            "type": "scatterpolargl"
           }
          ],
          "scatterternary": [
           {
            "marker": {
             "colorbar": {
              "outlinewidth": 0,
              "ticks": ""
             }
            },
            "type": "scatterternary"
           }
          ],
          "surface": [
           {
            "colorbar": {
             "outlinewidth": 0,
             "ticks": ""
            },
            "colorscale": [
             [
              0,
              "#0d0887"
             ],
             [
              0.1111111111111111,
              "#46039f"
             ],
             [
              0.2222222222222222,
              "#7201a8"
             ],
             [
              0.3333333333333333,
              "#9c179e"
             ],
             [
              0.4444444444444444,
              "#bd3786"
             ],
             [
              0.5555555555555556,
              "#d8576b"
             ],
             [
              0.6666666666666666,
              "#ed7953"
             ],
             [
              0.7777777777777778,
              "#fb9f3a"
             ],
             [
              0.8888888888888888,
              "#fdca26"
             ],
             [
              1,
              "#f0f921"
             ]
            ],
            "type": "surface"
           }
          ],
          "table": [
           {
            "cells": {
             "fill": {
              "color": "#EBF0F8"
             },
             "line": {
              "color": "white"
             }
            },
            "header": {
             "fill": {
              "color": "#C8D4E3"
             },
             "line": {
              "color": "white"
             }
            },
            "type": "table"
           }
          ]
         },
         "layout": {
          "annotationdefaults": {
           "arrowcolor": "#2a3f5f",
           "arrowhead": 0,
           "arrowwidth": 1
          },
          "autotypenumbers": "strict",
          "coloraxis": {
           "colorbar": {
            "outlinewidth": 0,
            "ticks": ""
           }
          },
          "colorscale": {
           "diverging": [
            [
             0,
             "#8e0152"
            ],
            [
             0.1,
             "#c51b7d"
            ],
            [
             0.2,
             "#de77ae"
            ],
            [
             0.3,
             "#f1b6da"
            ],
            [
             0.4,
             "#fde0ef"
            ],
            [
             0.5,
             "#f7f7f7"
            ],
            [
             0.6,
             "#e6f5d0"
            ],
            [
             0.7,
             "#b8e186"
            ],
            [
             0.8,
             "#7fbc41"
            ],
            [
             0.9,
             "#4d9221"
            ],
            [
             1,
             "#276419"
            ]
           ],
           "sequential": [
            [
             0,
             "#0d0887"
            ],
            [
             0.1111111111111111,
             "#46039f"
            ],
            [
             0.2222222222222222,
             "#7201a8"
            ],
            [
             0.3333333333333333,
             "#9c179e"
            ],
            [
             0.4444444444444444,
             "#bd3786"
            ],
            [
             0.5555555555555556,
             "#d8576b"
            ],
            [
             0.6666666666666666,
             "#ed7953"
            ],
            [
             0.7777777777777778,
             "#fb9f3a"
            ],
            [
             0.8888888888888888,
             "#fdca26"
            ],
            [
             1,
             "#f0f921"
            ]
           ],
           "sequentialminus": [
            [
             0,
             "#0d0887"
            ],
            [
             0.1111111111111111,
             "#46039f"
            ],
            [
             0.2222222222222222,
             "#7201a8"
            ],
            [
             0.3333333333333333,
             "#9c179e"
            ],
            [
             0.4444444444444444,
             "#bd3786"
            ],
            [
             0.5555555555555556,
             "#d8576b"
            ],
            [
             0.6666666666666666,
             "#ed7953"
            ],
            [
             0.7777777777777778,
             "#fb9f3a"
            ],
            [
             0.8888888888888888,
             "#fdca26"
            ],
            [
             1,
             "#f0f921"
            ]
           ]
          },
          "colorway": [
           "#636efa",
           "#EF553B",
           "#00cc96",
           "#ab63fa",
           "#FFA15A",
           "#19d3f3",
           "#FF6692",
           "#B6E880",
           "#FF97FF",
           "#FECB52"
          ],
          "font": {
           "color": "#2a3f5f"
          },
          "geo": {
           "bgcolor": "white",
           "lakecolor": "white",
           "landcolor": "#E5ECF6",
           "showlakes": true,
           "showland": true,
           "subunitcolor": "white"
          },
          "hoverlabel": {
           "align": "left"
          },
          "hovermode": "closest",
          "mapbox": {
           "style": "light"
          },
          "paper_bgcolor": "white",
          "plot_bgcolor": "#E5ECF6",
          "polar": {
           "angularaxis": {
            "gridcolor": "white",
            "linecolor": "white",
            "ticks": ""
           },
           "bgcolor": "#E5ECF6",
           "radialaxis": {
            "gridcolor": "white",
            "linecolor": "white",
            "ticks": ""
           }
          },
          "scene": {
           "xaxis": {
            "backgroundcolor": "#E5ECF6",
            "gridcolor": "white",
            "gridwidth": 2,
            "linecolor": "white",
            "showbackground": true,
            "ticks": "",
            "zerolinecolor": "white"
           },
           "yaxis": {
            "backgroundcolor": "#E5ECF6",
            "gridcolor": "white",
            "gridwidth": 2,
            "linecolor": "white",
            "showbackground": true,
            "ticks": "",
            "zerolinecolor": "white"
           },
           "zaxis": {
            "backgroundcolor": "#E5ECF6",
            "gridcolor": "white",
            "gridwidth": 2,
            "linecolor": "white",
            "showbackground": true,
            "ticks": "",
            "zerolinecolor": "white"
           }
          },
          "shapedefaults": {
           "line": {
            "color": "#2a3f5f"
           }
          },
          "ternary": {
           "aaxis": {
            "gridcolor": "white",
            "linecolor": "white",
            "ticks": ""
           },
           "baxis": {
            "gridcolor": "white",
            "linecolor": "white",
            "ticks": ""
           },
           "bgcolor": "#E5ECF6",
           "caxis": {
            "gridcolor": "white",
            "linecolor": "white",
            "ticks": ""
           }
          },
          "title": {
           "x": 0.05
          },
          "xaxis": {
           "automargin": true,
           "gridcolor": "white",
           "linecolor": "white",
           "ticks": "",
           "title": {
            "standoff": 15
           },
           "zerolinecolor": "white",
           "zerolinewidth": 2
          },
          "yaxis": {
           "automargin": true,
           "gridcolor": "white",
           "linecolor": "white",
           "ticks": "",
           "title": {
            "standoff": 15
           },
           "zerolinecolor": "white",
           "zerolinewidth": 2
          }
         }
        },
        "title": {
         "text": "Confusion Matrix"
        },
        "width": 500,
        "xaxis": {
         "title": {
          "text": "Predicted Class"
         }
        },
        "yaxis": {
         "title": {
          "text": "Actual Class"
         }
        }
       }
      }
     },
     "metadata": {},
     "output_type": "display_data"
    }
   ],
   "source": [
    "run_pca_xgboost()"
   ]
  },
  {
   "cell_type": "code",
   "execution_count": null,
   "metadata": {},
   "outputs": [],
   "source": [
    "# -- RUN all the data processing and feature selection steps on TEST data\n",
    "# def clean_test_data(X_test: DataFrame):\n",
    "#     # 1. Drop outliers columns\n",
    "#     X_test_pca = X_test.drop(columns=df_feature_outliers.index.to_list())\n",
    "#     X_test_pca.columns\n",
    "\n",
    "#     X_test_pca = normalize_within_quartiles(X_test_pca)\n",
    "#     X_test_pca.head(10)\n",
    "#     print(f\"Total # of cols after removing quartiles: {len(X_test_pca.columns)}\")\n",
    "#     return X_test_pca\n",
    "\n",
    "\n",
    "\n",
    "# def predict_xgb_test(xgb_pipeline: Pipeline, X_test_pca: DataFrame, y_test: Series):\n",
    "#     '''\n",
    "#     @param xgb_pipeline : sklearn Pipeline object with XGBClassifier that has already been fit.\n",
    "#     @return : Returns the following scores in the given order :\n",
    "#     xgb_test_score : Value returned by the `.score` function, after prediction\n",
    "#     xgb_test_accuracy : Value returned by the `accuracy_score` function, after prediction\n",
    "#     xgb_test_proba_accuracy : Value returned by the `accuracy_score` function, using the probability prediction.\n",
    "#     '''\n",
    "#     xgb_predict_test = xgb_pipeline.predict(X_test_pca)\n",
    "\n",
    "#     # --- Evaluate ---\n",
    "#     xgb_test_score = xgb_pipeline.score(X_test_pca, y_test)\n",
    "#     print(f\"XGB Classifier Model Score= {xgb_test_score}\")\n",
    "#     # -- using actual predictions\n",
    "#     xgb_test_accuracy = accuracy_score(y_test, xgb_predict_test)\n",
    "#     print(f\"XGB Classifier Accuracy score= {xgb_test_accuracy}\")\n",
    "\n",
    "#     # -- converting probabilities to predictions\n",
    "#     # below outputs an array for each row with proba of a match [[0.79, 0.05, 0.04, 0.09, 0.03]\n",
    "#     xgb_test_proba_proba = xgb_pipeline.predict_proba(X_test_pca)\n",
    "#     # below returns indices with max prob value, from the given(above) array. eg: for abv array, returns 0 as the index\n",
    "#     xgb_test_proba_indices = np.argmax(xgb_test_proba_proba, axis=1)\n",
    "#     # convert y values to binary to match the above indices\n",
    "#     label_binzer = LabelBinarizer()\n",
    "#     label_binzer.fit(y_test)\n",
    "#     y_test_bin = label_binzer.transform(y_test).tolist()\n",
    "#     y_test_bin_indices = np.argmax(y_test_bin, axis=1)\n",
    "#     xgb_test_proba_accuracy = accuracy_score(y_test_bin_indices, xgb_test_proba_indices)\n",
    "#     print(f\"Accuracy score after converting prob to predictions= {xgb_test_proba_accuracy}\")\n",
    "\n",
    "#     return xgb_test_score, xgb_test_accuracy, xgb_test_proba_accuracy\n",
    "\n",
    "# print(f\"rd_oob_score = {rd_model.oob_score_}\")\n",
    "# print(f\"PCA No. of components= {pca_model.n_components_}\")\n",
    "\n",
    "# print(f\"PCA Explained Variance Ratio= {pca_model.explained_variance_ratio_}\")\n",
    "# print(f\"rd_feature_imp = {rd_model.feature_importances_}\")\n"
   ]
  },
  {
   "cell_type": "code",
   "execution_count": null,
   "metadata": {},
   "outputs": [],
   "source": []
  }
 ],
 "metadata": {
  "kernelspec": {
   "display_name": ".venv",
   "language": "python",
   "name": "python3"
  },
  "language_info": {
   "codemirror_mode": {
    "name": "ipython",
    "version": 3
   },
   "file_extension": ".py",
   "mimetype": "text/x-python",
   "name": "python",
   "nbconvert_exporter": "python",
   "pygments_lexer": "ipython3",
   "version": "3.13.0"
  }
 },
 "nbformat": 4,
 "nbformat_minor": 2
}
