{
 "cells": [
  {
   "cell_type": "markdown",
   "id": "470d343b",
   "metadata": {},
   "source": [
    "## "
   ]
  },
  {
   "cell_type": "markdown",
   "id": "c2f1ed90",
   "metadata": {},
   "source": [
    "# ENTER TITLE HERE\n",
    "\n",
    "Goal : \n",
    "\n",
    "Source of data : "
   ]
  },
  {
   "cell_type": "markdown",
   "id": "98b4f014",
   "metadata": {},
   "source": [
    "## Data Loading"
   ]
  },
  {
   "cell_type": "code",
   "execution_count": 5,
   "id": "ef94943e",
   "metadata": {},
   "outputs": [],
   "source": [
    "# variables\n",
    "DATA_DIR = '../../data'"
   ]
  },
  {
   "cell_type": "markdown",
   "id": "6d02b541",
   "metadata": {},
   "source": [
    "## Exploratory Data Analysis (EDA)"
   ]
  },
  {
   "cell_type": "markdown",
   "id": "99227fe0",
   "metadata": {},
   "source": [
    "### Data Cleansing and Pre-Processing"
   ]
  },
  {
   "cell_type": "code",
   "execution_count": null,
   "id": "0f8db0dd",
   "metadata": {},
   "outputs": [
    {
     "data": {
      "text/plain": [
       "True"
      ]
     },
     "execution_count": 12,
     "metadata": {},
     "output_type": "execute_result"
    }
   ],
   "source": [
    "df.isnull().any()"
   ]
  },
  {
   "cell_type": "code",
   "execution_count": null,
   "id": "e6130b1a",
   "metadata": {},
   "outputs": [],
   "source": []
  },
  {
   "cell_type": "markdown",
   "id": "d61f412e",
   "metadata": {},
   "source": [
    "## Univariate and Multivariate Analysis\n",
    "\n",
    "### Statistical Description\n",
    "### Correlation\n",
    "### Outliers\n"
   ]
  },
  {
   "cell_type": "markdown",
   "id": "25c11553",
   "metadata": {},
   "source": [
    "## Feature Selection\n",
    "### Dimensionality Reduction\n",
    "### Remove outliers\n"
   ]
  },
  {
   "cell_type": "markdown",
   "id": "ba34c97b",
   "metadata": {},
   "source": [
    "## Modeling"
   ]
  },
  {
   "cell_type": "markdown",
   "id": "d9a68753",
   "metadata": {},
   "source": [
    "### Persist Model"
   ]
  }
 ],
 "metadata": {
  "kernelspec": {
   "display_name": "Python 3",
   "language": "python",
   "name": "python3"
  },
  "language_info": {
   "codemirror_mode": {
    "name": "ipython",
    "version": 3
   },
   "file_extension": ".py",
   "mimetype": "text/x-python",
   "name": "python",
   "nbconvert_exporter": "python",
   "pygments_lexer": "ipython3",
   "version": "3.10.17"
  }
 },
 "nbformat": 4,
 "nbformat_minor": 5
}
