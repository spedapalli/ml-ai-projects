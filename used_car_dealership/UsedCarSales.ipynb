{
 "cells": [
  {
   "cell_type": "markdown",
   "metadata": {},
   "source": [
    "# What drives the price of a car?\n",
    "\n",
    "![](images/kurt.jpeg)"
   ]
  },
  {
   "cell_type": "markdown",
   "metadata": {},
   "source": [
    "**OVERVIEW**\n",
    "\n",
    "In this application, you will explore a dataset from Kaggle. The original dataset contained information on 3 million used cars. The provided dataset contains information on 426K cars to ensure speed of processing.  Your goal is to understand what factors make a car more or less expensive.  As a result of your analysis, you should provide clear recommendations to your client -- a used car dealership -- as to what consumers value in a used car."
   ]
  },
  {
   "cell_type": "markdown",
   "metadata": {},
   "source": [
    "### CRISP-DM Framework\n",
    "\n",
    "<center>\n",
    "    <img src = images/crisp.png width = 50%/>\n",
    "</center>\n",
    "\n",
    "\n",
    "To frame the task, throughout our practical applications, we will refer back to a standard process in industry for data projects called CRISP-DM.  This process provides a framework for working through a data problem.  Your first step in this application will be to read through a brief overview of CRISP-DM [here](https://mo-pcco.s3.us-east-1.amazonaws.com/BH-PCMLAI/module_11/readings_starter.zip).  After reading the overview, answer the questions below."
   ]
  },
  {
   "cell_type": "markdown",
   "metadata": {},
   "source": [
    "### Business Understanding\n",
    "\n",
    "Identify key drivers for used car prices.  As per CRISP-DM overview, convert this business framing to a data problem definition.  Reframe the task as a data task with the appropriate technical vocabulary. "
   ]
  },
  {
   "cell_type": "markdown",
   "metadata": {},
   "source": [
    "Business need is to understand what factors make a car more or less expensive, thereby understand customer choices that lead to a higher willingness to pay (WTP), thereby increasing its bottomline.\n",
    "We assume the dealership addresses the needs of common man primarily i.e standard set of make-model cars. Vintage / Antique or high end cars will be valued on an individual basis and not through this model. \n",
    "For analysis purpose, we need data of various choices (indpendent variables) our sales offers and customers seek and the corresponding cars price (dependent variable).\n"
   ]
  },
  {
   "cell_type": "markdown",
   "metadata": {},
   "source": [
    "### Data Understanding\n",
    "\n",
    "After considering the business understanding, we want to get familiar with our data.  Write down some steps that you would take to get to know the dataset and identify any quality issues within.  Take time to get to know the dataset and explore what information it contains and how this could be used to inform your business understanding."
   ]
  },
  {
   "cell_type": "code",
   "execution_count": null,
   "metadata": {},
   "outputs": [],
   "source": [
    "- Review the dataset to identify independent variables that matter\n",
    "- Cleanse the dataset by removing columns that add little to no value to the outcome, including columns with large data missing\n",
    "- Convert categorical vars to numeric. Fill any NIL values in key columns with data.\n",
    "NOTE : The fundamental assumption we make is, the dealership is looking at pricing general cars and not antiques / vintage or custom built or one-off cars."
   ]
  },
  {
   "cell_type": "code",
   "execution_count": 164,
   "metadata": {},
   "outputs": [],
   "source": [
    "# import libraries\n",
    "import pandas as pd\n",
    "import numpy as np\n",
    "import matplotlib.pyplot as plt\n",
    "import seaborn as sns\n"
   ]
  },
  {
   "cell_type": "code",
   "execution_count": 220,
   "metadata": {},
   "outputs": [
    {
     "name": "stdout",
     "output_type": "stream",
     "text": [
      "columns list:  Index(['id', 'region', 'price', 'year', 'manufacturer', 'model', 'condition',\n",
      "       'cylinders', 'fuel', 'odometer', 'title_status', 'transmission', 'VIN',\n",
      "       'drive', 'size', 'type', 'paint_color', 'state'],\n",
      "      dtype='object')\n"
     ]
    }
   ],
   "source": [
    "used_cars_df = pd.read_csv('./data/vehicles.csv')\n",
    "# used_cars_df.info()\n",
    "print('columns list: ', used_cars_df.columns)\n"
   ]
  },
  {
   "cell_type": "code",
   "execution_count": 221,
   "metadata": {},
   "outputs": [],
   "source": [
    "# from the list of columns, ones that do not provide much value for a buyer are :\n",
    "# id - seems like a random id given by the dealer,\n",
    "# VIN - A unique identifier of the vehicle which Has no value when determining price\n",
    "# drop columns\n",
    "used_cars_df.drop(columns=['id', 'VIN'], inplace=True, axis=1)\n",
    "\n"
   ]
  },
  {
   "cell_type": "code",
   "execution_count": 222,
   "metadata": {},
   "outputs": [
    {
     "name": "stdout",
     "output_type": "stream",
     "text": [
      "Total # of records=  426880\n",
      "(Numeric) Columns that have 0 values in cells and their count=\n",
      " price       32895\n",
      "odometer     1965\n",
      "dtype: int64\n",
      "Count of all NaNs= \n",
      " region               0\n",
      "price                0\n",
      "year              1205\n",
      "manufacturer     17646\n",
      "model             5277\n",
      "condition       174104\n",
      "cylinders       177678\n",
      "fuel              3013\n",
      "odometer          4400\n",
      "title_status      8242\n",
      "transmission      2556\n",
      "drive           130567\n",
      "size            306361\n",
      "type             92858\n",
      "paint_color     130203\n",
      "state                0\n",
      "dtype: int64\n",
      "Describe: \n",
      "               price           year      odometer\n",
      "count  4.268800e+05  425675.000000  4.224800e+05\n",
      "mean   7.519903e+04    2011.235191  9.804333e+04\n",
      "std    1.218228e+07       9.452120  2.138815e+05\n",
      "min    0.000000e+00    1900.000000  0.000000e+00\n",
      "25%    5.900000e+03    2008.000000  3.770400e+04\n",
      "50%    1.395000e+04    2013.000000  8.554800e+04\n",
      "75%    2.648575e+04    2017.000000  1.335425e+05\n",
      "max    3.736929e+09    2022.000000  1.000000e+07\n",
      "<class 'pandas.core.frame.DataFrame'>\n",
      "RangeIndex: 426880 entries, 0 to 426879\n",
      "Data columns (total 16 columns):\n",
      " #   Column        Non-Null Count   Dtype  \n",
      "---  ------        --------------   -----  \n",
      " 0   region        426880 non-null  object \n",
      " 1   price         426880 non-null  int64  \n",
      " 2   year          425675 non-null  float64\n",
      " 3   manufacturer  409234 non-null  object \n",
      " 4   model         421603 non-null  object \n",
      " 5   condition     252776 non-null  object \n",
      " 6   cylinders     249202 non-null  object \n",
      " 7   fuel          423867 non-null  object \n",
      " 8   odometer      422480 non-null  float64\n",
      " 9   title_status  418638 non-null  object \n",
      " 10  transmission  424324 non-null  object \n",
      " 11  drive         296313 non-null  object \n",
      " 12  size          120519 non-null  object \n",
      " 13  type          334022 non-null  object \n",
      " 14  paint_color   296677 non-null  object \n",
      " 15  state         426880 non-null  object \n",
      "dtypes: float64(2), int64(1), object(13)\n",
      "memory usage: 52.1+ MB\n",
      "None\n"
     ]
    }
   ],
   "source": [
    "# print(used_cars_df.head())\n",
    "# print(used_cars_df.tail())\n",
    "\n",
    "print('Total # of records= ', len(used_cars_df))\n",
    "# Print the count of 0 values for each Columns that has 0 in its cell(s)\n",
    "#print(\"Cells that have 0 value: \\n\", used_cars_df.eq(0).sum())\n",
    "cols_with_zero_vals = used_cars_df.eq(0).sum()\n",
    "print('(Numeric) Columns that have 0 values in cells and their count=\\n', cols_with_zero_vals[cols_with_zero_vals > 0])\n",
    "# Get a count of all NaNs and if columns have\n",
    "print('Count of all NaNs= \\n',used_cars_df.isnull().sum())\n",
    "# Get stats for each column\n",
    "print('Describe: \\n',used_cars_df.describe())\n",
    "\n",
    "#used_cars_df.convert_dtypes()\n",
    "print(used_cars_df.info())\n",
    "\n"
   ]
  },
  {
   "cell_type": "code",
   "execution_count": 223,
   "metadata": {},
   "outputs": [
    {
     "name": "stdout",
     "output_type": "stream",
     "text": [
      "State:  ['az' 'ar' 'fl' 'ma' 'nc' 'ny' 'or' 'pa' 'tx' 'wa' 'wi' 'al' 'ak' 'ca'\n",
      " 'co' 'ct' 'dc' 'de' 'ga' 'hi' 'id' 'il' 'in' 'ia' 'ks' 'ky' 'la' 'me'\n",
      " 'md' 'mi' 'mn' 'ms' 'mo' 'mt' 'ne' 'nv' 'nj' 'nm' 'nh' 'nd' 'oh' 'ok'\n",
      " 'ri' 'sc' 'sd' 'tn' 'ut' 'vt' 'va' 'wv' 'wy']\n",
      "Region:  ['prescott' 'fayetteville' 'florida keys' 'worcester / central MA'\n",
      " 'greensboro' 'hudson valley' 'medford-ashland' 'erie' 'el paso'\n",
      " 'bellingham' 'skagit / island / SJI' 'la crosse' 'auburn' 'birmingham'\n",
      " 'dothan' 'florence / muscle shoals' 'gadsden-anniston'\n",
      " 'huntsville / decatur' 'mobile' 'montgomery' 'tuscaloosa'\n",
      " 'anchorage / mat-su' 'fairbanks' 'kenai peninsula' 'southeast alaska'\n",
      " 'flagstaff / sedona' 'mohave county' 'phoenix' 'show low' 'sierra vista'\n",
      " 'tucson' 'yuma' 'fort smith' 'jonesboro' 'little rock' 'texarkana'\n",
      " 'bakersfield' 'chico' 'fresno / madera' 'gold country' 'hanford-corcoran'\n",
      " 'humboldt county' 'imperial county' 'inland empire' 'los angeles'\n",
      " 'mendocino county' 'merced' 'modesto' 'monterey bay' 'orange county'\n",
      " 'palm springs' 'redding' 'reno / tahoe' 'sacramento' 'san diego'\n",
      " 'san luis obispo' 'santa barbara' 'santa maria' 'SF bay area'\n",
      " 'siskiyou county' 'stockton' 'susanville' 'ventura county'\n",
      " 'visalia-tulare' 'yuba-sutter' 'boulder' 'colorado springs' 'denver'\n",
      " 'eastern CO' 'fort collins / north CO' 'high rockies' 'pueblo'\n",
      " 'western slope' 'eastern CT' 'hartford' 'new haven' 'northwest CT'\n",
      " 'washington, DC' 'delaware' 'daytona beach' 'ft myers / SW florida'\n",
      " 'gainesville' 'heartland florida' 'jacksonville' 'lakeland'\n",
      " 'north central FL' 'ocala' 'okaloosa / walton' 'orlando' 'panama city'\n",
      " 'pensacola' 'sarasota-bradenton' 'south florida' 'space coast'\n",
      " 'st augustine' 'tallahassee' 'tampa bay area' 'treasure coast' 'albany'\n",
      " 'athens' 'atlanta' 'augusta' 'brunswick' 'columbus'\n",
      " 'macon / warner robins' 'northwest GA' 'savannah / hinesville'\n",
      " 'statesboro' 'valdosta' 'hawaii' 'boise' 'east idaho'\n",
      " 'lewiston / clarkston' 'pullman / moscow' \"spokane / coeur d'alene\"\n",
      " 'twin falls' 'bloomington-normal' 'champaign urbana' 'chicago' 'decatur'\n",
      " 'la salle co' 'mattoon-charleston' 'peoria' 'quad cities, IA/IL'\n",
      " 'rockford' 'southern illinois' 'springfield' 'st louis, MO' 'western IL'\n",
      " 'bloomington' 'evansville' 'fort wayne' 'indianapolis' 'kokomo'\n",
      " 'lafayette / west lafayette' 'muncie / anderson' 'richmond'\n",
      " 'south bend / michiana' 'terre haute' 'ames' 'cedar rapids' 'des moines'\n",
      " 'dubuque' 'fort dodge' 'iowa city' 'mason city' 'omaha / council bluffs'\n",
      " 'sioux city' 'southeast IA' 'waterloo / cedar falls' 'kansas city, MO'\n",
      " 'lawrence' 'manhattan' 'northwest KS' 'salina' 'southeast KS'\n",
      " 'southwest KS' 'topeka' 'wichita' 'bowling green' 'eastern kentucky'\n",
      " 'huntington-ashland' 'lexington' 'louisville' 'owensboro' 'western KY'\n",
      " 'baton rouge' 'central louisiana' 'houma' 'lafayette' 'lake charles'\n",
      " 'monroe' 'new orleans' 'shreveport' 'maine' 'annapolis' 'baltimore'\n",
      " 'cumberland valley' 'eastern shore' 'frederick' 'southern maryland'\n",
      " 'western maryland' 'boston' 'cape cod / islands' 'south coast'\n",
      " 'western massachusetts' 'ann arbor' 'battle creek' 'central michigan'\n",
      " 'detroit metro' 'flint' 'grand rapids' 'holland' 'jackson' 'kalamazoo'\n",
      " 'lansing' 'muskegon' 'northern michigan' 'port huron'\n",
      " 'saginaw-midland-baycity' 'southwest michigan' 'the thumb'\n",
      " 'upper peninsula' 'bemidji' 'brainerd' 'duluth / superior'\n",
      " 'fargo / moorhead' 'mankato' 'minneapolis / st paul' 'rochester'\n",
      " 'southwest MN' 'st cloud' 'gulfport / biloxi' 'hattiesburg' 'meridian'\n",
      " 'north mississippi' 'southwest MS' 'columbia / jeff city' 'joplin'\n",
      " 'kansas city' 'kirksville' 'lake of the ozarks' 'southeast missouri'\n",
      " 'st joseph' 'st louis' 'billings' 'bozeman' 'butte' 'eastern montana'\n",
      " 'great falls' 'helena' 'kalispell' 'missoula' 'asheville' 'boone'\n",
      " 'charlotte' 'eastern NC' 'hickory / lenoir' 'outer banks'\n",
      " 'raleigh / durham / CH' 'wilmington' 'winston-salem' 'grand island'\n",
      " 'lincoln' 'north platte' 'scottsbluff / panhandle' 'elko' 'las vegas'\n",
      " 'central NJ' 'jersey shore' 'north jersey' 'south jersey' 'albuquerque'\n",
      " 'clovis / portales' 'farmington' 'las cruces' 'roswell / carlsbad'\n",
      " 'santa fe / taos' 'binghamton' 'buffalo' 'catskills' 'chautauqua'\n",
      " 'elmira-corning' 'finger lakes' 'glens falls' 'ithaca' 'long island'\n",
      " 'new york city' 'oneonta' 'plattsburgh-adirondacks'\n",
      " 'potsdam-canton-massena' 'syracuse' 'twin tiers NY/PA'\n",
      " 'utica-rome-oneida' 'watertown' 'new hampshire' 'bismarck' 'grand forks'\n",
      " 'north dakota' 'akron / canton' 'ashtabula' 'chillicothe' 'cincinnati'\n",
      " 'cleveland' 'dayton / springfield' 'lima / findlay' 'mansfield'\n",
      " 'northern panhandle' 'parkersburg-marietta' 'sandusky' 'toledo'\n",
      " 'tuscarawas co' 'youngstown' 'zanesville / cambridge' 'fort smith, AR'\n",
      " 'lawton' 'northwest OK' 'oklahoma city' 'stillwater' 'texoma' 'tulsa'\n",
      " 'bend' 'corvallis/albany' 'east oregon' 'eugene' 'klamath falls'\n",
      " 'oregon coast' 'portland' 'roseburg' 'salem' 'altoona-johnstown'\n",
      " 'harrisburg' 'lancaster' 'lehigh valley' 'meadville' 'philadelphia'\n",
      " 'pittsburgh' 'poconos' 'reading' 'scranton / wilkes-barre'\n",
      " 'state college' 'williamsport' 'york' 'rhode island' 'charleston'\n",
      " 'columbia' 'florence' 'greenville / upstate' 'hilton head' 'myrtle beach'\n",
      " 'northeast SD' 'pierre / central SD' 'rapid city / west SD'\n",
      " 'sioux falls / SE SD' 'south dakota' 'chattanooga' 'clarksville'\n",
      " 'cookeville' 'knoxville' 'memphis' 'nashville' 'tri-cities' 'abilene'\n",
      " 'amarillo' 'austin' 'beaumont / port arthur' 'brownsville'\n",
      " 'college station' 'corpus christi' 'dallas / fort worth'\n",
      " 'deep east texas' 'del rio / eagle pass' 'galveston' 'houston'\n",
      " 'killeen / temple / ft hood' 'laredo' 'lubbock' 'mcallen / edinburg'\n",
      " 'odessa / midland' 'san angelo' 'san antonio' 'san marcos' 'southwest TX'\n",
      " 'tyler / east TX' 'victoria' 'waco' 'wichita falls' 'logan'\n",
      " 'ogden-clearfield' 'provo / orem' 'salt lake city' 'st george' 'vermont'\n",
      " 'charlottesville' 'danville' 'fredericksburg' 'harrisonburg' 'lynchburg'\n",
      " 'new river valley' 'norfolk / hampton roads' 'roanoke' 'southwest VA'\n",
      " 'winchester' 'kennewick-pasco-richland' 'moses lake' 'olympic peninsula'\n",
      " 'seattle-tacoma' 'wenatchee' 'yakima' 'eastern panhandle' 'morgantown'\n",
      " 'southern WV' 'west virginia (old)' 'appleton-oshkosh-FDL' 'eau claire'\n",
      " 'green bay' 'janesville' 'kenosha-racine' 'madison' 'milwaukee'\n",
      " 'northern WI' 'sheboygan' 'wausau' 'wyoming']\n"
     ]
    }
   ],
   "source": [
    "# Evaluating state vs region\n",
    "print('State: ', used_cars_df['state'].unique())\n",
    "print('Region: ', used_cars_df['region'].unique())\n",
    "\n",
    "# state and region columns largely serve the same purpose. While Region values are a mix of state, county, city etc.,\n",
    "# state is more consistent although at a more coarse level. Hence lets drop Region column\n"
   ]
  },
  {
   "cell_type": "markdown",
   "metadata": {},
   "source": [
    "##### Data analysis of Numeric columns"
   ]
  },
  {
   "cell_type": "code",
   "execution_count": 224,
   "metadata": {},
   "outputs": [
    {
     "name": "stdout",
     "output_type": "stream",
     "text": [
      "# of cars with Year built before 1970=  6487\n",
      "# of cars with Price less than 2000 OR greater than 200K =  53101\n",
      "# of cars with Odomoter miles more than 100k=  175339\n",
      "# of cars with miles gt than 1M and year > 2013=  91\n",
      "# of all NaNs in Odometer values=  0\n"
     ]
    }
   ],
   "source": [
    "\n",
    "\n",
    "def is_invalid_price(num):\n",
    "    num_str = str(num)\n",
    "    one_digit = (len(set(num_str)) == 1)\n",
    "\n",
    "\n",
    "# --------- YEAR -----------\n",
    "used_cars_df['year'].value_counts().to_csv('analysis/year_data_frequency.csv')\n",
    "# Year with value of NaN will be normalized to a number i.e 0 to help set the column dtype\n",
    "used_cars_df['year'] = used_cars_df['year'].replace([np.nan, np.inf], 0).astype('Int64')\n",
    "## Given dealership has cars as old as 1900, we are going to make a call here :\n",
    "### any car with Year < 1970 is a vintage and priced differently\n",
    "before_year_1970 = used_cars_df.loc[used_cars_df['year'] < 1970]\n",
    "print('# of cars with Year built before 1970= ', len(before_year_1970))\n",
    "\n",
    "# ----------- Price -----------\n",
    "used_cars_df['price'].value_counts().to_csv('analysis/price_data_frequency.csv')\n",
    "# Based on the first print stmt above, 32895 rows have a price of 0. In other words, bad data most likely\n",
    "## From visual research of data, we will drop cars that hv :\n",
    "### a price of zero (although we can impute values, we will focus on normal cars)\n",
    "### any car priced < 2000 is not worth the sales person time and inventory costs : 52977 records\n",
    "### car priced > 200K is considered vintage and hence we drop them\n",
    "### car priced with weird numbers 1234567 or 1111111\n",
    "price_less_2000 = used_cars_df.query(\"price < 2000 or price > 200000\")\n",
    "print('# of cars with Price less than 2000 OR greater than 200K = ', len(price_less_2000))\n",
    "\n",
    "# ------------ Odometer --------------\n",
    "used_cars_df['odometer'] = used_cars_df['odometer'].replace([np.nan, np.inf], 0).astype('Int64')\n",
    "used_cars_df['odometer'].value_counts().to_csv('analysis/odometer_data_frequency.csv')\n",
    "# Odometer with value of NaN will be normalized to a number i.e 0\n",
    "# used_cars_df['odometer'] = used_cars_df['odometer'].replace([np.nan, np.inf], 0).astype('Int64')\n",
    "\n",
    "odo_miles_above_100k = used_cars_df.loc[used_cars_df['odometer'] > 100000]\n",
    "odo_miles_above_100k.to_csv('analysis/odometer_100k.csv')\n",
    "print('# of cars with Odomoter miles more than 100k= ', len(odo_miles_above_100k))\n",
    "# -- Summary of Odometer analysis :\n",
    "## Based on G search (https://www.google.com/search?client=firefox-b-1-d&q=any+car+driven+million+mile), max # of miles driven by a car is 3.2M miles.\n",
    "## Also looking at the data, a lot of obvious bad data 2020+ model wih 1M miles, etc..\n",
    "## Given the abv, we will drop cars that hv :\n",
    "### more than 1M miles and dated 2013 or above (per abv G search 2013 Hyundai hit 1M).\n",
    "# -- need to input 'engine' param to avoid warning msg. Refer https://github.com/pandas-dev/pandas/issues/29027\n",
    "print('# of cars with miles gt than 1M and year > 2013= ', len(used_cars_df.query('odometer > 1000000 and year > 2013', engine='python')))\n",
    "\n",
    "print('# of all NaNs in Odometer values= ',used_cars_df['odometer'].isnull().sum())\n",
    "\n"
   ]
  },
  {
   "cell_type": "markdown",
   "metadata": {},
   "source": [
    "##### Data Analysis of Non-Numeric columns"
   ]
  },
  {
   "cell_type": "code",
   "execution_count": 225,
   "metadata": {},
   "outputs": [
    {
     "name": "stdout",
     "output_type": "stream",
     "text": [
      "Describe:            region manufacturer   model condition    cylinders    fuel  \\\n",
      "count     426880       409234  421603    252776       249202  423867   \n",
      "unique       404           42   29649         6            8       5   \n",
      "top     columbus         ford   f-150      good  6 cylinders     gas   \n",
      "freq        3608        70985    8009    121456        94169  356209   \n",
      "\n",
      "       title_status transmission   drive       size    type paint_color  \\\n",
      "count        418638       424324  296313     120519  334022      296677   \n",
      "unique            6            3       3          4      13          12   \n",
      "top           clean    automatic     4wd  full-size   sedan       white   \n",
      "freq         405117       336524  131904      63465   87056       79285   \n",
      "\n",
      "         state  \n",
      "count   426880  \n",
      "unique      51  \n",
      "top         ca  \n",
      "freq     50614  \n",
      "Values for size:  [nan 'full-size' 'mid-size' 'compact' 'sub-compact']\n",
      "Unique Manufacturer values=  [nan 'gmc' 'chevrolet' 'toyota' 'ford' 'jeep' 'nissan' 'ram' 'mazda'\n",
      " 'cadillac' 'honda' 'dodge' 'lexus' 'jaguar' 'buick' 'chrysler' 'volvo'\n",
      " 'audi' 'infiniti' 'lincoln' 'alfa-romeo' 'subaru' 'acura' 'hyundai'\n",
      " 'mercedes-benz' 'bmw' 'mitsubishi' 'volkswagen' 'porsche' 'kia' 'rover'\n",
      " 'ferrari' 'mini' 'pontiac' 'fiat' 'tesla' 'saturn' 'mercury'\n",
      " 'harley-davidson' 'datsun' 'aston-martin' 'land rover' 'morgan']\n",
      "# of Unique Manufacturer values=  43\n",
      "# of NaNs for Manufacturer :  17646\n",
      "# of unique values for Model=  29650\n",
      "# of unique values for Manufacturer AND Model=  30251\n",
      "Unique Type values=  [nan 'pickup' 'truck' 'other' 'coupe' 'SUV' 'hatchback' 'mini-van' 'sedan'\n",
      " 'offroad' 'bus' 'van' 'convertible' 'wagon']\n",
      "# of NANs in Type column =  92858\n"
     ]
    }
   ],
   "source": [
    "# -- Below stmt errors out \"\"\n",
    "print(\"Describe: \", used_cars_df.describe(exclude=[int, float]))\n",
    "\n",
    "# -------- Size --------------\n",
    "print(\"Values for size: \", used_cars_df['size'].unique())\n",
    "\n",
    "\n",
    "# ------------- manufacturer and Model --------------\n",
    "print('Unique Manufacturer values= ', used_cars_df['manufacturer'].unique())\n",
    "print('# of Unique Manufacturer values= ', len(used_cars_df['manufacturer'].unique()))\n",
    "print('# of NaNs for Manufacturer : ', used_cars_df['manufacturer'].isna().sum())\n",
    "print('# of unique values for Model= ', len(used_cars_df['model'].unique()))\n",
    "manuf_model_unique_vals = used_cars_df[['model', 'manufacturer']].drop_duplicates()\n",
    "print('# of unique values for Manufacturer AND Model= ', len(manuf_model_unique_vals))\n",
    "manuf_model_unique_vals.to_csv('analysis/manuf_model_unique_values.csv')\n",
    "used_cars_df[['model', 'manufacturer']].value_counts().to_csv('analysis/manuf_model_freq_count.csv')\n",
    "#used_cars_df['make'].value_counts().to_csv('analysis/model_freq_count.csv')\n",
    "# ----- Summary of Manufacturer and Model analysis :\n",
    "## Manufacturer : 17646 rows have NaNs.\n",
    "## Model : 29650 unique values\n",
    "## There are 24168 unique Model names in the file.\n",
    "### Combination of Manuf and Model results in 30251 unique combinations\n",
    "\n",
    "# -------------- Type ----------------\n",
    "print('Unique Type values= ', used_cars_df['type'].unique())\n",
    "print('# of NANs in Type column = ', used_cars_df['type'].isna().sum())\n",
    "\n"
   ]
  },
  {
   "cell_type": "markdown",
   "metadata": {},
   "source": [
    "### Data Preparation\n",
    "\n",
    "After our initial exploration and fine-tuning of the business understanding, it is time to construct our final dataset prior to modeling.  Here, we want to make sure to handle any integrity issues and cleaning, the engineering of new features, any transformations that we believe should happen (scaling, logarithms, normalization, etc.), and general preparation for modeling with `sklearn`. "
   ]
  },
  {
   "cell_type": "markdown",
   "metadata": {},
   "source": [
    "- Remove columns with less than 50% of data\n",
    "- Run PCA or other techniques to reduce dimensionality\n",
    "- Identify models to evaluate the data - Linear or polynomial (to what degree) regression\n",
    "- "
   ]
  },
  {
   "cell_type": "code",
   "execution_count": 226,
   "metadata": {},
   "outputs": [
    {
     "name": "stdout",
     "output_type": "stream",
     "text": [
      "<class 'pandas.core.frame.DataFrame'>\n",
      "RangeIndex: 426880 entries, 0 to 426879\n",
      "Data columns (total 14 columns):\n",
      " #   Column        Non-Null Count   Dtype \n",
      "---  ------        --------------   ----- \n",
      " 0   price         426880 non-null  int64 \n",
      " 1   year          426880 non-null  Int64 \n",
      " 2   manufacturer  409234 non-null  object\n",
      " 3   model         421603 non-null  object\n",
      " 4   condition     252776 non-null  object\n",
      " 5   cylinders     249202 non-null  object\n",
      " 6   fuel          423867 non-null  object\n",
      " 7   odometer      426880 non-null  Int64 \n",
      " 8   title_status  418638 non-null  object\n",
      " 9   transmission  424324 non-null  object\n",
      " 10  drive         296313 non-null  object\n",
      " 11  type          334022 non-null  object\n",
      " 12  paint_color   296677 non-null  object\n",
      " 13  state         426880 non-null  object\n",
      "dtypes: Int64(2), int64(1), object(11)\n",
      "memory usage: 46.4+ MB\n"
     ]
    }
   ],
   "source": [
    "# Given column size has more than half (306361 / 426880) of its values missing. Region is dup of state and for this arg we will focus at pricing at a state level.\n",
    "# Assume these columns have lesser significance on the Price, drop these columns\n",
    "used_cars_df.drop(columns=['size', 'region'], inplace=True, axis=1)\n",
    "used_cars_df.info()\n"
   ]
  },
  {
   "cell_type": "code",
   "execution_count": 227,
   "metadata": {},
   "outputs": [],
   "source": [
    "# ------------ YEAR -------------\n",
    "# Remove rows that have Year as N/A i.e 1205 rows\n",
    "used_cars_df.dropna(subset=['year'], inplace=True)\n",
    "# Remove rows with Year less than 1970 : 426880 - 420393 = 5282 are dropped.\n",
    "used_cars_df.drop(used_cars_df[used_cars_df.year < 1970].index, inplace=True)\n",
    "\n",
    "\n",
    "# ------------ Price ------------\n",
    "used_cars_df.drop(used_cars_df.query(\"price < 2000 or price > 200000\").index, inplace=True)\n",
    "\n",
    "\n",
    "# ------------ ODOMETER --------------\n",
    "# -- need to input 'engine' param to avoid warning msg. Refer https://github.com/pandas-dev/pandas/issues/29027\n",
    "used_cars_df.drop(used_cars_df.query('odometer > 1000000 and year > 2013', engine='python').index, inplace=True)\n",
    "\n"
   ]
  },
  {
   "cell_type": "code",
   "execution_count": 228,
   "metadata": {},
   "outputs": [
    {
     "name": "stdout",
     "output_type": "stream",
     "text": [
      "NaNs in Manufacturer-Model=  0\n"
     ]
    }
   ],
   "source": [
    "# ------------ MANUFACTURER and MODEL --------------\n",
    "# Normalize the Manuf values\n",
    "used_cars_df['manufacturer'] = used_cars_df['manufacturer'].str.lower().str.strip()\n",
    "used_cars_df['manufacturer'] = used_cars_df['manufacturer'].fillna('unknown')\n",
    "\n",
    "# Normalize the Model values\n",
    "used_cars_df['model'] = used_cars_df['model'].str.lower().str.strip()\n",
    "used_cars_df['model'] = used_cars_df['model'].fillna('unknown')\n",
    "\n",
    "used_cars_df['manuf-model']=used_cars_df['manufacturer'] + '---' + used_cars_df['model']\n",
    "\n",
    "used_cars_df['manuf-model'].value_counts(dropna=False).to_csv('analysis/manuf_model_freq_count.csv')\n",
    "used_cars_df['model'].value_counts(dropna=False).to_csv('analysis/model_freq_count.csv')\n",
    "used_cars_df['manufacturer'].value_counts(dropna=False).to_csv('analysis/manuf_freq_count.csv')\n",
    "manuf_model_na_df = used_cars_df[used_cars_df['manuf-model'].isna()]\n",
    "print('NaNs in Manufacturer-Model= ', used_cars_df['manuf-model'].isna().sum())\n",
    "\n"
   ]
  },
  {
   "cell_type": "code",
   "execution_count": 229,
   "metadata": {},
   "outputs": [],
   "source": [
    "# ------------ Fuel -------------\n",
    "# Clean up fuel column. THe Manuf-Model column seems to be more descriptive of the car type. Hence we use that to determine hybird type cars\n",
    "used_cars_df['fuel'] = used_cars_df.apply(\n",
    "    lambda row: 'hybrid' if ('prius' in row['manuf-model'].lower() or 'hybrid' in row['manuf-model'].lower()) else row['fuel'],\n",
    "    axis=1)\n",
    "# NOTE : Fill all NaNs (~ 2277 records) with 'unknown' value\n",
    "used_cars_df['fuel'] = used_cars_df['fuel'].fillna('unknown')\n",
    "#used_cars_df['cylinders_elec'] = used_cars_df.apply(lambda row: '' if ('electric' in row['fuel'].lower()) else row['cylinders'], axis=1)\n",
    "\n",
    "\n"
   ]
  },
  {
   "cell_type": "code",
   "execution_count": null,
   "metadata": {},
   "outputs": [
    {
     "name": "stdout",
     "output_type": "stream",
     "text": [
      "['white' 'blue' 'red' 'black' 'silver' 'grey' nan 'brown' 'yellow'\n",
      " 'orange' 'green' 'custom' 'purple']\n",
      "[11  1  8  0  9  5 10  2 12  6  4  3  7]\n"
     ]
    }
   ],
   "source": [
    "# ------------ Paint -------------\n",
    "print(used_cars_df['paint_color'].unique())\n",
    "# 13 unique values = 13 column for paint if we use OnHotEncoder. Increased dimensionality which we want to avoid.\n",
    "used_cars_df['paint_color'] = used_cars_df['paint_color'].fillna('unknown')\n",
    "# used_cars_df['paint_color'] = used_cars_df['paint_color'].str.lower().str.strip()\n",
    "\n",
    "# Use TargetEncoder to convert to numeric -- Output is a float and larger value while LabelEncoder is an int and smaller value\n",
    "# paint_color_mean = used_cars_df.groupby('paint_color')['price'].mean()\n",
    "# print(type(paint_color_mean))\n",
    "# used_cars_df['paint_color_target'] = used_cars_df['paint_color'].map(paint_color_mean)\n",
    "\n",
    "# Using Label Encoding - hoping model does not get skewed assuming some sort of order in the int numbers\n",
    "from sklearn.preprocessing import LabelEncoder\n",
    "label_encoder = LabelEncoder()\n",
    "used_cars_df['paint_color_label'] = label_encoder.fit_transform(used_cars_df['paint_color'])\n",
    "print(used_cars_df['paint_color_label'].unique())\n",
    "\n",
    "\n"
   ]
  },
  {
   "cell_type": "code",
   "execution_count": 260,
   "metadata": {},
   "outputs": [],
   "source": [
    "# ------------ Cylinders -------------\n",
    "#used_cars_df['cylinders_num'] = {row['cylinders'].removesuffix(' cylinders') for index, row in range(len(used_cars_df['cylinders']))}\n",
    "#used_cars_df['cylinders_num'] = used_cars_df.apply(lambda row: row['cylinders'].removesuffix(' cylinders'), axis=1)\n",
    "used_cars_df['cylinders_num'] = used_cars_df['cylinders'].str.removesuffix(' cylinders')\n",
    "used_cars_df['cylinders_num'] = used_cars_df.apply(lambda row: 0 if (\n",
    "    ('tesla' in row['manuf-model'].lower()) |\n",
    "    ('leaf' in row['manuf-model'].lower()) |\n",
    "    ('electric' in row['manuf-model'].lower())) else row['cylinders_num'], axis=1)\n",
    "# After above, we are left with 589 records with 'other'. We will drop these records\n",
    "used_cars_df.drop(used_cars_df[used_cars_df['cylinders_num'] == 'other'].index, inplace=True)\n",
    "#used_cars_df['cylinders_num'].astype('Int64')\n",
    "# print(used_cars_df['cylinders_num'].unique())\n",
    "# NOTE: In spite of all the above, we still have 149893 records with NaNs, which is close to 40% of (366988). We will drop this column\n",
    "used_cars_df.drop(columns=['cylinders_num'], inplace=True, axis=1)\n",
    "\n"
   ]
  },
  {
   "cell_type": "code",
   "execution_count": 232,
   "metadata": {},
   "outputs": [
    {
     "name": "stdout",
     "output_type": "stream",
     "text": [
      "Number of NAs in title_status= 0\n"
     ]
    }
   ],
   "source": [
    "# ------------ Title_Status -------------\n",
    "# Using Ordinal encoding for title_status givne the order of the values\n",
    "# NOTE : NaNs are filled with 'unknown' and considered to be most risky given nothing is known about them\n",
    "title_map = {'clean': 6, 'lien': 5, 'rebuilt': 4, 'missing': 3, 'parts only': 2, 'salvage': 1, 'unknown': 0}\n",
    "used_cars_df['title_status'] = used_cars_df['title_status'].fillna('unknown')\n",
    "used_cars_df['title_status_num'] = used_cars_df['title_status'].map(title_map)\n",
    "print(f'Number of NAs in title_status= {used_cars_df[\"title_status_num\"].isna().sum()}')\n",
    "\n",
    "\n"
   ]
  },
  {
   "cell_type": "code",
   "execution_count": 233,
   "metadata": {},
   "outputs": [
    {
     "name": "stdout",
     "output_type": "stream",
     "text": [
      "Checking for CLEAN again=  133292\n",
      "NaNs in Condition=  1934\n"
     ]
    }
   ],
   "source": [
    "# ------------ Condition -------------\n",
    "# 138395 NaNs in condition column.\n",
    "# NOTE : Given the overlap between condition and title_status, we will use title_status to fill the missing values in condition.\n",
    "# Below is the mapping, presumably done with Business team\n",
    "# used_cars_df.drop(columns=['condition_title'], inplace=True, axis=1)\n",
    "clean_condition = used_cars_df[(used_cars_df['title_status'] == 'clean') &\n",
    "                               ((used_cars_df['condition'].isna()) | (used_cars_df['condition'] == '') | (used_cars_df['condition'].isnull()))]['condition']\n",
    "clean_condition.to_csv('analysis/clean_condition_freq.csv')\n",
    "print('Checking for CLEAN again= ', len(used_cars_df.loc[(used_cars_df['condition'].isna()) & (used_cars_df['title_status'] == 'clean')]))\n",
    "#print('NA in condition= ', used_cars_df['condition'].isna().sum())\n",
    "used_cars_df['condition_title'] = used_cars_df['condition']\n",
    "used_cars_df.loc[((used_cars_df['condition'].isna()) & (used_cars_df['title_status'] == 'clean')), 'condition_title'] = 'excellent'\n",
    "used_cars_df.loc[((used_cars_df['condition'].isna()) & (used_cars_df['title_status'] == 'lien')), 'condition_title'] = 'good'\n",
    "used_cars_df.loc[((used_cars_df['condition'].isna()) & (used_cars_df['title_status'] == 'rebuilt')), 'condition_title'] = 'fair'\n",
    "used_cars_df.loc[((used_cars_df['condition'].isna()) & (used_cars_df['title_status'] == 'missing')), 'condition_title'] = 'salvage'\n",
    "used_cars_df.loc[((used_cars_df['condition'].isna()) & (used_cars_df['title_status'] == 'parts only')), 'condition_title'] = 'salvage'\n",
    "used_cars_df.loc[((used_cars_df['condition'].isna()) & (used_cars_df['title_status'] == 'salvage')), 'condition_title'] = 'salvage'\n",
    "\n",
    "print('NaNs in Condition= ', used_cars_df['condition_title'].isna().sum())\n",
    "# condition_empty_df = used_cars_df[used_cars_df['condition_title'].isna()]\n",
    "# print(condition_empty_df.describe())\n",
    "# NOTE : We are left with 6206 records. Checking stats of the remaining NaNs (above).\n",
    "## 25 to 75% quartile fall in price range of 8500 - 22931. Min price is 2000 and max is 105000. Mean is 17963.7\n",
    "# Based on this we assume these cars MUST be atleast in 'good' condition on an average. Hence we will fill them with 'good'\n",
    "used_cars_df['condition_title'] = used_cars_df['condition_title'].fillna('good')\n",
    "\n",
    "# Using Ordinal encoding for condition givne the order of the values\n",
    "#used_cars_df['condition'] = used_cars_df['condition'].fillna('unknown')\n",
    "condition_map = {'new': 5, 'like new': 4, 'excellent': 3, 'good': 2, 'fair': 1, 'salvage': 0}\n",
    "used_cars_df['condition_num'] = used_cars_df['condition_title'].map(condition_map)\n",
    "\n",
    "\n"
   ]
  },
  {
   "cell_type": "code",
   "execution_count": 234,
   "metadata": {},
   "outputs": [
    {
     "name": "stdout",
     "output_type": "stream",
     "text": [
      "Index(['price', 'year', 'manufacturer', 'model', 'condition', 'cylinders',\n",
      "       'fuel', 'odometer', 'title_status', 'transmission', 'drive', 'type',\n",
      "       'paint_color', 'state', 'manuf-model', 'paint_color_label',\n",
      "       'cylinders_num', 'title_status_num', 'condition_title', 'condition_num',\n",
      "       'automatic', 'manual', 'other'],\n",
      "      dtype='object')\n"
     ]
    }
   ],
   "source": [
    "# ------------ Transmission -------------\n",
    "# Analyze the NaNs before encoding the values\n",
    "# na_transmission_df = used_cars_df[used_cars_df['transmission'].isna()]\n",
    "# auto_trans_df = used_cars_df[used_cars_df['transmission']=='automatic']\n",
    "# manual_trans_df = used_cars_df[used_cars_df['transmission']=='manual']\n",
    "# other_trans_df = used_cars_df[used_cars_df['transmission']=='manual']\n",
    "# print('NaNs in Transmission= \\n', na_transmission_df.describe())\n",
    "# print('Automatic in Transmission= \\n', auto_trans_df.describe())\n",
    "# print('Manual in Transmission= \\n', manual_trans_df.describe())\n",
    "# print('Other in Transmission= \\n', other_trans_df.describe())\n",
    "\n",
    "# NOTE : We hv about 1734 NaNs in Transmission. Running stats for all the types of transmissions, NaNs stats are closer to 'automatic'\n",
    "# Hence we will fill the NaNs with 'automatic'\n",
    "used_cars_df['transmission'] = used_cars_df['transmission'].fillna('automatic')\n",
    "\n",
    "# Using OneHot encoding for transmission givne the order of the values\n",
    "one_hot = pd.get_dummies(used_cars_df['transmission'])\n",
    "used_cars_df = pd.concat([used_cars_df, one_hot], axis=1)\n",
    "print(used_cars_df.columns)\n",
    "# used_cars_df.drop(columns=['transmission'], inplace=True, axis=1)\n",
    "\n"
   ]
  },
  {
   "cell_type": "code",
   "execution_count": 255,
   "metadata": {},
   "outputs": [],
   "source": [
    "# ----------- State ------------\n",
    "# Use TargetEncoder to convert State to a Numeric value\n",
    "state_mean = used_cars_df.groupby('state')['price'].mean()\n",
    "# print(type(paint_color_mean))\n",
    "used_cars_df['state_num'] = used_cars_df['state'].map(state_mean)\n"
   ]
  },
  {
   "cell_type": "code",
   "execution_count": 261,
   "metadata": {},
   "outputs": [
    {
     "name": "stdout",
     "output_type": "stream",
     "text": [
      "# of records remaining, after above cleanup=  366988\n"
     ]
    }
   ],
   "source": [
    "# --------------- Write DF to CSV ----------------\n",
    "used_cars_df.to_csv('analysis/used_cars_df_cleandata.csv')\n",
    "#print(used_cars_df.manuf-model.unique())\n",
    "\n",
    "# Remaining records\n",
    "print('# of records remaining, after above cleanup= ', len(used_cars_df))"
   ]
  },
  {
   "cell_type": "code",
   "execution_count": 262,
   "metadata": {},
   "outputs": [],
   "source": [
    "# ------------- DROP UNUSED COLUMNS -------------\n",
    "used_cars_df_cp = used_cars_df.copy(deep=True)\n",
    "used_cars_df_cp.drop(\n",
    "    columns=['manufacturer', 'model', 'cylinders', 'paint_color', 'transmission', 'condition', 'condition_title', 'title_status', 'state'],\n",
    "    inplace=True, axis=1)\n",
    "# print('Columns: ', used_cars_df_cp.columns)\n",
    "used_cars_df_cp.to_csv('analysis/used_cars_df_cp.csv')\n"
   ]
  },
  {
   "cell_type": "code",
   "execution_count": 263,
   "metadata": {},
   "outputs": [],
   "source": [
    "\n",
    "# Train split\n",
    "from sklearn.model_selection import train_test_split\n",
    "import category_encoders as ce\n",
    "\n",
    "\n",
    "X = used_cars_df_cp.drop('price', axis=1)\n",
    "y = used_cars_df_cp['price']\n",
    "\n",
    "X_train, X_test, y_train, y_test = train_test_split(X, y, test_size=0.25, random_state=42)\n",
    "\n",
    "# Using James-Stein method to encode\n",
    "#\n",
    "encoder = ce.JamesSteinEncoder(cols=['manuf-model', 'type', 'fuel', 'drive'])\n",
    "encoder.fit(X_train, y_train)\n",
    "X_train_encoded = encoder.transform(X_train)\n",
    "X_train_encoded.to_csv('analysis/df_encoded_jamesstein.csv')\n",
    "#print(X_train_encoded.head())\n",
    "\n"
   ]
  },
  {
   "cell_type": "code",
   "execution_count": 270,
   "metadata": {},
   "outputs": [
    {
     "name": "stdout",
     "output_type": "stream",
     "text": [
      "PCA explained ratio:  [9.93257574e-01 5.01678211e-03 6.54403563e-04]\n",
      "U:  [3.84330217 4.60704538 1.57119182]\n",
      "Sigma:  [3.85387935 0.91241115 4.07366396]\n",
      "VT:  [2.24806252 3.50696517 0.51546832]\n",
      "PCA Transformed shape:  (275241, 3)\n",
      "      PCA 1     PCA 2     PCA 3\n",
      "0  3.843302  4.607045  1.571192\n",
      "1  3.853879  0.912411  4.073664\n",
      "2  2.248063  3.506965  0.515468\n",
      "3  1.149033  4.078289  2.499679\n",
      "4  1.296304  4.263507  3.375748\n"
     ]
    },
    {
     "data": {
      "image/png": "[encoded data removed]",
      "text/plain": [
       "<Figure size 640x480 with 1 Axes>"
      ]
     },
     "metadata": {},
     "output_type": "display_data"
    }
   ],
   "source": [
    "# encoder = enc\n",
    "# Model : Create Lexicon to replace existing values with Lexicon values\n",
    "# Also explore sbert.net to transform sentences to numbers based on semantic search\n",
    "\n",
    "# PCA\n",
    "from sklearn.decomposition import PCA\n",
    "from sklearn.cluster import KMeans\n",
    "from sklearn.pipeline import Pipeline\n",
    "from sklearn.preprocessing import StandardScaler\n",
    "\n",
    "pipeline = Pipeline([\n",
    "    ('scaler', StandardScaler()),   # Standardize features by removing the mean and scaling to unit variance before PCA\n",
    "    ('pca', PCA(n_components=3, random_state=42)),\n",
    "    ('kmeans', KMeans(n_clusters=3, random_state=42))\n",
    "])\n",
    "# pca = PCA(n_components=3, random_state=42)\n",
    "# X_train_encoded_pca = pca.fit_transform(X_train_encoded)\n",
    "pipeline.fit(X_train_encoded)\n",
    "print('PCA explained ratio: ', pca.explained_variance_ratio_)\n",
    "X_train_encoded_pca = pipeline.transform(X_train_encoded)\n",
    "print('U: ', X_train_encoded_pca[0])\n",
    "print('Sigma: ', X_train_encoded_pca[1])\n",
    "print('VT: ', X_train_encoded_pca[2])\n",
    "\n",
    "print('PCA Transformed shape: ', X_train_encoded_pca.shape)\n",
    "\n",
    "transformed_df = pd.DataFrame(X_train_encoded_pca, columns=['PCA ' + str(i+1) for i in range(X_train_encoded_pca.shape[1])])\n",
    "print(transformed_df.head())\n",
    "\n",
    "plt.plot(np.cumsum(pca.explained_variance_ratio_), marker='o')\n",
    "plt.xlabel('Number of Components')\n",
    "plt.ylabel('Explained Variance')\n",
    "plt.title('Explained Variance Ratio')\n",
    "plt.show()\n"
   ]
  },
  {
   "cell_type": "markdown",
   "metadata": {},
   "source": [
    "### Modeling\n",
    "\n",
    "With your (almost?) final dataset in hand, it is now time to build some models.  Here, you should build a number of different regression models with the price as the target.  In building your models, you should explore different parameters and be sure to cross-validate your findings."
   ]
  },
  {
   "cell_type": "code",
   "execution_count": null,
   "metadata": {},
   "outputs": [],
   "source": []
  },
  {
   "cell_type": "code",
   "execution_count": null,
   "metadata": {},
   "outputs": [],
   "source": []
  },
  {
   "cell_type": "code",
   "execution_count": null,
   "metadata": {},
   "outputs": [],
   "source": []
  },
  {
   "cell_type": "code",
   "execution_count": null,
   "metadata": {},
   "outputs": [],
   "source": []
  },
  {
   "cell_type": "markdown",
   "metadata": {},
   "source": [
    "### Evaluation\n",
    "\n",
    "With some modeling accomplished, we aim to reflect on what we identify as a high-quality model and what we are able to learn from this.  We should review our business objective and explore how well we can provide meaningful insight into drivers of used car prices.  Your goal now is to distill your findings and determine whether the earlier phases need revisitation and adjustment or if you have information of value to bring back to your client."
   ]
  },
  {
   "cell_type": "code",
   "execution_count": null,
   "metadata": {},
   "outputs": [],
   "source": []
  },
  {
   "cell_type": "code",
   "execution_count": null,
   "metadata": {},
   "outputs": [],
   "source": []
  },
  {
   "cell_type": "code",
   "execution_count": null,
   "metadata": {},
   "outputs": [],
   "source": []
  },
  {
   "cell_type": "code",
   "execution_count": null,
   "metadata": {},
   "outputs": [],
   "source": []
  },
  {
   "cell_type": "code",
   "execution_count": null,
   "metadata": {},
   "outputs": [],
   "source": []
  },
  {
   "cell_type": "code",
   "execution_count": null,
   "metadata": {},
   "outputs": [],
   "source": []
  },
  {
   "cell_type": "markdown",
   "metadata": {},
   "source": [
    "### Deployment\n",
    "\n",
    "Now that we've settled on our models and findings, it is time to deliver the information to the client.  You should organize your work as a basic report that details your primary findings.  Keep in mind that your audience is a group of used car dealers interested in fine-tuning their inventory."
   ]
  },
  {
   "cell_type": "code",
   "execution_count": null,
   "metadata": {},
   "outputs": [],
   "source": []
  },
  {
   "cell_type": "code",
   "execution_count": null,
   "metadata": {},
   "outputs": [],
   "source": []
  },
  {
   "cell_type": "code",
   "execution_count": null,
   "metadata": {},
   "outputs": [],
   "source": []
  },
  {
   "cell_type": "code",
   "execution_count": null,
   "metadata": {},
   "outputs": [],
   "source": []
  },
  {
   "cell_type": "code",
   "execution_count": null,
   "metadata": {},
   "outputs": [],
   "source": []
  },
  {
   "cell_type": "code",
   "execution_count": null,
   "metadata": {},
   "outputs": [],
   "source": []
  },
  {
   "cell_type": "code",
   "execution_count": null,
   "metadata": {},
   "outputs": [],
   "source": []
  }
 ],
 "metadata": {
  "kernelspec": {
   "display_name": "Python 3",
   "language": "python",
   "name": "python3"
  },
  "language_info": {
   "codemirror_mode": {
    "name": "ipython",
    "version": 3
   },
   "file_extension": ".py",
   "mimetype": "text/x-python",
   "name": "python",
   "nbconvert_exporter": "python",
   "pygments_lexer": "ipython3",
   "version": "3.10.14"
  },
  "widgets": {
   "application/vnd.jupyter.widget-state+json": {
    "state": {},
    "version_major": 2,
    "version_minor": 0
   }
  }
 },
 "nbformat": 4,
 "nbformat_minor": 4
}
