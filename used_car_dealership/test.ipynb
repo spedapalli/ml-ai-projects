{
 "cells": [
  {
   "cell_type": "code",
   "execution_count": null,
   "metadata": {},
   "outputs": [
    {
     "name": "stdout",
     "output_type": "stream",
     "text": [
      "condition=  Empty DataFrame\n",
      "Columns: [id, region, price, year, manufacturer, model, condition, cylinders, fuel, odometer, title_status, transmission, VIN, drive, size, type, paint_color, state]\n",
      "Index: []\n"
     ]
    }
   ],
   "source": [
    "import pandas as pd\n",
    "import numpy as np\n",
    "\n",
    "# Sample DataFrame\n",
    "# data = {'col1': [1, 2, np.nan, 4, 5],\n",
    "#         'col2': ['A', '', 'C', 'D', ''],\n",
    "#         'col3': [10, 20, 30, 40, 50]}\n",
    "# df = pd.DataFrame(data)\n",
    "df = pd.read_csv('data/vehicles.csv')\n",
    "\n",
    "#print(df)\n",
    "\n",
    "# Set 'col2' value to 'X' if it's empty and 'col1' is greater than 3\n",
    "df.loc[(df['condition'] == '') & (df['title_status'] != ''), 'condition'] = 'X'\n",
    "print('condition= ', df.loc[(df['condition'] == 'X')])\n",
    "# Set 'col2' value to value of 'col3' if 'col2' is empty and 'col1' is less than 3\n",
    "#df.loc[(df['col2'] == '') & (df['col1'] < 3), 'col2'] = df['col3']\n",
    "\n",
    "#print(df)\n",
    "df.to_csv('analysis/test.csv')"
   ]
  },
  {
   "cell_type": "code",
   "execution_count": null,
   "metadata": {},
   "outputs": [],
   "source": []
  }
 ],
 "metadata": {
  "kernelspec": {
   "display_name": "Python 3",
   "language": "python",
   "name": "python3"
  },
  "language_info": {
   "codemirror_mode": {
    "name": "ipython",
    "version": 3
   },
   "file_extension": ".py",
   "mimetype": "text/x-python",
   "name": "python",
   "nbconvert_exporter": "python",
   "pygments_lexer": "ipython3",
   "version": "3.10.14"
  }
 },
 "nbformat": 4,
 "nbformat_minor": 2
}
